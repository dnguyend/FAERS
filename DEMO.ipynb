{
  "nbformat": 4,
  "nbformat_minor": 0,
  "metadata": {
    "kernelspec": {
      "display_name": "Python 3",
      "language": "python",
      "name": "python3"
    },
    "language_info": {
      "codemirror_mode": {
        "name": "ipython",
        "version": 3
      },
      "file_extension": ".py",
      "mimetype": "text/x-python",
      "name": "python",
      "nbconvert_exporter": "python",
      "pygments_lexer": "ipython3",
      "version": "3.7.3"
    },
    "colab": {
      "name": "DEMO.ipynb",
      "provenance": [],
      "toc_visible": true,
      "include_colab_link": true
    },
    "widgets": {
      "application/vnd.jupyter.widget-state+json": {
        "9b3b40f8a8364ca49bd7db2d00caa9fd": {
          "model_module": "@jupyter-widgets/controls",
          "model_name": "VBoxModel",
          "state": {
            "_view_name": "VBoxView",
            "_dom_classes": [
              "widget-interact"
            ],
            "_model_name": "VBoxModel",
            "_view_module": "@jupyter-widgets/controls",
            "_model_module_version": "1.5.0",
            "_view_count": null,
            "_view_module_version": "1.5.0",
            "box_style": "",
            "layout": "IPY_MODEL_291ab610a19a46569fa228397bbc2ba6",
            "_model_module": "@jupyter-widgets/controls",
            "children": [
              "IPY_MODEL_02dfafa332e24e759a6449e6e1d2fa98",
              "IPY_MODEL_00386ffc3389451eb17c6a8edbcb1870"
            ]
          }
        },
        "291ab610a19a46569fa228397bbc2ba6": {
          "model_module": "@jupyter-widgets/base",
          "model_name": "LayoutModel",
          "state": {
            "_view_name": "LayoutView",
            "grid_template_rows": null,
            "right": null,
            "justify_content": null,
            "_view_module": "@jupyter-widgets/base",
            "overflow": null,
            "_model_module_version": "1.2.0",
            "_view_count": null,
            "flex_flow": null,
            "width": null,
            "min_width": null,
            "border": null,
            "align_items": null,
            "bottom": null,
            "_model_module": "@jupyter-widgets/base",
            "top": null,
            "grid_column": null,
            "overflow_y": null,
            "overflow_x": null,
            "grid_auto_flow": null,
            "grid_area": null,
            "grid_template_columns": null,
            "flex": null,
            "_model_name": "LayoutModel",
            "justify_items": null,
            "grid_row": null,
            "max_height": null,
            "align_content": null,
            "visibility": null,
            "align_self": null,
            "height": null,
            "min_height": null,
            "padding": null,
            "grid_auto_rows": null,
            "grid_gap": null,
            "max_width": null,
            "order": null,
            "_view_module_version": "1.2.0",
            "grid_template_areas": null,
            "object_position": null,
            "object_fit": null,
            "grid_auto_columns": null,
            "margin": null,
            "display": null,
            "left": null
          }
        },
        "02dfafa332e24e759a6449e6e1d2fa98": {
          "model_module": "@jupyter-widgets/controls",
          "model_name": "DropdownModel",
          "state": {
            "_options_labels": [
              "REVLIMID",
              "PREDNISONE.",
              "HUMIRA",
              "CIMZIA",
              "METHOTREXATE.",
              "LYRICA",
              "COSENTYX",
              "ENBREL",
              "OMEPRAZOLE.",
              "GABAPENTIN.",
              "METFORMIN",
              "DEXAMETHASONE.",
              "NEXIUM",
              "XOLAIR",
              "OTEZLA",
              "INFLECTRA",
              "AMLODIPINE",
              "FUROSEMIDE.",
              "AVONEX",
              "ELIQUIS",
              "LISINOPRIL.",
              "ASPIRIN.",
              "XARELTO",
              "NEULASTA",
              "DUPIXENT",
              "XELJANZ",
              "PRILOSEC",
              "ATORVASTATIN",
              "FOLIC ACID.",
              "PREDNISOLONE.",
              "GILENYA",
              "LIPITOR",
              "XYREM",
              "METOPROLOL.",
              "IBRANCE",
              "LEVOTHYROXINE.",
              "PREVACID",
              "PANTOPRAZOLE",
              "IBUPROFEN.",
              "ACETAMINOPHEN.",
              "CYCLOPHOSPHAMIDE.",
              "TECFIDERA",
              "VITAMIN D3",
              "ORENCIA",
              "TACROLIMUS.",
              "SIMVASTATIN.",
              "POMALYST",
              "ACTEMRA",
              "IMBRUVICA",
              "PARAGARD T 380A"
            ],
            "_view_name": "DropdownView",
            "style": "IPY_MODEL_da7812a40a61413eafdbfcca0a15516a",
            "_dom_classes": [],
            "description": "drugname",
            "_model_name": "DropdownModel",
            "index": 1,
            "_view_module": "@jupyter-widgets/controls",
            "_model_module_version": "1.5.0",
            "_view_count": null,
            "disabled": false,
            "_view_module_version": "1.5.0",
            "description_tooltip": null,
            "_model_module": "@jupyter-widgets/controls",
            "layout": "IPY_MODEL_b7eaec1575fe4198a2a6d90342aad111"
          }
        },
        "00386ffc3389451eb17c6a8edbcb1870": {
          "model_module": "@jupyter-widgets/output",
          "model_name": "OutputModel",
          "state": {
            "_view_name": "OutputView",
            "msg_id": "",
            "_dom_classes": [],
            "_model_name": "OutputModel",
            "outputs": [
              {
                "output_type": "display_data",
                "metadata": {
                  "tags": []
                },
                "text/html": "TOTAL REPORTS PER DRUG - DISTRIBUTION/TOP COUNTRIES",
                "text/plain": "<IPython.core.display.HTML object>"
              },
              {
                "output_type": "display_data",
                "metadata": {
                  "tags": []
                },
                "text/html": "<table border=\"1\" class=\"dataframe\">\n  <thead>\n    <tr style=\"text-align: right;\">\n      <th></th>\n      <th>count</th>\n      <th>mean</th>\n      <th>25%</th>\n      <th>50%</th>\n      <th>75%</th>\n      <th>max</th>\n    </tr>\n  </thead>\n  <tbody>\n    <tr>\n      <th>cnt</th>\n      <td>66.0</td>\n      <td>2009.772727</td>\n      <td>9.0</td>\n      <td>36.0</td>\n      <td>149.0</td>\n      <td>80368.0</td>\n    </tr>\n  </tbody>\n</table>",
                "text/plain": "<IPython.core.display.HTML object>"
              },
              {
                "output_type": "display_data",
                "metadata": {
                  "tags": []
                },
                "text/html": "<table border=\"1\" class=\"dataframe\">\n  <thead>\n    <tr style=\"text-align: right;\">\n      <th></th>\n      <th>occr_country</th>\n      <th>cnt</th>\n    </tr>\n  </thead>\n  <tbody>\n    <tr>\n      <th>0</th>\n      <td>CA</td>\n      <td>80368</td>\n    </tr>\n    <tr>\n      <th>1</th>\n      <td>US</td>\n      <td>33398</td>\n    </tr>\n    <tr>\n      <th>2</th>\n      <td>DE</td>\n      <td>6082</td>\n    </tr>\n    <tr>\n      <th>3</th>\n      <td>BR</td>\n      <td>2095</td>\n    </tr>\n    <tr>\n      <th>4</th>\n      <td>FR</td>\n      <td>2007</td>\n    </tr>\n  </tbody>\n</table>",
                "text/plain": "<IPython.core.display.HTML object>"
              },
              {
                "output_type": "display_data",
                "metadata": {
                  "tags": []
                },
                "text/html": "<b>Reporting on occr_country for PREDNISONE. by country and reaction</b>",
                "text/plain": "<IPython.core.display.HTML object>"
              },
              {
                "output_type": "display_data",
                "metadata": {
                  "tags": []
                },
                "text/html": "<table border=\"1\" class=\"dataframe\">\n  <thead>\n    <tr style=\"text-align: right;\">\n      <th></th>\n      <th>cnt</th>\n    </tr>\n    <tr>\n      <th>occr_country</th>\n      <th></th>\n    </tr>\n  </thead>\n  <tbody>\n    <tr>\n      <th>CA</th>\n      <td>80368</td>\n    </tr>\n    <tr>\n      <th>US</th>\n      <td>33398</td>\n    </tr>\n    <tr>\n      <th>DE</th>\n      <td>6082</td>\n    </tr>\n    <tr>\n      <th>BR</th>\n      <td>2095</td>\n    </tr>\n    <tr>\n      <th>FR</th>\n      <td>2007</td>\n    </tr>\n    <tr>\n      <th>CN</th>\n      <td>1687</td>\n    </tr>\n  </tbody>\n</table>",
                "text/plain": "<IPython.core.display.HTML object>"
              },
              {
                "output_type": "display_data",
                "metadata": {
                  "tags": []
                },
                "text/html": "TOP EVENTS BY COUNTRY:",
                "text/plain": "<IPython.core.display.HTML object>"
              },
              {
                "output_type": "display_data",
                "metadata": {
                  "tags": []
                },
                "text/html": "<table border=\"1\" class=\"dataframe\">\n  <thead>\n    <tr style=\"text-align: right;\">\n      <th></th>\n      <th></th>\n      <th>cnt</th>\n    </tr>\n    <tr>\n      <th>occr_country</th>\n      <th>pt</th>\n      <th></th>\n    </tr>\n  </thead>\n  <tbody>\n    <tr>\n      <th rowspan=\"6\" valign=\"top\">CA</th>\n      <th>Drug ineffective</th>\n      <td>2447</td>\n    </tr>\n    <tr>\n      <th>Off label use</th>\n      <td>1241</td>\n    </tr>\n    <tr>\n      <th>Rheumatoid arthritis</th>\n      <td>1176</td>\n    </tr>\n    <tr>\n      <th>Arthralgia</th>\n      <td>1091</td>\n    </tr>\n    <tr>\n      <th>Pain</th>\n      <td>1073</td>\n    </tr>\n    <tr>\n      <th>Fatigue</th>\n      <td>1070</td>\n    </tr>\n  </tbody>\n</table>",
                "text/plain": "<IPython.core.display.HTML object>"
              },
              {
                "output_type": "display_data",
                "metadata": {
                  "tags": []
                },
                "text/html": "<table border=\"1\" class=\"dataframe\">\n  <thead>\n    <tr style=\"text-align: right;\">\n      <th></th>\n      <th></th>\n      <th>cnt</th>\n    </tr>\n    <tr>\n      <th>occr_country</th>\n      <th>pt</th>\n      <th></th>\n    </tr>\n  </thead>\n  <tbody>\n    <tr>\n      <th rowspan=\"6\" valign=\"top\">US</th>\n      <th>Drug ineffective</th>\n      <td>535</td>\n    </tr>\n    <tr>\n      <th>Fatigue</th>\n      <td>463</td>\n    </tr>\n    <tr>\n      <th>Chronic kidney disease</th>\n      <td>457</td>\n    </tr>\n    <tr>\n      <th>Product use in unapproved indication</th>\n      <td>400</td>\n    </tr>\n    <tr>\n      <th>Acute kidney injury</th>\n      <td>371</td>\n    </tr>\n    <tr>\n      <th>Renal failure</th>\n      <td>370</td>\n    </tr>\n  </tbody>\n</table>",
                "text/plain": "<IPython.core.display.HTML object>"
              },
              {
                "output_type": "display_data",
                "metadata": {
                  "tags": []
                },
                "text/html": "<table border=\"1\" class=\"dataframe\">\n  <thead>\n    <tr style=\"text-align: right;\">\n      <th></th>\n      <th></th>\n      <th>cnt</th>\n    </tr>\n    <tr>\n      <th>occr_country</th>\n      <th>pt</th>\n      <th></th>\n    </tr>\n  </thead>\n  <tbody>\n    <tr>\n      <th rowspan=\"6\" valign=\"top\">DE</th>\n      <th>Anaemia</th>\n      <td>283</td>\n    </tr>\n    <tr>\n      <th>Fatigue</th>\n      <td>200</td>\n    </tr>\n    <tr>\n      <th>Polyneuropathy</th>\n      <td>179</td>\n    </tr>\n    <tr>\n      <th>Product use in unapproved indication</th>\n      <td>177</td>\n    </tr>\n    <tr>\n      <th>Off label use</th>\n      <td>167</td>\n    </tr>\n    <tr>\n      <th>Pyrexia</th>\n      <td>166</td>\n    </tr>\n  </tbody>\n</table>",
                "text/plain": "<IPython.core.display.HTML object>"
              },
              {
                "output_type": "display_data",
                "metadata": {
                  "tags": []
                },
                "text/html": "<table border=\"1\" class=\"dataframe\">\n  <thead>\n    <tr style=\"text-align: right;\">\n      <th></th>\n      <th></th>\n      <th>cnt</th>\n    </tr>\n    <tr>\n      <th>occr_country</th>\n      <th>pt</th>\n      <th></th>\n    </tr>\n  </thead>\n  <tbody>\n    <tr>\n      <th rowspan=\"6\" valign=\"top\">BR</th>\n      <th>Arthralgia</th>\n      <td>42</td>\n    </tr>\n    <tr>\n      <th>Pain</th>\n      <td>31</td>\n    </tr>\n    <tr>\n      <th>Pneumonia</th>\n      <td>30</td>\n    </tr>\n    <tr>\n      <th>Malaise</th>\n      <td>27</td>\n    </tr>\n    <tr>\n      <th>Cough</th>\n      <td>26</td>\n    </tr>\n    <tr>\n      <th>Gait disturbance</th>\n      <td>25</td>\n    </tr>\n  </tbody>\n</table>",
                "text/plain": "<IPython.core.display.HTML object>"
              },
              {
                "output_type": "display_data",
                "metadata": {
                  "tags": []
                },
                "text/html": "<table border=\"1\" class=\"dataframe\">\n  <thead>\n    <tr style=\"text-align: right;\">\n      <th></th>\n      <th></th>\n      <th>cnt</th>\n    </tr>\n    <tr>\n      <th>occr_country</th>\n      <th>pt</th>\n      <th></th>\n    </tr>\n  </thead>\n  <tbody>\n    <tr>\n      <th rowspan=\"6\" valign=\"top\">FR</th>\n      <th>Product use in unapproved indication</th>\n      <td>63</td>\n    </tr>\n    <tr>\n      <th>Off label use</th>\n      <td>63</td>\n    </tr>\n    <tr>\n      <th>Pyrexia</th>\n      <td>38</td>\n    </tr>\n    <tr>\n      <th>Thrombocytopenia</th>\n      <td>31</td>\n    </tr>\n    <tr>\n      <th>Diarrhoea</th>\n      <td>30</td>\n    </tr>\n    <tr>\n      <th>Anaemia</th>\n      <td>26</td>\n    </tr>\n  </tbody>\n</table>",
                "text/plain": "<IPython.core.display.HTML object>"
              },
              {
                "output_type": "display_data",
                "metadata": {
                  "tags": []
                },
                "image/png": "iVBORw0KGgoAAAANSUhEUgAAAPYAAADnCAYAAAAtmKv2AAAABHNCSVQICAgIfAhkiAAAAAlwSFlz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\nwlYoEpD/D8YnAV5dI4lfAAAAAElFTkSuQmCC\n",
                "text/plain": "<Figure size 432x288 with 1 Axes>"
              }
            ],
            "_view_module": "@jupyter-widgets/output",
            "_model_module_version": "1.0.0",
            "_view_count": null,
            "_view_module_version": "1.0.0",
            "layout": "IPY_MODEL_16512d956e9e47428995d97b69ece6ed",
            "_model_module": "@jupyter-widgets/output"
          }
        },
        "da7812a40a61413eafdbfcca0a15516a": {
          "model_module": "@jupyter-widgets/controls",
          "model_name": "DescriptionStyleModel",
          "state": {
            "_view_name": "StyleView",
            "_model_name": "DescriptionStyleModel",
            "description_width": "",
            "_view_module": "@jupyter-widgets/base",
            "_model_module_version": "1.5.0",
            "_view_count": null,
            "_view_module_version": "1.2.0",
            "_model_module": "@jupyter-widgets/controls"
          }
        },
        "b7eaec1575fe4198a2a6d90342aad111": {
          "model_module": "@jupyter-widgets/base",
          "model_name": "LayoutModel",
          "state": {
            "_view_name": "LayoutView",
            "grid_template_rows": null,
            "right": null,
            "justify_content": null,
            "_view_module": "@jupyter-widgets/base",
            "overflow": null,
            "_model_module_version": "1.2.0",
            "_view_count": null,
            "flex_flow": null,
            "width": null,
            "min_width": null,
            "border": null,
            "align_items": null,
            "bottom": null,
            "_model_module": "@jupyter-widgets/base",
            "top": null,
            "grid_column": null,
            "overflow_y": null,
            "overflow_x": null,
            "grid_auto_flow": null,
            "grid_area": null,
            "grid_template_columns": null,
            "flex": null,
            "_model_name": "LayoutModel",
            "justify_items": null,
            "grid_row": null,
            "max_height": null,
            "align_content": null,
            "visibility": null,
            "align_self": null,
            "height": null,
            "min_height": null,
            "padding": null,
            "grid_auto_rows": null,
            "grid_gap": null,
            "max_width": null,
            "order": null,
            "_view_module_version": "1.2.0",
            "grid_template_areas": null,
            "object_position": null,
            "object_fit": null,
            "grid_auto_columns": null,
            "margin": null,
            "display": null,
            "left": null
          }
        },
        "4b3c8d42aab64b12b145116ccf95cbe2": {
          "model_module": "@jupyter-widgets/controls",
          "model_name": "VBoxModel",
          "state": {
            "_view_name": "VBoxView",
            "_dom_classes": [
              "widget-interact"
            ],
            "_model_name": "VBoxModel",
            "_view_module": "@jupyter-widgets/controls",
            "_model_module_version": "1.5.0",
            "_view_count": null,
            "_view_module_version": "1.5.0",
            "box_style": "",
            "layout": "IPY_MODEL_bc290c9113a44bb3b3b4ded1ede00166",
            "_model_module": "@jupyter-widgets/controls",
            "children": [
              "IPY_MODEL_8167f77e3c2d4b7eb30a18d80d7ff93b",
              "IPY_MODEL_6ad1ae047a834d839cc945420c5be983"
            ]
          }
        },
        "bc290c9113a44bb3b3b4ded1ede00166": {
          "model_module": "@jupyter-widgets/base",
          "model_name": "LayoutModel",
          "state": {
            "_view_name": "LayoutView",
            "grid_template_rows": null,
            "right": null,
            "justify_content": null,
            "_view_module": "@jupyter-widgets/base",
            "overflow": null,
            "_model_module_version": "1.2.0",
            "_view_count": null,
            "flex_flow": null,
            "width": null,
            "min_width": null,
            "border": null,
            "align_items": null,
            "bottom": null,
            "_model_module": "@jupyter-widgets/base",
            "top": null,
            "grid_column": null,
            "overflow_y": null,
            "overflow_x": null,
            "grid_auto_flow": null,
            "grid_area": null,
            "grid_template_columns": null,
            "flex": null,
            "_model_name": "LayoutModel",
            "justify_items": null,
            "grid_row": null,
            "max_height": null,
            "align_content": null,
            "visibility": null,
            "align_self": null,
            "height": null,
            "min_height": null,
            "padding": null,
            "grid_auto_rows": null,
            "grid_gap": null,
            "max_width": null,
            "order": null,
            "_view_module_version": "1.2.0",
            "grid_template_areas": null,
            "object_position": null,
            "object_fit": null,
            "grid_auto_columns": null,
            "margin": null,
            "display": null,
            "left": null
          }
        },
        "8167f77e3c2d4b7eb30a18d80d7ff93b": {
          "model_module": "@jupyter-widgets/controls",
          "model_name": "DropdownModel",
          "state": {
            "_options_labels": [
              "PREDNISONE.",
              "LYRICA",
              "PREDNISOLONE.",
              "DEXAMETHASONE.",
              "METHYLPREDNISOLONE.",
              "METHOTREXATE.",
              "CYCLOPHOSPHAMIDE.",
              "CARBOPLATIN.",
              "RITUXIMAB.",
              "GABAPENTIN."
            ],
            "_view_name": "DropdownView",
            "style": "IPY_MODEL_9f934a4b09024179ab9d3d768b51624d",
            "_dom_classes": [],
            "description": "drugname",
            "_model_name": "DropdownModel",
            "index": 0,
            "_view_module": "@jupyter-widgets/controls",
            "_model_module_version": "1.5.0",
            "_view_count": null,
            "disabled": false,
            "_view_module_version": "1.5.0",
            "description_tooltip": null,
            "_model_module": "@jupyter-widgets/controls",
            "layout": "IPY_MODEL_5e01c55b1f804c478f24ba6937cfe937"
          }
        },
        "6ad1ae047a834d839cc945420c5be983": {
          "model_module": "@jupyter-widgets/output",
          "model_name": "OutputModel",
          "state": {
            "_view_name": "OutputView",
            "msg_id": "",
            "_dom_classes": [],
            "_model_name": "OutputModel",
            "outputs": [
              {
                "output_type": "display_data",
                "metadata": {
                  "tags": []
                },
                "text/html": "<table border=\"1\" class=\"dataframe\">\n  <thead>\n    <tr style=\"text-align: right;\">\n      <th></th>\n      <th>primaryid</th>\n    </tr>\n    <tr>\n      <th>indi_pt</th>\n      <th></th>\n    </tr>\n  </thead>\n  <tbody>\n    <tr>\n      <th>Product used for unknown indication</th>\n      <td>36543</td>\n    </tr>\n    <tr>\n      <th>Rheumatoid arthritis</th>\n      <td>8396</td>\n    </tr>\n    <tr>\n      <th>Immunosuppressant drug therapy</th>\n      <td>2893</td>\n    </tr>\n    <tr>\n      <th>Asthma</th>\n      <td>2803</td>\n    </tr>\n    <tr>\n      <th>Diffuse large B-cell lymphoma</th>\n      <td>1906</td>\n    </tr>\n  </tbody>\n</table>",
                "text/plain": "<IPython.core.display.HTML object>"
              },
              {
                "output_type": "display_data",
                "metadata": {
                  "tags": []
                },
                "text/html": "<b>TOP EVENTS BY INDICATION:</b>",
                "text/plain": "<IPython.core.display.HTML object>"
              },
              {
                "output_type": "display_data",
                "metadata": {
                  "tags": []
                },
                "application/vnd.jupyter.widget-view+json": {
                  "model_id": "d0fd2483d59f4ac2ac1b85b9258a21cf",
                  "version_minor": 0,
                  "version_major": 2
                },
                "text/plain": "interactive(children=(Dropdown(description='ipt', options=('Product used for unknown indication', 'Rheumatoid …"
              }
            ],
            "_view_module": "@jupyter-widgets/output",
            "_model_module_version": "1.0.0",
            "_view_count": null,
            "_view_module_version": "1.0.0",
            "layout": "IPY_MODEL_e6c7422936204c6e9f7a7d72b212ac34",
            "_model_module": "@jupyter-widgets/output"
          }
        },
        "9f934a4b09024179ab9d3d768b51624d": {
          "model_module": "@jupyter-widgets/controls",
          "model_name": "DescriptionStyleModel",
          "state": {
            "_view_name": "StyleView",
            "_model_name": "DescriptionStyleModel",
            "description_width": "",
            "_view_module": "@jupyter-widgets/base",
            "_model_module_version": "1.5.0",
            "_view_count": null,
            "_view_module_version": "1.2.0",
            "_model_module": "@jupyter-widgets/controls"
          }
        },
        "5e01c55b1f804c478f24ba6937cfe937": {
          "model_module": "@jupyter-widgets/base",
          "model_name": "LayoutModel",
          "state": {
            "_view_name": "LayoutView",
            "grid_template_rows": null,
            "right": null,
            "justify_content": null,
            "_view_module": "@jupyter-widgets/base",
            "overflow": null,
            "_model_module_version": "1.2.0",
            "_view_count": null,
            "flex_flow": null,
            "width": null,
            "min_width": null,
            "border": null,
            "align_items": null,
            "bottom": null,
            "_model_module": "@jupyter-widgets/base",
            "top": null,
            "grid_column": null,
            "overflow_y": null,
            "overflow_x": null,
            "grid_auto_flow": null,
            "grid_area": null,
            "grid_template_columns": null,
            "flex": null,
            "_model_name": "LayoutModel",
            "justify_items": null,
            "grid_row": null,
            "max_height": null,
            "align_content": null,
            "visibility": null,
            "align_self": null,
            "height": null,
            "min_height": null,
            "padding": null,
            "grid_auto_rows": null,
            "grid_gap": null,
            "max_width": null,
            "order": null,
            "_view_module_version": "1.2.0",
            "grid_template_areas": null,
            "object_position": null,
            "object_fit": null,
            "grid_auto_columns": null,
            "margin": null,
            "display": null,
            "left": null
          }
        },
        "d0fd2483d59f4ac2ac1b85b9258a21cf": {
          "model_module": "@jupyter-widgets/controls",
          "model_name": "VBoxModel",
          "state": {
            "_view_name": "VBoxView",
            "_dom_classes": [
              "widget-interact"
            ],
            "_model_name": "VBoxModel",
            "_view_module": "@jupyter-widgets/controls",
            "_model_module_version": "1.5.0",
            "_view_count": null,
            "_view_module_version": "1.5.0",
            "box_style": "",
            "layout": "IPY_MODEL_d5d646cb9c2a48eabb17b53b5f6b41a4",
            "_model_module": "@jupyter-widgets/controls",
            "children": [
              "IPY_MODEL_8c8d05c3d23d466a9a8f8fd0529e182c",
              "IPY_MODEL_5c1a493d3bdd496db195c01bee4d53a9"
            ]
          }
        },
        "d5d646cb9c2a48eabb17b53b5f6b41a4": {
          "model_module": "@jupyter-widgets/base",
          "model_name": "LayoutModel",
          "state": {
            "_view_name": "LayoutView",
            "grid_template_rows": null,
            "right": null,
            "justify_content": null,
            "_view_module": "@jupyter-widgets/base",
            "overflow": null,
            "_model_module_version": "1.2.0",
            "_view_count": null,
            "flex_flow": null,
            "width": null,
            "min_width": null,
            "border": null,
            "align_items": null,
            "bottom": null,
            "_model_module": "@jupyter-widgets/base",
            "top": null,
            "grid_column": null,
            "overflow_y": null,
            "overflow_x": null,
            "grid_auto_flow": null,
            "grid_area": null,
            "grid_template_columns": null,
            "flex": null,
            "_model_name": "LayoutModel",
            "justify_items": null,
            "grid_row": null,
            "max_height": null,
            "align_content": null,
            "visibility": null,
            "align_self": null,
            "height": null,
            "min_height": null,
            "padding": null,
            "grid_auto_rows": null,
            "grid_gap": null,
            "max_width": null,
            "order": null,
            "_view_module_version": "1.2.0",
            "grid_template_areas": null,
            "object_position": null,
            "object_fit": null,
            "grid_auto_columns": null,
            "margin": null,
            "display": null,
            "left": null
          }
        },
        "8c8d05c3d23d466a9a8f8fd0529e182c": {
          "model_module": "@jupyter-widgets/controls",
          "model_name": "DropdownModel",
          "state": {
            "_options_labels": [
              "Product used for unknown indication",
              "Rheumatoid arthritis",
              "Immunosuppressant drug therapy",
              "Asthma",
              "Diffuse large B-cell lymphoma",
              "Juvenile idiopathic arthritis",
              "Renal transplant",
              "Colitis ulcerative",
              "Immunosuppression",
              "Dyspnoea"
            ],
            "_view_name": "DropdownView",
            "style": "IPY_MODEL_502d4c05848e40039fac3daef54d9d61",
            "_dom_classes": [],
            "description": "ipt",
            "_model_name": "DropdownModel",
            "index": 0,
            "_view_module": "@jupyter-widgets/controls",
            "_model_module_version": "1.5.0",
            "_view_count": null,
            "disabled": false,
            "_view_module_version": "1.5.0",
            "description_tooltip": null,
            "_model_module": "@jupyter-widgets/controls",
            "layout": "IPY_MODEL_64711288fff74be69201fb754348fad1"
          }
        },
        "5c1a493d3bdd496db195c01bee4d53a9": {
          "model_module": "@jupyter-widgets/output",
          "model_name": "OutputModel",
          "state": {
            "_view_name": "OutputView",
            "msg_id": "",
            "_dom_classes": [],
            "_model_name": "OutputModel",
            "outputs": [
              {
                "output_type": "display_data",
                "metadata": {
                  "tags": []
                },
                "text/html": "<table border=\"1\" class=\"dataframe\">\n  <thead>\n    <tr style=\"text-align: right;\">\n      <th></th>\n      <th></th>\n      <th></th>\n      <th>cnt</th>\n    </tr>\n    <tr>\n      <th>indi_pt</th>\n      <th>drugname</th>\n      <th>pt</th>\n      <th></th>\n    </tr>\n  </thead>\n  <tbody>\n    <tr>\n      <th rowspan=\"10\" valign=\"top\">Product used for unknown indication</th>\n      <th rowspan=\"10\" valign=\"top\">PREDNISONE.</th>\n      <th>Drug ineffective</th>\n      <td>1101</td>\n    </tr>\n    <tr>\n      <th>Rheumatoid arthritis</th>\n      <td>614</td>\n    </tr>\n    <tr>\n      <th>Pain</th>\n      <td>565</td>\n    </tr>\n    <tr>\n      <th>Fatigue</th>\n      <td>512</td>\n    </tr>\n    <tr>\n      <th>Dyspnoea</th>\n      <td>477</td>\n    </tr>\n    <tr>\n      <th>Arthralgia</th>\n      <td>468</td>\n    </tr>\n    <tr>\n      <th>Asthma</th>\n      <td>413</td>\n    </tr>\n    <tr>\n      <th>Nausea</th>\n      <td>396</td>\n    </tr>\n    <tr>\n      <th>Off label use</th>\n      <td>388</td>\n    </tr>\n    <tr>\n      <th>Malaise</th>\n      <td>365</td>\n    </tr>\n  </tbody>\n</table>",
                "text/plain": "<IPython.core.display.HTML object>"
              },
              {
                "output_type": "display_data",
                "metadata": {
                  "tags": []
                },
                "text/html": "<table border=\"1\" class=\"dataframe\">\n  <thead>\n    <tr style=\"text-align: right;\">\n      <th></th>\n      <th>count</th>\n      <th>mean</th>\n      <th>std</th>\n      <th>min</th>\n      <th>25%</th>\n      <th>50%</th>\n      <th>75%</th>\n      <th>max</th>\n    </tr>\n  </thead>\n  <tbody>\n    <tr>\n      <th>cnt</th>\n      <td>2821.0</td>\n      <td>12.953917</td>\n      <td>45.140066</td>\n      <td>1.0</td>\n      <td>1.0</td>\n      <td>2.0</td>\n      <td>7.0</td>\n      <td>1101.0</td>\n    </tr>\n  </tbody>\n</table>",
                "text/plain": "<IPython.core.display.HTML object>"
              },
              {
                "output_type": "display_data",
                "metadata": {
                  "tags": []
                },
                "image/png": "iVBORw0KGgoAAAANSUhEUgAAAZgAAAEGCAYAAABYV4NmAAAABHNCSVQICAgIfAhkiAAAAAlwSFlz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\nAElFTkSuQmCC\n",
                "text/plain": "<Figure size 432x288 with 1 Axes>"
              },
              {
                "output_type": "display_data",
                "metadata": {
                  "tags": []
                },
                "image/png": "iVBORw0KGgoAAAANSUhEUgAAAVUAAAFRCAYAAADEnT44AAAABHNCSVQICAgIfAhkiAAAAAlwSFlz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\nJkRFlRBCTOj/AyxUeAkXVHOEAAAAAElFTkSuQmCC\n",
                "text/plain": "<Figure size 432x288 with 1 Axes>"
              }
            ],
            "_view_module": "@jupyter-widgets/output",
            "_model_module_version": "1.0.0",
            "_view_count": null,
            "_view_module_version": "1.0.0",
            "layout": "IPY_MODEL_2d74643deaeb4177a6a0e66ac35c2bfd",
            "_model_module": "@jupyter-widgets/output"
          }
        },
        "502d4c05848e40039fac3daef54d9d61": {
          "model_module": "@jupyter-widgets/controls",
          "model_name": "DescriptionStyleModel",
          "state": {
            "_view_name": "StyleView",
            "_model_name": "DescriptionStyleModel",
            "description_width": "",
            "_view_module": "@jupyter-widgets/base",
            "_model_module_version": "1.5.0",
            "_view_count": null,
            "_view_module_version": "1.2.0",
            "_model_module": "@jupyter-widgets/controls"
          }
        },
        "64711288fff74be69201fb754348fad1": {
          "model_module": "@jupyter-widgets/base",
          "model_name": "LayoutModel",
          "state": {
            "_view_name": "LayoutView",
            "grid_template_rows": null,
            "right": null,
            "justify_content": null,
            "_view_module": "@jupyter-widgets/base",
            "overflow": null,
            "_model_module_version": "1.2.0",
            "_view_count": null,
            "flex_flow": null,
            "width": null,
            "min_width": null,
            "border": null,
            "align_items": null,
            "bottom": null,
            "_model_module": "@jupyter-widgets/base",
            "top": null,
            "grid_column": null,
            "overflow_y": null,
            "overflow_x": null,
            "grid_auto_flow": null,
            "grid_area": null,
            "grid_template_columns": null,
            "flex": null,
            "_model_name": "LayoutModel",
            "justify_items": null,
            "grid_row": null,
            "max_height": null,
            "align_content": null,
            "visibility": null,
            "align_self": null,
            "height": null,
            "min_height": null,
            "padding": null,
            "grid_auto_rows": null,
            "grid_gap": null,
            "max_width": null,
            "order": null,
            "_view_module_version": "1.2.0",
            "grid_template_areas": null,
            "object_position": null,
            "object_fit": null,
            "grid_auto_columns": null,
            "margin": null,
            "display": null,
            "left": null
          }
        },
        "207ebdab36954e91bd24055336757c10": {
          "model_module": "@jupyter-widgets/controls",
          "model_name": "VBoxModel",
          "state": {
            "_view_name": "VBoxView",
            "_dom_classes": [
              "widget-interact"
            ],
            "_model_name": "VBoxModel",
            "_view_module": "@jupyter-widgets/controls",
            "_model_module_version": "1.5.0",
            "_view_count": null,
            "_view_module_version": "1.5.0",
            "box_style": "",
            "layout": "IPY_MODEL_6d25915f146f417b959ff315de7e8602",
            "_model_module": "@jupyter-widgets/controls",
            "children": [
              "IPY_MODEL_f03933c315d7483594c99e02392d6198",
              "IPY_MODEL_b4d650261727487494d6e9405a93059c"
            ]
          }
        },
        "6d25915f146f417b959ff315de7e8602": {
          "model_module": "@jupyter-widgets/base",
          "model_name": "LayoutModel",
          "state": {
            "_view_name": "LayoutView",
            "grid_template_rows": null,
            "right": null,
            "justify_content": null,
            "_view_module": "@jupyter-widgets/base",
            "overflow": null,
            "_model_module_version": "1.2.0",
            "_view_count": null,
            "flex_flow": null,
            "width": null,
            "min_width": null,
            "border": null,
            "align_items": null,
            "bottom": null,
            "_model_module": "@jupyter-widgets/base",
            "top": null,
            "grid_column": null,
            "overflow_y": null,
            "overflow_x": null,
            "grid_auto_flow": null,
            "grid_area": null,
            "grid_template_columns": null,
            "flex": null,
            "_model_name": "LayoutModel",
            "justify_items": null,
            "grid_row": null,
            "max_height": null,
            "align_content": null,
            "visibility": null,
            "align_self": null,
            "height": null,
            "min_height": null,
            "padding": null,
            "grid_auto_rows": null,
            "grid_gap": null,
            "max_width": null,
            "order": null,
            "_view_module_version": "1.2.0",
            "grid_template_areas": null,
            "object_position": null,
            "object_fit": null,
            "grid_auto_columns": null,
            "margin": null,
            "display": null,
            "left": null
          }
        },
        "f03933c315d7483594c99e02392d6198": {
          "model_module": "@jupyter-widgets/controls",
          "model_name": "DropdownModel",
          "state": {
            "_options_labels": [
              "ACTEMRA",
              "CIMZIA",
              "DEXAMETHASONE.",
              "ENBREL",
              "FOLIC ACID.",
              "HUMIRA",
              "METHOTREXATE.",
              "NEXIUM",
              "ORENCIA",
              "PREDNISONE.",
              "PREVACID",
              "PRILOSEC",
              "PROTONIX",
              "REVLIMID",
              "SULFASALAZINE."
            ],
            "_view_name": "DropdownView",
            "style": "IPY_MODEL_f1d851fb85e24658abf58ffdb1e9a38e",
            "_dom_classes": [],
            "description": "drugname",
            "_model_name": "DropdownModel",
            "index": 0,
            "_view_module": "@jupyter-widgets/controls",
            "_model_module_version": "1.5.0",
            "_view_count": null,
            "disabled": false,
            "_view_module_version": "1.5.0",
            "description_tooltip": null,
            "_model_module": "@jupyter-widgets/controls",
            "layout": "IPY_MODEL_60d89bb588a642f28219ca2766d7372f"
          }
        },
        "b4d650261727487494d6e9405a93059c": {
          "model_module": "@jupyter-widgets/output",
          "model_name": "OutputModel",
          "state": {
            "_view_name": "OutputView",
            "msg_id": "",
            "_dom_classes": [],
            "_model_name": "OutputModel",
            "outputs": [
              {
                "output_type": "display_data",
                "metadata": {
                  "tags": []
                },
                "text/html": "<b>Top Companion drug for ACTEMRA</b>",
                "text/plain": "<IPython.core.display.HTML object>"
              },
              {
                "output_type": "display_data",
                "metadata": {
                  "tags": []
                },
                "text/html": "<table border=\"1\" class=\"dataframe\">\n  <thead>\n    <tr style=\"text-align: right;\">\n      <th></th>\n      <th>cnt</th>\n    </tr>\n    <tr>\n      <th>drugname</th>\n      <th></th>\n    </tr>\n  </thead>\n  <tbody>\n    <tr>\n      <th>METHOTREXATE.</th>\n      <td>2963</td>\n    </tr>\n    <tr>\n      <th>ENBREL</th>\n      <td>2297</td>\n    </tr>\n    <tr>\n      <th>HUMIRA</th>\n      <td>1957</td>\n    </tr>\n    <tr>\n      <th>ORENCIA</th>\n      <td>1931</td>\n    </tr>\n    <tr>\n      <th>PREDNISONE.</th>\n      <td>1392</td>\n    </tr>\n    <tr>\n      <th>SULFASALAZINE.</th>\n      <td>1224</td>\n    </tr>\n    <tr>\n      <th>REMICADE</th>\n      <td>1190</td>\n    </tr>\n    <tr>\n      <th>ARAVA</th>\n      <td>1174</td>\n    </tr>\n    <tr>\n      <th>RITUXAN</th>\n      <td>1122</td>\n    </tr>\n    <tr>\n      <th>XELJANZ</th>\n      <td>1093</td>\n    </tr>\n  </tbody>\n</table>",
                "text/plain": "<IPython.core.display.HTML object>"
              }
            ],
            "_view_module": "@jupyter-widgets/output",
            "_model_module_version": "1.0.0",
            "_view_count": null,
            "_view_module_version": "1.0.0",
            "layout": "IPY_MODEL_bf082a2dac8b410c90f85aedd215ca57",
            "_model_module": "@jupyter-widgets/output"
          }
        },
        "f1d851fb85e24658abf58ffdb1e9a38e": {
          "model_module": "@jupyter-widgets/controls",
          "model_name": "DescriptionStyleModel",
          "state": {
            "_view_name": "StyleView",
            "_model_name": "DescriptionStyleModel",
            "description_width": "",
            "_view_module": "@jupyter-widgets/base",
            "_model_module_version": "1.5.0",
            "_view_count": null,
            "_view_module_version": "1.2.0",
            "_model_module": "@jupyter-widgets/controls"
          }
        },
        "60d89bb588a642f28219ca2766d7372f": {
          "model_module": "@jupyter-widgets/base",
          "model_name": "LayoutModel",
          "state": {
            "_view_name": "LayoutView",
            "grid_template_rows": null,
            "right": null,
            "justify_content": null,
            "_view_module": "@jupyter-widgets/base",
            "overflow": null,
            "_model_module_version": "1.2.0",
            "_view_count": null,
            "flex_flow": null,
            "width": null,
            "min_width": null,
            "border": null,
            "align_items": null,
            "bottom": null,
            "_model_module": "@jupyter-widgets/base",
            "top": null,
            "grid_column": null,
            "overflow_y": null,
            "overflow_x": null,
            "grid_auto_flow": null,
            "grid_area": null,
            "grid_template_columns": null,
            "flex": null,
            "_model_name": "LayoutModel",
            "justify_items": null,
            "grid_row": null,
            "max_height": null,
            "align_content": null,
            "visibility": null,
            "align_self": null,
            "height": null,
            "min_height": null,
            "padding": null,
            "grid_auto_rows": null,
            "grid_gap": null,
            "max_width": null,
            "order": null,
            "_view_module_version": "1.2.0",
            "grid_template_areas": null,
            "object_position": null,
            "object_fit": null,
            "grid_auto_columns": null,
            "margin": null,
            "display": null,
            "left": null
          }
        }
      }
    }
  },
  "cells": [
    {
      "cell_type": "markdown",
      "metadata": {
        "id": "view-in-github",
        "colab_type": "text"
      },
      "source": [
        "<a href=\"https://colab.research.google.com/github/dnguyend/FAERS/blob/master/DEMO.ipynb\" target=\"_parent\"><img src=\"https://colab.research.google.com/assets/colab-badge.svg\" alt=\"Open In Colab\"/></a>"
      ]
    },
    {
      "cell_type": "markdown",
      "metadata": {
        "id": "FVn1K-GZkId0",
        "colab_type": "text"
      },
      "source": [
        "### Introduction\n",
        "This notebook is the main interactive tool to provide analysis using the Adverse Event database. The diagram and the steps are summarized in the main project README page. This notebook runs on google colab, so you can run the examples on the cloud instead of your home machine.\n",
        "\n",
        "We first download clone the project to your colab space then create a data directory:"
      ]
    },
    {
      "cell_type": "code",
      "metadata": {
        "id": "jVI015_qn5cv",
        "colab_type": "code",
        "colab": {
          "base_uri": "https://localhost:8080/",
          "height": 119
        },
        "outputId": "a0a8c61a-0cde-446e-bed6-3d1c01c5ab5a"
      },
      "source": [
        "!git clone https://github.com/dnguyend/FAERS.git\n",
        "import sys\n",
        "# add the package to execution path\n",
        "sys.path.insert(1, \"FAERS\")\n",
        "# make data dir\n",
        "!mkdir data"
      ],
      "execution_count": 1,
      "outputs": [
        {
          "output_type": "stream",
          "text": [
            "Cloning into 'FAERS'...\n",
            "remote: Enumerating objects: 36, done.\u001b[K\n",
            "remote: Counting objects:   2% (1/36)\u001b[K\rremote: Counting objects:   5% (2/36)\u001b[K\rremote: Counting objects:   8% (3/36)\u001b[K\rremote: Counting objects:  11% (4/36)\u001b[K\rremote: Counting objects:  13% (5/36)\u001b[K\rremote: Counting objects:  16% (6/36)\u001b[K\rremote: Counting objects:  19% (7/36)\u001b[K\rremote: Counting objects:  22% (8/36)\u001b[K\rremote: Counting objects:  25% (9/36)\u001b[K\rremote: Counting objects:  27% (10/36)\u001b[K\rremote: Counting objects:  30% (11/36)\u001b[K\rremote: Counting objects:  33% (12/36)\u001b[K\rremote: Counting objects:  36% (13/36)\u001b[K\rremote: Counting objects:  38% (14/36)\u001b[K\rremote: Counting objects:  41% (15/36)\u001b[K\rremote: Counting objects:  44% (16/36)\u001b[K\rremote: Counting objects:  47% (17/36)\u001b[K\rremote: Counting objects:  50% (18/36)\u001b[K\rremote: Counting objects:  52% (19/36)\u001b[K\rremote: Counting objects:  55% (20/36)\u001b[K\rremote: Counting objects:  58% (21/36)\u001b[K\rremote: Counting objects:  61% (22/36)\u001b[K\rremote: Counting objects:  63% (23/36)\u001b[K\rremote: Counting objects:  66% (24/36)\u001b[K\rremote: Counting objects:  69% (25/36)\u001b[K\rremote: Counting objects:  72% (26/36)\u001b[K\rremote: Counting objects:  75% (27/36)\u001b[K\rremote: Counting objects:  77% (28/36)\u001b[K\rremote: Counting objects:  80% (29/36)\u001b[K\rremote: Counting objects:  83% (30/36)\u001b[K\rremote: Counting objects:  86% (31/36)\u001b[K\rremote: Counting objects:  88% (32/36)\u001b[K\rremote: Counting objects:  91% (33/36)\u001b[K\rremote: Counting objects:  94% (34/36)\u001b[K\rremote: Counting objects:  97% (35/36)\u001b[K\rremote: Counting objects: 100% (36/36)\u001b[K\rremote: Counting objects: 100% (36/36), done.\u001b[K\n",
            "remote: Compressing objects:   3% (1/32)\u001b[K\rremote: Compressing objects:   6% (2/32)\u001b[K\rremote: Compressing objects:   9% (3/32)\u001b[K\rremote: Compressing objects:  12% (4/32)\u001b[K\rremote: Compressing objects:  15% (5/32)\u001b[K\rremote: Compressing objects:  18% (6/32)\u001b[K\rremote: Compressing objects:  21% (7/32)\u001b[K\rremote: Compressing objects:  25% (8/32)\u001b[K\rremote: Compressing objects:  28% (9/32)\u001b[K\rremote: Compressing objects:  31% (10/32)\u001b[K\rremote: Compressing objects:  34% (11/32)\u001b[K\rremote: Compressing objects:  37% (12/32)\u001b[K\rremote: Compressing objects:  40% (13/32)\u001b[K\rremote: Compressing objects:  43% (14/32)\u001b[K\rremote: Compressing objects:  46% (15/32)\u001b[K\rremote: Compressing objects:  50% (16/32)\u001b[K\rremote: Compressing objects:  53% (17/32)\u001b[K\rremote: Compressing objects:  56% (18/32)\u001b[K\rremote: Compressing objects:  59% (19/32)\u001b[K\rremote: Compressing objects:  62% (20/32)\u001b[K\rremote: Compressing objects:  65% (21/32)\u001b[K\rremote: Compressing objects:  68% (22/32)\u001b[K\rremote: Compressing objects:  71% (23/32)\u001b[K\rremote: Compressing objects:  75% (24/32)\u001b[K\rremote: Compressing objects:  78% (25/32)\u001b[K\rremote: Compressing objects:  81% (26/32)\u001b[K\rremote: Compressing objects:  84% (27/32)\u001b[K\rremote: Compressing objects:  87% (28/32)\u001b[K\rremote: Compressing objects:  90% (29/32)\u001b[K\rremote: Compressing objects:  93% (30/32)\u001b[K\rremote: Compressing objects:  96% (31/32)\u001b[K\rremote: Compressing objects: 100% (32/32)\u001b[K\rremote: Compressing objects: 100% (32/32), done.\u001b[K\n",
            "Unpacking objects:   2% (1/36)   \rUnpacking objects:   5% (2/36)   \rUnpacking objects:   8% (3/36)   \rUnpacking objects:  11% (4/36)   \rUnpacking objects:  13% (5/36)   \rUnpacking objects:  16% (6/36)   \rUnpacking objects:  19% (7/36)   \rUnpacking objects:  22% (8/36)   \rUnpacking objects:  25% (9/36)   \rUnpacking objects:  27% (10/36)   \rremote: Total 36 (delta 12), reused 16 (delta 3), pack-reused 0\u001b[K\n",
            "Unpacking objects:  30% (11/36)   \rUnpacking objects:  33% (12/36)   \rUnpacking objects:  36% (13/36)   \rUnpacking objects:  38% (14/36)   \rUnpacking objects:  41% (15/36)   \rUnpacking objects:  44% (16/36)   \rUnpacking objects:  47% (17/36)   \rUnpacking objects:  50% (18/36)   \rUnpacking objects:  52% (19/36)   \rUnpacking objects:  55% (20/36)   \rUnpacking objects:  58% (21/36)   \rUnpacking objects:  61% (22/36)   \rUnpacking objects:  63% (23/36)   \rUnpacking objects:  66% (24/36)   \rUnpacking objects:  69% (25/36)   \rUnpacking objects:  72% (26/36)   \rUnpacking objects:  75% (27/36)   \rUnpacking objects:  77% (28/36)   \rUnpacking objects:  80% (29/36)   \rUnpacking objects:  83% (30/36)   \rUnpacking objects:  86% (31/36)   \rUnpacking objects:  88% (32/36)   \rUnpacking objects:  91% (33/36)   \rUnpacking objects:  94% (34/36)   \rUnpacking objects:  97% (35/36)   \rUnpacking objects: 100% (36/36)   \rUnpacking objects: 100% (36/36), done.\n"
          ],
          "name": "stdout"
        }
      ]
    },
    {
      "cell_type": "markdown",
      "metadata": {
        "id": "jPd_XmdcoKS8",
        "colab_type": "text"
      },
      "source": [
        "We can check quickly the package is downloaded and a data directory is created. If you need to run again you may get error messages that directory maybe not empty. You can run !rm -rf on the directories then reload."
      ]
    },
    {
      "cell_type": "code",
      "metadata": {
        "id": "rrOdwm3noS7i",
        "colab_type": "code",
        "colab": {
          "base_uri": "https://localhost:8080/",
          "height": 102
        },
        "outputId": "9c3b6ae7-fd28-4f4c-b258-53ec1f72ea88"
      },
      "source": [
        "!ls\n",
        "!echo \"check the FAERS DIRECTORY\"\n",
        "!ls FAERS\n",
        "sys.path.insert(1, \"FAERS\")"
      ],
      "execution_count": 2,
      "outputs": [
        {
          "output_type": "stream",
          "text": [
            "data  FAERS  sample_data\n",
            "check the FAERS DIRECTORY\n",
            "analyze_cholesterol.py\tDEMO.ipynb\t    faers_lib\n",
            "cfg\t\t\tdownload_script.py  LICENSE\n",
            "demo_analyze.py\t\tFAERS_ERD.PNG\t    README.md\n"
          ],
          "name": "stdout"
        }
      ]
    },
    {
      "cell_type": "markdown",
      "metadata": {
        "id": "cvBWOsY-kId1",
        "colab_type": "text"
      },
      "source": [
        "The main library is faers_lib, which is located one directory down from the main directory FAERS. At this point, it contains some functions to download/extract zip file from the website (module faers_lib.download) and some functions to do analysis (module fayers_lib.analyze). Download typically takes a few minutes. We will load one quarter then test the data. (If we want to load all quarter run load_all_files - but it may take a lot of time and you may exceed your Colab allocation.)"
      ]
    },
    {
      "cell_type": "code",
      "metadata": {
        "id": "smXJPPBbp3WP",
        "colab_type": "code",
        "colab": {
          "base_uri": "https://localhost:8080/",
          "height": 51
        },
        "outputId": "bb91c0d6-a06c-437f-94f7-29e23b3fa369"
      },
      "source": [
        "# run the following code:\n",
        "from faers_lib.download import load_all_files, download_one, extract_all_files\n",
        "\"\"\" to load Q4 2019\"\"\"\n",
        "download_one(2019, 4)\n",
        "extract_all_files()"
      ],
      "execution_count": 3,
      "outputs": [
        {
          "output_type": "stream",
          "text": [
            "Doing ./data/faers_ascii_2019Q4.zip\n",
            "Extracting ./data/faers_ascii_2019Q4.\n"
          ],
          "name": "stdout"
        }
      ]
    },
    {
      "cell_type": "code",
      "metadata": {
        "id": "h5uICJLfI122",
        "colab_type": "code",
        "outputId": "7ceb06f3-45ef-4980-cef4-1908ace4bcc8",
        "colab": {
          "base_uri": "https://localhost:8080/",
          "height": 34
        }
      },
      "source": [
        "!ls data/faers_ascii_2019Q4"
      ],
      "execution_count": 4,
      "outputs": [
        {
          "output_type": "stream",
          "text": [
            "ascii  deleted\tFAQs.pdf  Readme.pdf\n"
          ],
          "name": "stdout"
        }
      ]
    },
    {
      "cell_type": "markdown",
      "metadata": {
        "id": "wCQr9coAsRaX",
        "colab_type": "text"
      },
      "source": [
        "Now we can load a few common libraries and load the 7 FAERS files to 7 data frames in all_frames:\n"
      ]
    },
    {
      "cell_type": "code",
      "metadata": {
        "id": "RtYwdVVukId2",
        "colab_type": "code",
        "colab": {}
      },
      "source": [
        "import pandas as pd\n",
        "import numpy as np\n",
        "import matplotlib.pyplot as plt\n",
        "import faers_lib.analyze\n",
        "from faers_lib.analyze import load_one_quarter, display_frame, bdisplay\n",
        "faers_lib.analyze.display_mode = 'HTML'  # this will set display_frame to display data frame in HTML format\n",
        "from IPython.core.display import display, HTML\n",
        "%matplotlib inline"
      ],
      "execution_count": 0,
      "outputs": []
    },
    {
      "cell_type": "code",
      "metadata": {
        "id": "_ykQcwemkId6",
        "colab_type": "code",
        "colab": {
          "base_uri": "https://localhost:8080/",
          "height": 34
        },
        "outputId": "852a521d-dfd8-4fe1-d34e-5293468fa4c5"
      },
      "source": [
        "all_frames = load_one_quarter(2019, 4)\n",
        "print(all_frames.keys())"
      ],
      "execution_count": 6,
      "outputs": [
        {
          "output_type": "stream",
          "text": [
            "dict_keys(['demographic', 'drug', 'indication', 'outcome', 'reaction', 'report_sources', 'therapy'])\n"
          ],
          "name": "stdout"
        }
      ]
    },
    {
      "cell_type": "markdown",
      "metadata": {
        "id": "WKtVabm2kIeA",
        "colab_type": "text"
      },
      "source": [
        "Now examine the data: we show the list of data frames, get the last rows of reaction, indication, get one row of demographic and drug."
      ]
    },
    {
      "cell_type": "code",
      "metadata": {
        "id": "lqxPTf-BkIeB",
        "colab_type": "code",
        "colab": {
          "base_uri": "https://localhost:8080/",
          "height": 1000
        },
        "outputId": "747a904e-e700-4616-d1dd-35aa27f8d7f0"
      },
      "source": [
        "display_frame(all_frames['reaction'].tail())\n",
        "display_frame(all_frames['indication'].tail())\n",
        "bdisplay(\"demographic line\")\n",
        "print(all_frames['demographic'].iloc[0])\n",
        "bdisplay(\"drug line\")\n",
        "print(all_frames['drug'].iloc[0])\n"
      ],
      "execution_count": 7,
      "outputs": [
        {
          "output_type": "display_data",
          "data": {
            "text/html": [
              "<table border=\"1\" class=\"dataframe\">\n",
              "  <thead>\n",
              "    <tr style=\"text-align: right;\">\n",
              "      <th></th>\n",
              "      <th>primaryid</th>\n",
              "      <th>caseid</th>\n",
              "      <th>pt</th>\n",
              "      <th>drug_rec_act</th>\n",
              "    </tr>\n",
              "  </thead>\n",
              "  <tbody>\n",
              "    <tr>\n",
              "      <th>1359917</th>\n",
              "      <td>99974143</td>\n",
              "      <td>9997414</td>\n",
              "      <td>Type 2 diabetes mellitus</td>\n",
              "      <td>NaN</td>\n",
              "    </tr>\n",
              "    <tr>\n",
              "      <th>1359918</th>\n",
              "      <td>99974513</td>\n",
              "      <td>9997451</td>\n",
              "      <td>Type 2 diabetes mellitus</td>\n",
              "      <td>NaN</td>\n",
              "    </tr>\n",
              "    <tr>\n",
              "      <th>1359919</th>\n",
              "      <td>99975493</td>\n",
              "      <td>9997549</td>\n",
              "      <td>Type 2 diabetes mellitus</td>\n",
              "      <td>NaN</td>\n",
              "    </tr>\n",
              "    <tr>\n",
              "      <th>1359920</th>\n",
              "      <td>99990904</td>\n",
              "      <td>9999090</td>\n",
              "      <td>Nail growth abnormal</td>\n",
              "      <td>NaN</td>\n",
              "    </tr>\n",
              "    <tr>\n",
              "      <th>1359921</th>\n",
              "      <td>99990904</td>\n",
              "      <td>9999090</td>\n",
              "      <td>Psoriasis</td>\n",
              "      <td>NaN</td>\n",
              "    </tr>\n",
              "  </tbody>\n",
              "</table>"
            ],
            "text/plain": [
              "<IPython.core.display.HTML object>"
            ]
          },
          "metadata": {
            "tags": []
          }
        },
        {
          "output_type": "display_data",
          "data": {
            "text/html": [
              "<table border=\"1\" class=\"dataframe\">\n",
              "  <thead>\n",
              "    <tr style=\"text-align: right;\">\n",
              "      <th></th>\n",
              "      <th>primaryid</th>\n",
              "      <th>caseid</th>\n",
              "      <th>indi_drug_seq</th>\n",
              "      <th>indi_pt</th>\n",
              "    </tr>\n",
              "  </thead>\n",
              "  <tbody>\n",
              "    <tr>\n",
              "      <th>1146933</th>\n",
              "      <td>99975493</td>\n",
              "      <td>9997549</td>\n",
              "      <td>1</td>\n",
              "      <td>Blood cholesterol increased</td>\n",
              "    </tr>\n",
              "    <tr>\n",
              "      <th>1146934</th>\n",
              "      <td>99975493</td>\n",
              "      <td>9997549</td>\n",
              "      <td>2</td>\n",
              "      <td>Blood triglycerides increased</td>\n",
              "    </tr>\n",
              "    <tr>\n",
              "      <th>1146935</th>\n",
              "      <td>99975493</td>\n",
              "      <td>9997549</td>\n",
              "      <td>3</td>\n",
              "      <td>Hypertension</td>\n",
              "    </tr>\n",
              "    <tr>\n",
              "      <th>1146936</th>\n",
              "      <td>99990904</td>\n",
              "      <td>9999090</td>\n",
              "      <td>2</td>\n",
              "      <td>Neuralgia</td>\n",
              "    </tr>\n",
              "    <tr>\n",
              "      <th>1146937</th>\n",
              "      <td>99990904</td>\n",
              "      <td>9999090</td>\n",
              "      <td>3</td>\n",
              "      <td>Pain</td>\n",
              "    </tr>\n",
              "  </tbody>\n",
              "</table>"
            ],
            "text/plain": [
              "<IPython.core.display.HTML object>"
            ]
          },
          "metadata": {
            "tags": []
          }
        },
        {
          "output_type": "display_data",
          "data": {
            "text/html": [
              "<b>demographic line</b>"
            ],
            "text/plain": [
              "<IPython.core.display.HTML object>"
            ]
          },
          "metadata": {
            "tags": []
          }
        },
        {
          "output_type": "stream",
          "text": [
            "primaryid                          100046572\n",
            "caseid                              10004657\n",
            "caseversion                                2\n",
            "i_f_code                                   F\n",
            "event_dt                 2012-07-31 00:00:00\n",
            "mfr_dt                   2019-10-28 00:00:00\n",
            "init_fda_dt              2014-03-12 00:00:00\n",
            "fda_dt                   2019-10-30 00:00:00\n",
            "rept_cod                                 EXP\n",
            "auth_num                                 NaN\n",
            "mfr_num             US-PFIZER INC-2014065269\n",
            "mfr_sndr                              PFIZER\n",
            "lit_ref                                  NaN\n",
            "age                                       71\n",
            "age_cod                                   YR\n",
            "age_grp                                  NaN\n",
            "sex                                        F\n",
            "e_sub                                      Y\n",
            "wt                                     81.63\n",
            "wt_cod                                    KG\n",
            "rept_dt                  2019-10-30 00:00:00\n",
            "to_mfr                                   NaN\n",
            "occp_cod                                  LW\n",
            "reporter_country                          US\n",
            "occr_country                              US\n",
            "Name: 0, dtype: object\n"
          ],
          "name": "stdout"
        },
        {
          "output_type": "display_data",
          "data": {
            "text/html": [
              "<b>drug line</b>"
            ],
            "text/plain": [
              "<IPython.core.display.HTML object>"
            ]
          },
          "metadata": {
            "tags": []
          }
        },
        {
          "output_type": "stream",
          "text": [
            "primaryid                   100046572\n",
            "caseid                       10004657\n",
            "drug_seq                            1\n",
            "role_cod                           PS\n",
            "drugname                      LIPITOR\n",
            "prod_ai          ATORVASTATIN CALCIUM\n",
            "val_vbm                             1\n",
            "route                            Oral\n",
            "dose_vbm                   40 MG, UNK\n",
            "cum_dose_chr                      NaN\n",
            "cum_dose_unit                     NaN\n",
            "dechal                              D\n",
            "rechal                            NaN\n",
            "lot_num                           NaN\n",
            "exp_dt                            NaT\n",
            "nda_num                         20702\n",
            "dose_amt                           40\n",
            "dose_unit                          MG\n",
            "dose_form          FILM-COATED TABLET\n",
            "dose_freq                         NaN\n",
            "Name: 0, dtype: object\n"
          ],
          "name": "stdout"
        }
      ]
    },
    {
      "cell_type": "markdown",
      "metadata": {
        "id": "XPHNaoJ1s2mJ",
        "colab_type": "text"
      },
      "source": [
        "In theory we can use the above procedure to load every quarter data, but older data seems to be in different format so the code may not work. For some quarters data may have characters unreadable by read_csv. We had to edit the file to remove the character.\n",
        "\n",
        "We also load a file where we pull data from the PDF description of the field to computer-readable format. We do some sanity checks here and notice some small issues with data - to be discuss later.\n"
      ]
    },
    {
      "cell_type": "code",
      "metadata": {
        "id": "lfT1SpbykIeF",
        "colab_type": "code",
        "colab": {
          "base_uri": "https://localhost:8080/",
          "height": 54
        },
        "outputId": "3ecb3774-6e17-47d9-e5a4-3763d44c5de3"
      },
      "source": [
        " # this file explain the abbreviations from the fields.\n",
        "import json\n",
        "with open(\"./FAERS/cfg/extra.json\") as jf:\n",
        "    extra_dict = json.load(jf)\n",
        "print(extra_dict)\n"
      ],
      "execution_count": 26,
      "outputs": [
        {
          "output_type": "stream",
          "text": [
            "{'OUTCOME.OUTC_COD': {'DE': 'Death', 'LT': 'Life-Threatening', 'HO': 'Hospitalization - Initial or Prolonged', 'DS': 'Disability', 'CA': 'Congenital Anomaly', 'RI': 'Required Intervention to Prevent Permanent        Impairment/Damage', 'OT': 'Other Serious (Important Medical Event)'}, 'THERAPY.DUR_COD': {'YR': 'Years', 'MON': 'Months', 'WK': 'Weeks', 'DAY': 'Days', 'HR': 'Hours', 'MIN': 'Minutes', 'SEC': 'Seconds'}, 'REPORT_SOURCES.CODE': {'FGN': 'Foreign', 'SDY': 'Study', 'LIT': 'Literature', 'CSM': 'Consumer', 'HP': 'Health Professional', 'UF': 'User Facility', 'CR': 'Company Representative', 'DT': 'Distributor', 'OTH': 'Other'}, 'DEMOGRAPHIC.WT_COD': {'KG': 'Kilograms', 'LBS': 'Pounds', 'GMS': 'Grams'}, 'DEMOGRAPHIC.AGE_GRP': {'N': 'Neonate', 'I': 'Infant', 'C': 'Child', 'T': 'Adolescent', 'A': 'Adult', 'E': 'Elderly'}, 'DEMOGRAPHIC.AGE_COD': {'DEC': 'DECADE', 'YR': 'YEAR', 'MON': 'MONTH', 'WK': 'WEEK', 'DY': 'DAY', 'HR': 'HOUR'}, 'DRUG.DOSE_FREQ': {'1X': 'Once or one time', 'BID': 'Twice a day', 'BIW': 'Twice a week', 'HS': 'At bedtime', 'PRN': 'As needed', 'Q12H': 'Every 12 hours', 'Q2H': 'Every 2 hours', 'Q3H': 'Every 3 hours', 'Q3W': 'Every 3 weeks', 'Q4H': 'Every 4 hours', 'Q5H': 'Every 5 hours', 'Q6H': 'Every 6 hours', 'Q8H': 'Every 8 hours', 'QD': 'Daily', 'QH': 'Every hour', 'QID': '4 times a day', 'QM': 'Monthly', 'QOD': 'Every other day', 'QOW': 'Every other week', 'QW': 'Every week', 'TID': '3 times a day', 'TIW': '3 times a week', 'UNK': 'Unknown'}, 'DRUG.RECHAL': {'Y': 'Positive rechallenge', 'N': 'Negative rechallenge', 'U': 'Unknown', 'D': 'Does not apply'}, 'DRUG.DECHAL': {'Y': 'Positive dechallenge', 'N': 'Negative dechallenge', 'U': 'Unknown', 'D': 'Does not apply'}, 'DRUG.CUM_DOSE_UNIT': {'KG': 'Kilogram(s)', 'GM': 'Gram(s)', 'MG': 'Milligram(s)', 'UG': 'Microgram(s) (μg)', 'NG': 'Nanogram(s)', 'PG': 'Picogram(s)', 'MG/KG': 'Milligram(s)/Kilogram', 'UG/KG': 'Microgram(s)/Kilogram (μG/KG)', 'MG/M**2': 'Milligram(s)/Sq. Meter', 'UG/M**2': 'Microgram(s)/Sq. Meter (μG/M**2)', 'L': 'Litre(s)', 'ML': 'Millilitre(s)', 'UL': 'Microlitre(s) (μL)', 'BQ': 'Becquerel(s)', 'GBQ': 'Gigabecquerel(s)', 'MBQ': 'Megabecquerel(s)', 'KBQ': 'Kilobecquerel(s)', 'CI': 'Curie(s)', 'MCI': 'Millicurie(s)', 'UCI': 'Microcurie(s) (μCI)', 'NCI': 'Nanocurie(s)', 'MOL': 'Mole(s)', 'MMOL': 'Millimole(s)', 'UMOL': 'Micromole(s)', 'IU': 'International Unit(s)', 'KIU': 'International Unit*(1000s)', 'MIU': 'International Unit*(1,000,000s)', 'IU/KG': 'IU/Kilogram', 'MEQ': 'Milliequivalent(s)', 'PCT': 'Percent (%)', 'GTT': 'Drop(s)', 'DF': 'Dosage Form'}, 'DRUG.VAL_VBM': {'1': 'Validated trade name used', '2': 'Verbatim name used'}, 'DRUG.ROLE_COD': {'PS': 'Primary Suspect Drug', 'SS': 'Secondary Suspect Drug', 'C': 'Concomitant', 'I': 'Interacting'}, 'DEMOGRAPHIC.OCCP_COD': {'MD': 'Physician', 'PH': 'Pharmacist', 'OT': 'Other health-professional', 'LW': 'Lawyer', 'CN': 'Consumer'}}\n"
          ],
          "name": "stdout"
        }
      ]
    },
    {
      "cell_type": "markdown",
      "metadata": {
        "id": "1EGTCKy4kIeJ",
        "colab_type": "text"
      },
      "source": [
        "Checking severity level of outcoume, balance of sex in incidents:"
      ]
    },
    {
      "cell_type": "code",
      "metadata": {
        "id": "NQhzEgdlkIeK",
        "colab_type": "code",
        "colab": {
          "base_uri": "https://localhost:8080/",
          "height": 794
        },
        "outputId": "b481bf81-2613-4609-a30f-a522c9c3c07d"
      },
      "source": [
        "ocnt = all_frames['outcome'][['outc_cod', 'primaryid']].groupby('outc_cod').count()\n",
        "bdisplay(\"DISTRIBUTION OF OUTCOME\")\n",
        "display_frame(ocnt.sort_values(by='primaryid', ascending=False))\n",
        "ocnt.plot.pie(y='primaryid')\n",
        "ocnt = None\n",
        "display_frame(pd.DataFrame(np.array([(a, extra_dict['OUTCOME.OUTC_COD'][a]) for a in extra_dict['OUTCOME.OUTC_COD']])))"
      ],
      "execution_count": 27,
      "outputs": [
        {
          "output_type": "display_data",
          "data": {
            "text/html": [
              "<b>DISTRIBUTION OF OUTCOME</b>"
            ],
            "text/plain": [
              "<IPython.core.display.HTML object>"
            ]
          },
          "metadata": {
            "tags": []
          }
        },
        {
          "output_type": "display_data",
          "data": {
            "text/html": [
              "<table border=\"1\" class=\"dataframe\">\n",
              "  <thead>\n",
              "    <tr style=\"text-align: right;\">\n",
              "      <th></th>\n",
              "      <th>primaryid</th>\n",
              "    </tr>\n",
              "    <tr>\n",
              "      <th>outc_cod</th>\n",
              "      <th></th>\n",
              "    </tr>\n",
              "  </thead>\n",
              "  <tbody>\n",
              "    <tr>\n",
              "      <th>OT</th>\n",
              "      <td>118413</td>\n",
              "    </tr>\n",
              "    <tr>\n",
              "      <th>HO</th>\n",
              "      <td>75673</td>\n",
              "    </tr>\n",
              "    <tr>\n",
              "      <th>DE</th>\n",
              "      <td>33778</td>\n",
              "    </tr>\n",
              "    <tr>\n",
              "      <th>LT</th>\n",
              "      <td>7792</td>\n",
              "    </tr>\n",
              "    <tr>\n",
              "      <th>DS</th>\n",
              "      <td>5139</td>\n",
              "    </tr>\n",
              "    <tr>\n",
              "      <th>CA</th>\n",
              "      <td>998</td>\n",
              "    </tr>\n",
              "    <tr>\n",
              "      <th>RI</th>\n",
              "      <td>481</td>\n",
              "    </tr>\n",
              "  </tbody>\n",
              "</table>"
            ],
            "text/plain": [
              "<IPython.core.display.HTML object>"
            ]
          },
          "metadata": {
            "tags": []
          }
        },
        {
          "output_type": "display_data",
          "data": {
            "text/html": [
              "<table border=\"1\" class=\"dataframe\">\n",
              "  <thead>\n",
              "    <tr style=\"text-align: right;\">\n",
              "      <th></th>\n",
              "      <th>0</th>\n",
              "      <th>1</th>\n",
              "    </tr>\n",
              "  </thead>\n",
              "  <tbody>\n",
              "    <tr>\n",
              "      <th>0</th>\n",
              "      <td>DE</td>\n",
              "      <td>Death</td>\n",
              "    </tr>\n",
              "    <tr>\n",
              "      <th>1</th>\n",
              "      <td>LT</td>\n",
              "      <td>Life-Threatening</td>\n",
              "    </tr>\n",
              "    <tr>\n",
              "      <th>2</th>\n",
              "      <td>HO</td>\n",
              "      <td>Hospitalization - Initial or Prolonged</td>\n",
              "    </tr>\n",
              "    <tr>\n",
              "      <th>3</th>\n",
              "      <td>DS</td>\n",
              "      <td>Disability</td>\n",
              "    </tr>\n",
              "    <tr>\n",
              "      <th>4</th>\n",
              "      <td>CA</td>\n",
              "      <td>Congenital Anomaly</td>\n",
              "    </tr>\n",
              "    <tr>\n",
              "      <th>5</th>\n",
              "      <td>RI</td>\n",
              "      <td>Required Intervention to Prevent Permanent        Impairment/Damage</td>\n",
              "    </tr>\n",
              "    <tr>\n",
              "      <th>6</th>\n",
              "      <td>OT</td>\n",
              "      <td>Other Serious (Important Medical Event)</td>\n",
              "    </tr>\n",
              "  </tbody>\n",
              "</table>"
            ],
            "text/plain": [
              "<IPython.core.display.HTML object>"
            ]
          },
          "metadata": {
            "tags": []
          }
        },
        {
          "output_type": "display_data",
          "data": {
            "image/png": "[encoded data removed]",
            "text/plain": [
              "<Figure size 432x288 with 1 Axes>"
            ]
          },
          "metadata": {
            "tags": []
          }
        }
      ]
    },
    {
      "cell_type": "code",
      "metadata": {
        "id": "8Kvtju5okIeQ",
        "colab_type": "code",
        "colab": {
          "base_uri": "https://localhost:8080/",
          "height": 421
        },
        "outputId": "2d67a593-a351-4775-a59d-d1c9013a43c2"
      },
      "source": [
        "bdisplay(\"REPORTING EVENTS BY SEX\")\n",
        "sxcnt = all_frames['demographic'][['sex', 'primaryid']].groupby('sex').count()\n",
        "display_frame(sxcnt.sort_values(by='primaryid', ascending=False))\n",
        "sxcnt.plot.pie(y='primaryid')\n",
        "sxcnt = None"
      ],
      "execution_count": 28,
      "outputs": [
        {
          "output_type": "display_data",
          "data": {
            "text/html": [
              "<b>REPORTING EVENTS BY SEX</b>"
            ],
            "text/plain": [
              "<IPython.core.display.HTML object>"
            ]
          },
          "metadata": {
            "tags": []
          }
        },
        {
          "output_type": "display_data",
          "data": {
            "text/html": [
              "<table border=\"1\" class=\"dataframe\">\n",
              "  <thead>\n",
              "    <tr style=\"text-align: right;\">\n",
              "      <th></th>\n",
              "      <th>primaryid</th>\n",
              "    </tr>\n",
              "    <tr>\n",
              "      <th>sex</th>\n",
              "      <th></th>\n",
              "    </tr>\n",
              "  </thead>\n",
              "  <tbody>\n",
              "    <tr>\n",
              "      <th>F</th>\n",
              "      <td>187994</td>\n",
              "    </tr>\n",
              "    <tr>\n",
              "      <th>M</th>\n",
              "      <td>121604</td>\n",
              "    </tr>\n",
              "    <tr>\n",
              "      <th>UNK</th>\n",
              "      <td>92</td>\n",
              "    </tr>\n",
              "  </tbody>\n",
              "</table>"
            ],
            "text/plain": [
              "<IPython.core.display.HTML object>"
            ]
          },
          "metadata": {
            "tags": []
          }
        },
        {
          "output_type": "display_data",
          "data": {
            "image/png": "[encoded data removed]",
            "text/plain": [
              "<Figure size 432x288 with 1 Axes>"
            ]
          },
          "metadata": {
            "tags": []
          }
        }
      ]
    },
    {
      "cell_type": "code",
      "metadata": {
        "id": "oRwI3aq884Yi",
        "colab_type": "code",
        "colab": {
          "base_uri": "https://localhost:8080/",
          "height": 221
        },
        "outputId": "7450aa3d-eeb8-4a28-c817-09ed6f55ed7d"
      },
      "source": [
        "# We found an issue with data: some therapy start_dt is later than end_dt\n",
        "therapy = all_frames['therapy']\n",
        "bdisplay(\"There are %d instances where therapy start date is after end date. For example:\" % therapy.loc[therapy.start_dt > therapy.end_dt].shape[0])\n",
        "therapy.loc[therapy.start_dt > therapy.end_dt].head()"
      ],
      "execution_count": 29,
      "outputs": [
        {
          "output_type": "display_data",
          "data": {
            "text/html": [
              "<b>There are 1266 instances where therapy start date is after end date. For example:</b>"
            ],
            "text/plain": [
              "<IPython.core.display.HTML object>"
            ]
          },
          "metadata": {
            "tags": []
          }
        },
        {
          "output_type": "execute_result",
          "data": {
            "text/html": [
              "<div>\n",
              "<style scoped>\n",
              "    .dataframe tbody tr th:only-of-type {\n",
              "        vertical-align: middle;\n",
              "    }\n",
              "\n",
              "    .dataframe tbody tr th {\n",
              "        vertical-align: top;\n",
              "    }\n",
              "\n",
              "    .dataframe thead th {\n",
              "        text-align: right;\n",
              "    }\n",
              "</style>\n",
              "<table border=\"1\" class=\"dataframe\">\n",
              "  <thead>\n",
              "    <tr style=\"text-align: right;\">\n",
              "      <th></th>\n",
              "      <th>primaryid</th>\n",
              "      <th>caseid</th>\n",
              "      <th>dsg_drug_seq</th>\n",
              "      <th>start_dt</th>\n",
              "      <th>end_dt</th>\n",
              "      <th>dur</th>\n",
              "      <th>dur_cod</th>\n",
              "    </tr>\n",
              "  </thead>\n",
              "  <tbody>\n",
              "    <tr>\n",
              "      <th>535</th>\n",
              "      <td>100717436</td>\n",
              "      <td>10071743</td>\n",
              "      <td>12</td>\n",
              "      <td>2013-12-03</td>\n",
              "      <td>2013-01-02</td>\n",
              "      <td>NaN</td>\n",
              "      <td>NaN</td>\n",
              "    </tr>\n",
              "    <tr>\n",
              "      <th>536</th>\n",
              "      <td>100717436</td>\n",
              "      <td>10071743</td>\n",
              "      <td>13</td>\n",
              "      <td>2013-12-03</td>\n",
              "      <td>2013-01-02</td>\n",
              "      <td>NaN</td>\n",
              "      <td>NaN</td>\n",
              "    </tr>\n",
              "    <tr>\n",
              "      <th>1080</th>\n",
              "      <td>101596593</td>\n",
              "      <td>10159659</td>\n",
              "      <td>1</td>\n",
              "      <td>2011-07-26</td>\n",
              "      <td>2011-01-01</td>\n",
              "      <td>NaN</td>\n",
              "      <td>NaN</td>\n",
              "    </tr>\n",
              "    <tr>\n",
              "      <th>3244</th>\n",
              "      <td>104144313</td>\n",
              "      <td>10414431</td>\n",
              "      <td>1</td>\n",
              "      <td>2013-02-07</td>\n",
              "      <td>2013-01-02</td>\n",
              "      <td>NaN</td>\n",
              "      <td>NaN</td>\n",
              "    </tr>\n",
              "    <tr>\n",
              "      <th>3245</th>\n",
              "      <td>104144313</td>\n",
              "      <td>10414431</td>\n",
              "      <td>2</td>\n",
              "      <td>2013-02-07</td>\n",
              "      <td>2013-01-02</td>\n",
              "      <td>NaN</td>\n",
              "      <td>NaN</td>\n",
              "    </tr>\n",
              "  </tbody>\n",
              "</table>\n",
              "</div>"
            ],
            "text/plain": [
              "      primaryid    caseid  dsg_drug_seq   start_dt     end_dt  dur dur_cod\n",
              "535   100717436  10071743            12 2013-12-03 2013-01-02  NaN     NaN\n",
              "536   100717436  10071743            13 2013-12-03 2013-01-02  NaN     NaN\n",
              "1080  101596593  10159659             1 2011-07-26 2011-01-01  NaN     NaN\n",
              "3244  104144313  10414431             1 2013-02-07 2013-01-02  NaN     NaN\n",
              "3245  104144313  10414431             2 2013-02-07 2013-01-02  NaN     NaN"
            ]
          },
          "metadata": {
            "tags": []
          },
          "execution_count": 29
        }
      ]
    },
    {
      "cell_type": "markdown",
      "metadata": {
        "id": "YOYipIZukIeV",
        "colab_type": "text"
      },
      "source": [
        "### Analyzing reaction by country.\n",
        "To analyze reaction by country, we need to join the data frames <b>reaction</b> and <b>demographic</b>. In practice, it is probably also important to view reaction <b>for one drug </b>accross different countries. But first, we show top reactions per country accross all reporting events. The following show number of reporting per country for the top 4 countries"
      ]
    },
    {
      "cell_type": "code",
      "metadata": {
        "id": "rDXgdKskkIeW",
        "colab_type": "code",
        "colab": {
          "base_uri": "https://localhost:8080/",
          "height": 252
        },
        "outputId": "c0fe28a0-2474-4569-a04b-c78278492a0c"
      },
      "source": [
        "demo = all_frames['demographic']\n",
        "reaction = all_frames['reaction'][['primaryid', 'pt']]\n",
        "rcnt = pd.merge(demo, reaction, on='primaryid')[['primaryid', 'occr_country', 'pt']].groupby(['occr_country', 'pt']).count()\n",
        "cntr_cnt = rcnt.reset_index().groupby(by='occr_country').sum()\n",
        "bdisplay('Tot number of countries is %d. These are the top countries' % cntr_cnt.shape[0])\n",
        "display_frame(cntr_cnt.sort_values(by='primaryid', ascending=False).head())\n",
        "rcnt = None\n",
        "cntr_cnt = None"
      ],
      "execution_count": 12,
      "outputs": [
        {
          "output_type": "display_data",
          "data": {
            "text/html": [
              "<b>Tot number of countries is 169. These are the top countries</b>"
            ],
            "text/plain": [
              "<IPython.core.display.HTML object>"
            ]
          },
          "metadata": {
            "tags": []
          }
        },
        {
          "output_type": "display_data",
          "data": {
            "text/html": [
              "<table border=\"1\" class=\"dataframe\">\n",
              "  <thead>\n",
              "    <tr style=\"text-align: right;\">\n",
              "      <th></th>\n",
              "      <th>primaryid</th>\n",
              "    </tr>\n",
              "    <tr>\n",
              "      <th>occr_country</th>\n",
              "      <th></th>\n",
              "    </tr>\n",
              "  </thead>\n",
              "  <tbody>\n",
              "    <tr>\n",
              "      <th>US</th>\n",
              "      <td>758578</td>\n",
              "    </tr>\n",
              "    <tr>\n",
              "      <th>CA</th>\n",
              "      <td>196331</td>\n",
              "    </tr>\n",
              "    <tr>\n",
              "      <th>GB</th>\n",
              "      <td>53178</td>\n",
              "    </tr>\n",
              "    <tr>\n",
              "      <th>DE</th>\n",
              "      <td>47406</td>\n",
              "    </tr>\n",
              "    <tr>\n",
              "      <th>FR</th>\n",
              "      <td>44719</td>\n",
              "    </tr>\n",
              "  </tbody>\n",
              "</table>"
            ],
            "text/plain": [
              "<IPython.core.display.HTML object>"
            ]
          },
          "metadata": {
            "tags": []
          }
        }
      ]
    },
    {
      "cell_type": "markdown",
      "metadata": {
        "id": "PXMrTtz0kIea",
        "colab_type": "text"
      },
      "source": [
        "### Analyzing by drug and country\n",
        "In the first step we get the list of drugs with a lot of events reported. The numbers of reported events per drug differ.\n",
        "Some drugs has many reported events, while some has just a few. We will sort drug by number of reported events, then provide a GUI to select a drug and view its event per distribution. The dataframe <b>esort</b> sort drugs by reported events.\n",
        "We note the drugs with top number of events has 19k of events,\n",
        "while the 50%tile only has small number of events. The 500th drug in the list (sorted in descending order) has around 600 events.\n"
      ]
    },
    {
      "cell_type": "code",
      "metadata": {
        "id": "34P5wKhskIec",
        "colab_type": "code",
        "colab": {
          "base_uri": "https://localhost:8080/",
          "height": 1000
        },
        "outputId": "627e1562-3d90-466b-abef-7fd9f234976b"
      },
      "source": [
        "%matplotlib inline\n",
        "dr = all_frames['drug']\n",
        "# Adverse events by drug\n",
        "e_by_drug = dr[['drugname', 'primaryid']].groupby(\n",
        "    'drugname').count()\n",
        "e_by_drug.rename(columns={'primaryid': 'event_cnt'}, inplace=True)\n",
        "display_frame(e_by_drug.describe())\n",
        "esort = e_by_drug.sort_values(by='event_cnt', ascending=False)\n",
        "display(HTML(\"<b>DRUG WITH TOP NUMBER OF EVENTS</b>\"))\n",
        "display_frame(esort.head(10))\n",
        "esort.plot(title=\"Adverse events per drug\")\n",
        "drug_idx = 500\n",
        "# try a middle of the pack\n",
        "\n",
        "esort[:drug_idx].plot(title=\"Adverse events per drug, top %d names\" % drug_idx)\n",
        "display_frame(esort.iloc[drug_idx:drug_idx+10])"
      ],
      "execution_count": 13,
      "outputs": [
        {
          "output_type": "display_data",
          "data": {
            "text/html": [
              "<table border=\"1\" class=\"dataframe\">\n",
              "  <thead>\n",
              "    <tr style=\"text-align: right;\">\n",
              "      <th></th>\n",
              "      <th>event_cnt</th>\n",
              "    </tr>\n",
              "  </thead>\n",
              "  <tbody>\n",
              "    <tr>\n",
              "      <th>count</th>\n",
              "      <td>66426.000000</td>\n",
              "    </tr>\n",
              "    <tr>\n",
              "      <th>mean</th>\n",
              "      <td>25.796691</td>\n",
              "    </tr>\n",
              "    <tr>\n",
              "      <th>std</th>\n",
              "      <td>274.823535</td>\n",
              "    </tr>\n",
              "    <tr>\n",
              "      <th>min</th>\n",
              "      <td>1.000000</td>\n",
              "    </tr>\n",
              "    <tr>\n",
              "      <th>25%</th>\n",
              "      <td>1.000000</td>\n",
              "    </tr>\n",
              "    <tr>\n",
              "      <th>50%</th>\n",
              "      <td>1.000000</td>\n",
              "    </tr>\n",
              "    <tr>\n",
              "      <th>75%</th>\n",
              "      <td>3.000000</td>\n",
              "    </tr>\n",
              "    <tr>\n",
              "      <th>max</th>\n",
              "      <td>18566.000000</td>\n",
              "    </tr>\n",
              "  </tbody>\n",
              "</table>"
            ],
            "text/plain": [
              "<IPython.core.display.HTML object>"
            ]
          },
          "metadata": {
            "tags": []
          }
        },
        {
          "output_type": "display_data",
          "data": {
            "text/html": [
              "<b>DRUG WITH TOP NUMBER OF EVENTS</b>"
            ],
            "text/plain": [
              "<IPython.core.display.HTML object>"
            ]
          },
          "metadata": {
            "tags": []
          }
        },
        {
          "output_type": "display_data",
          "data": {
            "text/html": [
              "<table border=\"1\" class=\"dataframe\">\n",
              "  <thead>\n",
              "    <tr style=\"text-align: right;\">\n",
              "      <th></th>\n",
              "      <th>event_cnt</th>\n",
              "    </tr>\n",
              "    <tr>\n",
              "      <th>drugname</th>\n",
              "      <th></th>\n",
              "    </tr>\n",
              "  </thead>\n",
              "  <tbody>\n",
              "    <tr>\n",
              "      <th>REVLIMID</th>\n",
              "      <td>18566</td>\n",
              "    </tr>\n",
              "    <tr>\n",
              "      <th>PREDNISONE.</th>\n",
              "      <td>17784</td>\n",
              "    </tr>\n",
              "    <tr>\n",
              "      <th>HUMIRA</th>\n",
              "      <td>16461</td>\n",
              "    </tr>\n",
              "    <tr>\n",
              "      <th>CIMZIA</th>\n",
              "      <td>13266</td>\n",
              "    </tr>\n",
              "    <tr>\n",
              "      <th>METHOTREXATE.</th>\n",
              "      <td>13263</td>\n",
              "    </tr>\n",
              "    <tr>\n",
              "      <th>LYRICA</th>\n",
              "      <td>12018</td>\n",
              "    </tr>\n",
              "    <tr>\n",
              "      <th>COSENTYX</th>\n",
              "      <td>11685</td>\n",
              "    </tr>\n",
              "    <tr>\n",
              "      <th>ENBREL</th>\n",
              "      <td>11201</td>\n",
              "    </tr>\n",
              "    <tr>\n",
              "      <th>OMEPRAZOLE.</th>\n",
              "      <td>10507</td>\n",
              "    </tr>\n",
              "    <tr>\n",
              "      <th>GABAPENTIN.</th>\n",
              "      <td>9418</td>\n",
              "    </tr>\n",
              "  </tbody>\n",
              "</table>"
            ],
            "text/plain": [
              "<IPython.core.display.HTML object>"
            ]
          },
          "metadata": {
            "tags": []
          }
        },
        {
          "output_type": "display_data",
          "data": {
            "text/html": [
              "<table border=\"1\" class=\"dataframe\">\n",
              "  <thead>\n",
              "    <tr style=\"text-align: right;\">\n",
              "      <th></th>\n",
              "      <th>event_cnt</th>\n",
              "    </tr>\n",
              "    <tr>\n",
              "      <th>drugname</th>\n",
              "      <th></th>\n",
              "    </tr>\n",
              "  </thead>\n",
              "  <tbody>\n",
              "    <tr>\n",
              "      <th>CYTOXAN</th>\n",
              "      <td>637</td>\n",
              "    </tr>\n",
              "    <tr>\n",
              "      <th>MULTIVITAMIN</th>\n",
              "      <td>636</td>\n",
              "    </tr>\n",
              "    <tr>\n",
              "      <th>INBRIJA</th>\n",
              "      <td>635</td>\n",
              "    </tr>\n",
              "    <tr>\n",
              "      <th>HAEGARDA</th>\n",
              "      <td>632</td>\n",
              "    </tr>\n",
              "    <tr>\n",
              "      <th>VALTREX</th>\n",
              "      <td>632</td>\n",
              "    </tr>\n",
              "    <tr>\n",
              "      <th>ADALIMUMAB</th>\n",
              "      <td>627</td>\n",
              "    </tr>\n",
              "    <tr>\n",
              "      <th>MABTHERA</th>\n",
              "      <td>625</td>\n",
              "    </tr>\n",
              "    <tr>\n",
              "      <th>PERINDOPRIL</th>\n",
              "      <td>624</td>\n",
              "    </tr>\n",
              "    <tr>\n",
              "      <th>COREG</th>\n",
              "      <td>623</td>\n",
              "    </tr>\n",
              "    <tr>\n",
              "      <th>LERGIGAN (PROMETHAZINE HYDROCHLORIDE)</th>\n",
              "      <td>621</td>\n",
              "    </tr>\n",
              "  </tbody>\n",
              "</table>"
            ],
            "text/plain": [
              "<IPython.core.display.HTML object>"
            ]
          },
          "metadata": {
            "tags": []
          }
        },
        {
          "output_type": "display_data",
          "data": {
            "image/png": "[encoded data removed]",
            "text/plain": [
              "<Figure size 432x288 with 1 Axes>"
            ]
          },
          "metadata": {
            "tags": []
          }
        },
        {
          "output_type": "display_data",
          "data": {
            "image/png": "[encoded data removed]",
            "text/plain": [
              "<Figure size 432x288 with 1 Axes>"
            ]
          },
          "metadata": {
            "tags": []
          }
        }
      ]
    },
    {
      "cell_type": "markdown",
      "metadata": {
        "id": "-O_zliaakIeh",
        "colab_type": "text"
      },
      "source": [
        "The following code shows a GUI to select a drug with many events (top of <b>esort</b>). It then show breakdown of reporting events by country and reported type. Note that since we have several reactions per report, the report count here is different from above\n"
      ]
    },
    {
      "cell_type": "code",
      "metadata": {
        "id": "Qu1D5KIakIei",
        "colab_type": "code",
        "colab": {
          "base_uri": "https://localhost:8080/",
          "height": 1000,
          "referenced_widgets": [
            "9b3b40f8a8364ca49bd7db2d00caa9fd",
            "291ab610a19a46569fa228397bbc2ba6",
            "02dfafa332e24e759a6449e6e1d2fa98",
            "00386ffc3389451eb17c6a8edbcb1870",
            "da7812a40a61413eafdbfcca0a15516a",
            "b7eaec1575fe4198a2a6d90342aad111"
          ]
        },
        "outputId": "b133e914-0025-4013-d775-61db939eff1d"
      },
      "source": [
        "from ipywidgets import interact\n",
        "import numpy as np\n",
        "import pandas as pd\n",
        "\n",
        "show_top = 50\n",
        "cntr_cutoff = 6\n",
        "cntry_field = 'occr_country'\n",
        "# cntry_field = 'reporter_country'\n",
        "ddr_agg = faers_lib.analyze.gen_drug_demo_react_agg(all_frames)\n",
        "bdisplay(\"CHANGE THE DROP DOWN BOX TO SELECT A DIFFERENT DRUG\")\n",
        "def analyze_one_drug_by_country(\n",
        "        ddr_agg, one_drug, cntry_field='occr_country',\n",
        "        show_top=10):\n",
        "    \"\"\"Summarizing AE data on one drug by country.\n",
        "    We can choose eiither occr_country or reporter_country\n",
        "    \"\"\"\n",
        "    display(HTML('<b>Reporting on %s for %s by country and reaction</b>' % (\n",
        "        cntry_field, one_drug)))\n",
        "    data = ddr_agg.loc[\n",
        "        ddr_agg.drugname == one_drug]\n",
        "\n",
        "    by_cntry_tbl = data[['primaryid', cntry_field]].groupby(\n",
        "        by=[cntry_field]).count().sort_values(\n",
        "            by='primaryid', ascending=False)\n",
        "    by_cntry_tbl.rename(columns={'primaryid': 'cnt'}, inplace=True)\n",
        "    display_frame(by_cntry_tbl.head(show_top))\n",
        "    display(HTML(\"TOP EVENTS BY COUNTRY:\"))\n",
        "    for c in by_cntry_tbl.index[:5]:\n",
        "        react_by_cntry = data.loc[data[cntry_field] == c][\n",
        "            [cntry_field, 'pt', 'primaryid']].groupby(\n",
        "                [cntry_field, 'pt']).count().sort_values(\n",
        "                    by=['primaryid'], ascending=False)\n",
        "        react_by_cntry.rename(columns={'primaryid': 'cnt'}, inplace=True)\n",
        "        display_frame(react_by_cntry.head(show_top))\n",
        "\n",
        "def update_country(drugname):\n",
        "    ddr2 = ddr_agg.loc[ddr_agg.drugname == drugname]\n",
        "    ctry_dist = ddr2[['primaryid', cntry_field]].groupby(\n",
        "        by=cntry_field).count().sort_values(by=\"primaryid\", ascending=False)\n",
        "    ctry_dist.rename(columns={'primaryid': 'cnt'}, inplace=True)\n",
        "    ctry_dist.reset_index(inplace=True)\n",
        "    display(HTML(\"TOTAL REPORTS PER DRUG - DISTRIBUTION/TOP COUNTRIES\"))\n",
        "    display_frame(ctry_dist.describe().loc[['count', 'mean', '25%', '50%', '75%', 'max']].T)    \n",
        "    display_frame(ctry_dist.head())\n",
        "\n",
        "    if ctry_dist.shape[0] > cntr_cutoff:\n",
        "        ctry_dist.iloc[6:, 0] = 'OTHER'\n",
        "    \n",
        "    analyze_one_drug_by_country(\n",
        "        ddr_agg, drugname, cntry_field=cntry_field, show_top=cntr_cutoff)\n",
        "    nsp_idx = np.where(ctry_dist[cntry_field] == 'COUNTRY NOT SPECIFIED')[0]\n",
        "    if nsp_idx.shape[0] > 0:\n",
        "        ctry_dist.iloc[nsp_idx, 0] = 'OTHER'\n",
        "    ctry_dist.groupby(by=cntry_field).sum().plot.pie(y=\"cnt\")\n",
        "interact(update_country, drugname=esort.index[:show_top])"
      ],
      "execution_count": 14,
      "outputs": [
        {
          "output_type": "display_data",
          "data": {
            "text/html": [
              "<b>CHANGE THE DROP DOWN BOX TO SELECT A DIFFERENT DRUG</b>"
            ],
            "text/plain": [
              "<IPython.core.display.HTML object>"
            ]
          },
          "metadata": {
            "tags": []
          }
        },
        {
          "output_type": "display_data",
          "data": {
            "application/vnd.jupyter.widget-view+json": {
              "model_id": "9b3b40f8a8364ca49bd7db2d00caa9fd",
              "version_minor": 0,
              "version_major": 2
            },
            "text/plain": [
              "interactive(children=(Dropdown(description='drugname', options=('REVLIMID', 'PREDNISONE.', 'HUMIRA', 'CIMZIA',…"
            ]
          },
          "metadata": {
            "tags": []
          }
        },
        {
          "output_type": "execute_result",
          "data": {
            "text/plain": [
              "<function __main__.update_country>"
            ]
          },
          "metadata": {
            "tags": []
          },
          "execution_count": 14
        }
      ]
    },
    {
      "cell_type": "markdown",
      "metadata": {
        "id": "cazZ3d4CkIel",
        "colab_type": "text"
      },
      "source": [
        "# ANALYZING BY DISEASE\n",
        "Similarly we can analyze by disease area by drug. First we find a list of drugs that is used to treat several diseases, then show a GUI where we pick a drug, show the diseases and the reaction. There are <b>TWO</b> dropdown box where we can choose <b>DRUG</b> and <b>indication</b>, and view distribution of reactions."
      ]
    },
    {
      "cell_type": "code",
      "metadata": {
        "id": "0dug53VAkIen",
        "colab_type": "code",
        "colab": {
          "base_uri": "https://localhost:8080/",
          "height": 630
        },
        "outputId": "8f1e8238-4fe0-441f-f5a9-1d9ed414b845"
      },
      "source": [
        "# look for some drug use for treatment of several diseases:\n",
        "indication = all_frames['indication']\n",
        "dr = all_frames['drug']\n",
        "dr_de_indication_fr = pd.merge(\n",
        "    ddr_agg, indication,\n",
        "    how='inner', left_on=('primaryid', 'drug_seq'),\n",
        "    right_on=('primaryid', 'indi_drug_seq'))\n",
        "i_drug_name = pd.merge(\n",
        "    dr[['primaryid', 'drug_seq', 'drugname']],\n",
        "    indication[['primaryid', 'indi_drug_seq', 'indi_pt']],\n",
        "    how='inner', left_on=['primaryid', 'drug_seq'],\n",
        "    right_on=['primaryid', 'indi_drug_seq'])\n",
        "disct_drug_name = i_drug_name[['drugname', 'indi_pt']].groupby(\n",
        "    by=['drugname', 'indi_pt']).count().reset_index()\n",
        "\n",
        "drug_disease = disct_drug_name.groupby(\n",
        "    by=['drugname']).count().sort_values(\n",
        "        by='indi_pt', ascending=False)\n",
        "drug_disease.rename(columns={'primaryid': 'cnt'}, inplace=True)\n",
        "display(HTML(\"<b>TOP DRUGS WITH MANY INDICATION POINTS </b>\"))\n",
        "display_frame(drug_disease.head())\n",
        "display(HTML(\"<b>DISTRIBUTION OF INDICATION POINTS BY DRUG </b>\"))\n",
        "display_frame(drug_disease.describe().T)\n",
        "drug_disease.hist()\n",
        "# display_frame(drug_disease.iloc[drug_disease.shape[0] // 10:1+drug_disease.shape[0] // 10])"
      ],
      "execution_count": 15,
      "outputs": [
        {
          "output_type": "display_data",
          "data": {
            "text/html": [
              "<b>TOP DRUGS WITH MANY INDICATION POINTS </b>"
            ],
            "text/plain": [
              "<IPython.core.display.HTML object>"
            ]
          },
          "metadata": {
            "tags": []
          }
        },
        {
          "output_type": "display_data",
          "data": {
            "text/html": [
              "<table border=\"1\" class=\"dataframe\">\n",
              "  <thead>\n",
              "    <tr style=\"text-align: right;\">\n",
              "      <th></th>\n",
              "      <th>indi_pt</th>\n",
              "    </tr>\n",
              "    <tr>\n",
              "      <th>drugname</th>\n",
              "      <th></th>\n",
              "    </tr>\n",
              "  </thead>\n",
              "  <tbody>\n",
              "    <tr>\n",
              "      <th>PREDNISONE.</th>\n",
              "      <td>596</td>\n",
              "    </tr>\n",
              "    <tr>\n",
              "      <th>LYRICA</th>\n",
              "      <td>497</td>\n",
              "    </tr>\n",
              "    <tr>\n",
              "      <th>PREDNISOLONE.</th>\n",
              "      <td>417</td>\n",
              "    </tr>\n",
              "    <tr>\n",
              "      <th>DEXAMETHASONE.</th>\n",
              "      <td>362</td>\n",
              "    </tr>\n",
              "    <tr>\n",
              "      <th>METHYLPREDNISOLONE.</th>\n",
              "      <td>317</td>\n",
              "    </tr>\n",
              "  </tbody>\n",
              "</table>"
            ],
            "text/plain": [
              "<IPython.core.display.HTML object>"
            ]
          },
          "metadata": {
            "tags": []
          }
        },
        {
          "output_type": "display_data",
          "data": {
            "text/html": [
              "<b>DISTRIBUTION OF INDICATION POINTS BY DRUG </b>"
            ],
            "text/plain": [
              "<IPython.core.display.HTML object>"
            ]
          },
          "metadata": {
            "tags": []
          }
        },
        {
          "output_type": "display_data",
          "data": {
            "text/html": [
              "<table border=\"1\" class=\"dataframe\">\n",
              "  <thead>\n",
              "    <tr style=\"text-align: right;\">\n",
              "      <th></th>\n",
              "      <th>count</th>\n",
              "      <th>mean</th>\n",
              "      <th>std</th>\n",
              "      <th>min</th>\n",
              "      <th>25%</th>\n",
              "      <th>50%</th>\n",
              "      <th>75%</th>\n",
              "      <th>max</th>\n",
              "    </tr>\n",
              "  </thead>\n",
              "  <tbody>\n",
              "    <tr>\n",
              "      <th>indi_pt</th>\n",
              "      <td>47894.0</td>\n",
              "      <td>3.059966</td>\n",
              "      <td>9.796288</td>\n",
              "      <td>1.0</td>\n",
              "      <td>1.0</td>\n",
              "      <td>1.0</td>\n",
              "      <td>2.0</td>\n",
              "      <td>596.0</td>\n",
              "    </tr>\n",
              "  </tbody>\n",
              "</table>"
            ],
            "text/plain": [
              "<IPython.core.display.HTML object>"
            ]
          },
          "metadata": {
            "tags": []
          }
        },
        {
          "output_type": "execute_result",
          "data": {
            "text/plain": [
              "array([[<matplotlib.axes._subplots.AxesSubplot object at 0x7f0786475c18>]],\n",
              "      dtype=object)"
            ]
          },
          "metadata": {
            "tags": []
          },
          "execution_count": 15
        },
        {
          "output_type": "display_data",
          "data": {
            "image/png": "[encoded data removed]",
            "text/plain": [
              "<Figure size 432x288 with 1 Axes>"
            ]
          },
          "metadata": {
            "tags": []
          }
        }
      ]
    },
    {
      "cell_type": "code",
      "metadata": {
        "id": "dC5j_VD6kIev",
        "colab_type": "code",
        "colab": {
          "base_uri": "https://localhost:8080/",
          "height": 1000,
          "referenced_widgets": [
            "4b3c8d42aab64b12b145116ccf95cbe2",
            "bc290c9113a44bb3b3b4ded1ede00166",
            "8167f77e3c2d4b7eb30a18d80d7ff93b",
            "6ad1ae047a834d839cc945420c5be983",
            "9f934a4b09024179ab9d3d768b51624d",
            "5e01c55b1f804c478f24ba6937cfe937",
            "d0fd2483d59f4ac2ac1b85b9258a21cf",
            "d5d646cb9c2a48eabb17b53b5f6b41a4",
            "8c8d05c3d23d466a9a8f8fd0529e182c",
            "5c1a493d3bdd496db195c01bee4d53a9",
            "502d4c05848e40039fac3daef54d9d61",
            "64711288fff74be69201fb754348fad1"
          ]
        },
        "outputId": "ca97ed5f-1c3b-47cb-f5ac-fdcf09ee4cd5"
      },
      "source": [
        "show_top = 10\n",
        "bdisplay(\"CHANGE THE FIRST DROPDOWN BOX TO SELECT A DIFFERENT DRUG. CHANGE THE SECOND TO SELECT A DIFFERENT INDICATION\")\n",
        "def update_disease_by_drug(drugname):\n",
        "    data_by_drug = dr_de_indication_fr.loc[\n",
        "        dr_de_indication_fr.drugname == drugname]\n",
        "    by_disease = data_by_drug[['indi_pt', 'primaryid']].groupby(\n",
        "        by=['indi_pt']).count().sort_values(by=['primaryid'], ascending=False)\n",
        "    display_frame(by_disease.head())    \n",
        "    display(HTML(\"<b>TOP EVENTS BY INDICATION:</b>\"))\n",
        "    \n",
        "    def update_AE_by_drug_and_disease(ipt):        \n",
        "        data = data_by_drug.loc[data_by_drug.indi_pt == ipt]\n",
        "        ipt_report = data[['indi_pt', 'primaryid', 'drugname', 'pt']].groupby(\n",
        "            by=['indi_pt', 'drugname', 'pt']).count().sort_values(\n",
        "                by='primaryid', ascending=False)\n",
        "        ipt_report.rename(columns={'primaryid': 'cnt'}, inplace=True)\n",
        "        display_frame(ipt_report.head(show_top))\n",
        "        display_frame(ipt_report.describe().T)\n",
        "        ipt_report = ipt_report.reset_index()[['pt', 'cnt']]\n",
        "        ipt_report.reset_index()[['pt', 'cnt']].groupby(by=\"pt\").sum().plot()\n",
        "        if ipt_report.shape[0] > 20:\n",
        "            ipt_report.iloc[20:, 0] = 'OTHER'\n",
        "        ipt_report.reset_index()[['pt', 'cnt']].groupby(by=\"pt\").sum().plot.pie(y=\"cnt\")\n",
        "        \n",
        "    interact(update_AE_by_drug_and_disease, ipt=by_disease.index[:show_top].values)        \n",
        "interact(update_disease_by_drug, drugname=drug_disease.index[:show_top])"
      ],
      "execution_count": 16,
      "outputs": [
        {
          "output_type": "display_data",
          "data": {
            "text/html": [
              "<b>CHANGE THE FIRST DROPDOWN BOX TO SELECT A DIFFERENT DRUG. CHANGE THE SECOND TO SELECT A DIFFERENT INDICATION</b>"
            ],
            "text/plain": [
              "<IPython.core.display.HTML object>"
            ]
          },
          "metadata": {
            "tags": []
          }
        },
        {
          "output_type": "display_data",
          "data": {
            "application/vnd.jupyter.widget-view+json": {
              "model_id": "4b3c8d42aab64b12b145116ccf95cbe2",
              "version_minor": 0,
              "version_major": 2
            },
            "text/plain": [
              "interactive(children=(Dropdown(description='drugname', options=('PREDNISONE.', 'LYRICA', 'PREDNISOLONE.', 'DEX…"
            ]
          },
          "metadata": {
            "tags": []
          }
        },
        {
          "output_type": "execute_result",
          "data": {
            "text/plain": [
              "<function __main__.update_disease_by_drug>"
            ]
          },
          "metadata": {
            "tags": []
          },
          "execution_count": 16
        }
      ]
    },
    {
      "cell_type": "markdown",
      "metadata": {
        "id": "dnn0Jk0fkIey",
        "colab_type": "text"
      },
      "source": [
        "In the following we show drug pairs with the largest number of occurence in the tables. The next screen shows a GUI that we can pick a drug, then show drugs that has largest number of usage together with the given drug. We restrict to top names only as there are too many to show."
      ]
    },
    {
      "cell_type": "code",
      "metadata": {
        "id": "Uf6IqDTnkIez",
        "colab_type": "code",
        "colab": {
          "base_uri": "https://localhost:8080/",
          "height": 359
        },
        "outputId": "d6165043-92bc-4800-8fc4-7092ebd75eb0"
      },
      "source": [
        "from faers_lib.analyze import drug_used_together\n",
        "pairs = drug_used_together(all_frames)\n",
        "# pairs.set_index(['drugname_x', 'drugname_y'], inplace=True)\n",
        "display_frame(pairs.head(10))"
      ],
      "execution_count": 17,
      "outputs": [
        {
          "output_type": "display_data",
          "data": {
            "text/html": [
              "<table border=\"1\" class=\"dataframe\">\n",
              "  <thead>\n",
              "    <tr style=\"text-align: right;\">\n",
              "      <th></th>\n",
              "      <th>drugname_x</th>\n",
              "      <th>drugname_y</th>\n",
              "      <th>cnt</th>\n",
              "    </tr>\n",
              "  </thead>\n",
              "  <tbody>\n",
              "    <tr>\n",
              "      <th>2431184</th>\n",
              "      <td>METHOTREXATE.</td>\n",
              "      <td>HUMIRA</td>\n",
              "      <td>3267</td>\n",
              "    </tr>\n",
              "    <tr>\n",
              "      <th>2430492</th>\n",
              "      <td>METHOTREXATE.</td>\n",
              "      <td>ENBREL</td>\n",
              "      <td>3248</td>\n",
              "    </tr>\n",
              "    <tr>\n",
              "      <th>1783010</th>\n",
              "      <td>HUMIRA</td>\n",
              "      <td>ENBREL</td>\n",
              "      <td>2791</td>\n",
              "    </tr>\n",
              "    <tr>\n",
              "      <th>3139069</th>\n",
              "      <td>PREDNISONE.</td>\n",
              "      <td>METHOTREXATE.</td>\n",
              "      <td>2775</td>\n",
              "    </tr>\n",
              "    <tr>\n",
              "      <th>2430857</th>\n",
              "      <td>METHOTREXATE.</td>\n",
              "      <td>FOLIC ACID.</td>\n",
              "      <td>2344</td>\n",
              "    </tr>\n",
              "    <tr>\n",
              "      <th>2871299</th>\n",
              "      <td>ORENCIA</td>\n",
              "      <td>METHOTREXATE.</td>\n",
              "      <td>2124</td>\n",
              "    </tr>\n",
              "    <tr>\n",
              "      <th>2870849</th>\n",
              "      <td>ORENCIA</td>\n",
              "      <td>ENBREL</td>\n",
              "      <td>2078</td>\n",
              "    </tr>\n",
              "    <tr>\n",
              "      <th>2428353</th>\n",
              "      <td>METHOTREXATE.</td>\n",
              "      <td>ACTEMRA</td>\n",
              "      <td>2066</td>\n",
              "    </tr>\n",
              "    <tr>\n",
              "      <th>3170514</th>\n",
              "      <td>PRILOSEC</td>\n",
              "      <td>NEXIUM</td>\n",
              "      <td>2014</td>\n",
              "    </tr>\n",
              "    <tr>\n",
              "      <th>3369657</th>\n",
              "      <td>REVLIMID</td>\n",
              "      <td>DEXAMETHASONE.</td>\n",
              "      <td>1936</td>\n",
              "    </tr>\n",
              "  </tbody>\n",
              "</table>"
            ],
            "text/plain": [
              "<IPython.core.display.HTML object>"
            ]
          },
          "metadata": {
            "tags": []
          }
        }
      ]
    },
    {
      "cell_type": "code",
      "metadata": {
        "id": "rrzGnjPskIe2",
        "colab_type": "code",
        "colab": {
          "base_uri": "https://localhost:8080/",
          "height": 456,
          "referenced_widgets": [
            "207ebdab36954e91bd24055336757c10",
            "6d25915f146f417b959ff315de7e8602",
            "f03933c315d7483594c99e02392d6198",
            "b4d650261727487494d6e9405a93059c",
            "f1d851fb85e24658abf58ffdb1e9a38e",
            "60d89bb588a642f28219ca2766d7372f"
          ]
        },
        "outputId": "53c2322c-662f-47b4-85ce-38c77b8519ae"
      },
      "source": [
        "from faers_lib.analyze import companion_drug\n",
        "import numpy as np\n",
        "show_top = 10\n",
        "\n",
        "def update_companion(drugname):\n",
        "    bdisplay(\"Top Companion drug for %s\" % drugname)\n",
        "    display_frame(companion_drug(all_frames, drugname).head(show_top))    \n",
        "interact(update_companion, drugname=np.unique(pairs.iloc[:20, :2].values.reshape(-1)))"
      ],
      "execution_count": 18,
      "outputs": [
        {
          "output_type": "display_data",
          "data": {
            "application/vnd.jupyter.widget-view+json": {
              "model_id": "207ebdab36954e91bd24055336757c10",
              "version_minor": 0,
              "version_major": 2
            },
            "text/plain": [
              "interactive(children=(Dropdown(description='drugname', options=('ACTEMRA', 'CIMZIA', 'DEXAMETHASONE.', 'ENBREL…"
            ]
          },
          "metadata": {
            "tags": []
          }
        },
        {
          "output_type": "execute_result",
          "data": {
            "text/plain": [
              "<function __main__.update_companion>"
            ]
          },
          "metadata": {
            "tags": []
          },
          "execution_count": 18
        }
      ]
    },
    {
      "cell_type": "markdown",
      "metadata": {
        "id": "03w6UbHwkIe5",
        "colab_type": "text"
      },
      "source": [
        "### Uniformizing data units and a Logistic Regression\n",
        "In this last part we attempt to uniformize a number of quantitative fields, currently show in different units, then run a logistic regression to understand how the factors impact severity of outcome.\n",
        "\n",
        "Age, dosage, weight are given in different units (hour - to decades for age, mg or g in different frequencies for dosage, and KG or LB for weight). We build a conversion table for units, where each unit has a base unit where we will convert to to be able to compare apple to apple.\n",
        "\n",
        "We pick drugs used to treat cholesterol, then link drug, indication and outcome to build a large table, populate it with uniformized data then run the regression."
      ]
    },
    {
      "cell_type": "code",
      "metadata": {
        "id": "0tce9y9HkIe5",
        "colab_type": "code",
        "colab": {
          "base_uri": "https://localhost:8080/",
          "height": 252
        },
        "outputId": "de3696e8-9408-4138-9e3a-61d4c5d7db03"
      },
      "source": [
        "# Location of the conversion file - in the FAERS directory\n",
        "convert_fname = 'FAERS/cfg/convert.txt'\n",
        "cvt_fr = pd.read_csv(convert_fname, sep='|')\n",
        "print(cvt_fr.keys())\n",
        "display_frame(cvt_fr.loc[cvt_fr.FIELD == 'DEMOGRAPHIC.AGE_COD'])"
      ],
      "execution_count": 19,
      "outputs": [
        {
          "output_type": "stream",
          "text": [
            "Index(['FIELD', 'UNIT', 'MISC', 'BASE', 'FACTOR'], dtype='object')\n"
          ],
          "name": "stdout"
        },
        {
          "output_type": "display_data",
          "data": {
            "text/html": [
              "<table border=\"1\" class=\"dataframe\">\n",
              "  <thead>\n",
              "    <tr style=\"text-align: right;\">\n",
              "      <th></th>\n",
              "      <th>FIELD</th>\n",
              "      <th>UNIT</th>\n",
              "      <th>MISC</th>\n",
              "      <th>BASE</th>\n",
              "      <th>FACTOR</th>\n",
              "    </tr>\n",
              "  </thead>\n",
              "  <tbody>\n",
              "    <tr>\n",
              "      <th>0</th>\n",
              "      <td>DEMOGRAPHIC.AGE_COD</td>\n",
              "      <td>DEC</td>\n",
              "      <td>DECADE</td>\n",
              "      <td>YR</td>\n",
              "      <td>10.000000</td>\n",
              "    </tr>\n",
              "    <tr>\n",
              "      <th>1</th>\n",
              "      <td>DEMOGRAPHIC.AGE_COD</td>\n",
              "      <td>YR</td>\n",
              "      <td>YEAR</td>\n",
              "      <td>YR</td>\n",
              "      <td>1.000000</td>\n",
              "    </tr>\n",
              "    <tr>\n",
              "      <th>2</th>\n",
              "      <td>DEMOGRAPHIC.AGE_COD</td>\n",
              "      <td>MON</td>\n",
              "      <td>MONTH</td>\n",
              "      <td>YR</td>\n",
              "      <td>0.083333</td>\n",
              "    </tr>\n",
              "    <tr>\n",
              "      <th>3</th>\n",
              "      <td>DEMOGRAPHIC.AGE_COD</td>\n",
              "      <td>WK</td>\n",
              "      <td>WEEK</td>\n",
              "      <td>YR</td>\n",
              "      <td>0.015054</td>\n",
              "    </tr>\n",
              "    <tr>\n",
              "      <th>4</th>\n",
              "      <td>DEMOGRAPHIC.AGE_COD</td>\n",
              "      <td>DY</td>\n",
              "      <td>DAY</td>\n",
              "      <td>YR</td>\n",
              "      <td>0.002740</td>\n",
              "    </tr>\n",
              "    <tr>\n",
              "      <th>5</th>\n",
              "      <td>DEMOGRAPHIC.AGE_COD</td>\n",
              "      <td>HR</td>\n",
              "      <td>HOUR</td>\n",
              "      <td>YR</td>\n",
              "      <td>0.000114</td>\n",
              "    </tr>\n",
              "  </tbody>\n",
              "</table>"
            ],
            "text/plain": [
              "<IPython.core.display.HTML object>"
            ]
          },
          "metadata": {
            "tags": []
          }
        }
      ]
    },
    {
      "cell_type": "markdown",
      "metadata": {
        "id": "SwCjq7dd-2sk",
        "colab_type": "text"
      },
      "source": [
        "# A function to get drugs related to cholesterol"
      ]
    },
    {
      "cell_type": "code",
      "metadata": {
        "id": "Fr7l1p6nkIe8",
        "colab_type": "code",
        "colab": {}
      },
      "source": [
        "def get_chol_data_frame(all_frames):\n",
        "    \"\"\"First identify the drugs used in cholesterol treatment\n",
        "    Then link with drug, indication and outcome\n",
        "    \"\"\"\n",
        "\n",
        "    idpts = all_frames['indication'].indi_pt.unique()\n",
        "    choles_indi = np.array(\n",
        "        [a for a in idpts\n",
        "         if ('choles' in a.lower() and 'cholestasis' not in a.lower())])\n",
        "    choles_indi = pd.DataFrame({\"indi_pt\": choles_indi})\n",
        "    choles_indi_all = pd.merge(\n",
        "        all_frames['indication'], choles_indi, how='inner', on='indi_pt')\n",
        "    drug_indi = pd.merge(\n",
        "        choles_indi_all, all_frames['drug'],\n",
        "        how='inner', left_on=['primaryid', 'indi_drug_seq'],\n",
        "        right_on=['primaryid', 'drug_seq'], suffixes=('', '_y'))\n",
        "    drug_indi.drop(columns=['caseid_y'], inplace=True)\n",
        "\n",
        "    demo_drug_indi = pd.merge(\n",
        "        drug_indi, all_frames['demographic'],\n",
        "        how='inner', on='primaryid', suffixes=('', '_y'))\n",
        "\n",
        "    demo_drug_indi.drop(columns=['caseid_y'], inplace=True)\n",
        "    outcome_demo_drug_indi = pd.merge(\n",
        "        demo_drug_indi, all_frames['outcome'],\n",
        "        how='inner', on='primaryid', suffixes=('', '_y'))\n",
        "    outcome_demo_drug_indi.drop(columns=['caseid_y'], inplace=True)\n",
        "    \"\"\"\n",
        "    react_outcome_demo_drug_indi = pd.merge(\n",
        "       outcome_demo_drug_indi, all_frames['reaction'],\n",
        "       how='inner', on='primaryid', suffixes=('', '_y'))\n",
        "    react_outcome_demo_drug_indi.drop(columns=['caseid_y'], inplace=True)\n",
        "    \"\"\"\n",
        "    return outcome_demo_drug_indi, demo_drug_indi"
      ],
      "execution_count": 0,
      "outputs": []
    },
    {
      "cell_type": "markdown",
      "metadata": {
        "id": "2iAJqT0y-9xs",
        "colab_type": "text"
      },
      "source": [
        "# A function to uniformize units for age, dose, weight:"
      ]
    },
    {
      "cell_type": "code",
      "metadata": {
        "id": "jiCzl16wkIfE",
        "colab_type": "code",
        "colab": {}
      },
      "source": [
        "def uniformizing_age_dose_weight(mf, cvt_fr):\n",
        "    \"\"\"Uniformizng data to make sure weight, freq, dose in one unit\n",
        "    \"\"\"\n",
        "    def check_bad_code(col, field):\n",
        "        ucode = mf[col].unique()\n",
        "        ucode = ucode[~pd.isnull(ucode)]\n",
        "        map_frame = cvt_fr.loc[cvt_fr.FIELD == field]\n",
        "        diff = np.setdiff1d(ucode, map_frame.UNIT)\n",
        "        if diff.shape[0] > 0:\n",
        "            print('bad code %s %s %s' % (col, field, str(diff)))\n",
        "\n",
        "    col = 'wt_cod'\n",
        "    field = 'DEMOGRAPHIC.WT_COD'\n",
        "    check_bad_code(col, field)\n",
        "    # convert weight to kg\n",
        "    mf['wt_in_kg'] = np.full((mf.shape[0]), np.nan)\n",
        "\n",
        "    for idx in cvt_fr.loc[cvt_fr.FIELD == field].index:\n",
        "        unt = cvt_fr.loc[idx, 'UNIT']\n",
        "        ft = cvt_fr.loc[idx, 'FACTOR']\n",
        "\n",
        "        mf.loc[mf[col] == unt, 'wt_in_kg'] = mf.loc[mf[col] == unt, 'wt'] * ft\n",
        "\n",
        "    col = 'age_cod'\n",
        "    field = 'DEMOGRAPHIC.AGE_COD'\n",
        "    check_bad_code(col, field)\n",
        "    # convert weight to kg\n",
        "    mf['age_in_yr'] = np.full((mf.shape[0]), np.nan)\n",
        "\n",
        "    for idx in cvt_fr.loc[cvt_fr.FIELD == field].index:\n",
        "        unt = cvt_fr.loc[idx, 'UNIT']\n",
        "        ft = cvt_fr.loc[idx, 'FACTOR']\n",
        "\n",
        "        mf.loc[mf[col] == unt, 'age_in_yr'] = mf.loc[mf[col] == unt, 'age'] * ft        \n",
        "\n",
        "    col = 'dose_unit'\n",
        "    field = 'DRUG.DOSE_UNIT'\n",
        "    check_bad_code(col, field)\n",
        "\n",
        "    mf['dose_in_mg'] = np.full((mf.shape[0]), np.nan)\n",
        "\n",
        "    for idx in cvt_fr.loc[cvt_fr.FIELD == field].index:\n",
        "        unt = cvt_fr.loc[idx, 'UNIT']\n",
        "        base = cvt_fr.loc[idx, 'BASE']\n",
        "        ft = cvt_fr.loc[idx, 'FACTOR']\n",
        "        if base == 'MG':\n",
        "            mf.loc[mf[col] == unt, 'dose_in_mg'] =\\\n",
        "                mf.loc[mf[col] == unt, 'dose_amt'] * ft\n",
        "\n",
        "    col = 'dose_freq'\n",
        "    field = 'DRUG.DOSE_FREQ'\n",
        "    check_bad_code(col, field)\n",
        "    mf['freq_in_day'] = np.full((mf.shape[0]), np.nan)\n",
        "    for idx in cvt_fr.loc[cvt_fr.FIELD == field].index:\n",
        "        unt = cvt_fr.loc[idx, 'UNIT']\n",
        "        ft = cvt_fr.loc[idx, 'FACTOR']\n",
        "\n",
        "        mf.loc[mf[col] == unt, 'freq_in_day'] = ft\n",
        "\n",
        "    mf['dose_per_day'] = mf['freq_in_day'] * mf['dose_in_mg']\n",
        "    to_fill = pd.isnull(mf.dose_per_day) & ~pd.isnull(mf.dose_in_mg)\n",
        "    mf.loc[to_fill, 'dose_per_day'] = mf.loc[to_fill, 'dose_in_mg'].values\n",
        "    return mf\n",
        "\n"
      ],
      "execution_count": 0,
      "outputs": []
    },
    {
      "cell_type": "markdown",
      "metadata": {
        "id": "gfb7bSQBkIfH",
        "colab_type": "text"
      },
      "source": [
        "Create a Data Frame aggregating demographic and outcome data related to cholesterol drugs"
      ]
    },
    {
      "cell_type": "code",
      "metadata": {
        "id": "4N-knr-RkIfI",
        "colab_type": "code",
        "colab": {
          "base_uri": "https://localhost:8080/",
          "height": 34
        },
        "outputId": "79e13844-498b-4e62-9b8d-6bac9791c5b9"
      },
      "source": [
        "from sklearn.linear_model import LogisticRegression\n",
        "# main data frame\n",
        "out_dr_de_indi, dr_de_indi = get_chol_data_frame(all_frames)\n",
        "dr_de_indi = uniformizing_age_dose_weight(dr_de_indi, cvt_fr)\n",
        "# rs = outcome_demo_drug_indi\n",
        "tmp_fr = pd.crosstab(\n",
        "    index=[out_dr_de_indi.primaryid,\n",
        "           out_dr_de_indi.drug_seq],\n",
        "    columns=out_dr_de_indi.outc_cod)\n",
        "summ_fr = pd.merge(\n",
        "    dr_de_indi.reset_index(), tmp_fr,\n",
        "    how='inner', on=['primaryid', 'drug_seq'])\n",
        "\"\"\"\n",
        "summ_fr['severe'] = ((summ_fr.DE == 1) | (summ_fr.DS == 1) |\n",
        "                     (summ_fr.LT == 1)).astype(int)\n",
        "\"\"\"\n",
        "summ_fr['severe'] = ((summ_fr.DE == 1)).astype(int)\n",
        "\n",
        "summ_fr['dose_norm'] = summ_fr.dose_per_day / summ_fr.dose_per_day.std()\n",
        "summ_fr['wt_norm'] = summ_fr.wt_in_kg / summ_fr.wt_in_kg.std()"
      ],
      "execution_count": 22,
      "outputs": [
        {
          "output_type": "stream",
          "text": [
            "bad code dose_freq DRUG.DOSE_FREQ ['/month' '/wk' 'QAM']\n"
          ],
          "name": "stdout"
        }
      ]
    },
    {
      "cell_type": "markdown",
      "metadata": {
        "id": "nG3-Y5MVkIfL",
        "colab_type": "text"
      },
      "source": [
        "In the below, we see our enhancement of data does fix the max age (32084), adjust for the dose amounts (some are taking 5G). For an older patient, a reaction is more likely to result in death than a younger person, while dose and weight does not seem to matter much. This will also be confirmed in the logistic regression.\n"
      ]
    },
    {
      "cell_type": "code",
      "metadata": {
        "id": "nPKYiM58kIfM",
        "colab_type": "code",
        "colab": {
          "base_uri": "https://localhost:8080/",
          "height": 891
        },
        "outputId": "bbcdf8d6-9381-415d-d773-a397c25f72b5"
      },
      "source": [
        "display_frame(summ_fr[['age', 'age_in_yr', 'wt', 'wt_in_kg', 'dose_amt', 'dose_in_mg', 'dose_per_day']].describe())\n",
        "bdisplay(\"SUMMARY for SEVERITY == 1\")\n",
        "display_frame(summ_fr.loc[summ_fr.severe==1, ['age', 'age_in_yr', 'wt', 'wt_in_kg', 'dose_amt', 'dose_in_mg', 'dose_per_day']].describe())\n",
        "bdisplay(\"SUMMARY for SEVERITY == 0\")\n",
        "display_frame(summ_fr.loc[summ_fr.severe==0, ['age', 'age_in_yr', 'wt', 'wt_in_kg', 'dose_amt', 'dose_in_mg', 'dose_per_day']].describe())"
      ],
      "execution_count": 23,
      "outputs": [
        {
          "output_type": "display_data",
          "data": {
            "text/html": [
              "<table border=\"1\" class=\"dataframe\">\n",
              "  <thead>\n",
              "    <tr style=\"text-align: right;\">\n",
              "      <th></th>\n",
              "      <th>age</th>\n",
              "      <th>age_in_yr</th>\n",
              "      <th>wt</th>\n",
              "      <th>wt_in_kg</th>\n",
              "      <th>dose_amt</th>\n",
              "      <th>dose_in_mg</th>\n",
              "      <th>dose_per_day</th>\n",
              "    </tr>\n",
              "  </thead>\n",
              "  <tbody>\n",
              "    <tr>\n",
              "      <th>count</th>\n",
              "      <td>4662.000000</td>\n",
              "      <td>4662.000000</td>\n",
              "      <td>3006.000000</td>\n",
              "      <td>3006.000000</td>\n",
              "      <td>2642.000000</td>\n",
              "      <td>2428.000000</td>\n",
              "      <td>2428.000000</td>\n",
              "    </tr>\n",
              "    <tr>\n",
              "      <th>mean</th>\n",
              "      <td>1255.421707</td>\n",
              "      <td>62.288201</td>\n",
              "      <td>82.611084</td>\n",
              "      <td>82.513436</td>\n",
              "      <td>46.542960</td>\n",
              "      <td>61.468781</td>\n",
              "      <td>62.818432</td>\n",
              "    </tr>\n",
              "    <tr>\n",
              "      <th>std</th>\n",
              "      <td>5041.910872</td>\n",
              "      <td>11.748169</td>\n",
              "      <td>21.157765</td>\n",
              "      <td>20.936762</td>\n",
              "      <td>132.596813</td>\n",
              "      <td>222.270175</td>\n",
              "      <td>280.386389</td>\n",
              "    </tr>\n",
              "    <tr>\n",
              "      <th>min</th>\n",
              "      <td>1.000000</td>\n",
              "      <td>0.002740</td>\n",
              "      <td>0.110000</td>\n",
              "      <td>0.110000</td>\n",
              "      <td>0.500000</td>\n",
              "      <td>0.200000</td>\n",
              "      <td>0.200000</td>\n",
              "    </tr>\n",
              "    <tr>\n",
              "      <th>25%</th>\n",
              "      <td>55.000000</td>\n",
              "      <td>55.000000</td>\n",
              "      <td>69.000000</td>\n",
              "      <td>69.000000</td>\n",
              "      <td>10.000000</td>\n",
              "      <td>10.000000</td>\n",
              "      <td>10.000000</td>\n",
              "    </tr>\n",
              "    <tr>\n",
              "      <th>50%</th>\n",
              "      <td>64.000000</td>\n",
              "      <td>63.000000</td>\n",
              "      <td>80.270000</td>\n",
              "      <td>80.210000</td>\n",
              "      <td>20.000000</td>\n",
              "      <td>20.000000</td>\n",
              "      <td>20.000000</td>\n",
              "    </tr>\n",
              "    <tr>\n",
              "      <th>75%</th>\n",
              "      <td>73.000000</td>\n",
              "      <td>71.000000</td>\n",
              "      <td>92.145000</td>\n",
              "      <td>92.100000</td>\n",
              "      <td>40.000000</td>\n",
              "      <td>40.000000</td>\n",
              "      <td>40.000000</td>\n",
              "    </tr>\n",
              "    <tr>\n",
              "      <th>max</th>\n",
              "      <td>32084.000000</td>\n",
              "      <td>93.000000</td>\n",
              "      <td>267.000000</td>\n",
              "      <td>267.000000</td>\n",
              "      <td>5000.000000</td>\n",
              "      <td>5000.000000</td>\n",
              "      <td>5000.000000</td>\n",
              "    </tr>\n",
              "  </tbody>\n",
              "</table>"
            ],
            "text/plain": [
              "<IPython.core.display.HTML object>"
            ]
          },
          "metadata": {
            "tags": []
          }
        },
        {
          "output_type": "display_data",
          "data": {
            "text/html": [
              "<b>SUMMARY for SEVERITY == 1</b>"
            ],
            "text/plain": [
              "<IPython.core.display.HTML object>"
            ]
          },
          "metadata": {
            "tags": []
          }
        },
        {
          "output_type": "display_data",
          "data": {
            "text/html": [
              "<table border=\"1\" class=\"dataframe\">\n",
              "  <thead>\n",
              "    <tr style=\"text-align: right;\">\n",
              "      <th></th>\n",
              "      <th>age</th>\n",
              "      <th>age_in_yr</th>\n",
              "      <th>wt</th>\n",
              "      <th>wt_in_kg</th>\n",
              "      <th>dose_amt</th>\n",
              "      <th>dose_in_mg</th>\n",
              "      <th>dose_per_day</th>\n",
              "    </tr>\n",
              "  </thead>\n",
              "  <tbody>\n",
              "    <tr>\n",
              "      <th>count</th>\n",
              "      <td>305.000000</td>\n",
              "      <td>305.000000</td>\n",
              "      <td>153.000000</td>\n",
              "      <td>153.000000</td>\n",
              "      <td>151.000000</td>\n",
              "      <td>134.000000</td>\n",
              "      <td>134.000000</td>\n",
              "    </tr>\n",
              "    <tr>\n",
              "      <th>mean</th>\n",
              "      <td>3426.763934</td>\n",
              "      <td>66.970901</td>\n",
              "      <td>82.086732</td>\n",
              "      <td>81.436042</td>\n",
              "      <td>46.798013</td>\n",
              "      <td>52.611940</td>\n",
              "      <td>54.517768</td>\n",
              "    </tr>\n",
              "    <tr>\n",
              "      <th>std</th>\n",
              "      <td>8306.387503</td>\n",
              "      <td>11.238313</td>\n",
              "      <td>24.621353</td>\n",
              "      <td>23.234636</td>\n",
              "      <td>88.626467</td>\n",
              "      <td>92.499353</td>\n",
              "      <td>133.561273</td>\n",
              "    </tr>\n",
              "    <tr>\n",
              "      <th>min</th>\n",
              "      <td>21.000000</td>\n",
              "      <td>21.000000</td>\n",
              "      <td>2.320000</td>\n",
              "      <td>2.320000</td>\n",
              "      <td>0.500000</td>\n",
              "      <td>1.000000</td>\n",
              "      <td>1.000000</td>\n",
              "    </tr>\n",
              "    <tr>\n",
              "      <th>25%</th>\n",
              "      <td>63.000000</td>\n",
              "      <td>59.983562</td>\n",
              "      <td>66.000000</td>\n",
              "      <td>66.000000</td>\n",
              "      <td>10.000000</td>\n",
              "      <td>20.000000</td>\n",
              "      <td>20.000000</td>\n",
              "    </tr>\n",
              "    <tr>\n",
              "      <th>50%</th>\n",
              "      <td>71.000000</td>\n",
              "      <td>67.000000</td>\n",
              "      <td>80.000000</td>\n",
              "      <td>80.000000</td>\n",
              "      <td>20.000000</td>\n",
              "      <td>20.000000</td>\n",
              "      <td>20.000000</td>\n",
              "    </tr>\n",
              "    <tr>\n",
              "      <th>75%</th>\n",
              "      <td>84.000000</td>\n",
              "      <td>74.000000</td>\n",
              "      <td>96.200000</td>\n",
              "      <td>96.000000</td>\n",
              "      <td>40.000000</td>\n",
              "      <td>40.000000</td>\n",
              "      <td>40.000000</td>\n",
              "    </tr>\n",
              "    <tr>\n",
              "      <th>max</th>\n",
              "      <td>31846.000000</td>\n",
              "      <td>91.000000</td>\n",
              "      <td>182.200000</td>\n",
              "      <td>179.600000</td>\n",
              "      <td>600.000000</td>\n",
              "      <td>600.000000</td>\n",
              "      <td>1200.000000</td>\n",
              "    </tr>\n",
              "  </tbody>\n",
              "</table>"
            ],
            "text/plain": [
              "<IPython.core.display.HTML object>"
            ]
          },
          "metadata": {
            "tags": []
          }
        },
        {
          "output_type": "display_data",
          "data": {
            "text/html": [
              "<b>SUMMARY for SEVERITY == 0</b>"
            ],
            "text/plain": [
              "<IPython.core.display.HTML object>"
            ]
          },
          "metadata": {
            "tags": []
          }
        },
        {
          "output_type": "display_data",
          "data": {
            "text/html": [
              "<table border=\"1\" class=\"dataframe\">\n",
              "  <thead>\n",
              "    <tr style=\"text-align: right;\">\n",
              "      <th></th>\n",
              "      <th>age</th>\n",
              "      <th>age_in_yr</th>\n",
              "      <th>wt</th>\n",
              "      <th>wt_in_kg</th>\n",
              "      <th>dose_amt</th>\n",
              "      <th>dose_in_mg</th>\n",
              "      <th>dose_per_day</th>\n",
              "    </tr>\n",
              "  </thead>\n",
              "  <tbody>\n",
              "    <tr>\n",
              "      <th>count</th>\n",
              "      <td>4357.000000</td>\n",
              "      <td>4357.000000</td>\n",
              "      <td>2853.000000</td>\n",
              "      <td>2853.000000</td>\n",
              "      <td>2491.000000</td>\n",
              "      <td>2294.000000</td>\n",
              "      <td>2294.000000</td>\n",
              "    </tr>\n",
              "    <tr>\n",
              "      <th>mean</th>\n",
              "      <td>1103.422768</td>\n",
              "      <td>61.960402</td>\n",
              "      <td>82.639204</td>\n",
              "      <td>82.571215</td>\n",
              "      <td>46.527499</td>\n",
              "      <td>61.986138</td>\n",
              "      <td>63.303301</td>\n",
              "    </tr>\n",
              "    <tr>\n",
              "      <th>std</th>\n",
              "      <td>4693.869752</td>\n",
              "      <td>11.714361</td>\n",
              "      <td>20.960483</td>\n",
              "      <td>20.809290</td>\n",
              "      <td>134.814507</td>\n",
              "      <td>227.574185</td>\n",
              "      <td>286.656291</td>\n",
              "    </tr>\n",
              "    <tr>\n",
              "      <th>min</th>\n",
              "      <td>1.000000</td>\n",
              "      <td>0.002740</td>\n",
              "      <td>0.110000</td>\n",
              "      <td>0.110000</td>\n",
              "      <td>0.500000</td>\n",
              "      <td>0.200000</td>\n",
              "      <td>0.200000</td>\n",
              "    </tr>\n",
              "    <tr>\n",
              "      <th>25%</th>\n",
              "      <td>55.000000</td>\n",
              "      <td>54.000000</td>\n",
              "      <td>69.010000</td>\n",
              "      <td>69.010000</td>\n",
              "      <td>10.000000</td>\n",
              "      <td>10.000000</td>\n",
              "      <td>10.000000</td>\n",
              "    </tr>\n",
              "    <tr>\n",
              "      <th>50%</th>\n",
              "      <td>63.000000</td>\n",
              "      <td>62.000000</td>\n",
              "      <td>80.280000</td>\n",
              "      <td>80.270000</td>\n",
              "      <td>20.000000</td>\n",
              "      <td>20.000000</td>\n",
              "      <td>20.000000</td>\n",
              "    </tr>\n",
              "    <tr>\n",
              "      <th>75%</th>\n",
              "      <td>72.000000</td>\n",
              "      <td>70.000000</td>\n",
              "      <td>92.100000</td>\n",
              "      <td>92.000000</td>\n",
              "      <td>40.000000</td>\n",
              "      <td>40.000000</td>\n",
              "      <td>40.000000</td>\n",
              "    </tr>\n",
              "    <tr>\n",
              "      <th>max</th>\n",
              "      <td>32084.000000</td>\n",
              "      <td>93.000000</td>\n",
              "      <td>267.000000</td>\n",
              "      <td>267.000000</td>\n",
              "      <td>5000.000000</td>\n",
              "      <td>5000.000000</td>\n",
              "      <td>5000.000000</td>\n",
              "    </tr>\n",
              "  </tbody>\n",
              "</table>"
            ],
            "text/plain": [
              "<IPython.core.display.HTML object>"
            ]
          },
          "metadata": {
            "tags": []
          }
        }
      ]
    },
    {
      "cell_type": "code",
      "metadata": {
        "id": "WXq3m1I5kIfQ",
        "colab_type": "code",
        "colab": {
          "base_uri": "https://localhost:8080/",
          "height": 561
        },
        "outputId": "46a94043-d519-4cb1-9c3e-c22a742a40b9"
      },
      "source": [
        "def run_regression(summ_fr):\n",
        "    for f_icpt in [True, False]:\n",
        "        bdisplay(\"Doing intercept=%s\" % str(f_icpt))\n",
        "        logistic = LogisticRegression(\n",
        "            penalty='l1',\n",
        "            max_iter=1000, fit_intercept=True, solver='liblinear')\n",
        "\n",
        "        bdisplay(\"Regress by Age, dose, wt\")\n",
        "        Big = summ_fr[['age_in_yr', 'dose_per_day', 'wt_in_kg', 'severe']].loc[\n",
        "            ~pd.isnull(summ_fr.age_in_yr) & ~pd.isnull(summ_fr.dose_in_mg) &\n",
        "            ~pd.isnull(summ_fr.wt_in_kg) & ~pd.isnull(summ_fr.severe)]\n",
        "        logistic.fit(Big.iloc[:, :-1], Big.iloc[:, -1])\n",
        "        print('coeffs %s' % str(logistic.coef_))\n",
        "        print('Good sample size %d' % Big.describe().iloc[0, 0])\n",
        "\n",
        "        bdisplay(\"Regress Dose, wt\")\n",
        "        Big = summ_fr[['dose_per_day', 'wt_in_kg', 'severe']].loc[\n",
        "            ~pd.isnull(summ_fr.dose_in_mg) &\n",
        "            ~pd.isnull(summ_fr.wt_in_kg)]\n",
        "        logistic.fit(Big.iloc[:, :-1], Big.iloc[:, -1])\n",
        "        print('coeffs %s' % str(logistic.coef_))\n",
        "        print('Good sample size %d' % Big.describe().iloc[0, 0])\n",
        "\n",
        "        bdisplay(\"Regress Age\")\n",
        "        Big = summ_fr[['age_in_yr', 'severe']].loc[\n",
        "            ~pd.isnull(summ_fr.age_in_yr)]\n",
        "        logistic.fit(Big.iloc[:, :-1], Big.iloc[:, -1])\n",
        "        print('coeffs %s' % str(logistic.coef_))\n",
        "        print('Good sample size %d' % Big.describe().iloc[0, 0])\n",
        "\n",
        "        bdisplay(\"Regress Dose\")\n",
        "        Big = summ_fr[['dose_per_day', 'severe']].loc[\n",
        "            ~pd.isnull(summ_fr.dose_per_day)]\n",
        "        logistic.fit(Big.iloc[:, :-1], Big.iloc[:, -1])\n",
        "        print('coeffs %s' % str(logistic.coef_))\n",
        "        print('Good sample size %d' % Big.describe().iloc[0, 0])\n",
        "\n",
        "        bdisplay(\"Regress wt\")\n",
        "        Big = summ_fr[['wt_in_kg', 'severe']].loc[\n",
        "            ~pd.isnull(summ_fr.wt_in_kg)]\n",
        "        logistic.fit(Big.iloc[:, :-1], Big.iloc[:, -1])\n",
        "        print('coeffs %s' % str(logistic.coef_))\n",
        "        print('Good sample size %d' % Big.describe().iloc[0, 0])\n",
        "run_regression(summ_fr)        "
      ],
      "execution_count": 24,
      "outputs": [
        {
          "output_type": "display_data",
          "data": {
            "text/html": [
              "<b>Doing intercept=True</b>"
            ],
            "text/plain": [
              "<IPython.core.display.HTML object>"
            ]
          },
          "metadata": {
            "tags": []
          }
        },
        {
          "output_type": "display_data",
          "data": {
            "text/html": [
              "<b>Regress by Age, dose, wt</b>"
            ],
            "text/plain": [
              "<IPython.core.display.HTML object>"
            ]
          },
          "metadata": {
            "tags": []
          }
        },
        {
          "output_type": "stream",
          "text": [
            "coeffs [[ 0.03215818 -0.00048586 -0.00300391]]\n",
            "Good sample size 1433\n"
          ],
          "name": "stdout"
        },
        {
          "output_type": "display_data",
          "data": {
            "text/html": [
              "<b>Regress Dose, wt</b>"
            ],
            "text/plain": [
              "<IPython.core.display.HTML object>"
            ]
          },
          "metadata": {
            "tags": []
          }
        },
        {
          "output_type": "stream",
          "text": [
            "coeffs [[-0.00032517 -0.00799156]]\n",
            "Good sample size 1528\n"
          ],
          "name": "stdout"
        },
        {
          "output_type": "display_data",
          "data": {
            "text/html": [
              "<b>Regress Age</b>"
            ],
            "text/plain": [
              "<IPython.core.display.HTML object>"
            ]
          },
          "metadata": {
            "tags": []
          }
        },
        {
          "output_type": "stream",
          "text": [
            "coeffs [[0.03578468]]\n",
            "Good sample size 4662\n"
          ],
          "name": "stdout"
        },
        {
          "output_type": "display_data",
          "data": {
            "text/html": [
              "<b>Regress Dose</b>"
            ],
            "text/plain": [
              "<IPython.core.display.HTML object>"
            ]
          },
          "metadata": {
            "tags": []
          }
        },
        {
          "output_type": "stream",
          "text": [
            "coeffs [[-0.00014374]]\n",
            "Good sample size 2428\n"
          ],
          "name": "stdout"
        },
        {
          "output_type": "display_data",
          "data": {
            "text/html": [
              "<b>Regress wt</b>"
            ],
            "text/plain": [
              "<IPython.core.display.HTML object>"
            ]
          },
          "metadata": {
            "tags": []
          }
        },
        {
          "output_type": "stream",
          "text": [
            "coeffs [[-0.00439907]]\n",
            "Good sample size 3006\n"
          ],
          "name": "stdout"
        },
        {
          "output_type": "display_data",
          "data": {
            "text/html": [
              "<b>Doing intercept=False</b>"
            ],
            "text/plain": [
              "<IPython.core.display.HTML object>"
            ]
          },
          "metadata": {
            "tags": []
          }
        },
        {
          "output_type": "display_data",
          "data": {
            "text/html": [
              "<b>Regress by Age, dose, wt</b>"
            ],
            "text/plain": [
              "<IPython.core.display.HTML object>"
            ]
          },
          "metadata": {
            "tags": []
          }
        },
        {
          "output_type": "stream",
          "text": [
            "coeffs [[ 0.03119082 -0.00048868 -0.00346968]]\n",
            "Good sample size 1433\n"
          ],
          "name": "stdout"
        },
        {
          "output_type": "display_data",
          "data": {
            "text/html": [
              "<b>Regress Dose, wt</b>"
            ],
            "text/plain": [
              "<IPython.core.display.HTML object>"
            ]
          },
          "metadata": {
            "tags": []
          }
        },
        {
          "output_type": "stream",
          "text": [
            "coeffs [[-0.0003267  -0.00833802]]\n",
            "Good sample size 1528\n"
          ],
          "name": "stdout"
        },
        {
          "output_type": "display_data",
          "data": {
            "text/html": [
              "<b>Regress Age</b>"
            ],
            "text/plain": [
              "<IPython.core.display.HTML object>"
            ]
          },
          "metadata": {
            "tags": []
          }
        },
        {
          "output_type": "stream",
          "text": [
            "coeffs [[0.03643845]]\n",
            "Good sample size 4662\n"
          ],
          "name": "stdout"
        },
        {
          "output_type": "display_data",
          "data": {
            "text/html": [
              "<b>Regress Dose</b>"
            ],
            "text/plain": [
              "<IPython.core.display.HTML object>"
            ]
          },
          "metadata": {
            "tags": []
          }
        },
        {
          "output_type": "stream",
          "text": [
            "coeffs [[-0.00014375]]\n",
            "Good sample size 2428\n"
          ],
          "name": "stdout"
        },
        {
          "output_type": "display_data",
          "data": {
            "text/html": [
              "<b>Regress wt</b>"
            ],
            "text/plain": [
              "<IPython.core.display.HTML object>"
            ]
          },
          "metadata": {
            "tags": []
          }
        },
        {
          "output_type": "stream",
          "text": [
            "coeffs [[-0.00391889]]\n",
            "Good sample size 3006\n"
          ],
          "name": "stdout"
        }
      ]
    },
    {
      "cell_type": "markdown",
      "metadata": {
        "id": "IqWd3CSScOR-",
        "colab_type": "text"
      },
      "source": [
        "### Changing regression period\n",
        "We now change period to Q1 2017 and rerun the analysis:"
      ]
    },
    {
      "cell_type": "code",
      "metadata": {
        "id": "-oMoJ7r8kIfU",
        "colab_type": "code",
        "colab": {
          "base_uri": "https://localhost:8080/",
          "height": 629
        },
        "outputId": "7821b051-06f6-46c3-8db4-e8870257104f"
      },
      "source": [
        "\n",
        "download_one(2017, 1)\n",
        "extract_all_files()\n",
        "all_frames = load_one_quarter(2017, 1)\n",
        "\n",
        "out_dr_de_indi, dr_de_indi = get_chol_data_frame(all_frames)\n",
        "dr_de_indi = uniformizing_age_dose_weight(dr_de_indi, cvt_fr)\n",
        "# rs = outcome_demo_drug_indi\n",
        "tmp_fr = pd.crosstab(\n",
        "    index=[out_dr_de_indi.primaryid,\n",
        "           out_dr_de_indi.drug_seq],\n",
        "    columns=out_dr_de_indi.outc_cod)\n",
        "summ_fr = pd.merge(\n",
        "    dr_de_indi.reset_index(), tmp_fr,\n",
        "    how='inner', on=['primaryid', 'drug_seq'])\n",
        "\"\"\"\n",
        "summ_fr['severe'] = ((summ_fr.DE == 1) | (summ_fr.DS == 1) |\n",
        "                     (summ_fr.LT == 1)).astype(int)\n",
        "\"\"\"\n",
        "summ_fr['severe'] = ((summ_fr.DE == 1)).astype(int)\n",
        "\n",
        "summ_fr['dose_norm'] = summ_fr.dose_per_day / summ_fr.dose_per_day.std()\n",
        "summ_fr['wt_norm'] = summ_fr.wt_in_kg / summ_fr.wt_in_kg.std()\n",
        "run_regression(summ_fr)"
      ],
      "execution_count": 25,
      "outputs": [
        {
          "output_type": "stream",
          "text": [
            "Doing ./data/faers_ascii_2017Q1.zip\n",
            "Extracting ./data/faers_ascii_2017Q1.\n",
            "Already exists ./data/faers_ascii_2019Q4. Skip\n",
            "bad code dose_freq DRUG.DOSE_FREQ ['/hr' '/month' '/wk']\n"
          ],
          "name": "stdout"
        },
        {
          "output_type": "display_data",
          "data": {
            "text/html": [
              "<b>Doing intercept=True</b>"
            ],
            "text/plain": [
              "<IPython.core.display.HTML object>"
            ]
          },
          "metadata": {
            "tags": []
          }
        },
        {
          "output_type": "display_data",
          "data": {
            "text/html": [
              "<b>Regress by Age, dose, wt</b>"
            ],
            "text/plain": [
              "<IPython.core.display.HTML object>"
            ]
          },
          "metadata": {
            "tags": []
          }
        },
        {
          "output_type": "stream",
          "text": [
            "coeffs [[ 3.85385176e-02 -2.13798151e-05  3.54145721e-03]]\n",
            "Good sample size 880\n"
          ],
          "name": "stdout"
        },
        {
          "output_type": "display_data",
          "data": {
            "text/html": [
              "<b>Regress Dose, wt</b>"
            ],
            "text/plain": [
              "<IPython.core.display.HTML object>"
            ]
          },
          "metadata": {
            "tags": []
          }
        },
        {
          "output_type": "stream",
          "text": [
            "coeffs [[-1.75026327e-05 -1.49000868e-03]]\n",
            "Good sample size 941\n"
          ],
          "name": "stdout"
        },
        {
          "output_type": "display_data",
          "data": {
            "text/html": [
              "<b>Regress Age</b>"
            ],
            "text/plain": [
              "<IPython.core.display.HTML object>"
            ]
          },
          "metadata": {
            "tags": []
          }
        },
        {
          "output_type": "stream",
          "text": [
            "coeffs [[0.03386494]]\n",
            "Good sample size 2440\n"
          ],
          "name": "stdout"
        },
        {
          "output_type": "display_data",
          "data": {
            "text/html": [
              "<b>Regress Dose</b>"
            ],
            "text/plain": [
              "<IPython.core.display.HTML object>"
            ]
          },
          "metadata": {
            "tags": []
          }
        },
        {
          "output_type": "stream",
          "text": [
            "coeffs [[-2.65406644e-05]]\n",
            "Good sample size 1697\n"
          ],
          "name": "stdout"
        },
        {
          "output_type": "display_data",
          "data": {
            "text/html": [
              "<b>Regress wt</b>"
            ],
            "text/plain": [
              "<IPython.core.display.HTML object>"
            ]
          },
          "metadata": {
            "tags": []
          }
        },
        {
          "output_type": "stream",
          "text": [
            "coeffs [[0.00063876]]\n",
            "Good sample size 1670\n"
          ],
          "name": "stdout"
        },
        {
          "output_type": "display_data",
          "data": {
            "text/html": [
              "<b>Doing intercept=False</b>"
            ],
            "text/plain": [
              "<IPython.core.display.HTML object>"
            ]
          },
          "metadata": {
            "tags": []
          }
        },
        {
          "output_type": "display_data",
          "data": {
            "text/html": [
              "<b>Regress by Age, dose, wt</b>"
            ],
            "text/plain": [
              "<IPython.core.display.HTML object>"
            ]
          },
          "metadata": {
            "tags": []
          }
        },
        {
          "output_type": "stream",
          "text": [
            "coeffs [[ 3.42881501e-02 -2.12480736e-05  2.10253346e-03]]\n",
            "Good sample size 880\n"
          ],
          "name": "stdout"
        },
        {
          "output_type": "display_data",
          "data": {
            "text/html": [
              "<b>Regress Dose, wt</b>"
            ],
            "text/plain": [
              "<IPython.core.display.HTML object>"
            ]
          },
          "metadata": {
            "tags": []
          }
        },
        {
          "output_type": "stream",
          "text": [
            "coeffs [[-1.76943978e-05 -2.40836536e-03]]\n",
            "Good sample size 941\n"
          ],
          "name": "stdout"
        },
        {
          "output_type": "display_data",
          "data": {
            "text/html": [
              "<b>Regress Age</b>"
            ],
            "text/plain": [
              "<IPython.core.display.HTML object>"
            ]
          },
          "metadata": {
            "tags": []
          }
        },
        {
          "output_type": "stream",
          "text": [
            "coeffs [[0.03309928]]\n",
            "Good sample size 2440\n"
          ],
          "name": "stdout"
        },
        {
          "output_type": "display_data",
          "data": {
            "text/html": [
              "<b>Regress Dose</b>"
            ],
            "text/plain": [
              "<IPython.core.display.HTML object>"
            ]
          },
          "metadata": {
            "tags": []
          }
        },
        {
          "output_type": "stream",
          "text": [
            "coeffs [[-2.65409417e-05]]\n",
            "Good sample size 1697\n"
          ],
          "name": "stdout"
        },
        {
          "output_type": "display_data",
          "data": {
            "text/html": [
              "<b>Regress wt</b>"
            ],
            "text/plain": [
              "<IPython.core.display.HTML object>"
            ]
          },
          "metadata": {
            "tags": []
          }
        },
        {
          "output_type": "stream",
          "text": [
            "coeffs [[0.00042377]]\n",
            "Good sample size 1670\n"
          ],
          "name": "stdout"
        }
      ]
    },
    {
      "cell_type": "markdown",
      "metadata": {
        "id": "TopqFkdDkIfX",
        "colab_type": "text"
      },
      "source": [
        "### OBSERVATIONS\n",
        "The the positive coefficient to age seems persistent, even as we test for a few more period. Coefficients to weight and dose seems persistently small.\n",
        "### ISSUES WITH DATA\n",
        "* We observe start date is sometime higher than end date for therapy period.\n",
        "* We show the need to uniformize data to apply statistical methods.\n",
        "* We observe some data fields may contain unreadable characters.\n",
        "* GOOD TO HAVE: table to provide grouping of indications to major disease groups.\n",
        "* GOOD TO HAVE: popularity of drugs to put a background to the number of AEs.\n",
        "\n",
        "### FUTURE DIRECTION\n",
        "* Create database tables to put the flat files in - easier to join - and to work accross quarters\n",
        "* Better config files for main package.\n",
        "* Depending on actual usage, will add more functionality to the package."
      ]
    }
  ]
}