{
  "nbformat": 4,
  "nbformat_minor": 0,
  "metadata": {
    "kernelspec": {
      "display_name": "Python 3",
      "language": "python",
      "name": "python3"
    },
    "language_info": {
      "codemirror_mode": {
        "name": "ipython",
        "version": 3
      },
      "file_extension": ".py",
      "mimetype": "text/x-python",
      "name": "python",
      "nbconvert_exporter": "python",
      "pygments_lexer": "ipython3",
      "version": "3.7.3"
    },
    "colab": {
      "name": "DEMO.ipynb",
      "provenance": [],
      "toc_visible": true,
      "include_colab_link": true
    },
    "widgets": {
      "application/vnd.jupyter.widget-state+json": {
        "85d4d72185664c688bdf904059f0b3e9": {
          "model_module": "@jupyter-widgets/controls",
          "model_name": "VBoxModel",
          "state": {
            "_view_name": "VBoxView",
            "_dom_classes": [
              "widget-interact"
            ],
            "_model_name": "VBoxModel",
            "_view_module": "@jupyter-widgets/controls",
            "_model_module_version": "1.5.0",
            "_view_count": null,
            "_view_module_version": "1.5.0",
            "box_style": "",
            "layout": "IPY_MODEL_ed24f1a9ac434c3981f12b04f70529ba",
            "_model_module": "@jupyter-widgets/controls",
            "children": [
              "IPY_MODEL_0aae03178a3e45ada8391c4aee93ff74",
              "IPY_MODEL_657014b222c44ef08cd1be6fc9ff3604"
            ]
          }
        },
        "ed24f1a9ac434c3981f12b04f70529ba": {
          "model_module": "@jupyter-widgets/base",
          "model_name": "LayoutModel",
          "state": {
            "_view_name": "LayoutView",
            "grid_template_rows": null,
            "right": null,
            "justify_content": null,
            "_view_module": "@jupyter-widgets/base",
            "overflow": null,
            "_model_module_version": "1.2.0",
            "_view_count": null,
            "flex_flow": null,
            "width": null,
            "min_width": null,
            "border": null,
            "align_items": null,
            "bottom": null,
            "_model_module": "@jupyter-widgets/base",
            "top": null,
            "grid_column": null,
            "overflow_y": null,
            "overflow_x": null,
            "grid_auto_flow": null,
            "grid_area": null,
            "grid_template_columns": null,
            "flex": null,
            "_model_name": "LayoutModel",
            "justify_items": null,
            "grid_row": null,
            "max_height": null,
            "align_content": null,
            "visibility": null,
            "align_self": null,
            "height": null,
            "min_height": null,
            "padding": null,
            "grid_auto_rows": null,
            "grid_gap": null,
            "max_width": null,
            "order": null,
            "_view_module_version": "1.2.0",
            "grid_template_areas": null,
            "object_position": null,
            "object_fit": null,
            "grid_auto_columns": null,
            "margin": null,
            "display": null,
            "left": null
          }
        },
        "0aae03178a3e45ada8391c4aee93ff74": {
          "model_module": "@jupyter-widgets/controls",
          "model_name": "DropdownModel",
          "state": {
            "_options_labels": [
              "REVLIMID",
              "PREDNISONE.",
              "HUMIRA",
              "CIMZIA",
              "METHOTREXATE.",
              "LYRICA",
              "COSENTYX",
              "ENBREL",
              "OMEPRAZOLE.",
              "GABAPENTIN.",
              "METFORMIN",
              "DEXAMETHASONE.",
              "NEXIUM",
              "XOLAIR",
              "OTEZLA",
              "INFLECTRA",
              "AMLODIPINE",
              "FUROSEMIDE.",
              "AVONEX",
              "ELIQUIS",
              "LISINOPRIL.",
              "ASPIRIN.",
              "XARELTO",
              "NEULASTA",
              "DUPIXENT",
              "XELJANZ",
              "PRILOSEC",
              "ATORVASTATIN",
              "FOLIC ACID.",
              "PREDNISOLONE.",
              "GILENYA",
              "LIPITOR",
              "XYREM",
              "METOPROLOL.",
              "IBRANCE",
              "LEVOTHYROXINE.",
              "PREVACID",
              "PANTOPRAZOLE",
              "IBUPROFEN.",
              "ACETAMINOPHEN.",
              "CYCLOPHOSPHAMIDE.",
              "TECFIDERA",
              "VITAMIN D3",
              "ORENCIA",
              "TACROLIMUS.",
              "SIMVASTATIN.",
              "POMALYST",
              "ACTEMRA",
              "IMBRUVICA",
              "PARAGARD T 380A"
            ],
            "_view_name": "DropdownView",
            "style": "IPY_MODEL_bbae3f2136a74481b22386ac15d5a87d",
            "_dom_classes": [],
            "description": "drugname",
            "_model_name": "DropdownModel",
            "index": 0,
            "_view_module": "@jupyter-widgets/controls",
            "_model_module_version": "1.5.0",
            "_view_count": null,
            "disabled": false,
            "_view_module_version": "1.5.0",
            "description_tooltip": null,
            "_model_module": "@jupyter-widgets/controls",
            "layout": "IPY_MODEL_ae91edbee28f43a79865d878f5fdee92"
          }
        },
        "657014b222c44ef08cd1be6fc9ff3604": {
          "model_module": "@jupyter-widgets/output",
          "model_name": "OutputModel",
          "state": {
            "_view_name": "OutputView",
            "msg_id": "",
            "_dom_classes": [],
            "_model_name": "OutputModel",
            "outputs": [
              {
                "output_type": "display_data",
                "metadata": {
                  "tags": []
                },
                "text/html": "TOTAL REPORTS PER DRUG - DISTRIBUTION/TOP COUNTRIES",
                "text/plain": "<IPython.core.display.HTML object>"
              },
              {
                "output_type": "display_data",
                "metadata": {
                  "tags": []
                },
                "text/html": "<table border=\"1\" class=\"dataframe\">\n  <thead>\n    <tr style=\"text-align: right;\">\n      <th></th>\n      <th>count</th>\n      <th>mean</th>\n      <th>25%</th>\n      <th>50%</th>\n      <th>75%</th>\n      <th>max</th>\n    </tr>\n  </thead>\n  <tbody>\n    <tr>\n      <th>cnt</th>\n      <td>43.0</td>\n      <td>999.767442</td>\n      <td>4.0</td>\n      <td>14.0</td>\n      <td>87.0</td>\n      <td>36386.0</td>\n    </tr>\n  </tbody>\n</table>",
                "text/plain": "<IPython.core.display.HTML object>"
              },
              {
                "output_type": "display_data",
                "metadata": {
                  "tags": []
                },
                "text/html": "<table border=\"1\" class=\"dataframe\">\n  <thead>\n    <tr style=\"text-align: right;\">\n      <th></th>\n      <th>occr_country</th>\n      <th>cnt</th>\n    </tr>\n  </thead>\n  <tbody>\n    <tr>\n      <th>0</th>\n      <td>US</td>\n      <td>36386</td>\n    </tr>\n    <tr>\n      <th>1</th>\n      <td>JP</td>\n      <td>3338</td>\n    </tr>\n    <tr>\n      <th>2</th>\n      <td>FR</td>\n      <td>895</td>\n    </tr>\n    <tr>\n      <th>3</th>\n      <td>CA</td>\n      <td>755</td>\n    </tr>\n    <tr>\n      <th>4</th>\n      <td>DE</td>\n      <td>257</td>\n    </tr>\n  </tbody>\n</table>",
                "text/plain": "<IPython.core.display.HTML object>"
              },
              {
                "output_type": "display_data",
                "metadata": {
                  "tags": []
                },
                "text/html": "<b>Reporting on occr_country for REVLIMID by country and reaction</b>",
                "text/plain": "<IPython.core.display.HTML object>"
              },
              {
                "output_type": "display_data",
                "metadata": {
                  "tags": []
                },
                "text/html": "<table border=\"1\" class=\"dataframe\">\n  <thead>\n    <tr style=\"text-align: right;\">\n      <th></th>\n      <th>cnt</th>\n    </tr>\n    <tr>\n      <th>occr_country</th>\n      <th></th>\n    </tr>\n  </thead>\n  <tbody>\n    <tr>\n      <th>US</th>\n      <td>36386</td>\n    </tr>\n    <tr>\n      <th>JP</th>\n      <td>3338</td>\n    </tr>\n    <tr>\n      <th>FR</th>\n      <td>895</td>\n    </tr>\n    <tr>\n      <th>CA</th>\n      <td>755</td>\n    </tr>\n    <tr>\n      <th>DE</th>\n      <td>257</td>\n    </tr>\n    <tr>\n      <th>BR</th>\n      <td>241</td>\n    </tr>\n  </tbody>\n</table>",
                "text/plain": "<IPython.core.display.HTML object>"
              },
              {
                "output_type": "display_data",
                "metadata": {
                  "tags": []
                },
                "text/html": "TOP EVENTS BY COUNTRY:",
                "text/plain": "<IPython.core.display.HTML object>"
              },
              {
                "output_type": "display_data",
                "metadata": {
                  "tags": []
                },
                "text/html": "<table border=\"1\" class=\"dataframe\">\n  <thead>\n    <tr style=\"text-align: right;\">\n      <th></th>\n      <th></th>\n      <th>cnt</th>\n    </tr>\n    <tr>\n      <th>occr_country</th>\n      <th>pt</th>\n      <th></th>\n    </tr>\n  </thead>\n  <tbody>\n    <tr>\n      <th rowspan=\"6\" valign=\"top\">US</th>\n      <th>Diarrhoea</th>\n      <td>1317</td>\n    </tr>\n    <tr>\n      <th>Fatigue</th>\n      <td>996</td>\n    </tr>\n    <tr>\n      <th>Pneumonia</th>\n      <td>777</td>\n    </tr>\n    <tr>\n      <th>Death</th>\n      <td>707</td>\n    </tr>\n    <tr>\n      <th>Product dose omission</th>\n      <td>642</td>\n    </tr>\n    <tr>\n      <th>White blood cell count decreased</th>\n      <td>552</td>\n    </tr>\n  </tbody>\n</table>",
                "text/plain": "<IPython.core.display.HTML object>"
              },
              {
                "output_type": "display_data",
                "metadata": {
                  "tags": []
                },
                "text/html": "<table border=\"1\" class=\"dataframe\">\n  <thead>\n    <tr style=\"text-align: right;\">\n      <th></th>\n      <th></th>\n      <th>cnt</th>\n    </tr>\n    <tr>\n      <th>occr_country</th>\n      <th>pt</th>\n      <th></th>\n    </tr>\n  </thead>\n  <tbody>\n    <tr>\n      <th rowspan=\"6\" valign=\"top\">JP</th>\n      <th>Plasma cell myeloma</th>\n      <td>271</td>\n    </tr>\n    <tr>\n      <th>Pneumonia</th>\n      <td>119</td>\n    </tr>\n    <tr>\n      <th>Anaemia</th>\n      <td>102</td>\n    </tr>\n    <tr>\n      <th>Lymphocyte count decreased</th>\n      <td>94</td>\n    </tr>\n    <tr>\n      <th>Platelet count decreased</th>\n      <td>92</td>\n    </tr>\n    <tr>\n      <th>Rash</th>\n      <td>92</td>\n    </tr>\n  </tbody>\n</table>",
                "text/plain": "<IPython.core.display.HTML object>"
              },
              {
                "output_type": "display_data",
                "metadata": {
                  "tags": []
                },
                "text/html": "<table border=\"1\" class=\"dataframe\">\n  <thead>\n    <tr style=\"text-align: right;\">\n      <th></th>\n      <th></th>\n      <th>cnt</th>\n    </tr>\n    <tr>\n      <th>occr_country</th>\n      <th>pt</th>\n      <th></th>\n    </tr>\n  </thead>\n  <tbody>\n    <tr>\n      <th rowspan=\"6\" valign=\"top\">FR</th>\n      <th>Thrombocytopenia</th>\n      <td>37</td>\n    </tr>\n    <tr>\n      <th>Anaemia</th>\n      <td>28</td>\n    </tr>\n    <tr>\n      <th>Acute kidney injury</th>\n      <td>24</td>\n    </tr>\n    <tr>\n      <th>Diarrhoea</th>\n      <td>24</td>\n    </tr>\n    <tr>\n      <th>Weight decreased</th>\n      <td>20</td>\n    </tr>\n    <tr>\n      <th>Pancytopenia</th>\n      <td>18</td>\n    </tr>\n  </tbody>\n</table>",
                "text/plain": "<IPython.core.display.HTML object>"
              },
              {
                "output_type": "display_data",
                "metadata": {
                  "tags": []
                },
                "text/html": "<table border=\"1\" class=\"dataframe\">\n  <thead>\n    <tr style=\"text-align: right;\">\n      <th></th>\n      <th></th>\n      <th>cnt</th>\n    </tr>\n    <tr>\n      <th>occr_country</th>\n      <th>pt</th>\n      <th></th>\n    </tr>\n  </thead>\n  <tbody>\n    <tr>\n      <th rowspan=\"6\" valign=\"top\">CA</th>\n      <th>Death</th>\n      <td>52</td>\n    </tr>\n    <tr>\n      <th>Plasma cell myeloma</th>\n      <td>36</td>\n    </tr>\n    <tr>\n      <th>Pneumonia</th>\n      <td>22</td>\n    </tr>\n    <tr>\n      <th>Off label use</th>\n      <td>14</td>\n    </tr>\n    <tr>\n      <th>Cerebrovascular accident</th>\n      <td>12</td>\n    </tr>\n    <tr>\n      <th>Confusional state</th>\n      <td>12</td>\n    </tr>\n  </tbody>\n</table>",
                "text/plain": "<IPython.core.display.HTML object>"
              },
              {
                "output_type": "display_data",
                "metadata": {
                  "tags": []
                },
                "text/html": "<table border=\"1\" class=\"dataframe\">\n  <thead>\n    <tr style=\"text-align: right;\">\n      <th></th>\n      <th></th>\n      <th>cnt</th>\n    </tr>\n    <tr>\n      <th>occr_country</th>\n      <th>pt</th>\n      <th></th>\n    </tr>\n  </thead>\n  <tbody>\n    <tr>\n      <th rowspan=\"6\" valign=\"top\">DE</th>\n      <th>Death</th>\n      <td>24</td>\n    </tr>\n    <tr>\n      <th>Sepsis</th>\n      <td>11</td>\n    </tr>\n    <tr>\n      <th>Hypertensive crisis</th>\n      <td>7</td>\n    </tr>\n    <tr>\n      <th>Pneumonia</th>\n      <td>7</td>\n    </tr>\n    <tr>\n      <th>Vomiting</th>\n      <td>6</td>\n    </tr>\n    <tr>\n      <th>Pancytopenia</th>\n      <td>6</td>\n    </tr>\n  </tbody>\n</table>",
                "text/plain": "<IPython.core.display.HTML object>"
              },
              {
                "output_type": "display_data",
                "metadata": {
                  "tags": []
                },
                "image/png": "iVBORw0KGgoAAAANSUhEUgAAAPYAAADnCAYAAAAtmKv2AAAABHNCSVQICAgIfAhkiAAAAAlwSFlz\nAAALEgAACxIB0t1+/AAAADh0RVh0U29mdHdhcmUAbWF0cGxvdGxpYiB2ZXJzaW9uMy4yLjEsIGh0\ndHA6Ly9tYXRwbG90bGliLm9yZy+j8jraAAAgAElEQVR4nO2deXxU9bn/P88smUwgCVtCQiYQNg1L\nwLWKOBVx44foS20RtSq10F6uay0uU2yrxWKnVapoqdTLte7X7Sr2Ii5oAAdEEBQI+xYgkxACCdmT\nOTPnPL8/zgkOIcvMZGbOLN/363VekpmzfBLnM9/1eR5iZggEgsTCoLcAgUAQfoSxBYIERBhbIEhA\nhLEFggREGFsgSECEsQWCBEQYWyBIQISxBYIERBhbIEhAhLEFggTEFK0Hbd68OdtkMi0FMBbiC6UN\nBcB2n883+/zzz6/SW4wgcYiasU0m09KcnJxRWVlZJw0Gg9igDkBRFDp+/PjoysrKpQCu11uPIHGI\nZss5Nisrq16Y+gcMBgNnZWXVQe3FCARhI5rGNghTn4n2NxFDE0FYER8ogSABidoYuz0Fjo/PD+f9\nDjmv3dzdOUaj8fyRI0e2MDOMRiMvWrToyFVXXdW0Z8+elPHjx48tKCho9Xq9NG7cuKa33377sMVi\nET0MQVySVC22xWJRdu/evXPPnj07n3zyyfJ58+bZ2t7Lz8/3aO/tOHr0aMrLL7/cV0+tAkFPSCpj\n+1NXV2fMzMz0tX/dZDLhvPPOayovLzfroUsgCAe6dcX1wOPxGAoLC0d7PB46ceKEecWKFXvbn9Pc\n3EybN2/u9fzzz5fpoVEgCAdJ1WK3dcVLS0t3fPjhh/vuuuuuoYqiAADKysoshYWFowcOHDg+Ozvb\ne9FFF7XoLFcgCJmkMrY/V155ZdPJkydNR48eNQE/jLH37t27vaSkpNebb76ZqbdGgSBUktbY33//\nfaqiKBg4cOBp4+zc3Fzf/Pnz3U8//XSuXtoEgp6i2xg7kOWpcNM2xgYAZsaLL754yGQ6809w++23\n1y5YsGDQp59+2nvKlCmN0dYpEPSUpJo8k2W5wy+Ts88+W9q3b9+Otp8NBgP27NmzM3rKBILwkrRd\ncYEgkRHGFggSEGFsgSABSaoxdjLhdrhyAYzUjsEA+mtHXwCZAHoB6A0gFYAPgKQdHr9/twI4BqAc\ngLvdfyttTrscvd9IEAzC2HGO2+HKAzARwDn4wcjDoZo2kvjcDtceAN9rx3cAttic9toIP1cQAMLY\ncYTb4TICGAfVyBMBXAK1NdYDE4Ax2nF724tuh6sUqsnXAvjC5rRv10decqOfsZ/IDGvYJp6oC2hd\n/MiRI6a777578NatW9MyMjLkAQMGeF944YWycePGeebPn5+9YMECW0VFxdb+/fvHRDfT7XD1g5o2\n6UYAkxH5lrinDNWOnwCA2+GqBLASwMcAPhMtenRIqhZbURRcf/31I2677bbq5cuXHwSA9evXWysq\nKszjxo3zvP/++/3Gjh3b9MYbb/R54IEHqvXS6Xa4BkE18o0ALkN8/3/KAXCHdvjcDtc6AG8DeFuY\nPHLE8wcmaJYvX55uMpn4kUceOd722oQJE1oAYMeOHZbm5mbjokWLDj/11FO50Ta22+HKgNqlvQPA\nRQAoms+PEiaoX1SXAXjO7XB9BOBVqC15TPSQEoWkWu7atm2bdfz48c0dvffaa6/1vfHGG2umTJnS\nWFpamlpWVhaVLz3F40szeHgAgKMAFgO4GIlp6vZYANwMtYvudjtcz7gdrjE6a0oYksrYXfHBBx/0\nv/POO2uMRiOmTp168vXXX49YBhVmJrlR6uc91lToO94yCj7uBSAtUs+LA3IAzAWw3e1wfep2uC7T\nW1C8k1Rd8aKiopZly5adYdiNGzdaDx8+bJkyZcpZAOD1eslms0nz5s07fuZdQoeZSWnwZsmNUg4U\nFhlaOuYaANe4Ha71AP4C4N82p13knguSpGqxr7vuugZJkuiZZ54Z0Pbahg0brPfdd1/+3LlzK8rL\ny0vKy8tLqqqqth07dsy8d+/elHA8l5khN0gDvJVNY+V6T74wdUBMALAMait+p9vhikgjREQ2IvqI\niPYR0QEiWkRE1xDRFu1oJKI92r9fI6JJRLS83T1eIaKfav9e7Xf+FiJ6X3v9CSIq117bSUS3RuL3\nOaWJOTpfhlu3bj00fvz4E1F5WBccOnTIfPfdd+eXlJSkWSwWttlsnjVr1mR+9913O84999zWtvNm\nz55tGzhwoG/BggWVoT6LmaE0efvLDVIuZLZ0dt6eI/vR998iOrQbdgN40Oa0fxquGxIRAdgA4EVm\n/hcRGQG8BKCGmR/WzlkN4CFm3qT9PEn7eZrffV4BsJyZ329/vt85TwBoZOZniGgkgM0A+jOzN1y/\njz9J1RUHgIKCAu+KFSsOdnfe0qVL3T15jtLszZTrJBvLSmpP7iM4RSGAT9wO1woAv7E57XvCcM/J\nAFqZ+V8AwMwyET0IoJSIHmfmDidaewoz7yOiZqjbeyNSsy2puuLRgH2K2XuiZZivpnWEMHVEmAqg\nxO1wPet2uPr08F5joLacp2DmegBHAIzo4jq7X1d7C86su/am3/tPt7+YiM4DsI+ZI1aIURg7TDAz\n5Hopy3useQy3+kRO8shiBvBrAPvcDtdsHZ7vYuZz2g4A/273/s/83n/Y7/UHiWgH1O7/gkgKFMYO\nA4pHtvqqmgvles9gMBv11pNEDADwX26H6zO3w2Xr9uwz2QngtK3NRJQBdf/9/jDoa8+zzDwG6nbb\n/yaiiPXohLF7ADPDV+vJ9R1vHsVepZfeepKYqwFsXznn6ZuDvO5LAGlEdCcAaJNnCwG8EqnxNQAw\n878BbAIwM1LPEMYOEfYpZt/xlrOURmkQkmOnWEwjya1HSk5+9dbCGdPeXThjWkBDIVaXhG4EMJ2I\n9gHYCzUGfV4P5fiPsb/o5Jz5AH5DRBHxYNItd4UDpcWX4TvZOhQKh2VVQSx39QxmbvykfGl1g7dm\niPZSGYCfzX1nuUtPXXqi23JX0atFYQ3bLJlZEnC1TZ/PR0ajkW+55ZbqP/zhD8eMRiOWL1+efuut\ntw7Py8uT2s53Op1lN9xwQ0Pbz8wMuc6TpzR6c8KpXdAzdtV9832Dt8bu91I+gOKFM6bNnfvO8uf1\n0qUnSbWO3VbiBwDKy8tN06dPH1ZfX2989tlnKwDgggsuaFy1alWHkybsU0y+6tbh7JVjPR46qWj2\n1X9bcvIrewdvmQAsWjhj2nkA5sx9Z3lrB+ckLEk7xs7Ly/MtXbr00L/+9a/stvpdnaFIcqr3ePMo\nYerYgpmrV1a8VtDNaTMBrFo4Y9rAKEiKGZLW2AAwevRoSZZllJeXmwBg06ZNvQsLC0e3HTt27LAo\nLb503/GWQsgcln3jgvCxufrzfa1yU1YAp14MYMPCGdOKIq0pVkhqY7fnggsuaNy9e/fOtqNwyMhe\nvuqWkWJtOvaolarWHmjYcnEQlwwBsG7hjGlJERKa1MbeuXNnitFoRF5enq/9e3K9J1uu9QyFWMqK\nORSW3cUVb44L4dJ0AJ8snDFtarg1xRpJa+yKigrTL3/5yyF33XVXlcFw+p/BV+vJleulfJ2kCbqA\nmXld1bITXpYyQryFFcCy52bOvy6cumIN3WbFA1meCjdt1TbblrtmzJhR/fjjjx9re3/Tpk29x4wa\nM85kMJoB4Lf3P4ybrr0h2jIFXXCs9fBXFc37e9SdNphHfG22XvrB4jnFt92zZPJ74dIWS4gNKn7I\n9VKWXO+Jep5usUElMGTFu/+Dw4vyFcidxrZ3h8FUsDol/aZJ2o8+ALfcs2Ty/4ZFYAyRtF3x9sgN\nUn89TC0IDGaWVlW+LffE1GTKW+NnakDtsb69eE7xTT0WGGMIYwOQG7395DpPgd46BJ1zqHHH19We\nirNDvZ6MOa6U3jf/uIO32sx9dejqYo+kN7bS7M2Ua1sL9NYh6BxJbi359sSKjnaXBQQZB6xNSb/1\nUi0VUkeYAbyzeE5xV8kV4oqkNrYiyam+k55hEEtaMQszN35x9PUMRmh7CcjQ9+uU9NsndGHqNvoA\n+GjxnOKE2F2YtMZmWTH6qltHgDlp/wbxgBbgMaT7M8+EDBkbUjJm/ojIEOiXwmgAry+eUxz3X/RJ\n+aFmZviqW4dBVkKeiBFEni4CPLqHen+bknHXuUSGYJd0bwDwh5Ce2fZoNWVxARG1+KUbXhKp2OuO\n0G0de1fhqLCGbY7avSvgsE2TwWg2ktH03tK3cNh9BD+ddSsK8oeg1dOKqVdMwV9+H9F0VIIACDDA\no2Mo7TtL5i+KiIyh7u9/fPGc4q33LJm8LMTr2zjAzOcQkQlAMdQvjQ96eM+ASKoW22KxKDs2bav8\n7vNvTN9+tg4F+WoPb+KPJuDbz9Zh4ydrseLLT/H1t9/orFQQRIDH6VDqVkvmrEIiU0/yiRGA1xbP\nKR7dg3ucgpl9AL5G15lPw0pSGRsA5DpPp+M1q9WK8aOLUFFZEU1JgnaEEOChQinbLZmzhhGZw1EH\nLR3qZFqPM84SURqAKwCU9FhVgCSNsZkZHo/HcOHVEw0XXjMR02ffdsY5J2tPYv+hg7j0ook6KBQA\nPQnwMO+yZMzOJ7Kkh1HOCABv9WAybbiWd3wdgI+Z+ZPwSeuapMmgItdLudZUK779bN0Z763buB4X\nXH0J9pcewH2z7kZOdlLF5McMfgEeQaYSNu2zZM7OIUNqZgRkTQHwS6ilf4LlgJZ3POokRYuteGSr\n0iDldvb+xB9NwKbPv8b3X27AK++8hq07tkVTnkBDC/AI0gjGg5bMWX3IYI1kkYanF88pDiVvuW4k\nvLGZmeSTrQHFVQ8dXICH7n4Qz/zj2SgoE/gjK979rsr3gxxXGw5bMn+RRoZewU+yBUcGgCWBnKjN\ngHsiK6d7dOuKB7I8FQ7kWs8g9inWQM//1e2z8Nw/X8ChssOnZs0FkSW0AA+DOyXjLjMZ0qOVMfba\nxXOKb79nyeQ3ujlvDNQu+CEAYyMvq2MSOmxT8chW3/HmsCxZRJJkD9ssbdi+euOJjycFfgUdTcmY\n6TUY+0U7Gu8EgLPuWTL5ZIeqiOYAuB/Ar5n586gqa0dCd8XlOhGGGesEH+BBVSkZd7TqYGpArRX2\nZGdvMvMSZh6tt6mBBDa23OTty5JIFxzLhBDgUZ2Sflu9wThgaESFdc2cxXOKdZnpDoaENDYrTHK9\nJ65mMZORIAM8alPSbzlhMA3UO7TSCODvOmvoloQ0ttIgDRR5wGObZl/9xiACPOpTek+vMJgGhZxo\nIcxMXDyn+MwdTjFEwhmbZcUoi9paMY0W4BFod7rJ3PvGQwZzfqxNgv4ulsM7E87Ycr2UKxL8xzZB\nBHi0mHtdv9doHhpKDvFIMwrA9XqL6Azd1rEXzykOa9jmPUsmb2aZjUqzr8sPTL+zc/HdF99g/OUX\n4qzhIyF5JVx60US8sOBvaJ9fXBB+aqWqdQcatgSyGd9j7jV1hzFlxAURFxU6jwL4SG8RHZFQn2S5\nUcoKNCPKsCFD8e1n67D58/XYvXc3/v3Z8kjLS3q0AI9A6md5TWlXbTWmFMayqQFgwuI5xR0lSNSd\nhDE2M5PS5A06esNkMuHiCy7C/kMHIyFLoBFEBQ/ZZL18k8lS9KOoCOs5j+otoCMSxthKo7c/FA56\naNHc0oxVa1djbGGszc0kFgEGeCgmq/0bU+q5E6IiKjxMXTynOOaqeCZM2KYS5Ez4wcOluPCaiSAi\nXHf1VEy5PKHSSscUAQZ4sDH14nWm1AtDTjOsI48AuENvEf4kjLE5yMSEbWNsQWQJNMDDaDnfZbZe\nEpPj1QC4ZfGc4t/ds2TyYb2FtJEwXXFBbBJIBQ+jZfwac9pl8WpqQG0g5+otwh/dWux7lkwOS9gm\n+xSzt7IpoHVOn88HS4rYkBYtAgnwMKSMXm1Ou2JSlCRFkl8snlP823uWTG7SWwiQAC220uTtF+i5\nO/fuwrAhQ1GQPwTff7khkrKSnkACPAzmEatTek2ZFEVZkaQXYmjDSvwbu8XXP5DzXnr9v3HHvb/A\nEw//PtKSBOg+wMNgKlid0vv6SVGUFA1u1VtAG3GdaCFeEil0R6IlWmj21W/8v7IXO12HJlPeGkv6\njB4Vr49RJAA5nSViiCZx3WIrzd6AWmtB9OguwIOMAzsrZ5sIpAD4STAXEJGslQFqOwqIaBIR1Wk/\n7yaiZ4IVErfGZmYoLb6Ax9eC6NBVgIdazva2iQFUvow/WDmeUVf61djtLwWblL6Fmc/xOw5pr7u0\n1MXnAphGREHdN27XsVmS06CwWW8dgh/oKsDDr5xt3DYmZ8ByRZ/aA/sGl33Rp3/NziIC/xjAhF2F\nox4ctXtXbVgewdyiFR3IC+a6uDW20ip3t+dYEEW6CvAIoZxtzEKK70jf2r0HBx9ZmdW3du9oAga1\nO8UMYCqAtwK8pVUzLgCUMvONpz2PqC+AkQC+CkanbsZeOGNaWMM271v4PwGd5z5ajgcem4td+3ZD\nURRMvXIKplx+NR778+MAgAOHDmJQTi6sqVYUjRqDmTPuwLP/fB7LXnnv1D1mPzgHU6+cgpuuvQFX\nTZ+Ko1WVsKaqGY6HFwzD2/98HU/+7Sm8/NarGNB/ACSvhHn3P4IZN0wP568cM3RZwYN6bQqxnG3M\nYFC8B/pV7ygbUvZFbmZ96dkAukukGIyxWzqpFmInoq1QTf0cM1cGITl+W+xQYGbM+OXP8Ks7ZuN/\nX34bsizj7kfvR/Ha1ae2l141fSqcv/sTzh9/HgBgzXpXt/d99fmlp873577Z9+A3c+7HvtL9mDD1\nMtx07Q0wmxNv9KAFeJw5y03W7yyZs8b2oJytbhhkz56sE9uODj6yMj+9qXw4gOFBXH5FGCS4mHka\nEQ0F8A0RvcvMW7q9SiOpjL1q3RqkWlIxc8btAACj0YinH/8zzr6kCH+YOw9p1nAUaTyTkUNHIM1q\nxcm6WmQPiHTRiujSaYAHpW61ZM7uaTnbqGL0tezIPv79icFHvijo1XLsbACh5ljL2VU4asyo3bt2\n9FQTM5cSkRNqeGjA6+RJZeyde3fh3KLTez0Z6RnIz8vHgUMHUTSq48IN6zaux4XX/DAnVFZehqlX\nTjn188z7Z5/qil9hvxzO3/3ptOu/L9mCEQXDE87UnQZ4hLecbeRgVky+5pKBx76tHez+cqS1tWZM\nGO8+CUCPja2xBMBDRFTgN2veJUll7FCZ+KMJZ4yx/emsK/7C0sV47b03sO/gfnzw8jsR1xlttACP\nSae/GpFytuGD2Wf2NpTkVm5oyHevKrRIdeMj9KQfA1jcvRzuTUQy1NrZZgA+AK9B255KRJOgpl8q\nBbBMWyl8iJm/6Oq+SWXsUSML8eHHp6eoqm+oR1l5GYYXDAv789rG2P/3+QrMefhe7Fq7FampcdMz\n7ZKOAzxM+yyZswZGqJxt6DBLFqlua+7Rda228jVjUrxN50bhqcHElZ+aQCOibKgTbxkAHtfedzHz\ntGAenjhrigEw+dJJaG5pwRvvqxOWsizj0Scfwx3Tfxax8TUAXHf1VJw37ly8/n6gE6WxTccBHm3l\nbNNiY9MQc0tqy4lvhh/4cJ197cMtE9c/duGwQyvsKd6maOnL3VU4qtPSzZ3BzFUAfgXg3p5s5NGt\nxZ77zvKQwjblOs9AuSHYwugqRIR3l76J+x/7DZ5a9FcoioIpk6/Gk48+3v3FXeA/xu7frz8+/Z9/\nn3HOY79+FHfeNwuzbvt53GdD3VW3/vsGb41fixS1crZdw9yQ1nKsxFa+hnKPfjPOqEhBluUNO+cB\n+DjYi5j5IBEZAWRrL9n91roB4CfMfKCre8RdEIjvRMtQpTWxtpLGUxDImQEe5E7J+AUZjJlB7YwK\nG8x1vZoqSvLdq1IGVn07zqj4dBvrMNDckoLSiv6o2ZlPvHUYffjWEzue6+46Impk5t7tXquFOis/\nCuqYOqiueNyNsYOpdS0IL2cGeNDRlIyZisGYGd3Kl6ycSG8o2zXY/aU16/j34w2sXBrV5wOQCZV1\nveA+mEON24eQpaSActxZGMJE/jPrlQC6NXZ7iGgYABlAFVRjB01cGZuZwbKSGLNPcYgW4KF1b0+V\ns41O5UtWKjPrDu4ZXPZl5oDqkiICRyXpIQM+yYTSY31QtcdGvpKhlLEznwbX96IcAN0l0Ax6+YyI\nsqAub/2dmTnUYXZ8GdurpIKReJFBcUCtp2rtgYYtbS1jWznbiFa+JEV296ndd2Bw2cr+/U7uHkPd\nG6lHMFDbYMWhI1lUv2MIGUoKKOtgLob6jDQS6tbOAG7CrRbmsgGyUnOWJDXgiUwDnqhTurmqbb+4\nFeq4WgbQn4guhDpDbieicgC5ALYDmM/M73d1w7gyNnxK3G1NTAQUlt3FR99syytXm5J+y3GDaWBh\nJJ5Fiq+0X82uw0PKVg7sU3dgFICwl0NmgGUDjpzIwNH9g8izrYCsO4eQraoPDQLQfe1rZp8ZcPeT\n5eNDvL7m0R6Jijye9NGSlJ3nkwfR6V8CeQDKur4dG7UZ8K8BPMvMSwCAiMYDyGDmTCLaAOAggJe7\nMzUQZ8ZmWYRpRpt2AR715t7Tyw2mQeHcoQWDLO0bUF1SPvjIyryMxrKRAMLWvW8/obVtKPXdl0cF\nLRYaAqDz2tzMihGo6KMoVfleX2OhJKHI47GO8UjZQ7y+PBNQAPXojuHoxtgalwPwtplalcBbAYCI\nhgPoDeBuAI8B+Fd3N4svYyui5nW08QvwaDL3vvGQ0ZwflsqXRl/rrqwTW48NPrJySO/mo4F3dbtA\nJlTW9kJZaQ41dTGhdRoG5qp0Rakc5JPrzpYkpcgjWcZ4pAEjvJLNwrCh5z2G/ADPGwugsyXgWwC8\nDcAF4GwiGsjMx7q6mW7GdjtcYQ3bzL63+x7UobLDuPHnN5+WofTJvz2FXmm9MfFHF2Pu44/CI0nw\nSB5Mv+4m/P4388IpMe7wC/BoK2cb+o4tZjb5WrZnV22uGez+Ynhay4lRCHHGlwGvZMKhY31RtSev\n+wktYq5NYy7P9flqR0pe71iPZBnr8fQ5S/LaejNn44f14kjQPl47FG4FcCMzK0T0vwCmA/h7VxfE\nVYsdSWY9OAdvvfgqxo0ugizL2Htgn96SdMUvwAMhl7Nlls3exm05xzY25LuLz0r11AZd4yrgCS3m\nJqui7MmW5Zphklca65GMRR6pT6EkDeqrKP0A9Alaf3gIdMJvB4Cftn+RiIqg/p4rtRnyFKj7xoWx\nA+F49QnkZKv/D4xGI0adFZG5obhBC/CYaEq76ntjSmHglS+ZvSlS/dbcyvUt+e7Vo1K8DQG18gFN\naDF7UhjubFneMtTjbR4tScZxHim90CPl5sjyQIQeZhlJAt2NVwzgKSL6FTO/BABENA7AIgBPMPOf\n204kolIiGsLMnZYUEsbWuH/23SiadD5+fPGluHrSlbjjp7clTMBGsGgBHpdo5Wy7r3zJ3GrxnNyW\nV7FWyqv4qsjsa+myde9oQmuvjYa2ptAQMNtMgLuvOuO875o6aX+RR+o12iMNzPf5BhnUyahgkh7o\nzYBATtLWrC8AcBYRvQBAAfAdgEsA/ImIWgDsgdpitwC4DcCfO7tfQMYmogeYeVF3r8U6nS32ExEe\n+7UDt9xwM774qhjvLHsP7370Pla+tyLKCvVHC/BIN1ov/daUem7nmTGZm6wtx7flVXzFg45+Pc4k\nezps1Tuc0BrA+QaifhmKItnUGeean9ZJrWM80oChXq/NrM5Wdz5jHV8Ek5uvhZn7AgARXQNgnup3\nKgBwgJnP0faQrwRwpKsbBdpiz4TaJfDn5x28FtP079sPtXWnJ4+sqT2Jgnz1MzS8YBiGFwzDrNt+\njrxzhqH6ZDX6902u1OW76r75rtl4Fpk7KmfLXJ/WXFmS715tyjm2YZxR8Z5qzc+Y0Cqg9L35yPBZ\nuWWQT/acJUl0rkei2z2Sb8QRr2RlzoW64SLR6RXidRkAzig8wMwyEW1EN1lLuzQ2Ed0KtckfSkT+\nIUvpAGqC16ovvXv1Rk52DlatW4PLJ16GmpM1+Hz1F7j3F/+JFV9+iv83+RoQEfaVHoDRYECfDL3m\nW/Sh2Ve/cWdzE8xpl/1gauaa3o3uHfnu4tSBVZvHG1ieqE1o7TmSTXX781h220DHcxVjPvt4rMdj\nmuCRsn4uSXkZxzm24rI1mOEF0KKAPAoMHgUGjw8GyQeTT4JJkmCSPZzia4VZaYFFaWELN8PCTUhF\nE6dSE1Kpia2GRlgNjUg1NbHV2IRUcxOnmpuQmtIMS0oLWyzNsFg8SDHvDVxa2w60VKhfepPbn0BE\nqQAuAvBAVzfqrsX+GsBRqOOEhX6vNwDYFrjeM7E57UGHbUruhh4vkb383D/xwO/m4pH56lLW7x50\nYHjBMDz+1/l4+I+/RZo1DSajCa88vxRGY9xnyw0YZq5eU7Or3px22ZVgpSqj/tDu/LIve/Wp3dan\nvpdiqs1SqsvOlj8/mSebUzN9vcZ6pIzLJWnMdFlRx5Bdrqp29VwwgFYGWhmGVhkkyTBKPvXwSjD5\nPGz2eWCWW5FyymhNSEWzZrRGpBpUo6UamthqakSqqQlWUxOrJmtGakozWyytSEltgcWqwGCGmq0k\nGtQFca5/woUJAF4jorZ8XcM10w8F8DEzd+m/Lo2tzbodBtD9BEqECVd46aizCvH5u2eGyL7xj1fC\ncv94ZWeDe20KMtKG1Lz0UR/vZlNLjmzwFMpyqsGLkT5fXxnG3l4YfZJi9nlqrD4PMhrcsOzayxal\nGRZuPtWaWalRbdGMjUg1Nvq1Zs1QWzStNUttRUqqB2YLQFao+6QTkZBaB2ZeT0QD8MOsetsYewCA\ndUR0PTOfGfivEejk2U0A/gJ1IZ+0g5k5mkn7RfBH5ODR6Tb76AyAs/2W+VrU/1S3O9kA1YVWAD0I\njFcANGtHwsJASBVBiKgQ6pdCNYBT6X2Y+QQROQD8FkDPjA3grwCuY+ZdoYgMCyKqK5IQEfUDxLdn\nBKgP4lz/qiAEYKY2Wdb+vGUAniAiOzN3mPg+UGMfC4OpFUVRyGAwhNqnjk6qlygTrQw2At2QAz2R\nmTvstmsph8f6/cwAusyuGoeQ7NEAAAjuSURBVKixNxHRO1C/KTx+D/ggwOsBYPvx48dHZ2Vl1YVi\nbjIQQzV3wjQqzIyTzXUw1nYXriuIY3x6PDRQY2dAHQtd7fcaAwjY2D6fb3ZlZeXSysrKsQgxO6qh\nWVHAoU1GxCrGWgW9NyT0MDPZOWMtOhoEamwDgAeYuRY4VQFwYdeXnM75559fBS0Jeqi4Ha6dCDEi\nSCDQieN6PDTQlnNcm6kBgJlPQi3IHW10+fYTCHpAlR4PDdTYBq2VBgBoM6h6BJAIYwviDV1a7EDN\nuRDAeiJqK2A1HcCCyEjqEmFsQbwRu8Zm5teIaBN+2Lt6EzPvjJysTmm/V0IgiHV06YoH3J3WjKyH\nmf0p1fn5AkGwxPTkWazQZb0igSAG0eUzK4wtEESOFqi5wKNOPBo74C16AoHO7LY57bpsK4wrY9uc\ndgmi1RbEDzv0enBcGVtDtz+WQBAkwthBsF1vAQJBgAhjB8F6vQUIBAEijB0EX0PNviEQxDInoOO+\ni7gzts1prwNQorcOgaAb1ticdt2yaMSdsTU6TAcjEMQQxXo+XBhbIIgMq/R8uDC2QBB+Km1Ou36J\nPxGnxrY57UcB7Ndbh0DQCav1FhCXxtboNKeyQKAzunbDgfg29vt6CxAIOoABfKK3iHg29jcAyvUW\nIRC0Y6PNaS/TW0TcGltbIwwmr7lAEA3e6/6UyBO3xtYQ3XFBLMGIkc9kvBt7LYBKvUUIBBprbU77\nYb1FAHFubC2IPSa+IQUCAK/rLaCNuDa2xj/1FiAQQK1pFxPjayABjG1z2rcDWKO3DkHS8z82pz2k\nWtiRIO6NrfF3vQUIkp5n9RbgT6IYexkAt94iBEnLKpvTvk1vEf4khLFtTrsPYqwt0I+Yaq2BBDG2\nxksAJL1FCJKOfQCW6y2iPQljbJvTXoUYWm4QJA2L9MyU0hkJY2yNBQC8eosQJA0nALyit4iOSChj\n25z2UsToH1qQkPzJ5rQ36S2iI3Q3NhEVENH2dq89QUQPEdHFRLSBiLYQ0S4ieiKAW/4J6mYBgSCS\nHATwot4iOkN3Y3fDqwB+xcznABgL4N3uLrA57UcALI60MEHS85hWciomiXVjZwM4CgDMLGs1ugNh\nAYC6iKkSJDubALyjt4iuiHVjPwtgDxF9SET/QUSpgVxkc9prADwVWWmCJObhWJwJ9ycWjN3ZH4iZ\neT6ACwB8DuA2AJ8Gcd9nIQoLCMLPCpvTvlpvEd0RC8auBtC33Wv9oC4lgJkPMPOLAK4AMJ6I+gdy\nU5vT7gXwK4hyQILw0QTgXr1FBILuxmbmRgBHiWgyABBRPwBTAKwlomuJiLRTR0Iteh9wBI3Naf8G\nwD/CLFmQvMzTllRjHt2NrXEngN8T0RaopVH+yMwHANwBdYy9Bequsp8xsxzkvedBBIgIes5aAC/o\nLSJQiDmm5wDCgtvhug4iD7kgdFoAnGNz2vfqLSRQYqXFjig2p/3/EMAauEDQCY/Hk6mBJDG2xn8A\nOKS3CEHcsRHA3/QWESxJY2wtbc3NEKGdgsCpBXCrzWkPdl5Hd5LG2ABgc9q/BfCQ3joEccNdNqf9\noN4iQiGpjA0ANqf9BcRQNklBzLLQ5rQv01tEqCSdsTVmQ818IRB0xJcAHtVbRE9IiuWujnA7XOOg\nrk2m661FEFMcAnCBzWmv1ltIT0jWFhtaVsmfQGRcEfxAA4Ab4t3UQBIbGwBsTvtKAHeh80AUQfLQ\nCuB6m9O+VW8h4SCpjQ0ANqf9TQCP6K1DoCsygFviIWorUJLe2ABgc9qfQRxuQhCEBQYwy+a0f6S3\nkHAijP0DDwF4S28RgqjzG5vT/qreIsKNMLaGlhFjJoC39dYiiBpP2pz25/QWEQmEsf3QSgX9DGoS\nRUFiM8/mtP9BbxGRImnXsbvC7XAR1Eyn/6m3FkHYkQH8h81p/2+9hUQSYewucDtcfwSQsN/qSUgr\n1KCOuN0qGijC2N3gdrjuBbAIYtgS79RBXaf+Sm8h0UAYOwDcDtcUqDPm7ZMuCuKDCgDX2pz2LXoL\niRaiFQoAm9P+KdQ0yCKdcfyxGsB5yWRqQBg7YLS43AmI8QoQglMwACeAK21O+zG9xUQb0RUPAbfD\n9RDUD41Rby2CDqkFcKeW6y4pEcYOEbfDdTnUkr2DdZYiOJ0tAH4Sr5lPwoXoioeIzWlfBbUC6Et6\naxEAUCu+LAQwIdlNDYgWOyy4Ha6rASwFkK+3liRlD9T8ZOv1FhIriBY7DNic9s+htt5L9daSZHgB\n/BlqMn9haj9Eix1m3A7XVVArfY7RW0uCsw7q1tAdeguJRUSLHWa0rCzjoRYoqNRZTiJyAGpJZbsw\ndeeIFjuCuB2u3lCzs8wFkKaznHjnGID5AP5LK5Es6AJh7CjgdrgGAXgSary3WPsOjnoATwN41ua0\nN+ktJl4Qxo4ibodrGNRMLXcBSNVZTqxTA3Up8ZlEyBoabYSxdcDtcGUDuA/qODxLZzmxxnaodajf\nsDntzXqLiVeEsXXE7XClArgVqsnP1VmOnigAlgN43ua0f6m3mERAGDtGcDtcY6CmZboVQIG+aqLG\nbqh1y18Vu8XCizB2jKGlZboE6pLOzQAG6Kso7OyFauZ3bU67CIONEMLYMYzb4TIBuBzAldpxDuJv\n74ECNTDjEwDvJUqljVhHGDuOcDtc/fCD0a8AMFJfRR2iANgGdWfYKgCrbE57jb6Skg9h7DjG7XDl\nABgHoMjvGI3oLaXVAtilHbsBbAXwjc1pr4/S8wWdIIydYLgdLiOAEVANbgOQpx05UMfrAwD0A5AC\ntVvfUdfeC6Da7zjh9+8jUE28y+a0iy2zMYowtqBtwq7N5GRz2iWdJQl6iDC2QJCAxNsMq0AgCABh\nbIEgARHGFggSEGFsgSABEcYWCBIQYWyBIAERxhYIEhBhbIEgARHGFggSEGFsgSABEcYWCBIQYWyB\nIAERxhYIEhBhbIEgARHGFggSEGFsgSABEcYWCBIQYWyBIAERxhYIEhBhbIEgARHGFggSEGFsgSAB\nEcYWCBIQYWyBIAERxhYIEhBhbIEgARHGFggSkP8PQKwKFah6yk8AAAAASUVORK5CYII=\n",
                "text/plain": "<Figure size 432x288 with 1 Axes>"
              }
            ],
            "_view_module": "@jupyter-widgets/output",
            "_model_module_version": "1.0.0",
            "_view_count": null,
            "_view_module_version": "1.0.0",
            "layout": "IPY_MODEL_f394ab88f7234c309713109deabc0fcf",
            "_model_module": "@jupyter-widgets/output"
          }
        },
        "bbae3f2136a74481b22386ac15d5a87d": {
          "model_module": "@jupyter-widgets/controls",
          "model_name": "DescriptionStyleModel",
          "state": {
            "_view_name": "StyleView",
            "_model_name": "DescriptionStyleModel",
            "description_width": "",
            "_view_module": "@jupyter-widgets/base",
            "_model_module_version": "1.5.0",
            "_view_count": null,
            "_view_module_version": "1.2.0",
            "_model_module": "@jupyter-widgets/controls"
          }
        },
        "ae91edbee28f43a79865d878f5fdee92": {
          "model_module": "@jupyter-widgets/base",
          "model_name": "LayoutModel",
          "state": {
            "_view_name": "LayoutView",
            "grid_template_rows": null,
            "right": null,
            "justify_content": null,
            "_view_module": "@jupyter-widgets/base",
            "overflow": null,
            "_model_module_version": "1.2.0",
            "_view_count": null,
            "flex_flow": null,
            "width": null,
            "min_width": null,
            "border": null,
            "align_items": null,
            "bottom": null,
            "_model_module": "@jupyter-widgets/base",
            "top": null,
            "grid_column": null,
            "overflow_y": null,
            "overflow_x": null,
            "grid_auto_flow": null,
            "grid_area": null,
            "grid_template_columns": null,
            "flex": null,
            "_model_name": "LayoutModel",
            "justify_items": null,
            "grid_row": null,
            "max_height": null,
            "align_content": null,
            "visibility": null,
            "align_self": null,
            "height": null,
            "min_height": null,
            "padding": null,
            "grid_auto_rows": null,
            "grid_gap": null,
            "max_width": null,
            "order": null,
            "_view_module_version": "1.2.0",
            "grid_template_areas": null,
            "object_position": null,
            "object_fit": null,
            "grid_auto_columns": null,
            "margin": null,
            "display": null,
            "left": null
          }
        },
        "08ae59c8614c41eabd188a22ee51b56f": {
          "model_module": "@jupyter-widgets/controls",
          "model_name": "VBoxModel",
          "state": {
            "_view_name": "VBoxView",
            "_dom_classes": [
              "widget-interact"
            ],
            "_model_name": "VBoxModel",
            "_view_module": "@jupyter-widgets/controls",
            "_model_module_version": "1.5.0",
            "_view_count": null,
            "_view_module_version": "1.5.0",
            "box_style": "",
            "layout": "IPY_MODEL_7d869daed82141a597a2a8ad8e8d20d4",
            "_model_module": "@jupyter-widgets/controls",
            "children": [
              "IPY_MODEL_521bb350a1674543ab0440cda7b4250c",
              "IPY_MODEL_fd90fbff23fa449c90f669207cd0e16c"
            ]
          }
        },
        "7d869daed82141a597a2a8ad8e8d20d4": {
          "model_module": "@jupyter-widgets/base",
          "model_name": "LayoutModel",
          "state": {
            "_view_name": "LayoutView",
            "grid_template_rows": null,
            "right": null,
            "justify_content": null,
            "_view_module": "@jupyter-widgets/base",
            "overflow": null,
            "_model_module_version": "1.2.0",
            "_view_count": null,
            "flex_flow": null,
            "width": null,
            "min_width": null,
            "border": null,
            "align_items": null,
            "bottom": null,
            "_model_module": "@jupyter-widgets/base",
            "top": null,
            "grid_column": null,
            "overflow_y": null,
            "overflow_x": null,
            "grid_auto_flow": null,
            "grid_area": null,
            "grid_template_columns": null,
            "flex": null,
            "_model_name": "LayoutModel",
            "justify_items": null,
            "grid_row": null,
            "max_height": null,
            "align_content": null,
            "visibility": null,
            "align_self": null,
            "height": null,
            "min_height": null,
            "padding": null,
            "grid_auto_rows": null,
            "grid_gap": null,
            "max_width": null,
            "order": null,
            "_view_module_version": "1.2.0",
            "grid_template_areas": null,
            "object_position": null,
            "object_fit": null,
            "grid_auto_columns": null,
            "margin": null,
            "display": null,
            "left": null
          }
        },
        "521bb350a1674543ab0440cda7b4250c": {
          "model_module": "@jupyter-widgets/controls",
          "model_name": "DropdownModel",
          "state": {
            "_options_labels": [
              "PREDNISONE.",
              "LYRICA",
              "PREDNISOLONE.",
              "DEXAMETHASONE.",
              "METHYLPREDNISOLONE.",
              "METHOTREXATE.",
              "CYCLOPHOSPHAMIDE.",
              "CARBOPLATIN.",
              "RITUXIMAB.",
              "GABAPENTIN."
            ],
            "_view_name": "DropdownView",
            "style": "IPY_MODEL_a8bef23e9c054e7c992d57cbac722c2b",
            "_dom_classes": [],
            "description": "drugname",
            "_model_name": "DropdownModel",
            "index": 0,
            "_view_module": "@jupyter-widgets/controls",
            "_model_module_version": "1.5.0",
            "_view_count": null,
            "disabled": false,
            "_view_module_version": "1.5.0",
            "description_tooltip": null,
            "_model_module": "@jupyter-widgets/controls",
            "layout": "IPY_MODEL_a3eab579f7604d39835c2b4029916ca4"
          }
        },
        "fd90fbff23fa449c90f669207cd0e16c": {
          "model_module": "@jupyter-widgets/output",
          "model_name": "OutputModel",
          "state": {
            "_view_name": "OutputView",
            "msg_id": "",
            "_dom_classes": [],
            "_model_name": "OutputModel",
            "outputs": [
              {
                "output_type": "display_data",
                "metadata": {
                  "tags": []
                },
                "text/html": "<table border=\"1\" class=\"dataframe\">\n  <thead>\n    <tr style=\"text-align: right;\">\n      <th></th>\n      <th>primaryid</th>\n    </tr>\n    <tr>\n      <th>indi_pt</th>\n      <th></th>\n    </tr>\n  </thead>\n  <tbody>\n    <tr>\n      <th>Product used for unknown indication</th>\n      <td>36543</td>\n    </tr>\n    <tr>\n      <th>Rheumatoid arthritis</th>\n      <td>8396</td>\n    </tr>\n    <tr>\n      <th>Immunosuppressant drug therapy</th>\n      <td>2893</td>\n    </tr>\n    <tr>\n      <th>Asthma</th>\n      <td>2803</td>\n    </tr>\n    <tr>\n      <th>Diffuse large B-cell lymphoma</th>\n      <td>1906</td>\n    </tr>\n  </tbody>\n</table>",
                "text/plain": "<IPython.core.display.HTML object>"
              },
              {
                "output_type": "display_data",
                "metadata": {
                  "tags": []
                },
                "text/html": "<b>TOP EVENTS BY INDICATION:</b>",
                "text/plain": "<IPython.core.display.HTML object>"
              },
              {
                "output_type": "display_data",
                "metadata": {
                  "tags": []
                },
                "application/vnd.jupyter.widget-view+json": {
                  "model_id": "4889425fd62748679724d3a6ae8233eb",
                  "version_minor": 0,
                  "version_major": 2
                },
                "text/plain": "interactive(children=(Dropdown(description='ipt', options=('Product used for unknown indication', 'Rheumatoid …"
              }
            ],
            "_view_module": "@jupyter-widgets/output",
            "_model_module_version": "1.0.0",
            "_view_count": null,
            "_view_module_version": "1.0.0",
            "layout": "IPY_MODEL_f86d553fadda470c9565fbab0a07ac89",
            "_model_module": "@jupyter-widgets/output"
          }
        },
        "a8bef23e9c054e7c992d57cbac722c2b": {
          "model_module": "@jupyter-widgets/controls",
          "model_name": "DescriptionStyleModel",
          "state": {
            "_view_name": "StyleView",
            "_model_name": "DescriptionStyleModel",
            "description_width": "",
            "_view_module": "@jupyter-widgets/base",
            "_model_module_version": "1.5.0",
            "_view_count": null,
            "_view_module_version": "1.2.0",
            "_model_module": "@jupyter-widgets/controls"
          }
        },
        "a3eab579f7604d39835c2b4029916ca4": {
          "model_module": "@jupyter-widgets/base",
          "model_name": "LayoutModel",
          "state": {
            "_view_name": "LayoutView",
            "grid_template_rows": null,
            "right": null,
            "justify_content": null,
            "_view_module": "@jupyter-widgets/base",
            "overflow": null,
            "_model_module_version": "1.2.0",
            "_view_count": null,
            "flex_flow": null,
            "width": null,
            "min_width": null,
            "border": null,
            "align_items": null,
            "bottom": null,
            "_model_module": "@jupyter-widgets/base",
            "top": null,
            "grid_column": null,
            "overflow_y": null,
            "overflow_x": null,
            "grid_auto_flow": null,
            "grid_area": null,
            "grid_template_columns": null,
            "flex": null,
            "_model_name": "LayoutModel",
            "justify_items": null,
            "grid_row": null,
            "max_height": null,
            "align_content": null,
            "visibility": null,
            "align_self": null,
            "height": null,
            "min_height": null,
            "padding": null,
            "grid_auto_rows": null,
            "grid_gap": null,
            "max_width": null,
            "order": null,
            "_view_module_version": "1.2.0",
            "grid_template_areas": null,
            "object_position": null,
            "object_fit": null,
            "grid_auto_columns": null,
            "margin": null,
            "display": null,
            "left": null
          }
        },
        "4889425fd62748679724d3a6ae8233eb": {
          "model_module": "@jupyter-widgets/controls",
          "model_name": "VBoxModel",
          "state": {
            "_view_name": "VBoxView",
            "_dom_classes": [
              "widget-interact"
            ],
            "_model_name": "VBoxModel",
            "_view_module": "@jupyter-widgets/controls",
            "_model_module_version": "1.5.0",
            "_view_count": null,
            "_view_module_version": "1.5.0",
            "box_style": "",
            "layout": "IPY_MODEL_7ea9648ec7c64b308e3efc73043ca195",
            "_model_module": "@jupyter-widgets/controls",
            "children": [
              "IPY_MODEL_e1635c84c5fb49db8882624ddf1eb649",
              "IPY_MODEL_cdbf4fc384aa44e1b9090c09d00920de"
            ]
          }
        },
        "7ea9648ec7c64b308e3efc73043ca195": {
          "model_module": "@jupyter-widgets/base",
          "model_name": "LayoutModel",
          "state": {
            "_view_name": "LayoutView",
            "grid_template_rows": null,
            "right": null,
            "justify_content": null,
            "_view_module": "@jupyter-widgets/base",
            "overflow": null,
            "_model_module_version": "1.2.0",
            "_view_count": null,
            "flex_flow": null,
            "width": null,
            "min_width": null,
            "border": null,
            "align_items": null,
            "bottom": null,
            "_model_module": "@jupyter-widgets/base",
            "top": null,
            "grid_column": null,
            "overflow_y": null,
            "overflow_x": null,
            "grid_auto_flow": null,
            "grid_area": null,
            "grid_template_columns": null,
            "flex": null,
            "_model_name": "LayoutModel",
            "justify_items": null,
            "grid_row": null,
            "max_height": null,
            "align_content": null,
            "visibility": null,
            "align_self": null,
            "height": null,
            "min_height": null,
            "padding": null,
            "grid_auto_rows": null,
            "grid_gap": null,
            "max_width": null,
            "order": null,
            "_view_module_version": "1.2.0",
            "grid_template_areas": null,
            "object_position": null,
            "object_fit": null,
            "grid_auto_columns": null,
            "margin": null,
            "display": null,
            "left": null
          }
        },
        "e1635c84c5fb49db8882624ddf1eb649": {
          "model_module": "@jupyter-widgets/controls",
          "model_name": "DropdownModel",
          "state": {
            "_options_labels": [
              "Product used for unknown indication",
              "Rheumatoid arthritis",
              "Immunosuppressant drug therapy",
              "Asthma",
              "Diffuse large B-cell lymphoma",
              "Juvenile idiopathic arthritis",
              "Renal transplant",
              "Colitis ulcerative",
              "Immunosuppression",
              "Dyspnoea"
            ],
            "_view_name": "DropdownView",
            "style": "IPY_MODEL_f7162d5c59e04bffa808e9d0852bb78b",
            "_dom_classes": [],
            "description": "ipt",
            "_model_name": "DropdownModel",
            "index": 1,
            "_view_module": "@jupyter-widgets/controls",
            "_model_module_version": "1.5.0",
            "_view_count": null,
            "disabled": false,
            "_view_module_version": "1.5.0",
            "description_tooltip": null,
            "_model_module": "@jupyter-widgets/controls",
            "layout": "IPY_MODEL_da3b4341d761449ab837d1e5f8bf2bef"
          }
        },
        "cdbf4fc384aa44e1b9090c09d00920de": {
          "model_module": "@jupyter-widgets/output",
          "model_name": "OutputModel",
          "state": {
            "_view_name": "OutputView",
            "msg_id": "",
            "_dom_classes": [],
            "_model_name": "OutputModel",
            "outputs": [
              {
                "output_type": "display_data",
                "metadata": {
                  "tags": []
                },
                "text/html": "<table border=\"1\" class=\"dataframe\">\n  <thead>\n    <tr style=\"text-align: right;\">\n      <th></th>\n      <th></th>\n      <th></th>\n      <th>cnt</th>\n    </tr>\n    <tr>\n      <th>indi_pt</th>\n      <th>drugname</th>\n      <th>pt</th>\n      <th></th>\n    </tr>\n  </thead>\n  <tbody>\n    <tr>\n      <th rowspan=\"10\" valign=\"top\">Rheumatoid arthritis</th>\n      <th rowspan=\"10\" valign=\"top\">PREDNISONE.</th>\n      <th>Drug ineffective</th>\n      <td>399</td>\n    </tr>\n    <tr>\n      <th>Rheumatoid arthritis</th>\n      <td>260</td>\n    </tr>\n    <tr>\n      <th>Pain</th>\n      <td>223</td>\n    </tr>\n    <tr>\n      <th>Fatigue</th>\n      <td>166</td>\n    </tr>\n    <tr>\n      <th>Arthralgia</th>\n      <td>153</td>\n    </tr>\n    <tr>\n      <th>Contraindicated product administered</th>\n      <td>137</td>\n    </tr>\n    <tr>\n      <th>Joint swelling</th>\n      <td>123</td>\n    </tr>\n    <tr>\n      <th>Rash</th>\n      <td>122</td>\n    </tr>\n    <tr>\n      <th>Off label use</th>\n      <td>116</td>\n    </tr>\n    <tr>\n      <th>Drug intolerance</th>\n      <td>113</td>\n    </tr>\n  </tbody>\n</table>",
                "text/plain": "<IPython.core.display.HTML object>"
              },
              {
                "output_type": "display_data",
                "metadata": {
                  "tags": []
                },
                "text/html": "<table border=\"1\" class=\"dataframe\">\n  <thead>\n    <tr style=\"text-align: right;\">\n      <th></th>\n      <th>count</th>\n      <th>mean</th>\n      <th>std</th>\n      <th>min</th>\n      <th>25%</th>\n      <th>50%</th>\n      <th>75%</th>\n      <th>max</th>\n    </tr>\n  </thead>\n  <tbody>\n    <tr>\n      <th>cnt</th>\n      <td>981.0</td>\n      <td>8.558614</td>\n      <td>23.846616</td>\n      <td>1.0</td>\n      <td>1.0</td>\n      <td>2.0</td>\n      <td>6.0</td>\n      <td>399.0</td>\n    </tr>\n  </tbody>\n</table>",
                "text/plain": "<IPython.core.display.HTML object>"
              },
              {
                "output_type": "display_data",
                "metadata": {
                  "tags": []
                },
                "image/png": "iVBORw0KGgoAAAANSUhEUgAAAZQAAAEGCAYAAABCa2PoAAAABHNCSVQICAgIfAhkiAAAAAlwSFlz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\nYWQEUyiGYRhGRvj/HZbWjK9fNFMAAAAASUVORK5CYII=\n",
                "text/plain": "<Figure size 432x288 with 1 Axes>"
              },
              {
                "output_type": "display_data",
                "metadata": {
                  "tags": []
                },
                "image/png": "iVBORw0KGgoAAAANSUhEUgAAAaMAAAFRCAYAAADZz8LmAAAABHNCSVQICAgIfAhkiAAAAAlwSFlz\nAAALEgAACxIB0t1+/AAAADh0RVh0U29mdHdhcmUAbWF0cGxvdGxpYiB2ZXJzaW9uMy4yLjEsIGh0\ndHA6Ly9tYXRwbG90bGliLm9yZy+j8jraAAAgAElEQVR4nOydd3hUVfrHv++9d/pMJpWEkIQQ0kih\ni2IBrLiKqCgWULYq4rq46lp+q2vb5u7qFlyxrrqg2HAtiy6uuwoW1kIR0gsQEtJ7ps/ce8/vjzsT\nJsnMpAIG7ud5eEjunHvOuTOT+973nPd9v8QYg4qKioqKyvGEO94TUFFRUVFRUY2RioqKispxRzVG\nKioqKirHHdUYqaioqKgcd1RjpKKioqJy3FGNkYqKiorKcUc1RioqKioqxx3VGKmoqKioHHdUY6Si\noqKictxRjZGKioqKynFHNUYqKioqKscdYaQn7tq1a4IgCM8BKIBq1FRUjjUygGJRFH80Z86cluM9\nGRWV0TJiYyQIwnNJSUnTEhISOjmOU6utqqgcQ2RZptbW1rympqbnACw93vNRURkto/FoChISEnpU\nQ6SicuzhOI4lJCR0Q1mZUFEZ94zGGHGqIVJROX74//7UJXKVE4Jx/0XeuHFjNBHN2bNnjz5wbMuW\nLZazzz47c7Bz161bF7dq1aq0sZjHwoULM9va2viRnHv77bcn33///YmDtTMajbMAoKamRnPhhRdm\njGSs0fD888/HZGRk5J966qnZQz2noqJC+9RTT8UezXmpqKiMf0a8Z9Sf9HvemzNWfQFAzSMX7xpK\nu1dffTV29uzZ9g0bNsTOmjWrYSznMBy2b99efazGSk9P923duvXAsRovwAsvvBD/5JNPHlq8eLF9\nKO19Ph+qqqp0r732WuxNN93UcbTnp6KiMn4Z155Rd3c39/XXX5tfeOGFmrfeeqvP07fNZuMXLVqU\nmZ6eXrBixYo0SZIAAH/5y1/i0tPTCwoLC6ft2LHDHGhfUVGhPe2007Kzs7Pz5s+fn11VVaUFgCuu\nuCJ95cqVaTNmzMhNSUkp3LJli2X58uXpGRkZ+VdccUV64PxJkyYVNjY2ChUVFdqMjIz8a665ZnJm\nZmb+GWeckWW32wkAHnvssfiCgoJpOTk5eYsXL55qs9kivv/l5eXamTNn5mZnZ+etXbs2OXiuWVlZ\n+QCwc+dOfWFh4bTc3Ny87OzsvKKiIh0A/PWvf43Lzs7Oy8nJybvsssumjPYaf/azn03ctWuXefXq\n1emrV69OcTqddOWVV6ZnZ2fnTZs2Le+f//ynBVC8zXPOOSfztNNOyz799NNz7r333kk7d+405+bm\n5j300EMTRvhRq6ionOCMa2O0adOm6EWLFnVPnz7dExMTI3766afGwGtFRUWm9evX11ZXVxfX1NTo\nNmzYEHPo0CHNI488krxjx47yr7/+uryystIQaL9mzZq0lStXtldWVpZeffXV7WvWrEkNvNbd3S3s\n2bOn/JFHHqm75pprMu+8887mqqqqkvLycsOOHTsM/edVW1urX7t2bUt1dXWJ1WqVNmzYEAMAK1eu\n7CwuLi6rqKgozcnJca1bty4+0vXdfPPNaT/60Y9aKysrSydOnOgL1ebxxx9PuPnmm5vLy8tL9+3b\nVzZlyhTvzp079Y8++ujE7du3V1ZUVJQ+/fTTtaO9xkcffbSxoKDAuWHDhgNPP/304d/97ncTiAiV\nlZWlmzZtOnDjjTemO51OAoCSkhLjO++8s//rr7+u+PWvf10/d+5ce3l5eekDDzyghiCrqKiEZFwb\no9dffz322muv7QSAK664omPjxo293lFhYaEjLy/PKwgCrrrqqo5PP/3U/Mknn5hOO+00W3JysqjX\n69myZct6l4727NljuvHGGzsAYM2aNR27du3q9ZouvvjiLo7jMHv2bGdcXJxv3rx5Lp7nkZ2d7dq/\nf7+u/7wmTZrkOf30010AMGvWLGdNTY0OAHbt2mWYM2dOTnZ2dt6bb74ZV1JSou9/bjC7d+8233DD\nDR0AsHr16vZQbebPn+947LHHJt57771JVVVVWrPZzD744IOoSy65pHPixIkiACQmJkpjfY07duww\nX3/99e3+a3QnJyd7i4qK9ABw1lln9QTGVFFRURkKY7ZndKxpbm7mv/jiC0tFRYXhlltugSRJRERM\nluXDAEBEfdr3/3046PV6BgA8z0Or1fZGEHIcB1EUB3Qc3IbneeZyuTgAuPHGG6ds3ry5ev78+a51\n69bFbd++3TLY2INFLN50000dZ511luOtt96yLlmyJOvxxx8/NJxrCzDca4yE0WiURzIHFRWVk5dx\n6xlt3Lgx5vLLL+9oaGgoqq+vL2pqatqXkpLi/eCDD8yAskxXXl6ulSQJmzdvjj3rrLNsCxYscHz5\n5ZeWpqYm3uPx0FtvvRUT6G/WrFmO5557LgYAnn766di5c+cOaZN+ODidTi4tLc3n8Xjo1VdfHTTC\nbPbs2fZnn302FgCeffbZuFBtSktLtdOmTfPcd999LYsXL+765ptvDIsXL+755z//GdPU1MQDiuEG\nxvYazzjjDPtLL70UCwD79u3TNTY2aqdPn+7u385qtUp2u31EUYYqKionD+PWGL3xxhuxy5Yt6ww+\ndumll3YGbpAFBQWOm266KW3q1KkFaWlpnuuvv75r8uTJvrvvvrvhtNNOmzZ37tzc7Ozs3pvnU089\nVbtx48b47OzsvFdeeSVu/fr1dWM953vuuadh3rx50+bOnZublZU14Mbdn/Xr19c+88wzE7Kzs/Pq\n6+s1odq89NJLsdnZ2fm5ubl5ZWVlhtWrV7fPnTvXfccddzSeddZZuTk5OXk333xz6lhf41133dUi\nyzJlZ2fnXX311VOffvrpGoPBMMCL8y/3sZycHDWAQUVFJSzE2MjyVvfu3VszY8aMtjGej4rKsNm5\nc+ec+Pj45vT09MMAUF9fnyjLMp+amnrcQv2PFXv37o2fMWNG+vGeh4rKaBm3npGKSgAiYt3d3TE+\nn2/c7oGqqJzsqH+8KuMeImJxcXGtjY2NiWlpafXBr7W3t1ubmpomMsY4nufFqVOnHtBqtWJdXV0y\nx3HSpEmTmgGgqKgoPysrq0qj0YjV1dUZPp9PyxijpKSkhoSEhE6bzWasq6tLlWWZEwRBnDJlSo1O\np/M1NTXFt7e3JzDGSKvVeqZOnXqQ53k1gENFZZionpHKCUFSUlJLZ2dnrCiKfYIlDh06lJGXl1de\nUFBQGhMT09HQ0JAUeE2SJL6ysrJPWaXOzs4oQRB8BQUFpYWFhSUxMTE9dXV1E+vq6tIyMzP3FxQU\nlMXFxbUdPnx4EgDExcV15ufnlxUUFJTq9XpXS0tLxNyxSDQ3N8cdPHgwDQDq6uqS6+vrEwGgtrY2\nubOzc9DISxWV8YzqGZ3MyDJB9gmQRR6ydOR/JnEABoZzE8ngBAnEi+AECZwgghckcMJxzykSBEGO\niYlpb2xsnMBxXK9nwhhDRUVFls/n0zDGOK1W6wm8xvO8lJ2d3aesktFodNXX16ceOnRoUnR0dLfV\narW3tLQk+RN8swN9ajQaHwA4HA5DQ0PDJEmSeFmWeYvF0j3W15aWlnbC732pqKjG6ERHlgk+hwE+\nlwGiRw/Jq1P++bRg0th8/sTJ4DQe8FoPBK3/f70HWqMTvFYckzGGwMSJE5tLS0vzYmNjewNrGGNc\nQkJCi81ms3R3d8c4nU5za2trDAAmiqJQVFSUX1hYWCKKolBTUzMZUJb93G63ob6+3lxfXw/GGAdA\n1uv1rszMzINBfePAgQNZgiD4iEg2Go12SZKE4uLiaQUFBWV2u91QXl6eV1BQUKTX67379u0ryM/P\nL5UkiaupqZns8/m0AJCSklJrtVod4a6ruro6PTo6ujs+Pr5z7969hTExMe09PT1WxhiJotjpn3MC\ngE0AkgH8D8D5AOYwxtQgI5VxgWqMTiQYA7wOI7wOE3xOI0SXCaJHj1BezpiOK3OQPAZIHgO8/V7j\nBC80Bic0Bgc0Rie0Fgf4o+NJaTQaKTo6urOjoyM+Nja2t2KF2+3Wu1wug8lksnm9Xn1DQ0PKhAkT\nmnp6eqwAYLPZjJIkCR6PR5+VlVWp1WrFkpKSvKSkpIaurq5ojuNkQRB8EyZMaAEUYTuXy6WTZZlj\njFFubm65IAhSRUVFlkaj8TLGOFEUOZvNZjYYDM6enh4zADvP8yLP8/KBAwcmJyYmNlutVrvb7dZW\nVVVlFRYWlgzjOsWCgoKyxsbGhMrKykC+2gMAPmKM/ZaILgTww7F7Z1VUjj7j3hht3LgxetWqVVN3\n795dMmvWLHdFRYV2yZIlWVVVVUP+4x4pL7/8srWkpMTwm9/8pulojxUWn0sHd3cUPPYo+BwWMPnb\nlWAqi1p4bFp4bNG9xwS9AzpLj/+fAzR2ulgTJ05samtrSwj8TkSsubl5Is/zksFgcPl8PmYymewa\njUaUJIn3er26lpaWCYIg+IxGo93j8ej2798/VZIkoaWlJSk9Pf1gVVVVVEZGxv7a2to0WZZ5xhgl\nJCQ0x8XFdXIcJxUXFxcIgiBaLJZuSZJ4o9Fo7+npMdvtdktiYmJjwOiZzWY7ANjt9iiPx2Ooq1PS\nvCRJ4kVRHPL+bWxsbCcAmEwmpyRJgdytMwFcDgCMsa1E1BnufBWVbyNjZ4wetI6phAQe7P7WS0is\nXLmyG8CY7xFEhDHA02OBqzMGHrsVsrLUM64Q3SaIbhMcrRNBnAyN0QZ9dCeMMZ3ghGFHos2ePXtP\n4GetVivOmTOn93ciYrGxse0Gg8GZmJjYDgDV1dVTiEjOyMg4WFVVlTV16tSa5ubmOKfTaYqJiemJ\niYkpraioyExMTGy2WCxOADCbza68vLyK/mMXFhYWdXV1RbW3t8fJssxnZmbWtLS0xNpsNovX69XG\nxcV1NTc3JwFgVqu197sybdq0Mp7nR2SEAyWiiIgxxo6u16uicowY19F0kSQkACCSzMG55547dd68\neTmTJ08uuOOOOyYGzlm/fn1sQJJhxYoVk0VR2fLYvHlzVF5e3rScnJy8+fPnZwf6CYjzbdq0yTp9\n+vTcadOm5Z1++unZdXV1Y+t1emwmdB5KRXPxdHQcyIarM2FcGqL+MJmD125Fz+F0NBXPRHv1VDja\nYiBLY/bdNJvNts7OzljGGLxer+BwOMwWi8UBAB6PR19cXJzX1NSU3NXVFeN2u0O9p8zn8wmNjY29\nHpfH49FUVFRkAkB8fHxXSkpKvcvlMgJAVFSUvaurK1an03mICDzPizabzRoVFWX3z6enqamptxqF\n3W4fUPl9BHwO4CoAIKILAMREbq6i8u1iXC/ThZKQmDBhQu+GebDMwZ49e/QXXXRR1v79+4sBYN++\nfaaioqISs9ksz5o1K+/SSy/tNpvN8ubNm2N37txZrtPp2HXXXZf21FNPxS1btqz7lltuSd+2bVt5\nbm6uN1DrLZjzzz/ffs0115RzHIc//vGP8Q8//HDSs88+e3hUFyj5BDha4uE8QQzPoDCCxxYNjy0a\n3Ydl6KM6YYpvhS4q7OZ+JGRZDuQgddntdnNxcXE+AJacnHxYq9WKAcNTUFBQGvCM9Hp9/10vxMXF\ntZaVleWKoihMnDixFQB0Op1v0qRJ9eXl5Tnw78klJycfBgC9Xu9ljJHZbLYByvKcz+fTajQaCQDS\n09Prampq0oqKivIAkMlkspnN5tqRXGMQDwF4hYiuhxLA0ATANso+VVSOGePaGL3++uuxa9eubQGO\nSEjccccdvZo5O3bsMP/kJz9pAQbKHJx55pk9SUlJEgBcfPHFndu2bTMLgsCKi4uNM2bMmAYAbreb\nmzBhgrht2zbTvHnzbLm5uV7giCRDMAcPHtRedtllKa2trRqv18ulpqZ6+rcZMh6bCY7WCXD3xAAn\n6zIM4+DujoO7O07UWrs6dZO640zado6jIS9tOZ1Og1ar9RAR/KWC+jwc6PV6byAM3L+E1y6KIldV\nVZUpSRJfV1eXKklSw+TJk+urqqp0PT090cXFxXlms7knKSmp5eDBgxmFhYUlkiRxBw4cSK+vr09t\na2tz+3w+zdSpU6stFotz9+7ds2bPnr0nJSWlqa2tLaarq8uamZlZM3ny5NpARJ3L5TJ1d3ebAnMA\ngOBSRpmZmTWBn2fMmFEU+NlisTjj4+MD+5XdABYzxkQimg/gFMbYyL+DKirHmHFrjMJJSNx+++1D\nEnALJTHBGKPly5e3P/HEE32y+Ddt2mQdrL9bbrkl7dZbb21auXJl95YtWywPP/xw8mDn9IExwNke\nA0drEkS3cfATTh46ZYOmsds1ucXmnhRj1LYmWHQtGp6LGDLe1NSU0NraOiElJSViMVhZlrni4uI8\nANBqtZ7MzMz9WVlZ1YIgyD6fTygrK8uNjY3tSk1NPVxVVWUoKCgoBYDg5bympqYEnuelwsLCEofD\noS8rK8sf7JoOHTqUOpqIuhCkAXidiDgAXgA3jKIvFZVjzrg1RgEJiU2bNvXq95xyyik5Bw8e7L1J\nBGQOli5daguWOfjyyy+Nn332WVRzczNvMpnk999/P/q5556rMZlM8rJlyzJ//vOfN0+aNElsbm7m\nu7u7+UWLFjluv/32yeXl5drAMl1/78hms/FpaWk+AHjxxRdDyj2ERDFCsbA3T4TkjSi2dzLCiBeb\nvQYjAEgyE9rsnokdDm9iXJSuMc6kbdNyoY1SUlJSa1JSUutg/XMcJwcMDKCEbdfV1aXY7XYzEcHn\n82kHq3lnt9vNiYmJLQBgMpncer3eOdi44SLqBGH4ARwAwBirAjBrJOeqqHwbGLfG6I033oi98847\n+4RUX3rppZ2//e1ve4MR7rrrrpZVq1ZNzs7OzuN5HsEyB9OnT3csXbp0alNTk/bKK69sX7BggRMA\n7rvvvvpzzz03W5ZlaDQatm7dutpzzz3XsW7duprLL788U5ZlxMXF+Xbs2FEVPPa9997bcO211061\nWq3imWeeaautrR2gjtoH1QgNCQdvdcsSzMHHZMa4TllOaHW4J8ZohNYkraZRw9GY5C61trbGiqIo\n5Ofnl3Ecx/bu3Vsoy/KYBFPIstzHHR9NRJ2KyonGSSkhsW7duridO3eaNmzYMNpN45Hh7jajuz4N\nkmcsoqhOWBjAqjBZdMtcHy0nvU5wuHScKfA7R5DitUJjolbTwtHQ95QAILCnE/i9oaFhgsfj0U2Z\nMqWuq6vLUl1dna3T6dyMMfh8Pl1SUlJ9cnJys8fj6V1aq6+vT/R4PLqMjIxah8OhLy8vz8vOzi63\nWCzOffv2FUydOrXaaDS6q6qqpnIcJ2VmZtZUVVVNMRqNzkChVrvdbmCMUVtbW9yUKVPCLi2Kosi3\ntrbGBgIpwklIEFE6gC2MsYLhvB8qKseLcesZjUtEjwbdh1Ph6VHDboeAT7A43d4jRieAqOX6fG9l\nBr7FI6Z0+KQJE3WauliN0DXSMRMSEjoqKyszi4qK8oxGoxMAsrKyqvR6vbeysnJqc3Nzcnd3d0xG\nRkZvTbukpKTW/fv3TykqKsrX6XRunU7n5nleAoDk5OT6/fv3Z/I8LxqNRqckKSHroSLqMjIyagN5\nTeEQRZFva2ubEDBGYwURCYyxY1a6SUWlPyelZ3TMkWWCrTEJjtYkgI3r3K5jyWF+kqvDp+3jPfb3\nikKRqBFbE7TaJp4fGKY9XPp7Ti6XS1teXp43c+bMb1paWuK6urpiAmWBkpOTGxobGyd6vV5dYWFh\n8aFDh1KNRqMjMTGxvaOjw3r48OEUjuNkk8lk93q9upycnOrgsbq6uizNzc2JOTk51XV1dcler1fr\n9Xp1Xq9Xm5CQ0JycnNxSVVWV0dPTE63T6dxms7mnu7vbPXPmzDcAfAcAA/ArxthrwZ4REfEAHgGw\nCIAOwBOMsaeJaBGAXwLoBJDLGMsmorcBpALQA/gLY+wZACAiO4C/AFgCwAXgUsZYMxElAngKQKD6\n+RrG2A4iug7AWgBaAF8CuJkxdtwL6qp8e1FvjEcbj82I1rI8OFqSVUM0dGRO5+lviICBXlF/eILP\nIB6Oczir892epsSRPmyFw2AweP1LdgIAuFwu45QpU2pkWeZqa2snu1wuU2pq6qFAlQQAkCSJamtr\nJ2dlZVUVFBSUiaI4pBUJj8ejz8nJqczLyytrbm5OlmWZUlNTD2u1Wk9BQUFpenr6YX+i7UwAMwCc\nB+APRDSxX1c/BNDNGDsFwCkAbiCiKf7XZgO4lTGW7f/9B4yxOQDmAlhLRIFgHBOALxhjMwB8giPR\neusAbPcfnw2ghIimAbgawBmMsZkAJAArh3LNKicv6jLd0YLJhO76ZDjbkgZvrNKfbs7qg/IU34te\nKzhchIheUQLX7SVJMgGA19OaIoq2GIM+5SDPG45Kzo3FYunR6/XegoKCsoBnExsb2xPcxuVy6bVa\nrcdgMHgBIDY2tiO4fl44oqKiujiOYxzHiYIg+EJF9Xm9Xj2AV/xeRzMRbYdicPYFNbsAwHQiutL/\nuxVAFpQQ8K8YYweD2q4losv9P6f627X7227xH98FpSo4AJwDYBUA+OfQ7U+8nQPga38KhQHAkFIu\nVE5eVGN0NPA6DOg8NEUNUBgZjDip0WcckGsl6biIRWCNHHMapLY+xkqW3CaHc3+eTjvhsE43YdT7\nLC6XS0tE0Gg0IqCEhgde89eKOzJ2v+i54UL9gjFGUYeOAPyEMfZBv/4XAXD0+/08APMZY04i2gZl\nuQ4AfEEXJyHyvYMA/J0x9n8jnK/KSYi6bDTW9DQmoq1ymmqIRo6Lj3KJjPp8N/Va3uElhA2BJ4DF\nscbQN0jGOI+nOc3hPJApy5FzhiLh9XqFQ4cOTY6Li2vpnzQNADqdzuPxeAyyLJMoirzdbo8CAIPB\n4PZ6vbpAomxnZ+eAOopDhed5KTjUXKvVugFcTUS8X9NoAYCv+p32AYA1RKQBACLKJqJQHqYVQKff\nEOUCOG0IU/ovgDX+fnkisvqPXUlEE/zHY4lo8vCuVOVkY9wbo40bN0YT0Zw9e/aEvFG1tbXxjzzy\nSO+SyJYtWyxnn3125mjGvP3225Pvv//+xD4HZZFHe/VU2JtSANDOvaVY+4vfj2aYkxLGgCYpakAd\nPknHR/SKYni3XWCuiPX7JNFhdTiqp4mifcgVLgIVGoqKivIrKyuzLRZLT3CpnmD0er0vOjq6s7i4\nOL+6ujrDYDA4AYDneZaamnqosrIyq7i4eBrHcVIg2m64aDQayWg02ouKivJrampS/GPsA7AXwEcA\n7mKM9Zc0eQ5AKYDdRFQM4GmE9my2AhCIqAxKwMMXQ5jSrQDOJqIiKMt3eYyxUgD3Afg3Ee0D8CGA\n/vtYKip9GLNousK/F46phETRd4uGJCFx8cUXZzQ1NWkWLFhg+9Of/tTnJuHz+XDgwIE++kZbtmyx\nPPbYY4kff/xxdegeFURRhCCEfoi+/fbbk81ms/Twww83AwC8Tj06D2ZC8kZOdFUZFFEwOku9iX2M\nhV7LO116PqwB0XDwTpIPaghDXRYjptWm1Oj10R2jm+3QCVRXYIzh4MGDaXq93p2cnDzqfZRweUYq\nKuONce0ZhZKQ2LJli2XOnDk555xzTmZWVlbBHXfckVJXV6fLzc3NW716dQoAOBwO/sILL8yYMmVK\n/tKlS6fIsrLsP2nSpMI1a9ZMysvLm/b888/HPPbYY/EFBQXTcnJy8hYvXjzVZrMNeL8++8/7idNn\nzMyfec4y3Z2//BMKzlkOANi2YyeWrFoLAPhqTzHmX/JdzLrgWpy+9HuoqK45Nm/QOKSNWQc8HUk6\nPuL3NAEd4tANEUCkd3V0OKZ0dnamHSs9oJaWlvji4uK84uLifFmW+cTERDUtQkUliHEdwBBKQgIA\nSktLjXv27CnJzc31+pVfDeXl5aWAYqzKysoM33zzzYH09HTfnDlzcj/88EPz4sWL7QAQFxcnlpaW\nlgFAU1MTf8cdd7QBwNq1a5PXrVsXf++99x55mrU1TbjplrUpz/7+PsyfOwP3/GZdyHnmZqbj07f+\nBkEQ8J9PvsTPf/dXvPnso0f3zRmHME7wtfr0ffYy9Fre6SKE9YrMvOTQSZ0RI+yCIRK8DodBBxBc\nLleCKIr62NjY/SNdNhsqycnJLWPhCamonKiMa8/o9ddfj7322ms7gSMSEoBSdy4g9xCKwsJCx9Sp\nU308zyM/P9+5f//+3r2GVatW9co179q1yzBnzpyc7OzsvDfffDOupKRE2ZdiDHrmtnYdrky12R2Y\nP3cGAGDFZReGHK+7x47lq+9GwTnLcdtDj6Gk4kDIdic7Ni7a3d8tknV8WM+FI0hxcsMwlkZJdruj\nmCxT7/6Tz+eztLW15YqiqIl0poqKytFl3HpG4SQkLrnkkm6j0Rix8rFOp+u95/E8D1EUe294Foul\n99wbb7xxyubNm6vnz5/vWrduXdz27dstYDIZyButJQw5Wu4Xf3gSZ58+F2/97THU1DVg0ZVqdf/+\nMBBrEE193lOdhne6I3hFcZzTxUlec7jX+yNJ0S6fb2AUmSRJ+ra2tmmxsbGV/ug0FRWVY8y49YwC\nEhINDQ1F9fX1RU1NTftSUlK827dv73NzslqtksPhGNF1Op1OLi0tzefxeOjVV1+NJYDQVp2pIdEA\nANFWCyxmE77creidvfrOByH76bbZMSlJUZl+8fV3RzKVEx6vYHF45b7VFZg+vFek4+A2S01DNkSA\nxe5yhS8jJMuypqura4rskUYdkr9z5845gQi84uLivPr6+jGvBBHA6/XqiCj0+vAQIKLlRFRGRB/7\nf3+FiPYR0W3D7CeaiG4O+j2ZiDaPdF4qJx/j1hi98cYbscuWLesMPnbppZd2/uMf/+iTw5GUlCTN\nmTPHnpWVlR8IYBgq99xzT8O8efOmzZ07Nzc7K9Nj4EQLfI6o4DZ/e/R+3HDXLzHz/GvgcLlhtQy8\nP961ZhX+77ePY9YF10IU1fJcoWiWo/oYIp2Gd3kieJ8JaIFSim1wiPROu10T0XBxHOeLEvUasc2V\nI3vEUYkbBjSSCgsLS7Kzsyt7enqsdXV1A8QWA4Ezo0Gr1XoYY2tH0cUPAdzAGDubiJKgKMROZ4z9\naZj9RAPoNUaMsQbG2JUR2kkwE+0AACAASURBVKuo9EEtlDoUmExor86Et68hAgC7wwmzSbl3PfLX\nF9DY0oa/PHznMZ/ieEbi9e4S38Q+eWJas9bl4UIbIyvvs8dKtUPyiogEn8Nh5WQZYfOUOCLRCpPM\nS6T1nyQJcfoqTi84wp0TieEWVw0URwWAgwcPpg2nuOpXX32Vcuqpp+5kjC0hogehKL5m+P//M2Ns\nnXJJAwuXArgXwF0A6gG8C2AxlPI/FQB+AqABwBMAEgA4oRit8lDFUf19X+o/90P/eYFCrV8A+CFj\nrMQ/l20AfgagDMDjAAoAaAA8yBh7ZyTvucr4Z9zuGR0zmExo3z81lCECgPf+8yl++9cXIEoSJk+a\niBf//NCxnuG4p5OsfaQLdBre5Q5jiHiCGC03DHEpjWS3O0qSZYQNTiDFEEm8REcCIRjjxXZ3lpBg\nKOe0/Kj3kEIVV83Pzy/RaDRSV1eXJdQ5geKqOTk55QaDwVtVVTUlVLsQ5AI4G4AFQAURPQkgE0cK\nl/qIaD2AlYyxh4noHAA/Y4ztJKKAAZkJAET0XwA3McaqiOhUAOuh1KILFEe93F8R3AzgHgAFQeem\nB83pNQBXAXjAX8R1on+83wD4iDH2AyKKBvAVEf2HMTaihwCV8Y1qjCLBGNC+PwNeuzVck6svXYyr\nL118LGd1QsGIF5t8xr57Obrw6qfxnM3NSeKQvKJwAQsBiEiykknkRRpYvYMxXmxzZWsmGMtJ4EYt\nRRGMxWLp0Wg0EddrR1pcFcB7jDEPAA8RtQBIBHAuhlm4lIjMAE4H8EZQ6aOAwQ5VHDWSRtfrAP4N\n4AEoRimwl3QBgKVE9DP/73ooHl3ZEK5T5QRDNUaR6Do0GV579PGexomMU7C6ZA96vQOt4hWF3LMx\ncMxllFqGGLRgsbtcXKS2spVMXkGk8F6WzDRimytLSDCUE8+NeLPvWBZXBRBcnTxQ0HQkhUs5AF0B\nT2c0MMbqiaidiKZD8dBu8r9EAK5gjFWMdgyV8c+4DWA46vQ0JMLVGX+8p3EiwwA0iuY+XgmF94pY\nPJqH9H0dQsACs/Imd0RDFGgoynqxzZXF5JFpUX0biqtiBIVLGWM9AA4S0XL/OUREM4L6618c1QYg\n5JKjn9eg7E9ZGWMBeYsPAPyE/G8MEc0a0dWpnBConlEonO3RsDcPK/JOZfiIgtnh9PK9y2hagXeH\n84pieI9dkByRbnYAAgELpkiJsCyKNzk1vshqsX1O8Mkmsd2VIcQbqkMZlP4EiqsyxoiIWExMTHty\ncnJzqLbBxVX9y3IDiqtyHCcbjcYR76MwxkqJKFC4lAPgA/BjAIcGOXUlgCf952oAvAqlIOutAJ4h\noh9C8b7WMMb+R0Sf+wux/gtKAEMwm6Eoxf4y6NgvAfwZwD7/vA5CUZJVOQlRo+n647GZ0L4/W1Vl\nPfo08MnONp+u1/jozFpnKGMkEHwpOMgTkwf5TEj2eGK8Pl+IPSA/FsFo13n5YeQnHYEzaZqEGH39\nSM4dCUMprqoWSlU5URj3N9wxlZCQvAI6a6aOtSF6e+vHKK08UgJo0ZU3YOfe0rEcYtwhc1pvsCHS\nClxYryiBOr2DGyJAkqyuSIbIPApDBACyw5ckOXyRNurHFLW4qsrJxJgt05XlThtTCYlp5WVDkpB4\n9dVXY2fPnm3fsGFD7KxZswZISLS3t/N/+9vfJtxzzz2RVT4ZAzpqpkBWapRJkgQ+soTOkHl76zYs\nOe8s5GVnDN74JKGHs3qh5LwAAEgvhAwQMPGyQy91DGFJzWJ3ucIbGpNgsOtHYYgCSF2edNJwrrEI\n+R4MtbiqysnEuPaMxlRCoqdhYvrsRVF3//ovmL14Bd7Y8h+88vZWFJ57FQrOWY67f/2X3nHNWWfg\ntgceRf7ZV+Lcq1ajtV0pBPHsy//AKRddhxnnXY0rbvgZnC4Xdny9F+9+uB13/urPmHn+NdhfUwcA\neGPLh5h38fXIPvMyfPrlbgDAgmU/xDfFRwKLzrzsB9hbUnmM3s1jBwMnN/iO1KHze0UDDA4R5Di5\nIaJgntIucsCCUWOwGbzCqA0RAIAxTupwTx1pQIOKikpoxvUfVCQJifXr19fW1NQUP/bYY4dTU1M9\n5eXlpU8//fRhACgrKzM88cQTddXV1SW1tbW6j7b+cwIcLckAEBdjxe4PNmHBqbNx96/X4aPXn8Y3\n/34FX39Tgre3fgwAcDhdmDsjDyUfb8bC+XPw0B+fBgAs+845+Pr9l7D3P69hWuYU/O2Vd3D6KTOw\n9PyF+MN9P8U3H76KqempAABRlPDVexvx54d+hof++AwA4IfXXNZbu65y/yG4PR7MyM8+pu/pscCt\nsThFdqRyNhfGK4rjXA6eeSJW0/YHLGiVKOGBGAS93egRBg18GA5MlPVSpzttLPtUUTnZGdfGaCwk\nJArz890N+0t664ZdvfQCAMDXe0uwaP4cJMTFQBAErFx2ET75QvFgOI7rbXfdsovw2VffAACKK/bj\nrMt/gMJzr8LLb/0LJRX7w8592UXnAADmTJ+GmsPK6uLyS87Dlv9+Cp/Ph+dfewffu+qSEb8332aa\nxaheA6MROI8rhFek5eCxSI2DeDO9FRZCLjfrBZ3d5I1ck26kyC4xTnL41Bw0FZUxYtyGdo+VhIRR\nI5tk0df7lG4yDr9ocyDc93u3PYC3//ZHzMjPxouvvYtt/wu/7aXTKqtPPM/1Fk81Ggw4/6zT8M4H\n2/H6Pz/Ern+9POy5fNuReIOrxyf0vsm8XhBxJLO/lwS0yUBkFVZJsjp9PgppbHSC1m72ao+KIeod\nv9szmdPzttEkxKqoqCiMW89oTCQknB1WDckho6/mzczH9i92oa2jE5Ik4ZW3t2LhfCVGQ5ZlbH7v\nvwCATW9txZnzlCR1m92JiYnx8Pl8ePmtf/X2ZTEbYXMMLU3kRysuw9r7f49TZuQhJjpkObxxTTtZ\nex8UNHxoryiKF+1auXuQp4LwAQtaQeuweHVDziMaMTITpE6PulynojIGjFtjNGoJCVnk0VMfNgt9\nYmICHvn5Wpy9fDVmnH8N5kyfhksXLwKgeE9f7SlGwTnL8dHnX+H+224EAPzyzjU4dckqnHHZD5Cb\nmd7b1zWXLsYfntyAWRdc2xvAEI450/MQZTbj+1cvHeI7MX5gJPiavYbe8G1ez4v923AEKUZuCBue\nDUQOWNAIGqdFCRkfbVmdISG7xdiRLtd5vV6hqqoqY9++fQXFxcXTysvLM51O5zCUa49ARD8lomFL\nXxDRw0R03jDPqSGieP/PO4Y7pv+8y4gobwTn2Ucy3jDH+B4R/XUU5w6QCxlmH8O6RiK6iYhWDdJm\nbiTdKyJKJ6IVwxl3OBDRi0QUUVLk5E167Tg4Ge6uEZX7MWedAXvV52M9IwBAQ1MrFl15A8o/+Qc4\nbtw+K4TEJsTZD3qjzACg4Tmv1yQMiJSbwNvtJqk57PKaXxKCQu0TCbzgsooGHbFj/JDFkahJNBYP\nZ7mOMYbS0tLcuLi49qSkpFYAsNvtBkmSeKvVOuSbUSDplYhqAMxljA34myQi3l/QdEyINNYw+ngR\nSoXwYQnwEZGdMTai5dehvg9E9D0o13fLCMbYBn8V9OHPsLePEV/jKMZcBGXeQ66AQUQCY2zAA2WY\nti9ikM/7xLrbDRV3t3mkhuhosuGNLTh1ySr8+u4fn3CGiAEsuA4dr+cHBJjoOeaKZIgiBSwIvOC2\nigbtMTdEgLJc1+UZVvmo7u5uCxGxgCECALPZ7LJarXbGGGpqalKKioryi4qK8lpbW2MAoKury1JW\nVpZTWVmZsW/fvvzq6uopAEBEawEkA/g4SLHVTkSPEdFeAPOJ6H4i+pqIionomaB6cL1PrH6P5yEi\n2k1ERUSU6z8eR0T/JqISInoOQV5n8FM8Ed3tP28vET3iP3aDf9y9RPQmERmJ6HQASwH8gYi+IaKp\n/n9biWgXEX0aNPYUIvqfv99fhXov/U/15UT0MimqtZsDXqL/mn5HRLsBLCeia/19FRPR74L6+D4R\nVRLRVwDOCDre54k+0vX6280F8LL/uvosNYd6LyJdIxEtIqLtRPQOER3wj7GSiL7yt53qb/cg+Suf\nE9E2//V+5b+es4L62uL/eaF/ft8Q0R4isgB4BMBZ/mO3kVJz8A/++e4jotVB/XxKRO8CKI3Qjojo\nr0RUQUT/ATAh1GcXzIl1xxsKjAE99amj6eJoeUWrli9B3c5/Yfkl5x+V/o8nPsHidPtlxQWe87r4\ngdIO8WgZSsDCgCU8nuM9UZJBIBZeQO9oI7vE+OFIljudToPRaHSGeq29vT3a5XIZCgoKSnJyciob\nGhpSPB4lxN3lchkmT55cV1hYWOLxeHRer1fvF9BrAHA2Y+xsfzcmAF8yxmYwxj4D8FfG2CmMsQIo\nEhLhnoDbGGOzATwJRQAPUKQfPmOM5QN4C4rMQx+I6DtQxPVOZYzNAPB7/0v/8I87A4o0xA8ZYzug\niPndyRibyRjbD+AZAD9hjM3xj7vef/5fADzJGCsE0BjhLc0BsJ4xNg1AD4JUZwG0+6/pEwC/gyKB\nMRPAKaQsF04E8BAUI3QmgEGXD0Ndr/+pfycUraiZjDFXv9MGvBdDuMYZUKqcTwNwPYBsxtg8AM9B\nEUAMheBv81Mon11/fgbgx/6K7GcBcEHRo/rUP+8/+efWzRg7BcApAG4gooCm1mwAtzLGsiO0uxzK\nZ5IHRW7k9DBz7eXkM0aO1jiInlHJSqsMnxY5qve7plG8oj6GJ5r32jWyPcJeUeiABY7jvFbZyHFh\nwruPJVL38LyjcNjtdktsbGwHEUGr1Yomk8lut9uNAGAwGBw6nc5HRDAYDE5RFMMZYAnAm0G/n01E\nXxJREZSbcX6Y8/7h/38XgHT/zwsAvAQAjLH3AHQOPA3nAXiBMeb0t+vwHy/wP0kXQSm8OmBc6qud\n9A2ApwFM9L98BoBX/D9vDDNnAKhjjAWeEl+CYlQCvOb//xQA2xhjrf7lpZf913Zq0HFvUPtIhLve\nSIR7LyJd49eMsUa/RtV+KLpQAFCEI59Pf0J9hsF8DuCPpHjU0WGW2i4AsMr/eXwJIA6KCjAAfMUY\nOzhIuwUAXmGMSYyxBgAfhZlrL8f9D/iYIksc7M2Tjvc0TjZkXufu8GkNACDwnM/ZzysSCL5ouSHs\nAwKR3mmzaQd4UhxxvmhmJC6CkuuxQhaY3e5sMZpssdEGS1TXYO2NRqOrq6tr2HXuOI7r3eQl/0pb\nmKbuwP4IEemheBpzGWN1pMiThzP8AT2kgBbSaHkRwGWMsb2k7MUsCtFmMO2koWxs928T/PtolGNF\n+B/aSaksPmhFkAi8iPDvRbhrDNankoN+lxH+84n4GTLGHiGi9wBcBOBzIgqlDkpQPNUP+hxU9pYc\nQ2h3UZi5heXk8oxsjUmB2nMqx46uIFlxjZ73oN8NNJ7r9hKTQn4Xj1RY6HsOEYlWGGVOouP6eTIB\nTgfrdnc5ms2i5BPsHe0pjEXOjwIAq9VqY4xRU1NT796l3W43dHd3m81ms62zszOWMQav1ys4HA6z\nxWIZ7IYaSU8oYHja/F5IxKimEHwCYAXQuzwVyoh+COD7QfsggahWC4BGItJA8QYGzHcQ7aTPAVzj\n/zn4/P6kEdF8/88rAHwWos1XABYSUTwpcunXAtgO5Yl+ISl7YxoAy4POqYGikgso+1yB71u46430\nOYR7L4Z6jWMCEU1ljBUxxn4H4GsoUvX95/0BgDX+uYKIsolCqiaHa/cJgKv9e0oTAZwd4tw+nDye\nkeQV4GhLPN7TONlgxEmNPqMRCO0VGTnZaZDawuQE9QYs9BXgiyQXfqzgyeuWHT6no6fP3CVR1Dm7\nu+JM0TERI82ICJmZmftra2tTW1pakoiIabVaT2pqal1UVJTdbrebi4uL8wGw5OTkw1qtVnQ6Q24x\nBXgGwFYiagjaNwIAMMa6iOhZAMUAmqDcgIbDQwBeIaISADsA1PZvwBjbSkQzAewkIi+A9wH8HMAv\noNzsW/3/B254rwJ41r9UdCUiaydtIqK7AbwTYY4VAH5MRM8DKIWy59V/jo1EdA+Aj6E83LzHGHsH\nUIIAAPwPQBeAb4JOexbAO6QEgmyF3yuIcL0vAniKiFwA5vfbNwr3Xgz1GseKnxLR2VC8qxIo+lMy\nAMl/nS9C2cdKB7CbFBe8FcBlIfp6Lky7t6AsB5dC+b78b7BJjevQ7traWuHmm29O27t3rzEqKkqK\nj4/3Pf7443XTp0/3DGjcVTcJzrakofS7bcdOPPrUBmzZsA7v/ns7SisP4J5bvo+3t36M7IzJvdW3\n7//Dk1hw6myct+DUsb2wbyE1dQ3YsXMvVlz+nWGdd+2tD4tzz7tMOP/iS2EwaexO/kjFBAJYKjX4\neOYKufQhSdED9okIJFs5k2coKq1HBSLJx3lcdlenKZwHxAmCNyF1cjEFLakNhl8RNs3lchk5jpME\nQfClpaXVGY3Ggd/lIAbTM6KgkF0iWgogz79McxmASsZYqb/dwwA+YYz9Z6hz/rZAROlQwoYLhtH+\ndMbYpmGO8yJGEI6uMjTGzDN64qaPxlRC4sdPnRNRQkKWZSxdujRzxYoV7Vu2bDkAAP/73/8MDQ0N\nmgHGSPLxcHUMGloYiqUXLMTSCxYCGCgF8fCda0bS5TFDFEUIwth8xDV1Ddj01r+GZYwYAzzQcgAg\ncJyvfwRdLO+285IrzJJGyIAFFsUb3YJv+MmdYwCTBNlhd7UbJFmKmAMii6LW2dM9qHfU2zFjqKqq\nyoyLi2vPyso6AChLdj6fT4O+ewajgjH2LpQoNkB5et0C5ckVjLH7x2qcowENI6dlCKRDWcobljFS\nObqM2z2jLVu2WARBYHfddVdvnsb8+fNdF154oV2WZaxevTolKysrPzs7O2/Dc+sng8ncth07sejK\nG3DlDXcid8EyrLzlXgQ8w60ff47cBcswe/EK/ONfRwI/XnztXdxy7yMhpSC+99MHsHmL8iD530+/\nxKwLrkXhuVfhB7c/CI9HSaNJP/ViPPDok5i9eAUKz70K5dUH0Z+augacdfkPMHvxCsxevAI7vt4L\nQDG4N//fb5G7YBnOv2YNLrr+J73jvf/fz5C7YBnmXLgCa3/xeyxZtRYA8OBjT+H6n9yHMy79Pq5f\n+4uwfV+z5h68959Pe+cQuJZw7e/5zTp8+tU3mHn+NfjTMy9BkiTc+cs/4ZSLrsP0867C0xuVh0XG\nGG659xHknHU5zrl6jdza3sEByl4RC9r30XDwWqSGkDd1Ir3Lbh8QsBCQCz/mhogJcNjkTl+3o8Us\nydKQwsed3V0Th7rqMJqco46OjgQ6kmMTyB260H9sN4BlgT7JX1mAQuf5BOcbnUtK/kkRET1PRDr/\n8ZB5SMGQkvPzqb/Nbv9YICKOiNb75/UhEb0fNN5F/uO7iGgdHcmHeZCINhLR5wA2husbSo7M3UFz\neJGIrhyk/VByaoiGmSujMnLG7Z7Rvn37DDNmzAi5iL5hw4booqIiQ1lZWUlTQ7329PmnFZ4/bxoA\nYE9xBUo+egPJSQk449Lv4/Ovv8Hc6Xm44c5f4aPXn0bmlFRcfdM9A/oMSEEsOe8sXLmkb/UUt9uD\n7932IP772lPInjoZq9b+Ak9ueAM/vUHZi4yPjcHuDzZh/Yuv49GnNuK5R/s+hE6Ij8GHrzwJvV6H\nqgO1uPbH/4ed/3oZ/3j/I9QcbkDpts1oaevAtEVX4AdXXwq324PVd/8an/zjOUxJm4Rrb/6/Pv2V\nVh3AZ289D4NBD6fLFbLvq5degNf/+SEuPu8seL0+/Pezr/Dkb/8PDCxk+0d+vrZ36RIAnnnpTVgt\nFnz9/kvweLw447Lv44KF87GnuBwV+w+hdNtm7GsXPAsXLjRcfvV1kkvo6xUloEMksAHLc/6ABQ36\nBSxECSan1ssd/XpzwfDkdkk22eWwD3tcSRS1LltPjDHKGioMug9DzTny+XxCWVnZtKioKDug5BxZ\nrdZGKLkcnwM4g4h2QtnnOAdANUKEKTPGdpCStNi75OS3Y4HIuxcBnMsYqySiDQDWAPiz//Q2xths\nIroZSr7Kj/p13wLgfMaYm4iyoIQsz4ViFNP9c50AJc/mef94TwNYwBg7SESv9OsvD8CZjDGXP1gg\nVN+vAbgKwHtEpAVwrn/OFKb9PQiqNkBEN8KfK+M3vJ8T0b8BzMKRXJlEKF7k86E+J5XRM26NUSQ+\n/fRTy1VXXdUhCAJSYrTRC0+bja/3liLKbMK8mflISVbiGGbm56CmrgFmoxFT0pKRlaHk8l13xUV4\n5qU3Iw3Rh4r9hzAlLRnZU5VSd99dvgRP/P31XmO07DtH5CKCva4APp+IW+79Hb4prQTPcag8oOwP\nf/bVHixfch44jkPShHicffpcAEB5dQ0yJk/ClDQlSv3ayy7sM9+lFyyEwaCP2Pd3zj4Dt97/KDwe\nL7Zu24EFp82GwaBHd48tZPv+/Hv7F9hXVoXN7ymeWrfNjqqDtfjki9249rLF4DR6rxCfYjjl9AXg\nBPKxoFBiCy85dFJniBs8sQEBCwywaIx2rZc7duVROBK95HbbnZ2jGtNl60kYijGKRLicI57nZYPB\n4PB6vRJjTCYlzyMdgB3AQcZYFQAQ0UsAbhzGkDn+8wOqjn8H8GMcMUbBOSzLMBANgL/6N/clAAFB\nrjMBvMEYkwE0kb9SBJRIrgNBeSuv9Jvvu0FBAOH6/heAv/gNyYVQ9r5cRGQN074/FwCYTkcqLVjR\nL1cGQAMRDZorozJyxq0xKiwsdL399tuR8zQYAxztfVxrnfZIJHCwfMPRRKfT+MfjIUoDx/vTsy8j\nMSEOez98FbIsQ58xf0Cb4RAsgxGub71eh0Xz5+CD7f/Da+/+G9dcunhYc2FgePxXd2Hxor6J1e//\nV4mo7eGsXgZoAcZEDdfrAXEEKVZuCFkMVJKsjv6SEGaNwa4bA7nwIUGQRV502l0dRlmWRzwmL2g8\nnGDySaLO5HWJJq1BiBiWPRY5Rxi7vKDBGCwP6TYAzVAqB3AARivPHvzehezb7/lsA7AYwNVQIvGG\nM5cxy5VRGTnjds/okksusXm9Xnr00Ud78zS+/PJLw9atW80LFiywbd68OVa0t0e1trboPvlyN+bN\nDJdwDuRmpqOmrrG3ovYrb28N2S6cFETO1MmoqWtE9UHFi9j45vtYeNrQ4zm6e+yYOCEeHMdh45vv\nQfIbrDNOmYk33/svZFlGc2t7rz5SztTJOHCoHjV1iijfa+/+e9h9A4qQ4AuvvYtPv9yDC/1GJVx7\n5dqPrCQtXjgfT27YDJ/PB0BRpnU4XVhw2my8+s6/cdhtMLQ2N+HrHZ8RQL3fszjO4eKYN8RNbGDA\ngkljsOnHSi58EGSB2XvEDqnH0WaWZXlEfxeCVu/U6OOcDLE6SdSZAXBOm3fQfYYxzjkqB5BO/rpl\nUHJpQhEuH6bCf36m//froeTiDBUrgEa/B3Q90Fui6XMAV/j3jhJxJOGzAkCGP8INUIzJcPsGlKW6\n70Mpb7N1kPZDzakZdq6MysgZt8aI4zi8++67+z/66KOo1NTUgszMzPy777570qRJk3zXX399V35+\nvmv63NOmnnPVavz+3luRNCF8XVS9Xodnfn8vLl51K2YvXoEJ8bEh24WTgtDrdXjhjw9g+eq7UXju\nVeA4wk3XDz2v8ObvXoW/b/4nZpx3Ncqra3o9mysuPhcpExORt+hKXPeT+zC7IBfWKDMMBj3W/+Ye\nXLjyFsy5cAUsJiOsUaGD0sL1DQAXLDwN27/YhfPOmget32MM1376tCzwHIcZ512NPz3zEn604nLk\nZU3B7AtXouCc5Vh9968hiiIu/845SJ+S4bv47Pn8fT+9iU0/9UjYu45jbrPUNMC4hApYMGr0NsMY\ny4WHgglwOViPkrQqeoedQEscyRq92S5oE7yybDVKotAnwMLrEmNkSY4Y9ED+nCObzRa1b9++gqKi\novyampr0qqqqHKPR6Nbr9a7i4uL8ioqK7EDOkSzLnNfrDd5zmwTgp4wxN5Rlrvf8AQwtYYZ9FcCd\n/kCFgOGC//zvQynNUwQl/+SpMH3EU5AMhN87+QTAd0nJV8nFEc/mTQCHoey7vARgN5R9GheUOnJb\niWgXFEPRHWa89WH6BpQyOQsB/Mdf0idS+33w59QQ0W1QcmVKoeTKFEPZwxKg5MpU+V/bgCHkyqiM\nnHGdZxQRySuguWQ6jpGuzdHC7nDCbDKivaML85aswudvP4+kCfG9xxlj+PHPH0HWlFTcduN1x3u6\nAIBDXIq7W9ToDUaN3SkcWXZL4VrcGtnWL4F1oCSEXqOzmz1HV6UVHHndcPqcru4RBUVwvOAVNCav\nJOkMjFFEY2Oy6upM0bpwRiEkVVVVGT6fT2M2m21paWkNwa/Jsgyv16utqqrKkmW52S8hsQhDkACg\nMZSToH55NzSIfAIRmRljdiKKg1IN4QzGWFPQcQLwBIAqf7FOlZOIcbtnNCiOtjiMc0MEAEu+eyu6\num3w+nz4xa0/6vXwnn35H/j7G1vg9fkwqyAXq6+/4jjPVEHi9a5un8bAcyS5hCP5QFbeZ9dItn4G\nZmDAgk7QHl1DRCT5OK/L7uowMTYwmm8wBK3ORZxJlkSNSRSHVqfM7fTFD8cYiaLIORwOc3Z2dkV1\ndXVWWlpaQ1dXl6WhoSGZ53nJ4/HoDQaD0+v16jo7O5OJ6A8A3gNgJqLNAAqgBBhcxxhjpOgPvQbg\nfAC/99/0f44jVQjuBnrlEZ6FsqHfBOAaxlgrEd0AxdvSQonQux5K1eulUMro3Acg8AVcTkTrAURD\nqdD9KRF9AmAtgD8TUTSUQILfMsaa/OfcQETf9fe/B4pnonKSceIaI3dX3PGewliwbfOzIY/fduN1\n3xpPKJhOipYAQKsXXE7ADAA8QYyWGwZUTJDkvgELWkHrMHt1R8sQMVmQHTZ3h16SxGGNQURM0Bkd\njBkEWeINkAc/JxjJGFaZrwAAIABJREFUJxt8Hkmv0fFD2szv6OiItlgs3Uaj0SMIgmiz2YwA4HK5\njHl5eSUGg8Hrdru1VVVVhoSEhGbG2J1+z2gWlErQDfCHeuNIjbZ2f0h2MoAvoNRb6wTwbyK6jDH2\nNhTZiZ2MsduI6H4o8gO3QJE+eNb/XvwKipF5PEx4uMAYm+ff/H8ASnXrvwH4HmNsERFlA9jEGPtl\n4Hr9XpDqCZ3kjNs9o4j4XDqInuNTLuYkhhEvNnkNJo5IcgtHyvXEcz1ujvWXOrDYXc4jAQsaQeO0\neHXGo+HKMgFOu9zl7XK0mCVJHPIDGMfzokYfZeeEBEkSzWZZ4kdUC4/jyCvandahtu/s7IyNjY3t\nBIDo6OiO9vb2WAAwGo0Og8EwQJQwiK8YY4f9G/aBUO8Ag8koAMr+UKBdsAzDoDIQQYSSL3gDwBJ/\ngMAPoOQxqaj04cT0jFyd0cd7CicjDsHqkiVYDIYjXpGBY06j1Nq3vhzpXcGSEBpecEX59Hoa62VV\nnjwu2S65HLZhVW3gNVo3x5tESdSaJBEj8tQ4jnwa8nkEd4/Aue16cmoSEJfTPNh5Pp+Pt9vtFrfb\nbaitrYWyykYsOjq6m+O4wXyy4NJB/UOvRyKjENhQfhGDy0D0n0Pv+IwxJxF9CEWM7iocqYKtotLL\niWmM3N3DztlQGR0MQKPPou/nFbF4NPX5jvWvsCDwgjtqrOXCORK95HE7XJ3mIQfoEKDRGhyAkZMk\nwSCNoAoaceTTkugRPD0857IZcERuAMzn08kul54zGCIu1bW3t8fExMR0ZGRkHAocKy0tzbHZ+u63\n8TwvjTAE/SsA64goHsoy3bUAHve/xkGpoP0q+sow9Jc+qPcfjySX0J/nAPwTiproqBKBVU5MTrxl\nOtGjgeg+tmVjVCAKZodL5jQ6veCS/fkcsbzHLsjOoE1+Yh5PlBSInOM53mMVDZoxlAtnkiDZujwt\nnN3ZMSRDRBwnafQWO69J8ElSlEmShGEt7xJHok6Q7Capy2XuPqTRdtWb/YZoAFJ396Aee2dnZ2x0\ndHSfm3V0dHRnV1dXn3wDjUYjGY1Ge2trayCAYUgwxhqhlMP5GIpEw66AjAIU72meP7z5HAAP+48H\npA8+h5LHFCBkeHiYcXdBkQN/YahzVTm5GNfGqLa2VliyZElGampqQX5+/rSFCxdmluz+InxCUQT+\n/OzLcLr6S9YPzv1/eBL/+eTLYZ2TfurFaOtQ7jenL/3esMcEgLe3fozSygPDPs+cdcaIxhuMFmYl\njkh2a8jwzssb8cgdP5Wj5Ia+Wj+y1eH1KhpEvCIXzvc3RBtefxkNTY3DHp8JzGGTOsRuR6tlSkHh\noN9rXhC8Gn20nfh4ev7FV8yvvfFaxByjb/btxs8fvAuAoqekFWS7Sep2mrtrBW1nvbmuqszw2nvv\nRRxTttsHNUbTpk2rjI2N7Qk+lpyc3PLggw86duzY0R58PCsr62BCQkIDY//P3nXHSVFl3XNfhY4T\nGaJEEclZFEVFUTCAkWRE1riGz1VXXddV1zXvqmtac8KAK6Ko4OquYBYXBNEBJEgOEid3rnS/P171\nTM9Mz0wPDBi2z++n9HS/qnpVHW7d+849h29g5k9Tad3MfBUzT3Mfd2XmkpTX/snM/Zm5X5JJl/La\nde7zo5h5t/vck8zcjZkPZeb/Y+ap7vPzmbkPMw9m5nXMfEyS1s3MJczcNblflzghUGObnUUWtdBi\nZboHJ49r0Trw72e8t0cWEru3r++Mjn0a2zQtHn7uNZw3/mT4ffVvam3bhqKkv3nfWxuJr2ZP26Pt\n6tpZ7A80dB0coSdKTd3v86mhqFu28XDcIXZqPl9UQ1gQQph5HCDh1P/8vTJzOvr27I0O7dpnNimF\n4lG7iuORSEbZsKp7oyQCsC3Vb7vU7AvOu6jJ7QYPHGofOmRQTDOqhIhW+sBcq2y2ads2zHj/fUwe\nO7bBfTjxeIAtSyFVtQHANE1oWuN9tqWlpfkbNmzozsxprcwdxxFEdAUzPwHU9i9q8qQaAEmjuTAz\nP9DImEMATGHmqzPY3xQAdwO4ziVXZJFFPfxi14zSWkgMHx7DDr+PHRs33vUwPvjkKxARbrn6Ikw+\n7QR8+tVi3P73p1FUkI/lq9dh6IDeePWxu/DYC69j287dOHbiZSgqyMcnbz6DYI8RuOy88Zj3xUI8\nfs9N+Hj+IsyZ+zli8QSOOGQAnv7rLSAiTL3mz9VK3l0PG4sLJo7DnLlfwLQszHz6r+h1UDeUllXg\n7Ctvxo87duHwoQOqbSsAmamE18wHAPz18Wl4ddb7EEQ4adQI3Hfz1Xh2+iw8M30WDMPEQd064ZVH\n78R3y3/A7Lmf4bMF3+CuR57DW8/KKs2Vf7oPu0vL4fd58ez9t6LXQd2wYfOPOOfKmxGOxnCa68tU\nFxu3bJNqDgN6Y8myleh7cHe8/Ogd8Pt86HrYWEw+dQzmfr4QN15xAZgZ9zz2ApgZY487En/90+9Q\nKfLNd2dM15978qGcnLx89O7bxyrwmioAXH75LRgzZpQxevTEAAD06NEDJWu3s7ChP/DEQ3ht1gwI\nIXDCsaMxdMBgfLP0W1xw9cXweX34/J158KXcHDz/2jQ8P/1FGKaJA7t246cffSzKZAQ2b9mCK679\nPSLRKE44/rjq8V8tWIj7H3kUebm5WLH6Bz5t3BlO7179/c+++CTi8TheemY6unY5EPc/dC8CgQCu\nuPRqnDF5LIYMGoovF3yBqqpKPPK3R2LHDB3kzP90rv/haS8GZz3+OL5YtAjX//WvACSdee60abj1\n4Yexev16HDZhAs479VRcce65uPXhh/H5okUwDAOXnnUWLj7/vPicOe8W/eWue/Lz8vLs9evXe9eu\nXbv8yiuv7Dh//vwcwzDokksu2XXDDTeUOI6DqVOndv78889btW3b1tZ1vd5dkuM4YGYBqWDwRHO+\nP+maX7lOgG0MbgaUtrk1zdiXIRUMssiiQfxig1FaCwkz6gM7yqz3P8Z33/+A4rmvo6SsAsNOPh9H\nDx8CIL2FxNUXnY2/P/MqPpn5NIoKJfchEo3hsMH98OCfrwMA9OlxIG67VooJn/9/t+C9uZ/jlDQ/\n7unsIv7y0DM48tBBuO3aS/GveV/g+X++U2+7Dz6ej3f/8ykWvvcS/D4fysqlIsqZJ43CJedKceRb\n/vo4nv/nu/i/C8+qZ2dx3KTL8NR9f0KPAztj4ZJluOKP9+Ljmc/gd7fdj8unTMSUiePw+LR6bgLV\nWL1uI55/8DaMGDYIF153O554aSau/+0UAECrgjws+c9r2LZjN4afcgG++fd0FOTlYMzZV2DWB586\nhYNP9D/x93vx2hfzkZuX51x+8iilYGBPAAAzOYbhVSDtYWwCFMUm/d+ffIg5H/4LX875GH6fH2Xl\nZSgsKMST057BfbfchaEDh9Sb4+knnYKLzp3qWIoVvfnOW4LPvfJc4KIpU3DrnXdjyrlnY9IZZ+DF\nV16t2UCQtWLVKvXLjxbZ+XmFyqFHD1TOnezDf979BM+88CSem/YM7vrzfbWOwWBYVsL84p05xtwP\n3vX9/YE7fcc99xxqiGXAwy+9hIf/9CccPngwwtEovLqOO6+5Bg9Pm4ZZjz8OAHh+5kwEc3OsT95/\nN17GcRp32qTAwaeN8EYUI7BixQr/t99++32vXr2MBx54oCgvL89evnz5ylgsRsOGDet1yimnVC1c\nuNC/du1a71tvvWUHAoF1w4YN6wVIH6PU5teqqiobQCtXtXsumtf8moM6zazMXOs7RUTDIPuEHHf/\nJzFzP6rtIHsopE21F0AMwG+YeXWDH7YsskiDX/SaUT0kqnIAab1w9uknQFEUtG3dCkkLCQDVFhJC\niGoLiXRQFAXjx9bcZX/y1WIcNm4K+h83CR9/tQjfN7Bek2oXkdz35wuW4LwzpQDw2OOPQkF+br3t\n5n2xEL+ZfGp1mbCwQLalLF+9DkedcSH6HzcJ09/+AN+vXldv23Akiq++WYqJl92IQaPPwmV/uBvb\nd8klgvmLinH26VKR+/zxDZeQOnVohxHDBgEAzjvzZHz59XfVr00+dQwAYFHx9zjm8KFo3aoAqqri\n3DNPxkcLl9rffbsEhxx1FAqLWqOd145OGD/GpWgT27bKzKQQyMmjgJlkb3/8xaeYMuk8+H1+93zT\n6wGmonj18thRp4+ioSOHB2fNno3Va9bKeS1ZgjPGyarUhNNPBwBo3oIIUb4yaOBQtG3TXvF4POja\npRuOOVq+P7179cGWrSn2GGwbfkQiim1g4sgjNCVcFhjcu7fYtK3+5+PwQYPwh/vvxxPTp6Oiqqra\nTZcBxwr6wlWtfJE53/yXX3lvtnroyWODJ44dH6gor8Sm9ZtgsukfMGBApFevXgYAzJs3L/eNN95o\n1atXrz6DBw/uXV5erq5YscL72Wef5Zx66qmJ/Pz8yl69ekUOPfRQO6lFF4vF/J07d948YMCA5bm5\nueUA1jHzIGa+wZ3iYADXQPrwHAjZ/JpEKTMPYebXIZtZhzHzQEh/oXT1yhcBXMbMSRuGdFgF4Chm\nHgzgNgD3NDAuiywaxC82M0prIZEIN0kzzdRCwuvRq9dH4vEErrj5Xix+/1V0OqAdbn/wKcQT6d2g\nm7KLaC6mXvtnvPP83zGw78GYNmN2tXJ3KhzHQX5uDr6b+3qaPdQYpzWGukNSt0kVV62LGOtCVWCA\nyKsLJHLs7dVrN7aTF1EUPeg4Ducq/oRIsM8wG+vZTA9WEY0Ylcql117ue/HJx9G3d2/MeGsWvlpY\nQxwRQrDm8UcVQ1cA8tqW7GPS9Rq3CkECuq4nH7NlGY4f0ZhuVAU8qqkroVKdwNVjGnoPr7/4Ypx4\n9NH495dfOqOmTKF/vvZibHe+0GIeaJuD8SAAOGDcfO/NGDGqNmHk6/lfe3x+X/WHh5npwQcf3Dx+\n/PhapIX33nsvzzCMQGFh4VYAICIjHo8HAUQzbX51t0s2vyZp2qnpcT9XUSEfsi+sroVCPoAcZk4K\nhL4GIN1aVB6Al1wDO0YKpT2LLDLFLzYzSmchUfzdd8EvFi7BUYcNxozZH8K2bewuLUdTFhIAkBMM\nIBROa7aJuGshXlSYj3Akijf/9VGz5nr08CF47W2pav/Bx/NRXlFVb8zoow/DizNmVzP6kmW6UDiK\n9m2LYJompr/9Qcp8a+wscnOC6NapA2bOmQtAWn8Xfy+90UYMG4jX35W/MdNn1WxfF5t/3IH/LpYW\n46+9828c6WZJqTh0UF98tuAblJSVw7ZtvPr2f5yBh4+kvkcMV7+Z/yVE6Q+OaRr0zjsfwraFGYsq\nwY4dO/LKpd9bmil8cz58v9py4rijjsXLb7yKaCzqnm8ZACAYDCIUCcsDKpSIUzRaHtnhN8yYJxwJ\no22bNjBNE7NmzwYACCGsQ4YMtd95/zPHtnMCb771VoMqCQyGEBz3USzsi5ewaicUJVQSBDjTZlt2\n/N7I8oqdkdZH9kucefNFovfQfrRk82q/nuvToimfnxGjRmDGtBnV57tx3UZEkxYcVMMgHD16dOWT\nTz7ZOpFIEAAsXbrUU1VVJY488sjIBx984NuwYUOXefPm9f/66699hmEkCSAt1fw6DcBVzNwfwF+Q\nYoDYTNwJ4BNm7gfglL3YTxb/w/jFBqN0FhI33/uo2q51Ec44aRQG9O6BgaPPQiYWEgBw6bln4sRz\nr8KxE+qbYubn5eCSc85Av+Mm4YRzrsSwgc1j6/352kvx+cIl6HvsBMz64GN0PqBdvTEnHjsCp44Z\niUNOOg+DRp+FB56S67133nA5Dhs3BSNOvxC9DupaPb6uncX0f9yN519/BwOPn4y+x07Aux9+CgB4\n5I4b8Pi0N9D/uEn4cUfDWp09u3fF4y+9gd4jz0R5ZRUuv6C+BUb7tq1x381X49iJl2Hg6LPQe8Bg\n++RTT40WtmuvXv2HG+JjjzvdN2bMBejRo7vtODIFvWzKxbEFCxZoh4w5AguXfI2AXyZOJxw7GuNG\nn4zDx47EsBNG4KGnZd/llInn4qo/XoMhY4Y728o36tF4VbV6wh+uuQYnj5+IUyefhe4HdrcZigXR\nWrn7L39XXnz5eWXkCYdj+876tHBVRdRH8bBiG+wN7/KqVbuDxBk0jBIxAxzP94XKcxUj5gFtzE0E\nHp72QmD0yLGeM0aeAVVTcdRxR+HgPgdDKAJnHnMmXn7qZYw/bzwOPPhATDpuEk4/6nT85fd/qfGS\nSglG1157bUmvXr3i/fv3792jR4++l1xySRfTNOnEE08UXbt2jZ955pl82223xQcPHlwphLDqNr8S\nkYPMG0/rom4zay24DL4QESV9QM5qYD95qGmEnbqHc8nifxy/HguJWEUuyjf0+Kmn8UvExi3bMO6C\n32H5xzMz3oaFan5vd1KQo9tMEJ2wGYJNpdoSwoaao/mb69LKtmpHQrEyn+PYabn0qscXIVclobEd\nqQpimhO3lWiFl6x0Zn4NwKPHE17FjOiOUqWYPifzrCljBPVgeZfcLo02ia1cufLgtm3b7kjtOdq2\nbVub0tLS1rquJ3r27LkWAIqLi4sGDRr0FYABkPbb/0IKtZuI/gEpfjrNJTAckuw5IqLLAdwIYDdk\nU2sOM09NpXa7gehZSALDZ+72I+oQGA6HtCePuMc/L7XHKIssMsEvds2oHsxoVhh1PyKs5MU9qkpR\nINhGhMPCNoMpCgveYDMDEauIhI1yzYwk6pvvCeGouj/Kjk93bNFgP5GiIK5zwlKiFR4yMxTK1bWE\n6VXNiM5UpZpeC6YXMPdpmSlhJ5rUyuvdu/cPdZ/r0KHDrg4dOtRLb5n5nDpPfZry2lUpj7vW2e5J\nAE+m2d/tKX9+z8wDAICIboJL52bmT5PHcdeUDk7Z5pZ055RFFo3hVxSMYs0Sw8yiBl07dWheVgTi\n7WaO1wwKeAXHAvZOuWgvFRaCAc0X8iaUzEpHCsWjdojjkXC9ICNU1VDUgOHYHp9tUdrApigU1zhh\nqtEKD5nxpoOIqhqWVzOiHlCVangMsjyA5WlyuxaEaZsehx0SJDIqSyQbX/v06fO93++Pu/YRPfr3\n7//9vp4rgNuI6DwAZQA2IVuGy2If4dcTjLKWEfsNhpoTIaHBAgLtsNNdTA+Go1ElmLFduCAzgVgi\nEq2oF2RSDezsNAZ2ikIJDQlDjVZ6yIh50diCuaJYtldLxDzEVZqlx8nSAbvZpnotjYSd8PjUxkVT\nkygrKyv0+/3hkpKSwrqur/sazHwjZCkviyz2KX6xBIZ6sI39enf7v4xdnKsYuvDkK0ZEcyIeIm8s\nHPYEfJo37E9ojQcigmOpVrgisVOJxGoCERGx5g2EVU9RwnHyfbal1cqUhEKGVzFDQaMk4a/Y5NEq\nduSQEasfVISwHb83Ei3whXe20RPrWzvqppxEYJceD8pA9JOANaEafkWP5iuecFvhCatmPKPPa9L1\ntWvXrhvriqUCSFpMvEhEy1zB0mMBgIimEtG7RPQpEa0hoj8ntyGi84joayL6joieJpK26UR0IhEt\nIaJiIvooZT//cB+fQkQL3ePMI6K2LXFxssgC+LVkRrapAPzrCaw/YziKJx5XfDYIar6zzS8JC37N\nq3oigYTW6BqRo3I4HC/zWHGzepxQFEvRAjHH9tYrxQlBhkZmQotXahSKeIE0Nt9EzB49lvAKO6TZ\nWlgxvYzET6HazppQTZ2EpYMcnRkexxG6baq6bWoEQ0fq/NWAFz5UNrXTdK6vmqZVG1xEIpEcAMzM\n/YmoF6Rza3L95lBIFYYogEVE9C9IksFkACOY2XQtws8log8giQpHM/MGIkrXhfwlgOGumsPFkBnT\n75t/qbLIoj5+JcHI+MnLLv8rqKB8y9CFXiQqDbIdf8IosDXhsQOG3nAgUhGLmFWUiESrx9QxsKvO\npuqa0iFdAKrHeDP2y3ohuRmORsLWQY6HGbrjCI9tqppt6vUCTmPI8DNbXl5e2KZNm11Ajetru3bt\nqkkMhmF4IV1ZwcyriGgTasgEc5m5FACIaBakc6sFaW63yG1s9gHYBWA4gM+ZeYO7r7I00+kIYAYR\ntXfPc0NG55pFFhngF51NKIoytFevXn0O7jvgoIHHT8aDT70Cx9k3osCLi1fg6lv/tsfbz5wzF71H\nnlndx3T2FX/EgOMn4aFnXm1iy9qoqAzhiWlvVP+9bcduTLjkhka2aDkwCbtc5LAuHMtnlwQcJy8C\nR3catAtXyIiLWKQsssOXMKJeEKB5fBHVUxRjLvDalh4EQCTI8ih2OGCVxwKVmzS9YlvQDUQSupYw\nc33hiiJvZFM7Ya8vML0/+uI5FYrhb2nqNYFYF2oioHgihYon3E7o4S6sRHvYbPY2DOoRj3q6xsL+\nDrFQsFU8HMwxon7dNvVmT8IxmwxGSdfXzZs3dykuLu6/a9eudpWVlQXNaMeoO5Ah9ZhecuWDBjFz\nzzrsucbwGIB/uE2ylyHb3JpFC6LFMqOtN33RohYSHe87qlELCQDweDzOqlWrViC0o/WuDd93PufK\nm1EVDuMv19e2dbAsq1o/bE9xyMA+OKSZza6peP71d/Ds/bfiyEMHY8euEiwq/h5r589u9n4qqkJ4\n4uWZuGLqJABAh3at8eazGXur7RVial7U0BWtHf8oQMGwmfAouZbXi7p24US2KYxYOFYWYGadhLBV\nPRBzHK/HdqnZRGTpihVXEyFFhKp8QIq99z5mvBGRo1GypAb2MEO3bUW3TVVzLI0AD+R/+w622aRk\nTkOur0mNOgDQdT0O2bD6sVue6wxgNYAhAEa75bYYgNMBXAhZsnuXiB5i5l3u6zkAFgB4goi6Jct0\nabKj1ObWC/bwzLPIIi1+0ZlRNRxTb1NUiGf+dgv+8eIbYGZMmzEbp069BqMmXorjJv8Wn361GOOm\n1FivXPWn+zBthgwG73/0JXodfSaGnngOrr71b7XGJZG6/e0PPoULr7sdx0y4BAcefgoeff6f1eNe\nfetfOHTs+VKw9Ma7YNs27njoGXz59Xe46Pd34IY7H8KYc67Ajzt2Y9Dos/DFwiVYt3ELTjz3Sgw9\n8RwcdcaFWLVWVj927i7FGRf9HgOPn4yBx0/GV4uKcdM9j2Ldpq0YNPos3HDnQ9i4ZRv6jZoIABg+\nbkotIdVjJlyCxcUrEInGcOF1t+PQsedj8Jiz8e5/Pm32JWYAJSKfc5S4qYLtRCyg5Fo+D3GtQMS2\n6oQrzd0IRUuDQnEN7ERrsi1/EKyIalO6KmlKJ6JVPiiKZQe8kXChL7ytrWasL7L1zcF4sESLBwxy\n9ugugogcXWiJoOKJtFI8ofakh7uwEjvYcszeiYToEY94usRCgfaxULAwHg4GzZhPl4Fo/8CxmwxG\nqa6vpaWl+YsXLx4aDAZD27dvbw9IBe9EIuEFIIhoGaTu3FRmTsoBfQ3gLchyWoyZFzPzCsg+oA+J\naCmkEnd710jvUgCziKgYtTXskrgdwBeu3l2zG96J6HYiuj6DcWH33w6u+vh+BRFNJKKVRPRJM7bp\nSkR1+72yaAZ+HWtGjpR2ObBLR9iOjV0l8oZuybJVWDpvBgoL8vDpV+mtV+LxBC77w934fNZz6Nb5\nAJx9xR8zOuSqtRvxycxnEIpE0POoM3H5lAlYu3ELZsz+EPPfeQGapuGKP96L6bM+wG3XXoqP5y/C\nA7dei0MG9sGVUydj3AW/qxY2bcj+4epb/4aRw4fg7ecfhG3bCEeiuO/mq7F89brqbVNVxyefOgZv\nzPkQf+l5Obbv3I3tO0twyMA+uPnexzBqxDC88PfbUVEZwqFjz8fxRx3WqABqXVhqIJLQNKWts0VL\nxAusXNPnIa65mWEV0bBRoZqReFDVvVFNy4NtqX7HJlVX7ahmhGtM6YSwHb8nEvcQhzRbiwjTAySa\n/VkUMsMxdBK2DrDuMDyOpei2pWmOpQKJfZ/hZAAGMUjYTIrNpDgOCbZJs5qqcaU2vibp3QDQq1ev\nNYAMRgDAzL9pYBdbmfl0IpoK4JDq+TDPQJpgw8wfQKo4pD43DVLDDq49+X7r52PmbQDq61Lte1wE\n4BJm/rLJkQCISIUUoz0HUkw2iz3AXgWjbdu2tUnXEb7fwemlY0YffVi1FUNDWLV2Iw7scgC6dT4A\nAHD26SfimVffavKQY487Eh6PDo9HR5uiAuzcXYaPvvwa3yxbiWEnnw8AiMUTaFNU0Oh+Uu0fkkgY\nUpj14/mL8PIjdwKQCtJ5uTkorww1uK9Jp4zBmHOuwF+uvxxvzJmLCa4FxoefL8DsuZ/jgadeASCF\nXzf/uB29e2TuEluhFlj5olyzjTwjaPq91XbhCsVjTsiJRyNe1ROIqtQazMKrgqMeJxRRopV+gAPs\n0WPxPG+4uYw3QWS7JTVbZ7CHHeiOrXhsU1MdWwUS+2XdggGkBhQmxXEg2CaFbQi2WZAFBRYLMiGE\n5QhhshCG3EBAftdqfd/6M2ekqJ6kdx988MGr165d2yO114iZhcuSOwjAJwCucN1UjwQw3vUaKoYr\nnkpEXQG8AKAIUgboN8y8mYimQZbzBgNoA1nSmwLgcAALk1bjSUkhyLLqB5AMuyMgy3enMXOMiC5B\nEz5JqSCibpA/4kEA76Y83xXAe65/Ul9IOwsdsqIznpnXuC6y10O+RUuZ+fy9OUcius29ds8T0WwA\nt0KqVBwCSf64jpk/cQP8me6cFcibnt5u1vgSMz/U0PlmkR57FYzKyspa/TyCkcyM1m/aCkUoaFMk\nWampd/6qqsBJWfhNKnHvKTyemvXnpNUAM3DBxFNw7x//L+P9NGX/0Bwc0L4NWhXkYemKHzBj9od4\n6r6bAUgV77eeuR89U4RWmwMWmhHTdOTZCcsTD/qEAxWCLIPi8agR0lU1YAmtjS3ApNkRU4lWqtAU\nNeFVzMoiLdYU402QsHWhmBqE7WGwzg48jq3oNQEnvef7npwLhAMh3AxFsR0IdqCwTYJtVsiGgAlB\nFgsyWQYU0xGEGK8aAAAgAElEQVSKyaRA/ui02FxshxVVoSZ9RtLRu3NycqIAYJqmDuD/INUR/g3g\nTCKaD2AMJKuuEjJIfevu7jHIH8uXiOhCAI9CricBQAHkD/OpAGZD+iBdDMm8G8TMNSZXEj0AnM3M\nlxDRGwDGQzL7ZjHzswDgWlRc5B63ITwC4ElmfpmIrmxgzG8BPMLM04lIB6C4AeoWAEcwc0kKHX1v\nzvEOIhoFqbu3mIh+j4ap80MADGDmMmoBu/f/dezRmhERnV1WVtbGMAzP6tWrD1q9evVBLT2xZoEd\nZXdpOX570z246jeT0t5tdjmgPVb8sB6JhIGKyhA++vJrAEDP7l2wftOP1eWuGbM/3ONpHHfkoXjz\nvXnVZcKy8kps2tp4w3xj9g/HHXkonnxZyvTYto3KqhByAn6EwpEG9zf51DH425MvoTIUxoA+8jtz\nwsjD8diLr1fbnX+7fFWzzius58dyEYYezfUKB6qt2qGQU5FIOICmFpq6ZSOQ2GUpdgmHvFFsasNc\nl/EmSNheRYvnKp5IkfCEOpAW6cYi3tO07d6JuNI9FvF2joUCbeOhYEEiEvSbcZ8MRPXBIGZSLEfo\nCVvxxUw1EE2oueGomh8Oaa1CFWrrcInaLrxD6RDdIjrG1lMnYzW6WMudbrzM6SKWWZ205WYHzwqj\nrX+V0Trwg1EYXJfIz9lo5AS3GIHgDsMXKDE9/kpL80ZtRXcDUYvD4cy+f+Xl5YWFhYXlQA29O/ma\npmkGM693LcT/CXlXfxiAT5l5NzMbqF2SOxw1paRX3PFJzGH5IVkGYCczL3OzrO8hy1B1sSElQH2T\nMqYfEX3hrmOdC6Bx/xYZEJILr680MOa/AG4moj8A6MLMMQCjAMxMCr+mEC5a8hyPRAp1HjLop1Ln\n01Hgs9gD7Glm9FUgEKjyeDzBtm3b7gCAMHY1Xg/bB0gkEqJXr159hGN6NFXB+RPG4rpLz0s7ttMB\n7TDplNHoN2oiunU+AIP7SVtsn8+LJ+65CSeeexUCfi+GDWzqe9Mw+hx8IO668QqMOfsKOOxAU1U8\nfvdN6NKxQ6PbTf/H3bj8j/fgrkeeg2lZOOu0EzCw78F45I4bcOmNd+H519+FIgSevPePOPyQgRgx\nbBD6jZqIk449AldOnVxrXxPGHo/f3fYAbr3m4urnbr3mElzz5wcw4PjJcBwH3Tp1wHsvP5rROTHI\niateJxjR/YJgREUsDkeBBt2GHaKY5tBuv+E1yVEVEpZGqhkgPaYz4GGHdMdWPJahKezUyipSy162\n0Ewm4cgMZc/LXr80ONw0LT1J747H477NmzcnFRc4aZ6XBnsmwy+RJD44qO2J5CD9ta7rm5QsRUwD\ncDozF7vlrGMyOHaj82bm14hoIYCxAN4nossy2Gc6NPccG0PDd4VZNBu/DguJXSt7w4rv8cJqOBJF\nMOAHM+PKm+9Dj26dcG0DQe1/DaaeW2VxK7Yc2zHZIgdxkVAtwQpDZ7DGTDoz6Y4jiAlMwrEzL3v9\nT6NH25zlPk1JbxnsYtu2bW127tzZXtM007IsDQA7jqOoqmp26tRp08KFC3ucdNJJ3SHv2D8A8AyA\nryCp2kMAVAH4GEAxM1/lroMsg7R6OBhynecMdz3lPWZ+M3WtBgDqvLYRNWtGqWOuBxBk5tuJqATS\n8rw/gHsBrEhjTeFx51AEuRbzMDO/6tpa3M/MQXceX0MSA9ZDrgNdD+mrtBWSCfg2gMOZuTRJR3fP\ncSYzv+IGw+ae46eoKdNdB6AvM1/klufmutftbEg7javc7YcC+Dszj2z0Tc+iQezVnWVJSUn+tm3b\nOlqWpSKl12TIkCHfNrLZPgDtzd0gnp0+Cy/NfA+GaWJwv1647PzxLTWxXzwsCpgRYcPUmJh1OI7H\ncVg4tgUR5+p6KAOwa5O86/3FIDgAoClZX2qgbnNWelRWVuZ36dJlQ2FhYdWWLVs6CCFsIuJ4PO4l\nImiaZgD4B2oIDG8zs+P+8P8XQAWA1LWe/4O0fvgNgJXuvy2NWyH9kRpTaRgMAMw8KElgcEtw79YZ\nt4uZ55G0rxgGYLq7z3vcwHM3gM+IyIZcF5sKeY4vEtENcAkMe3EuTwB40i05WnCp82mWApYCsF1a\n/LQsgaH52KvMiIjade/efW0gEMhIfXifYfeqnjBjzTFxyyJD2FDNhGgbhvAIViwyVdsxBZFFAjYJ\nslnAZoVsh4iZCMxMDBmemMEMYoeJGcJhFo7DisP8P58VAZllRqlIBqNYLOYTQjixWMxfWlpqjxw5\ncgiAxwG0hmxqvcSVBjoFcoFfB1AKuX7jg8yabMgf6v+DJBhkwqQbA2lP7gGwDpKlFnazpZcgLcc1\nABMBxOseh5m/cPfTBjJ7aw0ZWMa7czvFnd9XAC5zNfCmIX3GEmbmoLu/CQDGudnXNPfYgwHMd69L\nvWuT6TXPYv9hrzIjVVWtnzwQAdjbzCiLhqHA0hQq8ZnxoMG63/GZPt1nw2uqTtwUlu1QXAjFYkWx\nAcUmC0KxoDsWeRwTGkxWYEJRTIbGKQv2ArAFwxaAIxgOMRwCyyDmyH+ZWTCDHIeFw6w4DhTeB86r\nPxVoL9Z3TNPU+/Tps2rp0qVFkKW537pU58Mg7+ZHIY2wKTP/noieglsuAwAiughNsMwgy2K3ADie\nmSNuFnMdgDvcKZUw8xAiugIyYFxc9zhJuMoPF6OOIy0z3+E+fgXAOABz9vDydIRk2Nkk1cfTXZss\nfmbYq2Dk8/kia9asOTA/P7+CiKpF4YqKiir2fmrNQTYY7Ut47ITX8KmWUmmocV+OCYLtZb+iJ/Qc\nQIetsGEqjmHAhGmZuqKy6dNiTlAJg8gUzAkNYOGQblnkNWWg0tmCCoMVxWTSbIZWU7hqON4Q4Chu\nICMZyJiYGanZmAOSgYyF40DYzArzz0/VXdCef27z8/PLSSaiArLPZ2ZK6SjZ6NscYdM5btCqZpkB\nABElWWYdIdeB5rvH0SHLgEnMcv/9BrL/prk4lohuhGyqLYRkt+1pMJrpBqIgGr42WfzMsFfByHEc\nRQjhVFVV5aY+v9+D0V58qbPIDDlmJFhakFPlL6v02FrAjuhRS8CJ+tQgFIv8iq3oXihg8rLFjm2Y\nNmIJU7Md3QMEoKqc0DTH0hWbPRRSmA0P4NQoOECwLbyGBa+dklWRCaGmZlUMCAsQIHfZiar/5yJ9\nICPpMVKdjRHDoTQlRTCT4+yfkqJw19D2BIqipG5bwcyD0gx7DHJRfbbbB3N7I7tsimVmQ1KZz25i\nexvN/F0hIi9kxnIIM29x17uaamZO/c7XHZtkuQk0fG2y+Jlhr4IRM6Nr165bVFW1AUlD3bx5c6eW\nmVozQKLJxsEs9h6tEqHcba1yQwWlEc2bID2RUxQPmeWKSlrMrwYBCz5ikGYKvwaBADQ4CkxDsRMG\nLIrHTS+zosibaj9UFYamsakoFgsyFeK4rnI07Z1rI1mVKrOqxsEA2YBqk/uZzzCIAelKiswE8N6W\nFBXRdMNrU3ArEhuIaCIzzySZAgxg5mI0LGwaApCL5mEBgMeJ6CBmXktEAQAHMPMPjWyT6XGSwaTE\nzWYmAGhKk24nEfWGFIU9wz1WLTBzFRE1dG2y+Jlhr4JRPB73JwMRAGiaZsdisf2mXaUoytAePXrE\nYJu6R1MwZcI4XHvpuRCi5Ssyi4tX4OU338OjdzbswFxRGcJrb39QrajdEDZu2YZxF/wOyz+e2dLT\n3OdoFw8FtxQGo21KHXjLfswx89qFLAGqiO3y6pq/OiglxwsbmtdWNK9UTGFTc2Im2bbBpmqZttey\nSJfBqV6AcohMhWF4wI4i2FB1NtR0vgtuVmVa8FoW6Y4JPW1WtadwAMUht0eqGUEsWVIklkFMZmSy\npEgMJxMpoK1bt7YrLy9vBYBt29by8vLSNVmeC8n4ugWSQPA6pATQ7ZAlKgHg/ZTxcwC8SUSnQRIY\nmgQz73Zp0v8koj6QBIZbADQWjOZACqteDOCsJIEhzb4riOhZAMsB7ACwKIMp3QTgPUhyxGKkqr7X\nRkPXplG41O8jmPk19++pSKFy72sQUT6Ac5j5if1xvJ8D9opNpyhKm549e67WNM2+/fbbW9RC4vbb\nb2/SQsLv9w+ORqPfovLH9rs2repwzpU3Y8SwgfvEQiITZBpkmhuM9tf8M4UpVGuz5rE6lAIwDK/j\nDcbjvgIGIrYZjwR93pyoTwkSLG5UidURsEzVjhuwyLBNLzdQElNVdgOU7RAZ1QEq0/mmy6pMVhQj\nw6xqX0AVZPQN+pY1NqaqqiqwZcuWTr17914thGDTNFXHccjj8ZjJMcXFxUUDBw7s2th+UlloLTL5\nZiC1t2h/H7spEJHKzFYDrx2D2gSLqdi/wagrUvqg/hewV3eMbdq02bly5cpemzdvblxiYF9DUc2f\ng4VEXXsHZsYNdz6EfqMmov9xkzDj3f/U269t27jhzocw7OTzMOD4SXj6lTerj3fUGRfi1KnXoM8x\nUrj49Auvw9ATz0HfYyfUEnMN9hiBP933Dww8fjKGj5uCnbtLAaS3oADS21w0B5pjqR1sC1sLHQW6\nHhfxsNdfuc2jwA/N2ypqWDG1LLLdF6NIFAo1yLYUDlSPoQRzDE+glR1U8kUw7le9YVVRa21jWaTH\nYiIQDms5oVDAHw4VKLF4oWHbBREgJ0zki1IjpVrBhqo7VT6/vTuQZ/8YbGVvCrZz1vs68zqtKzZw\nJ7HdaC/Ko62VSDhfMcIB4UR0gQTtxZpOU1AJZlNjDMPQVFW1hBAMAJqmWR6Px6yoqMhZvXp19+Q4\nIhpNRG8TkUJE04hoOREtI6JrXdrzIQCmE9F3ROQjoqFE9BkRfUNE/3EJDiCiT4noISJaTNJCYRgR\nzSKiNSQ15pLHC6c8/oN7rGIiuq+x83H3f4j7uMilhIOIphLRu+7ra4joz+7zXYloecr217vBDUR0\nNRGtIKKlRFRP2NG9FvcT0SJ3zGXu88eQlCqaDWAFEd1BRNekbHc3Ef0OwH0AjnKv2bXuyx2I6N/u\nHP+Wss0YIvovES0hopluqRFEtJGI7nX3sZiIhrjXex0R/dYdEySij9xtl7nZKtzjd3e3vZ8k7k95\nbye727cnos/dccuJ6Kg079EEkpT3pD3Gcvf9+ryx92t/Y69ut9u0aVMaCAQiVVVVOU2P3ocQmgX8\n9BYSde0d3vrXR/ju+x9QPPd1lJRVYNjJ5+Po4UNq7ef5f76DvJwcLHr/VSQSBkac/huMGXl49fyX\nfzyzWlH8hQf/jMKCPMRicQwbez7Gn3wcWhXmIxKNYfiQ/rj7pqtw410P49npb+OWay5Oa0Gxcs36\ntDYXUyY2T9/RZyW8bXR/ZEuB7e1UrsdhGF5P+dagHSyMxJRWpHmj4XgiHIhxiPze3IhXBBTY3Oii\ntGqRV4UGPzQwwTY0J27CYsM2vA5zrc+qbZEeq1PiUxSYmuYYqmo7RKYCGDpzen27JAgOqU5UVxFN\n67zaUFZlMqnWXmRVKlGTwSg/P79qx44dHZYuXdovGAxWFRYWluXn54fz8vJCmzdv7mwYRvLcfgOp\nTjAIch0nqSqQ75bArkJNf44GSWw4zS29TQZwN2RvEQAYzHyI+4P8LqRFeRmAdSQN+UqT8yOikwCc\nBuAwZo5SjVDpnuBQAP0ge4EWkVQib0zh5SYA3dwG1Pw0r18EoJKZh5FUe5hPREnhySEA+rE0EewK\nyQR8mGQ58yx3LsWonxkNguxfSgBYTUSPQfZnNUZ53+w29j4EKZM0AnKNbDmApyB7os5w17eKACxw\nA+VN7hwHuccf7x5/IKRqxSI3mJwD4D/MfDcRKWja4uM2ACcw848NXLefDBkFIyLqCNk41gcym3pv\nwYIFvuXLl/cBAMMwWpwuuWzZsr7t2rXb3rp166aFCBU17Rd7f1tI1MWXX3+Ls08/AYqioG3rVhg5\nfAgWFa/AgN49qsd8+NkCLF25Bm/+ax4AoDIUxpoNm6FrGg4d1K96XgDw6Av/xNsfSL+vLdt2Ys2G\nzWhVmA9d1zBu9NEAgKH9e2PuFwsBpLegeOWtfzXb5qIh5BnRQMKbE95cYPo6uwFJCZcFAlrEjAfb\nCkXzGkCVE41XBaKoQqZBCQCIoXgMEfC4wcZSOW4K2zLYVEzbqu8uC8C2odm20ORHVMOeBqhUNG+t\nSoPJakZrVVoGwUhVVadv374rKisrc6qqqnI2btzYvX379lvbtm1bWlhYWFpSUlLoOA4g+4OmQDq2\nHuj+SP4LQDrV356QP/pzSa5ZKQC2p7yetB9eBuB7Zt4OAES0HkAnyObZJI4H8CK79hB7KRo6Nxno\niGgWpEDpO42MXwqZ7b3TwLgxAAa4mSEgyRw9ABgAvmbmDe6cNxJRKRENBtAWwLeutFC6Y37EzJXu\nHFcA6AIgH41T3lOvZ5CZQwBCRJQMohEA9xDR0ZDMxQPcedTFkQD+yVIQdycRfQapSLEIwAvuTcY7\nXF9ZvS7mA5hGUmV9VhNj9yua/FKSvMKzICXeT3Oj7zOGYXgPO+ywFQCwcuXKnmh4AXGP0L1797Wr\nVq3q06pVq/JkmaJBKB4D+OktJPYEDMZjd92IE445otbzn361GAG/t9bf8774Gv+dMw1+nw/HTLik\n+hw0Va1WKlcUBZbV8Fz2xOaiMbSJh4IJXzIgaXEYppfMhOYr36yZee1CcSc/qHkTYcuo8lUHJV9e\nxEt+FTZnfBMjsyYVPqhggm2qTtwgiw3H9DiO02CGsi8CVBJ7k1XpgjJSXiAi5Ofnh/Lz80N+vz9W\nWlraqm3btqWtW7cuXbNmzUGxWCwO4Hl37aOciAYCOAHScmESajKemmnLIHN4A4dsSSHRurBQszRQ\n94ak7nec64yvu81YAEdDqjb8iYj611n/IUjVh1q1cZJrQXUFTp+DlBFqB5lhNoS6wrBJGbRMKO8N\nXc9zIdUhhjKz6ZYuM/boYubP3UA2FjLI/J2ZX0YD1Hdm/i3J5t+xAL4hoqGp2e5PiUzWjEYBiDPz\niwDgRuZro9Fo0LbtfdZI6Pf7E0IIx7KspheqFd3cVVru/NQWEnXtHY46bDBmzP4Qtm1jd2k5Pl+4\nBIcOqq0KfsLIw/Hky2/CNOWN8g/rNiESjdXbd2UojIK8HPh9PqxauwELljS69g0gvQXFnthcNIUD\nYuGAqqrG5gJHg65Vr/dolTtyAmZZgtmrC6WINY8/AgDRWGWgLLrdkxCxCJTMfpRTQQxFN0UgaOjB\nQiugFVAwEVB9YU3VoshA1cC2ocXjyTUovz8UyldjsVamZRVEGLlhIl+ESGkyc2kKDa1VdeJ1WiFF\nmjzvaDTq2bhxY8dly5b1XbZsWZ+tW7d2Jre53OPxmJqmmeFwOA/SdA5umUcw81uQpaNkTTgEmTUB\nkgrdmogOd7fRSPoCVYOI7oAsz4GIriEif8prqay8uQB+k3w9gzLdxuR+Ud/BdTQRFRKRD9J7aD6A\nnQDaEFErt9SWLJkJAJ2Y+RMAf4DMeureDP8HwOVuxgAiOpgkHT0d3gZwImSmkQxeqdesMSwAMIKI\nDnKPE6Aav6NMkAepv2cS0bGQ2Va6438BYDLJtbDWkIH4ayLqAtmk/CxkUE2+5zuJqLd7rc5I7oSI\nujPzQma+DZKJuP9bcRpAJnc6fSG7qqvBzFXz5s2zYrGYJxgM1v/lbAGEQiG/rutxXdfTsl2AGgsJ\ny7LIrwua8hNbSLQqzK9l7/C3W67Bf79ZioGjzwIR4W9/+h3atSmqZRV+8TlnYOOWbRhy4rlgZrQu\nLMA7LzxYb98nHnMEnnrlTfQeeSZ6du+K4UP6Nzmfhiwo9sTmojEIMHVJxLR1uu5sKXC0Tm6GBAAi\nHvYGjJiTyGsfNaycoOb1RW2rUnUsS4/EKgMRVCLgy494yKfB5rQZRlNQbPL4bNUjsyavY6lOzBCW\nY9imbjtORvtsIIOyNM0xFMW2hTAFYOrMVouw7xTF02QwCoVCwbKystauGCp8Pl/kgAMOqP7wFBYW\nlm7dutXHzCvdpw6AFAhN3iQmF0CnAXiKiGKQJb0JAB4lojzI34CHIRUPAADMfJubQRwL4Bq4fj7u\naycnF8eZ+d8kpYIWE5EBSR+/uZFTegDAG0R0KWQZMRVfA3gLUunh1STzzw2MX0P2SyU15RQAr7rz\nJwCPMnPdRvvnIJUjlrjVnd2oMdirBWY2iOgTyAbZZFmhlvApgPIGtk2lvCcz/aYo76mYDmAOSeWL\nxclzdEuF80kSOD4AcCPke1cMecN1IzPvIKILANxAsuwbhizXAg1T3+8noh6Q1+0jZEBz319oktpN\nRFdDLhRem/r8vHnzEsOHD18bDAZjK1eu7NmxY8ctSffJioqKnJ07d7bt2bPn2uT4tWvXds3Pz68s\nKioqrzs+iS1btnQoLS0tUhTFNgzD061bt7WFhYVVGZ1J6boDkajao8WPrIVEyyCuehIbFGiKQ9yp\nXJjJgJSEHSyMxESOl5lJUaNRKxEOsOvpQ0Twe/PCHvLpexqU0iFFqkgYlunFXjJIhYCl68kAZQlZ\n4mt+gMrJ6buEqPHyc0lJSX5paWlR6vfI/W616dmz57oNGzZ03rJli2fkyJEfs7RICEO6po6DXFg/\njZl3UhobbkgH2KWQ323HzRpWATgQwLOQP2QdIAPIakjtuWOpxkIiBuANyOChALiTmVNN/DIG7Wfa\ndJrjCwBLAExk5jU/xRyyyOyLuQI1qTUAgIhybdtWfT5fs0ssTaF169Y7+/fv/33Xrl3Xbd68uatt\n25kJY6qePRZsfXb6LAwafRb6HjsBlaFw1kJiD+G1Ep4DWImZ5ChbZMmu1udDCZcFArEdjqoiblv+\noKK3MlRNjwFSzSMSqwiWx3ZohpIIQ9DeLeolj2mT7jWUYK7h9bdycihPCUR9qjesiMzVslPhOFDj\nceGPRLScUMgXCIXytGi0lWVZBVHm3BCRP0KUnlCThBBaoqlABEg2nWma+tKlS/utX7++c0VFRTAv\nLy+USCS8y5cv7xOLxXyO46ioWecIAFjAzAMBfA7gEvf5pA33AMg78UfdhfjvACT9d8ZBsrKq587M\njwLYBuBYZj62zvROBLCNmQe67L1/N3U+P0eQbOBdC0lOyAainxCZlOk+AnAfEU1h6VGvAHjQ5/OF\n6+hjtShatWpVWVJSEtm9e3erdu3aNW3ip/miTY5pANdeel42E2oh5BrRQBtvTniXkwhuKQB3KtcS\nMMxqokItcoOtB4ECShIc2HEUZqZwtDxIRBzw5Yd19nrgcIuUxgh1pIoETFO1EwlYZDbSdNsU3ACl\n1pT4fBACtqY5CVW1HSEsAgyN2dIBQAhPRp/Vhth0hYWFpUIIp02bNqU//vhjP8gyDiCZYu+5j78B\nMNp9fDhqxEtfAZDskZkBYDKkD9JZkPpwmWIZgAeJ6K+QzZlp1RUyATNPgyyF7Xcw8wrIbDCLnxhN\nBiNXyfcMAE8Q0a2Q37j3c3Nz90oMdcOGDQcKIRwAUBTF6t27d70aa4cOHbZv2LDhwLZt25Y0QLWs\ngR7MWgD/TNDaZdhV2onglgKgbkACJLlB8QbjMW8rYVueoFCLLEGhiJmIBQAgNSgFfQVhjT0tFpSS\nEA40j6FoHleqSK412bbBlmpZljcj97sG4DhQEgnhTyRSAxTbmoaEqvrq6ag1hHRsuq5du25as2bN\nQUTEXq83msIiM7mm7p6JYOlsSFpxIWT14+NM58XMPxDREAAnA7iLiD5i1wIiiyz2BBlRNZl5CySF\nshrFxcXVf/fu3Xt16mvJL0/qcwcddNDGhsYn0alTp1q0rpycnOiAAQOWpxtbD6rHhFBNOC2zwJzF\n3uGAWChg+IKxmG34GgpIKeSGsGGJoI1cVfP6orZZpTm2fB+ZmULRstSg5IXD+0IbiVRL+FQI+GXW\nZJmqnTBgsStVtNfHdBxSEgn4/f7MytsbN27sVFVVlUdEDhHB5/NFdV03kky6nTt3tvf7/bsz2NVX\nkFYSX0E2kkaIaAJLwzoHMit5L2XxPhVJVlet6gQRdQBQxtIqvALS+yiLLPYYPx/Bs5aA5gsjEdqz\nDs4sWhQEUOd4TF/v8RimY+kNBSQ4tvCUbw2qLrnBtjQ/RKGjadGwmQgHk0TtmqAk3KCk76ugBKBa\nqkh1syZYKscNt+nWsq1GNfeagq7rTWbxVVVVgVAolKMoiuXI8iVM01S7d+++EZBMul27dqmUQfMs\naqzGh0NajX+d8tqNAGYCOKaBbZ8B8G8i2lZn3ag/JDPLAWACuDzt1llkkSF+ZcEoEMkGo58PVLaV\nzpZlbVDINuGoDQYkuOQGqdyQsCzy21YgqOreODtVsE0jpWnPoVC0NCiEcALefR+Uqs/Fbbr1J5tu\nNSfuZk0ehxtuuq0LRVFiiqI02SFtGIam67qRyqQLhUL+DRs2dDn44IPXlZWVtYrH435FUYikH9AK\nZg4SUXek2GwTUS+WFuQvwRUsJVenzMVVAIa5UkFJNt5gAL2I6AtmfsztLZru0o9fBbCRpeV3fbHF\nLLLYQ/zs3C+bA0VRhvbq1atP8r8fNm9PW/6oqAzhiWlvVP+9bcduTLjkhv02z/9leC3D05Elc80k\nR91S4Ch1WXZJuOQGv1cYIQDs2IqXucCr+/LC5K4vJuE4jghFS4MViZ3CUs0waO+9gTIFMRTdcJtu\n7ZSmW0WNoYmmW13Xw429nkQ6Jl0gEIjGYjH/8uXLe8diMb/H44mZpqkDOAzAQnfTZyCVB4YCuB7N\nIyU0xMZ7BMAjzNwf0n48iyxaHC12R/nRx91b1ELiuFHrmrSQ8Hg8zqpVq1ZUP8EOYccyB+zUCrIV\nVSE88fLMap+hDu1a481n72/J6WbRCHKMqL+tNye800kEZUACOpVpCZj1MySgNrnBsVm3TG9QqB6T\nKBSzXIJDEo7jiKpIaVAIxQn6CsKqrfmwD91Z06F20y0cU3WihrDYsE3dqdN06/F4MiIvNMSk03U9\n3rlz53qGgBMAACAASURBVC2bNm3q0rp1692rV68uAHAUpG/Q3tpsN8bGSzaMvgbZe5RFFi2KX3Rm\nVBeVVSE6ZsKlzpATzkH/4ybh3f98CqC+tcPGLdvQb9REAEA0FsOky/6APseMxxkX/R6HjZuCxcUy\nvgV7jKje95vvzcPUa/4MANhdWo7xl1yPYSefh2Enn4f5i5rSJsyiKB4K5iueMCAzpK2FjgItfYYE\nuOSGqq2qrjqy298hzbFzA5q3MCKU+lI9jmOLqkhJsMLYBUu19mumlApiCN0UgWBCDxZaAb2AgkZQ\n9YV1VYsSyPF4PJk1caOGSde5c+dtHTt23FxRUVEQDAbDlZWVeUTEeXl5Va5I8ZGQcjHVNtsp//Vu\nxvSby8bLIosWwy/6w5aUAwKATp06Jd5///1178x4ZVu+iHQuKSvH8FMuwKljRtazdkiV43nipZko\nyMvBik/fwvJVazFoTEN6hzX43W3349pLzsWRhw7G5h+344RzrsTKz35WArg/S3SQDLto1Db8Bjnq\n1kKgYyMZUl1yAzMrtqUFSLSSBId4uJ44r+PYSlWkJCiEYv9UmVIqFJt0xVZ1L1SQLsKZrBcBUpcO\nkBqN7t8+XdeNnJyc8KZNm7oWFBSU6rpuub1RPQEsd9sw9oXN9gIA4yH7ks7ay31lkUVa/KKDUd0y\nXSKRoGtuvjOwZPECCBL4ccfuaqO5hvDl19/hdxfJANSv10G17B0awrwvFmLFD+ur/64KR6olhbJo\nGC7DzrPOZdjJgESNBySkkBsCbQ3Lho+ZhG0FgqrHG2enErZp1lM5TgYlRVHtoLcgrNiKH3tpP763\nII9amelY27aVLVu2dLZtWwHAHo8n0a1bt01CCNuyLC0nJycMAKqqGgCWpWQ0e2Sz3QSugdSC+xOk\n0kLG55FFFpniFx2M6uLpp58u3F1aJhZ/+GZMF46v62Fj98oqIrXRNp6oqSg5DmPBnJfg9ba4jdOv\nHgrbShfTsterwnbYUQyy1a2FSpMBicyE5qvYrJl57cJxRw8AIMdWvEAh69542ExU+Zm5XrCxbUup\njOwOKopqBb0F0Z8yKAlf5sEoJycn2qdPn1XpXhs6dOiS5OP8/PxSZj41+bfr03Ni3W2Y+faUx1NT\nHh+T8jiY8vhNAG+6f/4IYLibeZ0FmYllkUWL4te1ZlRZqRQVFZl6TquKT+Yvwqat0jOsrrVDKkYM\nG4g35swFAKz4YT2Wrapm0qJt60KsXLMejuPg7X9/Uv38mJHD8diLNU7H3y1P28ObRQPw2IbeyaEE\nXOaZDEiswFWnbgxa5Y5gwCxLCKVau44syxsUWpGt6t4GZXZs21IrI7uDlWapY6tOGPvQUjwtFDKE\nruwThfv9gKEAviOipQCuAPD7n3g+WfwK8asKRhdffHFZcXFxoOewYwtffvM99DqoK4Da1g433PlQ\nrW2uuGASdpeWo88x43HL3x5H34MPRF6OvEG8749XY9wF1+CIU6eifZui6m0evfMGLC5egQHHT0Kf\nY8bjqVfeRBbNQ9CM+duJmuZPNyCJTAJSXXIDALAjNMfJ82vegohQlAZtR2zbVCsju2qCUgb+Ry0B\n4VXTWhD8EsDMX7iCqAOY+WhmXtv0Vllk0Tw0aSHREIqLizcOHDiwaQHTnwq7VvaGFW9yEce2bZim\nBa/Xg3Ubt+D4sy7H6s/fhq5nVYX2B7b5csLldqK6PKSzYnUsIweyf6ZJpNhSVJMUiNgWSjSWjuBQ\nF6qimUFvQUJYIoA0VuYtBbWNf8W+yIyKi4uLBg4c2LWl95tFFvsbv6o1o1rwFZQitL3JYBSNxXHs\nxEthmhYYjCfu+WM2EO1HtI+FgglfTjRqJ/yAzJB+LFTMA8o0I5OAVJfcAADMpLgEhxjblcK2Gl6L\nsmxTq4js0lRVN4Oe/H0SlEgVsV9wiS6LLPYLflVlulrwF5YhgxJMTjCAxR9MR/G8GVg67w2cNGpE\nU5tk0YIgAJ3jEY8u1GqGSIJs7cdCJmhqRuwTl9zgSyo3JJ93bMXHKNQ1b26YiBr9LFiWoVVEdgWr\n7DLLUblFy3fCrzZZQVi8ePHQ5cuX91m2bFnf1atXH2RZlgJIM73Vq1cf1FJz2RsQ0emu/09T4+4g\nouPTPH8MEb2XbpsMj59PRFfsyf5S55TOSp2I8vd0Xlm0DH69wUjRLejBjBsMs/jpoLCjdDZNEiSq\ne3BkQAJBzSwgAVK5oQ65AQDItnxBRSsyGyM4JCGD0s5gyC433aC0dyCwCGhlTQ0TQjj9+vVb0b9/\n/+8VRbF27NjReq+P3fI4HUCTwYj/n707D2+qyv8H/j43e5p0S/e9dEvSBUqhSGVRBMUREQUEwQEX\nBEEEBVQUBhERQeE3fhGX6ggMAyiOMqjgoKIIyKgIZem+QRfoRtckbfZ7f38kqaF0hWJJPa/n4bFN\ncu89SZFPz73nft4ct4rjuEO9eWBCCB+AJ2wLKHq6La/NmJ4B0FqMOI77Szux5dQfrP8WIwCQ+nSn\nvT51ExBZzcIwlpjgNCMxEqvgkqJnBam9xQ0AwLKM0L7AQccwTIcLHBzMFqOwsblapmUbTNdTlBgR\nv4Hwuj6eM5lM1mwymVpPUbIsyysoKBhw7ty5+KKiokjHdV6tViutra0NIIScIoR8QwgJBABCyI+E\nkCH2r33sUeEghDxCCNlHCPmOEFJCCFlICFlCCDlNCPnFnmsEQsgThJDfCCFnCSGfE0KkhJA0ABNh\n69R9hhASRQgZZN/uHCHkP4QQL/v22wkhU+xfjyeE5BFCMvB7wN8VCCERhJBjhJAM+580++O32R//\nErbE6fUAouzHd/TzkhFCPrMfY5f9Rl/Y398G+3GnOsZECFkEW5z6YULIYafX+hBC3AghB+zvO4sQ\nMq0nPzfq+vTvYiTxbAJP2OvR6NSN4WbWSwLJlfEK11KQHJ0bpJyumbRpC2S1CGWE50MEYrduFRiz\n2VGUGk0cn+txgCMjE/ToFyKO46DRaOSenp6tv6nr9XpJeHh4eWJiYrbRaBRpNBoZy7KkvLw8zNvb\n+7K9KepWAK914xAJsBWFofbXt3AclwzgZwCz7K/Zy3HcUHvD1FwAj3Mc9z/Ywvies7cZKgawA8AL\n9jjzTAAvOx/I3k38Q9iy0FIABHQwphoA4ziOGwxb8uxmp+cGA1jMcVwsgOUAiu3Hd3Q6ToZtpqOG\nLbHV+Tx7HcdxgzmOa70P488Qpe6q+ncxIgSQKqr7ehhU93kbdTIvew87h2sqSLAvbtBXsXwerlg8\nYFvgIJMJRAo9j99xfzxnZrNB2NBc7aZjG43dLUqEz+gZMb9bRY9lWSYrK0t95syZgRaLReDl5dV6\nilkikTSLRCKzI2DPaDQK9Xq9yGAwSOrq6vwJIWcArAQQ0o1DHeY4Tstx3GXYOil8ZX88E0CE/esE\n+4wkE7aODvFXvTdCPAB4chx3xP7QPwGMavMyJYALHMcV2jtE7OxgTAIAH9qP929ceSrwhP1G3o6c\n4DjuIsdxLIAzTu8BsLUv6olMAOPsM6qRHMfRThN/IJcuRlKpNLmj50pKSgTjx48fADffOjhdi2hr\n3eaPbszg2ti+50ssXLEeALB60/vY+P4OAMCqN9/DoaO/drbpn06gXitz4wmvuL5zrQWpo8UNAGC1\n8ru9wMHBZDaIbEWpycjx0WlRYtwE3f5FyHHNKCkpKRMAKisr/Zyeax0bIQQcxxEARCQS6X19fSvs\nM4VEjuPutL/Mgt//327bKsm5+LJO37P4fXXtdgAL7ZERr7Szj972LIBqAAMBDAHgvIqyq8Lv/H7a\nNnft0UyW47gC2GZimbBFqa/qyfbU9em1pd0Bh8/0aoRE1e2DuoyQ6ExERIT54MGDtgZyEq9atNT5\nt/e6dW9vxUuLHr+eQ12XNc/RgMy2CIBQQ4v4vEhsNLGW1mXZtoLEMwfX8U2wWLp1H5JD21gK58PZ\nFjiITIDGajEZu5XiajLrRSazXiQSSgxSgYeVWHBFtAV4xMTIul640BaPx2PDwsLKiouLowMCAmo6\nep1EIjFYrVa+vWs3CCECALEcx2UDKIHttNgJAFN6OgbYYsYr7fucCVs7IOD3CHJwHNdECGmwzyCO\nAfgrgCNt9pMHIIIQEmU/rddRF2IPABc5jmMJIbMBdNTYtvX414lGqd+EXHpmBAAsy2LevHkhMTEx\n8bGxseoPP/zQCwDy8/OFMTEx8QDw9j8/Nz3w+FKMn/kUYm69D8+vfQuALVpCbzBi0LjpmLlwxRX7\ntVqteOSZl5EwZioS73gQf/9gJ2pq65EyfgYA4Gx2AUjwYJRdsrUcikqbiBa9vsfxEo888zI+229b\n5BMx7B68vPE9OCIw8opsZycu1zVg3PT5iL99CuYsW4Pw1L+gtt5lb+jvFh7HMuFmM8MjV178v9YZ\nEtDx4gbAscDBUyIQe+kI0/FMui2jSS9uaK5ya+Y0Bo6P1tkcTyas6u5sqy2ZTKYXi8X62tpa745e\nwzAMN2DAgGKNRuNFCDkL2ymqNPvTGwHMJ4ScBuDT0T468TfYwvqOw1ZQHD4B8Jx9wUMUgNmwLWg4\nB2AQgDXOO+E4zgBgLoAD9oUEHRXXdwHMtr8PJTqY0XAcVwfguH1xwfUEkjmi1A+3eTwRwAn7ac+X\nAay9jmNQPeTyN73u2LHDMzMzU5Kbm5tdWVnJT01NVd15551X/GPDEZ41I7vAevbb3TyRUIi4Uffj\n6UenY/1Li7Bl257WaAlnZ7LzcamqBlk//BuALS3W00MOg9EEjVaHYycyMGSgGsd+PY0RqRz8FF6Q\nSiSYs+zV64qX8PH2QsY3u/Hu9k+x8f1/4R8bV+GV/5eOMbcOxYtPP4aDh4/jo4/3Xeen5hqEVrMg\nlOHpSwl4nNONqEZiFVQoeOaga5ghtRdL4fy01SKUMTwfCyPQ6czGli47OLSOydQiNppaIBJKDVKh\nh4mRCXrUnWTw4MGnnb93jhv39PRsDeSLjIwsc3wtk8n0Pj4+VfaFBq04jssDkOT00Er749thOwXn\neF2E09etz3Ec9x6A99qOkeO447h6afct7bzuEaevD8JWYDrEcVxhm/G+YH/8RwA/tnntjDab/+j0\n3EKnryM6GdPbAN5u57XfgEap9xmXL0bHjh2TP/jgg/V8Ph+hoaGWYcOG6X766SfpkCFDrrhoPTzt\n1iYPDw9PcCyjjh2A0kuVCA3uaHEPMCAsBOfLLuHplRtwzx0jcOfo4QCAtCEDcfy3szj6y2m89PRj\nOHj4f+A4DiOH2S5fdRQv0V0P3D0GAJCSpMLe//4AwBZz8Z+PNgEAxt9+K7w83bu9P1fnZjZIAkUy\nXQVnuqIwGK6nIKH9zg0OHEf4VqtcJhBLWlhLE9/ag/0bTS1ioUxSIyKyP6TnHUX1Fy5fjLpLIBRZ\nIVVUo/lyII9hYLF0fibGy9MdZ7/7BN/8+DPe/9fn+PSr77D1/63GqGHJOPZrBkovVeK+u27Dhne2\ngxCCe+4YAeD64yVEIlsrIh6PB4u1T8JKbzpeRp3MIJHr6p162AFXFCQzLJYe93ByiqXQGlihDG3a\nAFktfCmg4ATiFq3FqJPZFw50isfnm6Qenjdvz0aKukm5/DWjUaNGaT/77DNvi8WCiooK/okTJ2Qj\nR45sfxWNPKC67co6gYAPs/mqFGvU1jeAZVlMvucOrH1+ATIybafORw4bjJ17/4uYyFAwDANvLw98\n/cNxjEi1zYxuRLyEc8zFt0d+RkPjn6+xRIBeK5PxRFf9XG0FCQCff/UPsZs66NzgQKwWqZwn8DHx\nhaIu+8u5eXlfIk6r3yiK6h6XLUZmsxlCoZD761//2hgfH69XqVTxt912W+wrr7xyMSwsrP073hm+\nFTK/CueH5s58AEljp121gOFS5WXcNmUuBo2bjoefXonXX3waABARGgSO4zBq2GAAwIihg+DpIWs9\ndXYj4iVeXjIP3x75GQljpuLf+w8hwM8Hcje3rjfsR2wr7JolIkZgaPtcbxSkzhY3AADLMiLbAgfP\nDhc48IWiZoncvdMVdB31oOsJg8EgzMzMvOreH4pyZS4bIfHzzz9L5s6dG5GZmZnbow05DqjJVcPa\nvSW8NwOj0QQejwGfz8fPJ89i/ouvt7vo4s/AxPDN5wV8YuXYq04xizmeOagOuJZTds7ai6VwRghn\nYRid0WxsueI3Au+g4DyhRNrpvS0ZGRnJjsUKRUVFEWKx2BASElLVk/EZDAZhYWFhTGJiYjaNkKD6\nC5e8ZvTGG2/4pqen+7355pvlPd6YEMAjpBT1xZ2u8LmZlF2qwoNPvgCWZSEUCvDhm3/r6yH1GSFr\nEYSxfH0JQ3htr+HYZkh807VeQ3JoXdwg8zdZLLjqlxb7Age+QCxpsZqbBKzVIhC7yeq6KkRtyWSy\n5paWFgkAaDQaaXl5eRjHcQzDMGxERMQFqVRqbG5uFpeUlERyHEc4jkNUVFSx4ybY4uLi8MuXL3sQ\nQr4FcB/HcTSmgnJZLjszum71FyJgaFT09TCoa9MoctNd4sztLr0Wc3xTUB1HrneGBAAdLW5wwvIF\neq2Hn6KEx+d32RDVMTPiOA6FhYUDfHx8ar29vTUWi4VhGIZlGAYNDQ3yy5cv+8XGxhZfuHAh1M3N\nrdnPz6+eZVnCcRzMZrMgKysrUalU5hQXF7sNGjToBIAvOY7rqN0ORd30XHJm1Cs8Qi7CqPEEx/b4\nnD3V9zyNzTKDWK6rY41XFSQDsQh7Y4YEOHVuECkYluXaW+LNiGVeDd0pRMDvPejMZrNAJBIZHD3o\nLBYLr6ysLNJoNIoBcI5Zn0wma66qqgo0mUxCb2/vBqlUarRfLzXKZDI9ADcAp3BlTzaKcjkuu4Dh\nuvEEFrgHlXX9Qupm5W/QyuTtrLADHAWJcNezqMGBMejEbtr2FzcIRDyN1F1Y1+19ddCD7uLFi8Ey\nmUybmJiYHRMTU8RxHAMAvr6+9dHR0UUMw7BFRUUxjY2NcgBo092hbU82inI5f95iBABuvvUQuffv\nvjr9GAEQYtC1u8IOsBWkSgXhwONdd0FqL5aCEGJ1V0hKutrUeQUdy7KM1WplHD3oLl++7M+yLFiW\n5QmFQhMAXL58ubWFj16vF4rFYmNQUFCNu7t7o+MaU0cIIasJIcs6eO5/PXrPFPUH+nMXIwDwDCsF\nc/2/PVN9g+E4Jtxk5PGY9guOnliElT5M7xQkOMVS8KGXeYnKeAKmy/06p7gSQrjq6mpf4MoedAEB\nAVUVFRUhWVlZaufruHV1dd5ZWVnxWVlZaoPBIPH19e32LKwtjuPSun4VRfUNly5GhJCUJ554ojXD\nZdWqVf5LliwJ6tFOeAIrPEI7y0uhbnIC1iIIs3JWQgjb3vO9XZCI2SiQWRpbJHJhj7tyBwcHlxsM\nBpHVamWKi4sjLBaLoKamJsBsNguSkpKyfH19q/V6vUQoFBrOnj2byOPxrAqFohYArFYrDwDEYrGJ\nz+dbLly4EHr58uUgAI8A+NrpMGp72ut5e7KpbdyE6Oz/ZQgh79rTUb8jhHztlMxaQgjxsX89hBDy\no/3r0faE1TP2Rqm90T2bolr12nnmiOUHejVComT9PV1GSAiFQu7rr7/2qqysrAoMDOxRtPMVJJ5a\nGBXVHcVMUDc/qdkgDha5NV+Eud27gW0FiW8KrIUZVut1LWogAoFREBLc4+uNLMuiqanJ3d3dXXPx\n4sVAuVyuiYqKKrFYLLycnByVp6enBgCMRqNErVbn2Bc7JAQFBV1KSEjIKSkpCb18+bIiKCioxr4/\nxtfXtwLAAtiSXhPsh1ICuB22mIR8Qsh7HMc5F+IHYFvwoAbgB1ua69Yuhr8MwFMcxx0nhMgAtHtq\nlKKulUvPjHg8Hjdr1qzL69atu6qI7N692yMpKUmpUqnUaWlpseXl5XwAWLJkSdCqVataXx8TExOf\nn58v1BD3yrsfXmQdOHYaEsZMxZ4vbM17T53LwejJc5AyfgbumrEAldW2FOkPd+3F0L88jIFjp2Hy\nE8vQoqe3ePQ1D2Ozmw8j6jBZVU8swkrFdc6QCOGEISHFhMdrdxbWHscKupycHLVQKDT5+/vXarVa\n9+rq6sCsrCx1Xl5eHMdxxGAwCAHAzc1Ny+fzWaFQaOHxeFYvL69GAJBIJC2O/CIAUCgU9QDAcdxR\nAO6EEE/7Uwc4jjNyHFcLW2xD2/8/RgD4N8dxLMdxVQDaRim05ziA/2efaXlyHHftv/xRVDtcuhgB\nwHPPPVezd+9e77q6uiuWaI8bN0535syZvNzc3JwpU6bUr1mzpuMW3QD2/mef3NMvqOns959Zsn74\nN8bfngaz2YynV76Bzz54E6cO7sZj0+7Dig3vALB11/7t6504e2gPVNGR+OjjL27gu6S6q7MVdgCg\nZ66vIAn8/csYN7ce/ebhuGaUkJCQExkZWe64aTUqKqrI8fjAgQMz3dzcDPbXc222b/2+i2atjtd1\nln7alXZTYjmOWw9b2JwEtkwhl7lpnHINLr8c1Nvbm506dWrd+vXr/SQSSetvqxcuXBBOmjQp5PLl\nywKTycSEhoYaO9vP4MGD9StWrAhduGaL5sE7b/EaNSyZZOUVISu/GOOm29JYrSyLQD/bQqes/GKs\nfOMdNGp00DW34C57xATV90L0OukFidRgsJrbjcvWM9d2yo7n6VXD9/HplRu95XK5prq62j8iIqKM\nEAKdTiex3zfUbfX19V4AWgghIwA02dNXu7PpcdjC7P4JwBfAbQB2258rgS0l9r8AJjs2sKe1ZgLI\nJIQMhe1UoHPwHkVdF5efGQHAiy++WL17926f5ubm1vezcOHCsAULFtQUFBTkbNmypdRoNDIAwOfz\nOZb9/QyL0WgkAJCUlGTMyMjIUScOanrh9XdNa/7+ATiOQ3zsAJz57hOc+e4TZH7/Kb79+F0AwCPP\nvowta5cj8/tP8fKzc2Ew9jh4lLpBGHAkzGjk8ztYYQdcsaihW6ebGKlUIwgO6nn7qQ6EhIRUcBxH\nHEu+L126FNzTfTAMw12+fDkQwPsAHu/Bpp8DuAggB8BOABkAmuzPvQLg/wghJ2GbVTk8Y09YPQfA\nDFuxoqhe4/IzIwDw9/e33nvvvQ27d+/2eeihh+oAQKvV8sLCwswAsH379ta2PxEREcavv/7aEwB+\n+ukn6aVLl0QAUFJSIvDz87MsWLCg3svLy7pz24ehy596VHS5vgE/nzyL4UMGwmw2o+B8GeLjoqDV\ntSDQ3wdmsxm7/vNfBAf49cVbpzogYC38MAvPcIFHeI4bSNvSE4uwSsE3BdTBAqu1w/8XiFCoF4aH\nF3dz1nGVtimugO1654ABA0rbPu7v718HoHX59sCBAzM7ek6hUNQ1NTXpOY5zLFwAx3GrnffX5jmZ\n/b8sIWQZx3E6QogCwAkAmfbnjgGIbTsujuOe7t67pahr0y+KEQCsWLGi6p///Kev0/cVDz30UJSH\nh4dlxIgR2rKyMhEAzJo1q2HXrl2K6Ojo+OTk5Obw8HADAJw6dUry4osvhjAMAz6fz737zjvnhe6+\nfp+lv6lYtOoNNGl0sFiteGbODMTHReHV5+Zj2IRZ8FV4YVhyArS67qe5Un8MicUoDmY6XmEHAC1M\n5wWJ8PlmYUREYVcLFk6ePJkiFov1HMcRkUikj4qKKuF1sE1dXZ2HXq+X9LRbdy/bb1/wIATwqn0h\nA0X1mT9vo9Tu4DigrjgKJq1n1y+mblY1Yrn2Mmvs9L4YKcs3BdSxjHNBIgxjFUZE5DNSaZfXctpE\nQ0RKpdKWoKCg6usffedohATVX/SbmdENQQigGHAetYUxMLfQm/xclJ9BKzdK5DqN9eqmqg72GZIx\noA6A1conDGMVhIUXdKcQtSWTyXQtLS2Suro6j6qqqkCO4xgej2eJioo6LxQKLdXV1YqWlha3yMjI\nsqKioggej2fV6/VuZrNZEBwcfNHHx4e2qKL+dPrFAoYbijAcFFFF4IvpeTgXFqzXuYl5wk4LSwtj\nEVUpGCvh802CsLBCnsytxz9zx42tEolE7+7urlOr1XkJCQk5Xl5e9RUVFe3eXmA2mwUqlSovOjq6\nsKKioscLGSiqP6Azo+5g+Cx8YvJRVxQDs77D366pmxcDjoQb9YJiodBsYTtezq3nWQWWAWGFYqGs\nR0F5jhtbAdtNq/7+/rV6vV5cXFwcYjabBRzHMUKhsN3bCzw9PRsJIXBzczNYeiGDiaJcES1G3cXw\nWShiClFfHAVTs3tfD4fqOT5r5YdbWON5HmHbW2HHEMYaKg8tlPWwEAG/39jq/FhZWVmYn59flUKh\naGpsbJRXVla22zex7U2uFPVnRE/T9QTDY6GILoJI3tjXQ6GujdhiFIVwvKtO1/EYniXcPTz/WgpR\nR6xWK08oFJoBoK6ujqYKU1QnaDHqKcJw8I4qhtjzmlv5U33L3dTi5ufUw07AExgj3SNzpYKeL1bo\nTGBgYMX58+ejsrKyVLxu3lxLUX9WLr20u7i4WDB37tywoqIiCcuyGDt2bNOECROaVqxYEQIAZWVl\nIj8/P7NYLGZVKlXL448/Xrdp0yb/w4cPFzn2MXny5IgJEyY0Pfroow2pqalxNTU1ArFYzAJARESE\n4eDBg+eXLFkStHPnTh9vb2+L2Wwmzz//fOW8efPqoakIgK6aXnB2URclcp2REIS5hxULGIFLFgu6\ntJvqL3rvmtFqj16NkMDqpk4jJFiWxaRJk6LnzJlTs3jx4mKLxYIZM2aEf/vtt+55eXk5AJCamhq3\ncePG8lGjRrUAwP79+7tcnr1jx47zjtc7e/LJJ6vXrFlTnZmZKRo+fLj6kUceaRC5B1WBL9ajqXwA\nOJbOMl1MMHgGziO8jCFdX7MxGo2CkpKSMKPRKAEAuVzeFB4eftFxvaewsDDSYDBIFApFraenp+b8\n+fMDACAqKqpYIpG0Llw4e/ZsolqtzhUIOi5+zvcsdQchZDUAHcdxG7u7DUXdbFz2H9CvvvpKLhKJ\nqCX92wAAIABJREFU2MWLF9cBAJ/Px/vvv1++Z88eH61We8PeV2JiolEsFrO1tbW2LuFS7yYoovPA\nCGhzOlciC7hIvCJLu1OIOI5DUVFRtKenZ2NSUlJWYmJiFsuyTFlZWTAAmEwmvl6vd0tMTMwJCgqq\nqa+v9/Tw8GhISEjIcS5EFEV1zGVX02VmZkoGDhx4xQzG29ubDQwMNOXk5IiGDRvW7vn/kydPypRK\npdrxfWVlpXDChAmOJpGYNWvWAMdputGjR2vS09MvOm//008/ScPDww3BwcG//2YrdNPDNy4XDSUR\nMOk8euktUjcCwzfDM+wCxB7a7m7S1NQkJ4Sw9t5wIIQgPDy8PDMzMyk0NLQiPz8/1mw2C7OystQe\nHh4NdXV1fgA4nU4nV6lUBR3tNz8/P8psNgs5jmN8fX2rAwICWk97l5SUhGq1Wnc+n2923Cyr1+tF\npaWlYRaLhc8wDBsREXFVbztnhJDtAPZzHPeZ/Xsdx3EyQkgggD0A3GH7N2A+x3HHCCF3wtYoVQSg\nGMCjHMd1mA9FUb3JZYvRtRoyZIiu7TUj5+c7Ok33/vvv++/evdunpKRE9MknnxS1fR48gQWK6CLo\nqvygrQ4BOs2dofqCUNYEr4gL4AmsXb/4dy0tLRKpVHrF3wk+n88KBAKTXq8XxcTEFBUWFsY4Le0m\nDMNYg4ODO20HNGDAgBKBQGC1Wq0kJydHrVAoGgQCgZVlWUYqlTZHRESUl5eXB166dCkoMjKyrKSk\nJDw8PLxUKpUaNRqNW2lpaRiAHkefA5gB4BuO414jhPAASO1R4ysBjOU4rpkQ8gKAJQDWXMP+KarH\nXLYYJSQk6Pft2+fl/Fh9fT1TWVkpVKvVvX5qxHHNaNeuXR4LFiyI+Mtf/pIplUqvPMVDCCAPrIFI\nrkVD6QBYTe3m6VB/NMJBHnAR8oCavh6Js6qqKv+mpiZPwNaFQa/XiwUCQTMA+Pj41Nv/W1dcXBxt\nsViYlpYW2fnz56Mc23cRtNeZ3wBsJYQIAOzjOO4MIWQ0bDHkx+3dyYUAfr72d0dRPeOy14wmTpyo\nNRgMzJYtWxQAYLFYsGDBgtCpU6fWyuXybkdC99TMmTObEhMTm995552O7xsRyvTwVeZC7Nm/G8m6\nAr5ID5+Y3OspRBKJRN/S0iJ1fsxisTBms1l4rdeEGhsb5VqtVq5SqfLs15b0LNv5Ihgej2dxJMMm\nJCTkJCYmZndxmNbUVkIIA1uBccSUjwJwCcB2QsgsAATAdxzHDbL/UXMc15OMJIq6Li5bjBiGwb59\n+4r27t3rFR4enhAZGZkgEonYzZs3X7qe/c6aNWuAUqlUK5VKdVpa2lW5LgCwevXqynfeeSfAau3k\nbA/DY+EdWQrvAfngCQ3XMybqWhAWMv+L8FXlQNizmPC2PD09tSzLMjU1NQrAtqChtLQ01MvLq7aj\nmIiuWK1WHo/Hs/J4PLalpUXc0tJyRcxFXV2dFwDU1tYq3NzctHw+nxUKhaba2lovxxh0Op2ki8OU\nwJbaCgATAQgAgBASDqCa47gPAfwDwGAAvwC4lRASbX+NGyGk3b//FHUjuPR9Ri6DYwk0FQForg2k\n15L+AEI3DTzCSiEQ99oKR4PBICgtLQ03Go1i4Mql3QaDQVhYWBjjmKmUl5cHdXTNyLG0m8fjWQsK\nCqLNZrNQKBQaWJblBwYGVnh6emozMjKSvb29L2u1Wo82CxiEpaWl4RaLRcBxHPH09Kyvr683Dxo0\naDvaWdpNCPEH8AUACYCDAJ6yL2CYDeA52BJbdQBmcRx3gRAyBsAG2BYwAMBKjuO+7K3PkKI6Q4vR\nH8ncIkJjeTiNo7hBGL4Z8oCLcPO9lov6Lone9Er1Fy67gMElCaRG+MYVQN/gDk1lCKzGrk6zUN1B\nGCvcfKsg868Gw6NNRynKBdFi1BckXhqIPXPQUusNbXUwWLOwr4fkmggHqddlyIMqerpcm6Komwst\nRn2FEMDNtx5SRQN0Nb5orvWnRam7CAeJZy1kAVW9eV2Ioqi+Q4tRXyMMB3lADWT+NWip80ZzjT8s\nRmnXG/4JEcYKqaIGMr8a8IQu2diUoqj20WJ0syAEcPOph5tPPfSNcjTXBNAQPzuewAipTw3cfGvB\nXNtSaoqibm4ue58RYIuQuOOOO6LCw8MTQkNDEx599NFQg8HQunT63nvvjYyNjVW/8sorfqdPnxYr\nlUq1SqVSZ2dni5z3ExwcnFhZWdlpYZZKpck9GduSJUuCVq1a5d+zd2Qn8dTCJ7YQvqpMuPlWguGb\nr2k/Lo2wEHvUwXtAPvwTsiAPqKGFiKL6r16bGSX+M7FXIyQyZ2deU4TE4sWLg9PT0y+WlZXxz549\n61ZWVpYFAC+99FLAxIkTG954443K3hznDSUQm+ARUgH34AoYmtyhr/eGUevVr+MqBBIdJN51kHrX\ng+HT4kNRfxIu+49aVxESY8eOja2pqREqlUr10qVLAz/44AP/7du3+w4bNqzTu8rHjh0bFR8fr4qO\njo7fuHGjj/Nzjz/+eGh0dHT88OHDYysqKvgAkJ2dLRo5cmRMfHy8KiUlJe706dOd9qObPHlyxLZt\n21p76jlmXKWlpYIhQ4bEKZVKdUxMTPzBgwdlALB37173QcnJSnVKWvDdM59imiRh5+AVWQiJ12Uw\n/H5w8Z6wEMoa4R5cAv/4s/BV5kPmV0sLEUX9ubjsNaOuIiS++uqrogkTJsQ4gvY4jiMymcy6Zs2a\nTjsp79q1q8Tf39+q0+lIcnKy+uGHH24ICAiw6vV6ZsiQIc0fffRR+bJlywKXL18etGPHjrI5c+aE\nf/DBB6WJiYnGH374wW3+/Plhv/zyS4exAR3ZunWr9x133NG0YcOGKovFAq1Wy1RWVvLXrVsXePTo\n0QJ3d3d2xYoVAa+ufc1v48aNlZB4agAAJp0E+iZPmHRymPVuAHfz/4LBF+khcNNBJNdA7KGhp98o\ninLZYnSjbNiwwf/AgQOeAFBVVSXIzs4WBwQENDMMgzlz5tQDwGOPPVb3wAMPRDc1NTGnT5+WTZ06\ntbWTsslkuqZ2P7fcckvzvHnzIsxmMzNlypSGtLQ0/ccffywvLi4Wp6amKgHAbDaTlJSUK/NlhDI9\nhDI9gEpwHGBqlsKklcHULINZ7wbW0rfLxQnDgi9qsRUfmQ5CuQ48Pr0niKKoK7hsMeoqQsJxGq0n\n9u/fLz9y5Ij85MmTeXK5nE1NTY3T6/XtzjQIIbBarZDL5RbH7Ks7+Hw+52iwarVaYTabCQDcfffd\nuqNHj+Z//vnnHo899ljkwoULq729vS0jRozQfPXVVxe6tXNCAJGsBSJZCwBbl2rWwsCsl8CsF8Ni\nkMBiFMNqEoG1CMCxvO6Ou4sDs2D4ZvD4ZvBERvBFevDFBgikevBFJhDajo+iqM65bDGaOHGiduXK\nlcyWLVsUCxcurOuNCInGxkaeh4eHVS6Xs6dPnxafPXu2tZMyy7LYtm2b19y5cxu2b9+uSE1N1Xp7\ne7MhISGmrVu3ej322GMNLMvi119/lQwfPrzDLtHh4eGmU6dOSefMmdOwe/duT4vFQgCgoKBAOGDA\nANPSpUtrjUYjycjIkK5du7Zy6dKlYVlZWaKEhASjRqNhSkpKBElJSd2PLWD4LETyZojkzVc9x7IE\nrEkAq9n2h7My4DgGHEvs/2UAjoAwrO0Psf+X4UB4FvCEZtsfOtOhKOr6uGwxckRIzJ07N/zNN98M\nZFkWY8aMabqeCInJkyc3ffDBB74DBgyIHzBggGHgwIGt/4BLJBL2xIkTbm+++WaQQqEw79279zwA\nfPzxx+efeOKJ8A0bNgRaLBZy//3313dWjJ5++unLEyZMiI6Li1OPGTOmSSKRsADwzTffyDdv3hzA\n5/M5qVRq3bVr14WgoCBLenp6yfTp0wc4Tv+9/PLLl3pUjDrDMBwYsQl82sWAoqi+Rbt2U5QLo127\nqf7i5l95RVEURfV7tBhRFEVRfY4WI4qiKKrP0WJEURRF9TlajCiKoqg+R4sRRVEU1edcuhjxeLwU\nR2PRu+++e4BWq+3w/ezatcvjpZdeCvgjx0dRFEV1T6/d9JqrVPVqhIQqL7fTCAkAEIlErKMVz8SJ\nEyM3bdrku3r16nYboc6cObMJQFNvjpGiKIrqHS49M3I2YsQIXVFRkWj37t0eSUlJSpVKpU5LS4st\nLy/nA8DmzZsVs2bNCgNsMQ6PPPJIaHJysjIkJCTROdKBoiiK+uP1i2JkNpvxzTffuCcmJurHjRun\nO3PmTF5ubm7OlClT6tesWdPuqbnq6mrByZMn87744ovCl19+OfiPHjNFURT1O5ftTQcARqORUSqV\nagAYNmyYdvHixbXnzp0TT5o0KeTy5csCk8nEhIaGttvHbeLEiY08Hg8pKSmGuro6wR87coqiKMqZ\nSxcj52tGDgsXLgxbvHhx1cyZM5v2798vX7NmTVB724rF4tamfNfan4+iKIrqHf3iNJ0zrVbLCwsL\nMwPA9u3bFX09HoqiKKpr/a4YrVixouKhhx6Kio+PVykUCktfj4eiKIrqGo2QoCgXRiMkqP6i382M\nKIqiKNdDixFFURTV52gxoiiKovocLUYURVFUn6PFiKIoiupztBhRFEVRfc6li1FPIiSu15IlS4JW\nrVrl395zycnJyht1XIqiqD+DXmsH9M6TP/RqhMRT74/p1QiJG+n06dN5f/QxKYqi+hOXnhk5c0RI\naDQaZurUqRGJiYkqlUql3rlzpydgi5AYO3ZsVFpaWkxwcHDiunXrfFevXu2vUqnUAwcOVFZXV/MA\nIDU1Ne7RRx8Ndcy4Dh8+LHUcIzc3V5KamhoXEhKSuHbtWj/H41KpNBkArFYrHn744bDIyMj4tLS0\nmNGjR0c74imCg4MTKysr+QBw9OhRaWpqahwAHDhwQKZUKtVKpVKtUqnUDQ0N/eZnQlEU1V394h8+\n5wiJl156KfD222/XZGZm5h47dix/5cqVIRqNhgGAgoICyYEDB4p/++233Ndffz1YKpWyubm5OUOG\nDGlOT09v7WOn1+uZvLy8nM2bN5fOnTs30vF4UVGR+MiRIwW//fZb7saNG4OMRiNxHseOHTu8ysvL\nhUVFRdmffPLJhdOnT8u6GvumTZsCNm/eXJqXl5fzyy+/5MlkMrY3PxuKoihX4NLFyBEhkZiYqA4J\nCTEtXry49scff3T/+9//HqhUKtUjRoyIMxqNpKioSAgAaWlpWi8vLzYoKMgik8msU6dObQSAxMTE\nlpKSEpFjvzNmzKgHgLvvvlun0+mY2tpaHgDceeedjRKJhAsMDLR4e3ubL168eMVpzmPHjskeeOCB\nBh6Ph7CwMMstt9yi7eo93HLLLbply5aFrl271q+2tpYnENA0C4qi/nz6XYQEx3H47LPPigYOHHhF\njtFPP/3kJhQKWxvxMQzTGiPBMAwsFkvrLIeQKyY8rd+LRKLW7Xk83hXbdIXH43Esa5v06PX61l8C\n1q1bVzVp0qSmL774wmPkyJHKAwcOFCYnJxu6u1+Koqj+wKVnRu25/fbbNZs2bfJ3/MN//PhxSU/3\n8fHHH3sBwDfffCOTy+VWhUJh7c52I0aM0O3bt8/LarWivLyc/+uvv8odz4WEhJiOHz8uBYBPP/20\nNeY8OztblJqaqn/ttdeqkpKSmrOyssQ9HS9FUZSr63fFaP369RUWi4UolUp1dHR0/MqVK3scKS4W\nizmVSqVeuHBheHp6ekl3t5s9e3ZDYGCgKTo6On7atGmR8fHxLZ6enlYAWLVqVcXzzz8flpCQoOLx\neK0zrDfeeMMvJiYmPjY2Vi0QCLgpU6Y09XS8FEVRro5GSLSRmpoat3HjxvJRo0a1XMv2TU1NjIeH\nB1tVVcUbOnSo6vjx43lhYWE0V4m6IWiEBNVfuPQ1o5vRuHHjYjQaDc9sNpPnnnuukhYiiqKortFi\n1MaJEyfy+3J7iqKoP6N+d82IoiiKcj20GFEURVF9jhYjiqIoqs/RYkRRFEX1OZcuRs4REmPGjIl2\ntO3pifz8fGFMTEz8jRgfRVEU1T29tppu07QJvRohsXTP/h5FSDzwwAMRb775pu+GDRuqenMcFEVR\n1I3n0jMjZ7fcckvzpUuXhABw+PBh6aBBg5QqlUqdnJysPHv2rAgATp48KU5MTFQplUp1bGysOjMz\nUwTYoh+mT58eHh0dHX/rrbfG6HS6bvecoyiKoq5fvyhGFosFhw8flk+aNKkRAAYOHGj47bff8nJz\nc3NefvnlS88//3wIALz99tu+CxYsqM7Ly8s5d+5cbmRkpAkAysrKxIsWLaopKirK9vDwsO7YscOr\ns+NRFEVRvculb3p1REhUV1cLoqKiDJMmTdIAQH19PW/atGmRJSUlYkIIZzabCQAMHz68eePGjYEX\nL14UTp8+vSExMdEIAMHBwca0tDQ9ACQnJ18RJ0FRFEXdeC49M3JcMyorK8vkOA7r16/3A4AXXngh\nePTo0drCwsLsr776qshkMjEA8OSTT9Z/8cUXRRKJhJ0wYULMl19+KQcA52gJHo/H9SQagqIoirp+\nLl2MHORyObt58+ayd999199sNkOj0fBCQkJMAJCenu7jeF1OTo5QpVIZV65cWXPXXXc1njlzpsfx\nEhRFUVTv6xfFCABuvfVWvVKp1H/wwQfeL7zwQtXq1atDVCqV2mL5vU/pzp07vWNjY+OVSqU6NzdX\nMm/evLo+HDJFURRlRyMkKMqF0QgJqr/oNzMjiqIoynXRYkRRFEX1OVqMKIqiqD5HixFFURTV52gx\noiiKovocLUYURVFUn3PpYtRRhMT+/fvlt99+e3Rfjw8A/vWvf3meOnVK3NXrnnnmmaB9+/bJ2z5+\nve+ltraWt379et9r2Z/zmNasWeOn1Wpb/76MHj36miI7KIqi2tNrvekuLj/WqxESIetH9osIiX37\n9nlaLJamlJQUQ2eve+uttyp6+9hmsxl1dXW8jz76yG/58uWXe7KtxWK5Ykzp6en+TzzxRL1cLmcB\n4MiRI0W9PV6Kov68XHpm5Mw5QgIAmpubeePHjx8QGRkZP3HixEiWZQEAx44dkw4dOjQuPj5eNWLE\niJjS0lIBAKSmpsYdPXpUCgCVlZX84ODgRADYvHmzYuzYsVFpaWkxwcHBievWrfNdvXq1v0qlUg8c\nOFBZXV3NA4BNmzb5JCQkqOLi4tR33XVXlFarZb777ju3Q4cOea5cuTJEqVSqs7OzRf/73/8kAwcO\nVMbGxqrHjRsXdfnyZR4ATJ48OWLbtm1eAPDZZ5+5R0ZGxqvVatVnn33m2d77zc/PF6akpMSp1WqV\nWq1Wfffdd26AbeaTkpISN2bMmOiYmJiEpUuXhpSXl4uUSqV63rx5IZ19NsHBwYnz588PVqvVqq1b\nt3o5xrR27Vq/mpoawejRo2OHDRsW63htZWUlX6PRMLfddlt0XFycOiYmJv7DDz+kHc8piuqxflGM\n2kZIAEBubq7knXfeKS8qKsouKysTfffddzKj0UgWLVoU9sUXXxRnZ2fnzp49u3bZsmXBXe2/oKBA\ncuDAgeLffvst9/XXXw+WSqVsbm5uzpAhQ5rT09MVADBz5syGrKys3Pz8/Jy4uDj95s2bfcaNG9c8\nduzYxrVr117My8vLiY+PNz7yyCOR69atu1hQUJATHx+vf+GFF4Kcj9XS0kIWLlwY8eWXXxZlZWXl\n1tTUCNobU1BQkOXYsWMFOTk5uXv27Dn/7LPPhjmey8nJkb777rtlJSUlWZs2bboYGhpqzMvLy0lP\nT7/Y0Wfj2FahUFhycnJy586d2+B4bOXKlTV+fn7mI0eOFPz6668FzuPYu3eve0BAgDk/Pz+nsLAw\n+4EHHtB0/ROjKIq6Ur+MkACAxMTE5qioKDMAxMfHtxQXFwu9vb0thYWFkjFjxsQCAMuy8PX1NXd1\nnLS0NK2Xlxfr5eXFymQy69SpUxvtx2g5d+6cFABOnTolWbVqVbBWq+U1NzfzRo8e3dR2P3V1dTyt\nVsu75557dADwxBNP1E2dOnWA82vOnDkjDgkJMTriLWbOnFn3j3/8w7ftvkwmE3n88cfDc3JyJAzD\noLS0tDX2IikpqVmpVJo6ej/tfTaO52bNmtXQ0XbtGTx4sH7FihWh8+fPD77vvvuaxo8fr+vJ9hRF\nUYCLz4w6ipCwP+ccCwGLxUI4jiPR0dH6vLy8nLy8vJyCgoKc48ePFwIAn8/nrFYrANvsxPk4zhET\nDMNALBZzjq8dcRNz586N3LJlS1lBQUHOCy+8UGE0Gm/oZ/vaa6/5+/n5mXNzc3MyMzNzzGZz6/Gk\nUinb2bbtfTaO7x3XhLorKSnJmJGRkZOYmKj/29/+Frxs2bLAnmxPURQFuHgxcmgbIdGRpKQkQ319\nPf/QoUNuAGA0GsnJkyfFABAaGmo8ceKEGwDs2rWrx9c9WlpamLCwMLPRaCSffPKJt+NxmUxm1Wg0\nDAAoFAqru7u79eDBgzIA+OijjxTDhw+/YiYxaNAgw6VLl4TZ2dkiAHDel7OmpiZeYGCgmcfj4d13\n31U4CmlbHh4e1ubm5uv+Obu5uVmbmpqu2k9JSYlALpezCxYsqF+yZEnVmTNnpNd7LIqi/nz6RTEC\nroyQ6Og1YrGY++STT4qXL18eEhcXp46Pj1cfOXJEBgDLly+v/uijj3xVKpW6tra2x6cvly9fXpGa\nmqoaMmSIMiYmpnXl3MyZM+s3b94coFKp1NnZ2aJt27ZdeOGFF0JiY2PV586dk6xfv/6KVXRSqZR7\n++23SydMmBCtVqtVPj4+lquPBjzzzDM1H3/8sSIuLk6dl5cnlkgk7c5oAgICrCkpKbqYmJh4xwKG\nazF79uza8ePHty5gcDh16pRk0KBBKqVSqX7ttdeCVq1aVXmtx6Ao6s+LRkhQlAujERJUf9FvZkYU\nRVGU66LFiKIoiupztBhRFEVRfY4WI4qiKKrP0WJEURRF9TlajCiKoqg+59LF6IUXXgiIjo6Oj42N\nVSuVSvUPP/zgdq37WrJkSdCqVav8gSublk6bNi28OxEQFEVR1LXrtd50q1ev7tUIidWrV3caIXHo\n0CG3b775xjMzMzNHIpFwlZWVfKPRSDrb5lrs2bOntLf3SVEURV3JZWdGly5dEnh7e1skEgkHAIGB\ngZbS0lLBnXfeGQUAO3fu9BSLxYMNBgNpaWkhISEhiQCQnZ0tGjlyZEx8fLwqJSUl7vTp053Oepyj\nJaRSafLTTz8dHBcXpx44cKCyvLyc79inIxZi0aJFQVKpNPnGvnuKoqj+xWWL0aRJkzQVFRXCiIiI\nhIcffjjswIEDsrS0tJacnBwpABw9elQWHR2tP3r0qPTw4cNuycnJOgCYM2dO+LvvvluWnZ2d++ab\nb16cP39+WOdH+p1er2eGDx+uy8/Pzxk+fLju7bff9gWAhQsXhi5YsKCmoKAgJyQkpMsu4BRFUdSV\nXDZCwsPDg83Kyso5ePCg/Pvvv5fPnj07atWqVRfDwsIMGRkZ4oyMDLenn366+vDhw3Kr1UpuvfVW\nXVNTE3P69GnZ1KlToxz7MZlM3T61JxAIuOnTpzcBQEpKSvOhQ4fcAeD06dOyb7/9tggA5syZU7d6\n9epr7gFHURT1Z+SyxQgA+Hw+JkyYoJ0wYYI2KSlJ/69//Utx66236r788ksPgUDA3XvvvZoZM2ZE\nWK1WsmnTpotWqxVyudziiCq/huNxDMO0Hts5eoGiKIq6di57mu7s2bOizMzM1kC506dPS0JCQkyj\nR4/Wpaen+w0dOlQXFBRkaWho4J8/f148ZMgQvbe3NxsSEmLaunWrF2AL1/v5558l1zuWQYMG6bZv\n3+4FAFu3bu2wazhFURTVPpctRhqNhjdr1qzIqKio+NjYWHVeXp5kw4YNFbfddpuurq5OcNttt+kA\nQK1W6+Pi4vSOGc3HH398ftu2bT5xcXHqmJiY+M8//9zzesfy9ttvl7/99tv+sbGx6qKiIrFMJms/\nXIiiKIpqF42Q6AVarZZxc3NjGYbBBx984LVnzx7v77//vrivx0X1fzRCguovXPqa0c3i+PHj0sWL\nF4dxHAd3d3fr9u3bS/p6TBRFUa6EFqNeMH78eF1+fv41LYqgKIqiXPiaEUVRFNV/0GJEURRF9Tla\njCiKoqg+R4sRRVEU1edcuhj1ZoREdz3zzDNB+/btkwPAmjVr/LRabetnOHr06Oja2lrejR4DRVFU\nf9Nrq+m+/yGqVyMk7hhTfFNESLT11ltvVTi+Tk9P93/iiSfq5XI5CwBHjhwputHHpyiK6o9cdmbU\nXoTEuXPnxGPHjm1tgvqf//zHfdy4cVFAx/EP+fn5wltuuSU2NjZWPXz48NjCwkJhXV0dLygoKNFq\ntTVS0Gg0TEBAQJLRaCSO4L21a9f61dTUCEaPHh07bNiwWAAIDg5OrKys5Gs0Gua2226LdnR5+PDD\nD73+8A+IoijKhbhsMWovQmLChAna4uJicUVFBR8Atm7dqnj00UdrgY7jH+bPnx82c+bMuoKCgpxp\n06bVzZ8/P1ShUFhVKlXL119/LQeAPXv2eIwePbpJJBK1tqtYuXJljZ+fn/nIkSMFv/76a4Hz2Pbu\n3eseEBBgzs/PzyksLMx+4IEHNH/cJ0NRFOV6XLYYOSIktmzZUurr62uZPXt21JYtWxQPPvhg3Ycf\nfuhdW1vLy8jIkE2dOrUJuDr+obS0VAgAp0+fdps7d249AMyfP7/+1KlTMgCYOnVqw8cff+wFAJ9+\n+qn39OnTG7o7tsGDB+uPHTvmPn/+/OCDBw/KFAoF7VVHURTVCZfuwNBehMTWrVtL77nnnmixWMzd\ne++9DQKBwPHaHsU/PPTQQ42vvvpqcHV1NS8rK0t67733dnt2k5SUZMzIyMj5/PPPPf72t78FHzp0\nSLNx48bK63mvFEVR/ZnLzow6ipCIiIgw+/v7mzdt2hQ4d+7cLhu5JicnN//jH//wAoD09HQWnwg6\nAAAQj0lEQVTvIUOG6ADbzCspKal53rx5YXfccUcTn3913XZzc7M2NTVd9RmWlJQI5HI5u2DBgvol\nS5ZUnTlzRnpdb5aiKKqfc9mZkUaj4S1atChMo9HweDweFxERYfznP/9ZCgDTp0+ve+edd/iDBw82\ndLWf999/v2zWrFkR//d//xegUCgsO3bsKHE89+CDDzY89thjA/bv35/f3razZ8+uHT9+fKy/v7/J\n+brRqVOnJC+++GIIwzDg8/ncu+++W9oLb5miKKrf6pcRErNmzQpLTk5uefbZZ2/K8VFUb6ERElR/\n4bIzo47Ex8erJBIJm56eXt7XY6EoiqK6p98Vo+zs7Ny+HgNFURTVMy67gIGiKIrqP2gxoiiKovoc\nLUYURVFUn6PFiKIoiupzLl2MeiNCYvPmzYqSkhJBb40pOTlZ2d3XLlmyJGjVqlX+vXXsP0p+fr7w\n/fff93Z8v3nzZsWsWbPC/qjj19bW8tavX+/7Rx2Poqgbr9dW0wUcPtOrERJVtw/6QyIkdu7c6TNo\n0CB9RESE+dpH+7vTp0/n9cZ++prZbIajlVJbhYWFoj179ng/+eST9X/wsAAAdXV1vI8++shv+fLl\nl/vi+BRF9T6XnRm1FyERERFh/vLLL+XtxUhYLBZMnjw5IiYmJj42Nlb9yiuv+G3bts0rKytLOmvW\nrAFKpVKt0+nIsWPHpEOHDo2Lj49XjRgxIqa0tFQAAKmpqXGPP/54aEJCgmrAgAHxR44ckd55551R\n4eHhCYsWLQpyHE8qlSY7vl6xYkVAbGysOi4uTr1gwYLgzt5Pampq3NGjR6UAUFlZyQ8ODk4EbLOO\nO+64Iyo1NTUuPDw8YenSpYGAbXYSExMT79h+1apV/kuWLAkCgLVr1/pFRUXFx8bGqidMmDCg7bEs\nFgvmzZsXkpCQoIqNjVW/+eabPgCwf/9+eUpKStyYMWOiY2JiEp555pmgNWvW+Dm2e/rpp4NfffVV\nvxUrVgSfPHlSplQq1a+88oofAFRVVQlGjhwZEx4envDkk0+GOLbZu3ev+6BBg5RqtVp19913D3C0\nTwoODk586qmngpVKpTohIUH1008/SUeMGBETGhqa8MYbb/gCQFNTEzN8+PBYtVqtio2NVe/cudMT\nAJYuXRpSXl4uUiqV6nnz5oWwLIt58+aFOH62jsiO0tJSwZAhQ+KUSqU6JiYm/uDBg7K2P6Nt27Z5\nTZ48OQIAtm7d6hUTExMfFxenHjJkSFxnPy+KonqXy95nNGnSJM3rr78eFBERkTBixAjNQw89VH/P\nPffoJkyYoF28eHFYRUUFPygoyOKIkfj555+llZWVgsLCwmzAdqrHx8fH+t577/lt3LixfNSoUS1G\no5EsWrQo7MCBA0VBQUGWDz/80GvZsmXB//73v0sAQCgUsllZWbmvvvqq39SpU6N/++23XD8/P0tE\nRETiSy+9VB0QENDanfvTTz91//rrrz1PnTqVJ5fL2erq6mtOgD137pxbZmZmtkwmY5OTk9X33Xdf\nk7+/v6Wj12/evDmgtLQ0UyKRcO0lz7711ls+Hh4e1qysrFy9Xk+GDh2qdDSCzcnJkZ4+fTpbqVSa\n8vPzhffff3/UqlWraqxWK/bt2+f122+/5SYnJ+s3bdrkf/jw4SL78RQ5OTnSs2fP5kgkEjY6Ojph\n2bJl1W5ubty6desCjx49WuDu7s6uWLEi4NVXX/V3NI0NCwsz5eXl5Tz++OOhjz32WMSvv/6ap9fr\nmcTExPjnn3/+slQqZQ8cOFDk7e3NVlZW8ocNG6acMWNG46ZNmy5OmDBBkpeXlwMA27dv98zMzJTk\n5uZmV1ZW8lNTU1V33nmnbuvWrd533HFH04YNG6osFgucU3nbs379+sBvv/22IDIy0kwTeynqj+Wy\nxcgRIXHw4EH5999/L589e3bUqlWrLi5atKjOESPx1FNP1WVkZMj27t17obGxkVdeXi6aPXt26L33\n3tt0//33X9WF+9y5c6LCwkLJmDFjYgGAZVn4+vq2nr67//77GwFg4MCB+ujoaH14eLgZAEJDQ43n\nz58XBgQE6B2v/e6779wffvjhWkcKrL+//zXHSIwYMULjKHT33HNPw48//iibNm1aY0evj4uL099/\n//2REydObJw5c+ZVrzt06JB7Xl6e9Msvv/QCAK1Wy8vJyRELhUIuKSmpWalUmuz7MXl6elqOHz8u\nqaysFMTHx7c4F9y2Y3REZURHRxuKi4tF9fX1vOLiYnFqaqoSAMxmM0lJSdE5tnnwwQcbASAxMbGl\nubmZ8fLyYr28vFihUMjW1tby5HI5+8wzz4T88ssvMoZhUFNTI7x48eJVf2ePHTsmf/DBB+v5fD5C\nQ0Mtw4YN0/3000/SW265pXnevHkRZrOZmTJlSkNaWpq+7bbOhgwZops5c2bE5MmTG2bOnNntyBCK\noq6fyxYjoP0IiUWLFtXNnz+/rm2MhK+vrzUrKyvnP//5j/v777/vu2fPHm/HjMeB4zgSHR2tP3Pm\nTLvXfcRiMQcADMPAOWiPYZguIym68V44R7JsS0vLFfsi5MpdE0LA5/M5lmVbHzMYDK2/9R8+fLjw\nv//9r/yLL77w2LhxY2B+fn628/UfjuPIpk2byiZPnnxFQd6/f79cKpWyzo89+uijtf/4xz98ampq\nBI8++mhdR+MXCoWtnwePx+PMZjPhOA4jRozQfPXVVxfa28b583TenmEYmM1mkp6e7l1XV8fPzMzM\nFYlEXHBwcKJer+/2qeW7775bd/To0fzPP//c47HHHotcuHBh9cKFC+ucP0+9Xt/6ze7du8t++OEH\nty+//NIjJSVFferUqZyOii9FUb3LZa8ZdRQhAQDtxUhUVlbyrVYrHnnkkcbXX3/9UmZmphQAZDKZ\ntampiQcASUlJhvr6ev6hQ4fcAMBoNJKTJ0+Kr2V8d911l2bnzp0+jlNDXZ2mCw0NNZ44ccINAHbt\n2nVFTPlPP/3kXl1dzdPpdOTrr7/2HD16tC4kJMRSX1/Pr6qq4un1evLNN994AIDVakVxcbHw3nvv\n1b7zzjuXdDodz/H+HMaNG9f03nvv+ToWfJw7d06k0Wja/bvw17/+tfHw4cMeZ8+edZs8eXITAHh4\neFh1Ol2Xp7Fuu+225pMnT8qysrJEgC2+/dy5c6KutnNoamri+fj4mEUiEffVV1/JKyoqhI7jNzc3\nt4531KhR2s8++8zbYrGgoqKCf+LECdnIkSObCwoKhCEhIealS5fWzpo163JGRoYUABQKhTkjI0Ns\ntVrxxRdftH7W2dnZojFjxjS/9dZbFV5eXpbz588LuztWiqKuj8vOjDqLkACujpEoKSkRPP744xEs\nyxIAWLNmzUUAmDVrVu3TTz8d/txzz7EnT57M/eSTT4oXLVoUptVqeVarlcyfP796yJAhXUZRtDVl\nyhRNRkaGdNCgQSqBQMCNHTu2acuWLZc6ev3y5curp02bNmD79u2+48aNu+LUWlJSUvPEiROjqqqq\nhFOmTKkbNWpUCwAsXbq0cujQoSp/f39zdHS0AQAsFguZMWNGpFar5XEcR+bMmVPj4+NzxW/3zz77\nbG1JSYkoMTFRxXEc8fb2Nn/99dfF7Y1LLBZzaWlpGk9PT6sj0yk1NVXP4/G4uLg49YwZM2q9vLza\nnT0EBQVZ0tPTS6ZPnz7AZDIRAHj55ZcvJSUlGbvzGc6ZM6f+7rvvjo6NjVUnJSW1REZGGgAgICDA\nmpKSoouJiYkfM2ZM03vvvXfxf//7n0ylUsUTQrhXXnnlYlhYmOXtt99WbN68OYDP53NSqdS6a9eu\nCwDwyiuvXLrvvvuivb29LQMHDmxxFLZnn302pKSkRMRxHBkxYoTmlltu6fS0HkVRvadfRkgA/SdG\nYvPmzYqTJ0+67dixo6wvjm+1WhEfH6/+97//XZyYmNitIkL9cWiEBNVfuOxpus7Ex8ercnJyJE8+\n+WSH1ziorp06dUocHh6eOHLkSA0tRBRF3Uj9dmZEUX8GdGZE9Rf9cmZEURRFuRZajCiKoqg+R4sR\nRVEU1edoMaIoiqL6nMsWo6qqKp5SqVQrlUq1j4/PQD8/vyTH9waD4Zq6Iezfv1/+3Xff9TiGojeP\no9frSVpaWqxSqWxt+NmeZ555Jmjfvn1y4MomqxRFUa6o1256jVh+oFcjJErW39NphERAwP9v725i\nWUvDOIA/2g7XTRt3tBMdqozRz2M0qcZCYmHRRGIjDgmaSIiFJhLx0ZVdbSQSsWosBLHAxgphZVmx\ncSS0PSJGjOvqnZPM1TCt4eidhTkiQ11c956Q/2/b9rxv36R58p6+5/nrL6VGmT09PblqtfrS7/d/\nlF6/LwIhlZWVFY1arb50u91/P2nSzzBOMBh8S0QkfbdURkZGPjx1/KesDQDAt/Rid0Z3YVm2sLm5\n2VhaWmr1er2GUCiUUVlZaWIYxlZWVmbhOO4NEdH09HRWaWmp1Waz2SsqKswHBweq7e3t9KmpqZ9G\nR0dzrFarfXl5Wc2ybKHH4zE6HA6rwWD4bWFhQdPQ0FBYVFTESLEDRPfHJHR3d+dKEQgcx725axzp\nOoeHh6rW1tZfNjc331qtVnsoFMro6+v7uaSkxGYymZimpqYCqR8dy7KFExMTt3ZOqeIRHro2AABy\neFXFiIjo6OgofX19nR8bG3vf3t5eEAgE/giFQpGhoaH3Xq/XSETkdrtPNzY2+EgkEq6vr//L7/fr\nLRbLeUtLi9DR0fGR5/lwdXX1KRFRLBZTcRzHDw4OHjQ2Nhb7fL6POzs7IZ7nM4PBYObR0ZFKikkI\nh8MRp9MZHxgYuE5v1el0YjgcjrS1tQmDg4M5qcYhIsrLyxMDgcC+y+U65Xk+zDDMPz6f78+tra3I\nzs5OKJFIKGZnZ7O+5doAAMjhxfamS6Wuru6TSqWiWCym4DhO3dDQcB20J/VH29vbS6+trTUIgvDD\n+fm5Ij8/P2V3gZqammOFQkFOpzOu1WovysvLE0REZrM5sbu7m7G/v59+X0xCc3PzJyKi8vLyuBTZ\n8BhLS0ua4eFh/dnZmeL4+Fhlt9sTRBR77HWIHrY2AAByeHXFSK1WJ4mueqppNBrxrv9eOjs7jV1d\nXVGPxxNbWFjQ+P3+3NtXuiLFHCiVylsxB6IopimVys8PiUlQqVSfHxszEY/H03p7ewvW1tbCxcXF\nFz09Pbk3oyLukioegehhawMAIIdXd5tOkp2dnTQYDOfj4+M/El0F5a2urmYSXYXJGY3GCyKiyclJ\nrfQZjUZzeXJy8qiEz6fEJDx0nHg8riAi0uv1YiwWU8zPz39xZ5UqHuGm+9YGAEAOr7YYERHNzMz8\nPjExobNYLHaTycTMzc29IyLq7+//0NTU9CvDMDatVnsd382y7PHi4uK7/x8suM/NmASz2Wx3uVzW\nzc3New8DPHQcnU536fF4BJvNxlRVVZkdDscXT/lJ8QhOp9Oak5Nzkep9qdYGAEAOaJQK8IKhUSq8\nFq96ZwQAAC8DihEAAMgOxQgAAGT3NcUomUwm8WwKgEz++/0l5Z4HwHP4mmK0JQhCFgoSwPeXTCbT\nBEHIIqItuecC8Bye/NCrKIrt0Wh0LBqNlhBu9wF8b0ki2hJFsV3uiQA8hycf7QYAAHgu2NEAAIDs\nUIwAAEB2KEYAACA7FCMAAJAdihEAAMjuX+1jj8Z4RKB0AAAAAElFTkSuQmCC\n",
                "text/plain": "<Figure size 432x288 with 1 Axes>"
              }
            ],
            "_view_module": "@jupyter-widgets/output",
            "_model_module_version": "1.0.0",
            "_view_count": null,
            "_view_module_version": "1.0.0",
            "layout": "IPY_MODEL_95c44d4f80d548369a05a2aaff765bd6",
            "_model_module": "@jupyter-widgets/output"
          }
        },
        "f7162d5c59e04bffa808e9d0852bb78b": {
          "model_module": "@jupyter-widgets/controls",
          "model_name": "DescriptionStyleModel",
          "state": {
            "_view_name": "StyleView",
            "_model_name": "DescriptionStyleModel",
            "description_width": "",
            "_view_module": "@jupyter-widgets/base",
            "_model_module_version": "1.5.0",
            "_view_count": null,
            "_view_module_version": "1.2.0",
            "_model_module": "@jupyter-widgets/controls"
          }
        },
        "da3b4341d761449ab837d1e5f8bf2bef": {
          "model_module": "@jupyter-widgets/base",
          "model_name": "LayoutModel",
          "state": {
            "_view_name": "LayoutView",
            "grid_template_rows": null,
            "right": null,
            "justify_content": null,
            "_view_module": "@jupyter-widgets/base",
            "overflow": null,
            "_model_module_version": "1.2.0",
            "_view_count": null,
            "flex_flow": null,
            "width": null,
            "min_width": null,
            "border": null,
            "align_items": null,
            "bottom": null,
            "_model_module": "@jupyter-widgets/base",
            "top": null,
            "grid_column": null,
            "overflow_y": null,
            "overflow_x": null,
            "grid_auto_flow": null,
            "grid_area": null,
            "grid_template_columns": null,
            "flex": null,
            "_model_name": "LayoutModel",
            "justify_items": null,
            "grid_row": null,
            "max_height": null,
            "align_content": null,
            "visibility": null,
            "align_self": null,
            "height": null,
            "min_height": null,
            "padding": null,
            "grid_auto_rows": null,
            "grid_gap": null,
            "max_width": null,
            "order": null,
            "_view_module_version": "1.2.0",
            "grid_template_areas": null,
            "object_position": null,
            "object_fit": null,
            "grid_auto_columns": null,
            "margin": null,
            "display": null,
            "left": null
          }
        },
        "9d509176103744888b206afcf2254a50": {
          "model_module": "@jupyter-widgets/controls",
          "model_name": "VBoxModel",
          "state": {
            "_view_name": "VBoxView",
            "_dom_classes": [
              "widget-interact"
            ],
            "_model_name": "VBoxModel",
            "_view_module": "@jupyter-widgets/controls",
            "_model_module_version": "1.5.0",
            "_view_count": null,
            "_view_module_version": "1.5.0",
            "box_style": "",
            "layout": "IPY_MODEL_bc9f1874c9944d1b9a2992f1adde3e2f",
            "_model_module": "@jupyter-widgets/controls",
            "children": [
              "IPY_MODEL_b9c98e3f2cf443568072bc140339dacf",
              "IPY_MODEL_1f1f2fc402634cf08c74218bf16a4597"
            ]
          }
        },
        "bc9f1874c9944d1b9a2992f1adde3e2f": {
          "model_module": "@jupyter-widgets/base",
          "model_name": "LayoutModel",
          "state": {
            "_view_name": "LayoutView",
            "grid_template_rows": null,
            "right": null,
            "justify_content": null,
            "_view_module": "@jupyter-widgets/base",
            "overflow": null,
            "_model_module_version": "1.2.0",
            "_view_count": null,
            "flex_flow": null,
            "width": null,
            "min_width": null,
            "border": null,
            "align_items": null,
            "bottom": null,
            "_model_module": "@jupyter-widgets/base",
            "top": null,
            "grid_column": null,
            "overflow_y": null,
            "overflow_x": null,
            "grid_auto_flow": null,
            "grid_area": null,
            "grid_template_columns": null,
            "flex": null,
            "_model_name": "LayoutModel",
            "justify_items": null,
            "grid_row": null,
            "max_height": null,
            "align_content": null,
            "visibility": null,
            "align_self": null,
            "height": null,
            "min_height": null,
            "padding": null,
            "grid_auto_rows": null,
            "grid_gap": null,
            "max_width": null,
            "order": null,
            "_view_module_version": "1.2.0",
            "grid_template_areas": null,
            "object_position": null,
            "object_fit": null,
            "grid_auto_columns": null,
            "margin": null,
            "display": null,
            "left": null
          }
        },
        "b9c98e3f2cf443568072bc140339dacf": {
          "model_module": "@jupyter-widgets/controls",
          "model_name": "DropdownModel",
          "state": {
            "_options_labels": [
              "ACTEMRA",
              "CIMZIA",
              "DEXAMETHASONE.",
              "ENBREL",
              "FOLIC ACID.",
              "HUMIRA",
              "METHOTREXATE.",
              "NEXIUM",
              "ORENCIA",
              "PREDNISONE.",
              "PREVACID",
              "PRILOSEC",
              "PROTONIX",
              "REVLIMID",
              "SULFASALAZINE."
            ],
            "_view_name": "DropdownView",
            "style": "IPY_MODEL_318a2b250d0f4421bb523185a0fb557e",
            "_dom_classes": [],
            "description": "drugname",
            "_model_name": "DropdownModel",
            "index": 2,
            "_view_module": "@jupyter-widgets/controls",
            "_model_module_version": "1.5.0",
            "_view_count": null,
            "disabled": false,
            "_view_module_version": "1.5.0",
            "description_tooltip": null,
            "_model_module": "@jupyter-widgets/controls",
            "layout": "IPY_MODEL_b54a9cb19ce94694a349df5e00d1163b"
          }
        },
        "1f1f2fc402634cf08c74218bf16a4597": {
          "model_module": "@jupyter-widgets/output",
          "model_name": "OutputModel",
          "state": {
            "_view_name": "OutputView",
            "msg_id": "",
            "_dom_classes": [],
            "_model_name": "OutputModel",
            "outputs": [
              {
                "output_type": "display_data",
                "metadata": {
                  "tags": []
                },
                "text/html": "<b>Top Companion drug for DEXAMETHASONE.</b>",
                "text/plain": "<IPython.core.display.HTML object>"
              },
              {
                "output_type": "display_data",
                "metadata": {
                  "tags": []
                },
                "text/html": "<table border=\"1\" class=\"dataframe\">\n  <thead>\n    <tr style=\"text-align: right;\">\n      <th></th>\n      <th>cnt</th>\n    </tr>\n    <tr>\n      <th>drugname</th>\n      <th></th>\n    </tr>\n  </thead>\n  <tbody>\n    <tr>\n      <th>REVLIMID</th>\n      <td>4312</td>\n    </tr>\n    <tr>\n      <th>POMALYST</th>\n      <td>1465</td>\n    </tr>\n    <tr>\n      <th>CYCLOPHOSPHAMIDE.</th>\n      <td>1084</td>\n    </tr>\n    <tr>\n      <th>ACYCLOVIR.</th>\n      <td>941</td>\n    </tr>\n    <tr>\n      <th>VELCADE</th>\n      <td>930</td>\n    </tr>\n    <tr>\n      <th>ASPIRIN.</th>\n      <td>835</td>\n    </tr>\n    <tr>\n      <th>PREDNISONE.</th>\n      <td>787</td>\n    </tr>\n    <tr>\n      <th>RITUXIMAB.</th>\n      <td>695</td>\n    </tr>\n    <tr>\n      <th>LENALIDOMIDE</th>\n      <td>665</td>\n    </tr>\n    <tr>\n      <th>DARZALEX</th>\n      <td>625</td>\n    </tr>\n  </tbody>\n</table>",
                "text/plain": "<IPython.core.display.HTML object>"
              }
            ],
            "_view_module": "@jupyter-widgets/output",
            "_model_module_version": "1.0.0",
            "_view_count": null,
            "_view_module_version": "1.0.0",
            "layout": "IPY_MODEL_d077bfc91e1944eb8a996c7f44370df8",
            "_model_module": "@jupyter-widgets/output"
          }
        },
        "318a2b250d0f4421bb523185a0fb557e": {
          "model_module": "@jupyter-widgets/controls",
          "model_name": "DescriptionStyleModel",
          "state": {
            "_view_name": "StyleView",
            "_model_name": "DescriptionStyleModel",
            "description_width": "",
            "_view_module": "@jupyter-widgets/base",
            "_model_module_version": "1.5.0",
            "_view_count": null,
            "_view_module_version": "1.2.0",
            "_model_module": "@jupyter-widgets/controls"
          }
        },
        "b54a9cb19ce94694a349df5e00d1163b": {
          "model_module": "@jupyter-widgets/base",
          "model_name": "LayoutModel",
          "state": {
            "_view_name": "LayoutView",
            "grid_template_rows": null,
            "right": null,
            "justify_content": null,
            "_view_module": "@jupyter-widgets/base",
            "overflow": null,
            "_model_module_version": "1.2.0",
            "_view_count": null,
            "flex_flow": null,
            "width": null,
            "min_width": null,
            "border": null,
            "align_items": null,
            "bottom": null,
            "_model_module": "@jupyter-widgets/base",
            "top": null,
            "grid_column": null,
            "overflow_y": null,
            "overflow_x": null,
            "grid_auto_flow": null,
            "grid_area": null,
            "grid_template_columns": null,
            "flex": null,
            "_model_name": "LayoutModel",
            "justify_items": null,
            "grid_row": null,
            "max_height": null,
            "align_content": null,
            "visibility": null,
            "align_self": null,
            "height": null,
            "min_height": null,
            "padding": null,
            "grid_auto_rows": null,
            "grid_gap": null,
            "max_width": null,
            "order": null,
            "_view_module_version": "1.2.0",
            "grid_template_areas": null,
            "object_position": null,
            "object_fit": null,
            "grid_auto_columns": null,
            "margin": null,
            "display": null,
            "left": null
          }
        }
      }
    }
  },
  "cells": [
    {
      "cell_type": "markdown",
      "metadata": {
        "id": "view-in-github",
        "colab_type": "text"
      },
      "source": [
        "<a href=\"https://colab.research.google.com/github/dnguyend/FAERS/blob/master/DEMO.ipynb\" target=\"_parent\"><img src=\"https://colab.research.google.com/assets/colab-badge.svg\" alt=\"Open In Colab\"/></a>"
      ]
    },
    {
      "cell_type": "markdown",
      "metadata": {
        "id": "FVn1K-GZkId0",
        "colab_type": "text"
      },
      "source": [
        "### Introduction\n",
        "This notebook is the main interactive tool to provide analysis using the Adverse Event database. The diagram and the steps are summarized in the main project README page. This notebook runs on google colab, so you can run the examples on the cloud instead of your home machine.\n",
        "\n",
        "We first download clone the project to your colab space then create a data directory:"
      ]
    },
    {
      "cell_type": "code",
      "metadata": {
        "id": "jVI015_qn5cv",
        "colab_type": "code",
        "colab": {
          "base_uri": "https://localhost:8080/",
          "height": 119
        },
        "outputId": "bbfcf7a3-7093-496a-cc9b-797fffcb4049"
      },
      "source": [
        "!git clone https://github.com/dnguyend/FAERS.git\n",
        "import sys\n",
        "# add the package to execution path\n",
        "sys.path.insert(1, \"FAERS\")\n",
        "# make data dir\n",
        "!mkdir data"
      ],
      "execution_count": 1,
      "outputs": [
        {
          "output_type": "stream",
          "text": [
            "Cloning into 'FAERS'...\n",
            "remote: Enumerating objects: 24, done.\u001b[K\n",
            "remote: Counting objects: 100% (24/24), done.\u001b[K\n",
            "remote: Compressing objects: 100% (20/20), done.\u001b[K\n",
            "remote: Total 24 (delta 6), reused 17 (delta 3), pack-reused 0\u001b[K\n",
            "Unpacking objects: 100% (24/24), done.\n"
          ],
          "name": "stdout"
        }
      ]
    },
    {
      "cell_type": "markdown",
      "metadata": {
        "id": "jPd_XmdcoKS8",
        "colab_type": "text"
      },
      "source": [
        "We can check quickly the package is downloaded and a data directory is created. If you need to run again you may get error messages that directory may be not empty. You can run !rm -rf on the directories then reload."
      ]
    },
    {
      "cell_type": "code",
      "metadata": {
        "id": "rrOdwm3noS7i",
        "colab_type": "code",
        "colab": {
          "base_uri": "https://localhost:8080/",
          "height": 102
        },
        "outputId": "26e591af-7bad-47b0-ec1d-d11b392450eb"
      },
      "source": [
        "!ls\n",
        "!echo \"check the FAERS DIRECTORY\"\n",
        "!ls FAERS\n",
        "sys.path.insert(1, \"FAERS\")"
      ],
      "execution_count": 28,
      "outputs": [
        {
          "output_type": "stream",
          "text": [
            "data  FAERS  sample_data\n",
            "check the FAERS DIRECTORY\n",
            "analyze_cholesterol.py\tdemo_analyze.py     FAERS_ERD.PNG  LICENSE\n",
            "cfg\t\t\tdownload_script.py  faers_lib\t   README.md\n",
            "faers_ascii_2019Q4  faers_ascii_2019Q4.zip\n"
          ],
          "name": "stdout"
        }
      ]
    },
    {
      "cell_type": "markdown",
      "metadata": {
        "id": "cvBWOsY-kId1",
        "colab_type": "text"
      },
      "source": [
        "The main library is faers_lib, which is located one directory down from the main directory FAERS. At this point it contains some functions to download/extract zip file from the website (module faers_lib.download) and some functions to do analysis (module fayers_lib.analyze). Download typically takes a few minutes. We will load one quarter then test the data. (If we want to load all quarter run load_all_files - but it may take a lot of time and you may exceed your Colab allocation.)"
      ]
    },
    {
      "cell_type": "code",
      "metadata": {
        "id": "smXJPPBbp3WP",
        "colab_type": "code",
        "colab": {
          "base_uri": "https://localhost:8080/",
          "height": 51
        },
        "outputId": "66c9ebfa-2a1e-402b-936e-ef52f85c8aa1"
      },
      "source": [
        "# run the following code:\n",
        "from faers_lib.download import load_all_files, download_one, extract_all_files\n",
        "\"\"\" to load Q4 2019\"\"\"\n",
        "download_one(2019, 4)\n",
        "extract_all_files()"
      ],
      "execution_count": 19,
      "outputs": [
        {
          "output_type": "stream",
          "text": [
            "File exists ./data/faers_ascii_2019Q4.zip, skip\n",
            "Extracting ./data/faers_ascii_2019Q4.\n"
          ],
          "name": "stdout"
        }
      ]
    },
    {
      "cell_type": "code",
      "metadata": {
        "id": "h5uICJLfI122",
        "colab_type": "code",
        "outputId": "45c9dad3-6253-43fa-c31c-8a952dae1745",
        "colab": {
          "base_uri": "https://localhost:8080/",
          "height": 34
        }
      },
      "source": [
        "!ls data/faers_ascii_2019Q4"
      ],
      "execution_count": 21,
      "outputs": [
        {
          "output_type": "stream",
          "text": [
            "ascii  deleted\tFAQs.pdf  Readme.pdf\n"
          ],
          "name": "stdout"
        }
      ]
    },
    {
      "cell_type": "markdown",
      "metadata": {
        "id": "wCQr9coAsRaX",
        "colab_type": "text"
      },
      "source": [
        "Now we can load a few common libraries and load the 7 FAERS files to 7 data frames in all_frames:\n"
      ]
    },
    {
      "cell_type": "code",
      "metadata": {
        "id": "RtYwdVVukId2",
        "colab_type": "code",
        "colab": {}
      },
      "source": [
        "import pandas as pd\n",
        "import numpy as np\n",
        "import matplotlib.pyplot as plt\n",
        "import faers_lib.analyze\n",
        "from faers_lib.analyze import load_one_quarter, display_frame, bdisplay\n",
        "faers_lib.analyze.display_mode = 'HTML'  # this will set display_frame to display data frame in HTML format\n",
        "from IPython.core.display import display, HTML\n",
        "%matplotlib inline"
      ],
      "execution_count": 0,
      "outputs": []
    },
    {
      "cell_type": "code",
      "metadata": {
        "id": "_ykQcwemkId6",
        "colab_type": "code",
        "colab": {}
      },
      "source": [
        "all_frames = load_one_quarter(2019, 4)\n",
        "print(all_frames.keys())"
      ],
      "execution_count": 0,
      "outputs": []
    },
    {
      "cell_type": "markdown",
      "metadata": {
        "id": "WKtVabm2kIeA",
        "colab_type": "text"
      },
      "source": [
        "Now examine the data: show the list of tables, get the last rows of reaction, get 1 row of demographic."
      ]
    },
    {
      "cell_type": "code",
      "metadata": {
        "id": "lqxPTf-BkIeB",
        "colab_type": "code",
        "colab": {
          "base_uri": "https://localhost:8080/",
          "height": 1000
        },
        "outputId": "1f503aa2-9aba-4e08-a592-e93efd506ed3"
      },
      "source": [
        "display_frame(all_frames['reaction'].tail())\n",
        "display_frame(all_frames['indication'].tail())\n",
        "bdisplay(\"demographic line\")\n",
        "print(all_frames['demographic'].iloc[0])\n",
        "bdisplay(\"drug line\")\n",
        "print(all_frames['drug'].iloc[0])\n"
      ],
      "execution_count": 29,
      "outputs": [
        {
          "output_type": "stream",
          "text": [
            "dict_keys(['demographic', 'drug', 'indication', 'outcome', 'reaction', 'report_sources', 'therapy'])\n"
          ],
          "name": "stdout"
        },
        {
          "output_type": "display_data",
          "data": {
            "text/html": [
              "<table border=\"1\" class=\"dataframe\">\n",
              "  <thead>\n",
              "    <tr style=\"text-align: right;\">\n",
              "      <th></th>\n",
              "      <th>primaryid</th>\n",
              "      <th>caseid</th>\n",
              "      <th>pt</th>\n",
              "      <th>drug_rec_act</th>\n",
              "    </tr>\n",
              "  </thead>\n",
              "  <tbody>\n",
              "    <tr>\n",
              "      <th>1359917</th>\n",
              "      <td>99974143</td>\n",
              "      <td>9997414</td>\n",
              "      <td>Type 2 diabetes mellitus</td>\n",
              "      <td>NaN</td>\n",
              "    </tr>\n",
              "    <tr>\n",
              "      <th>1359918</th>\n",
              "      <td>99974513</td>\n",
              "      <td>9997451</td>\n",
              "      <td>Type 2 diabetes mellitus</td>\n",
              "      <td>NaN</td>\n",
              "    </tr>\n",
              "    <tr>\n",
              "      <th>1359919</th>\n",
              "      <td>99975493</td>\n",
              "      <td>9997549</td>\n",
              "      <td>Type 2 diabetes mellitus</td>\n",
              "      <td>NaN</td>\n",
              "    </tr>\n",
              "    <tr>\n",
              "      <th>1359920</th>\n",
              "      <td>99990904</td>\n",
              "      <td>9999090</td>\n",
              "      <td>Nail growth abnormal</td>\n",
              "      <td>NaN</td>\n",
              "    </tr>\n",
              "    <tr>\n",
              "      <th>1359921</th>\n",
              "      <td>99990904</td>\n",
              "      <td>9999090</td>\n",
              "      <td>Psoriasis</td>\n",
              "      <td>NaN</td>\n",
              "    </tr>\n",
              "  </tbody>\n",
              "</table>"
            ],
            "text/plain": [
              "<IPython.core.display.HTML object>"
            ]
          },
          "metadata": {
            "tags": []
          }
        },
        {
          "output_type": "display_data",
          "data": {
            "text/html": [
              "<table border=\"1\" class=\"dataframe\">\n",
              "  <thead>\n",
              "    <tr style=\"text-align: right;\">\n",
              "      <th></th>\n",
              "      <th>primaryid</th>\n",
              "      <th>caseid</th>\n",
              "      <th>indi_drug_seq</th>\n",
              "      <th>indi_pt</th>\n",
              "    </tr>\n",
              "  </thead>\n",
              "  <tbody>\n",
              "    <tr>\n",
              "      <th>1146933</th>\n",
              "      <td>99975493</td>\n",
              "      <td>9997549</td>\n",
              "      <td>1</td>\n",
              "      <td>Blood cholesterol increased</td>\n",
              "    </tr>\n",
              "    <tr>\n",
              "      <th>1146934</th>\n",
              "      <td>99975493</td>\n",
              "      <td>9997549</td>\n",
              "      <td>2</td>\n",
              "      <td>Blood triglycerides increased</td>\n",
              "    </tr>\n",
              "    <tr>\n",
              "      <th>1146935</th>\n",
              "      <td>99975493</td>\n",
              "      <td>9997549</td>\n",
              "      <td>3</td>\n",
              "      <td>Hypertension</td>\n",
              "    </tr>\n",
              "    <tr>\n",
              "      <th>1146936</th>\n",
              "      <td>99990904</td>\n",
              "      <td>9999090</td>\n",
              "      <td>2</td>\n",
              "      <td>Neuralgia</td>\n",
              "    </tr>\n",
              "    <tr>\n",
              "      <th>1146937</th>\n",
              "      <td>99990904</td>\n",
              "      <td>9999090</td>\n",
              "      <td>3</td>\n",
              "      <td>Pain</td>\n",
              "    </tr>\n",
              "  </tbody>\n",
              "</table>"
            ],
            "text/plain": [
              "<IPython.core.display.HTML object>"
            ]
          },
          "metadata": {
            "tags": []
          }
        },
        {
          "output_type": "stream",
          "text": [
            "demographic line\n",
            "primaryid                          100046572\n",
            "caseid                              10004657\n",
            "caseversion                                2\n",
            "i_f_code                                   F\n",
            "event_dt                 2012-07-31 00:00:00\n",
            "mfr_dt                   2019-10-28 00:00:00\n",
            "init_fda_dt              2014-03-12 00:00:00\n",
            "fda_dt                   2019-10-30 00:00:00\n",
            "rept_cod                                 EXP\n",
            "auth_num                                 NaN\n",
            "mfr_num             US-PFIZER INC-2014065269\n",
            "mfr_sndr                              PFIZER\n",
            "lit_ref                                  NaN\n",
            "age                                       71\n",
            "age_cod                                   YR\n",
            "age_grp                                  NaN\n",
            "sex                                        F\n",
            "e_sub                                      Y\n",
            "wt                                     81.63\n",
            "wt_cod                                    KG\n",
            "rept_dt                  2019-10-30 00:00:00\n",
            "to_mfr                                   NaN\n",
            "occp_cod                                  LW\n",
            "reporter_country                          US\n",
            "occr_country                              US\n",
            "Name: 0, dtype: object\n",
            "drug line\n",
            "primaryid                   100046572\n",
            "caseid                       10004657\n",
            "drug_seq                            1\n",
            "role_cod                           PS\n",
            "drugname                      LIPITOR\n",
            "prod_ai          ATORVASTATIN CALCIUM\n",
            "val_vbm                             1\n",
            "route                            Oral\n",
            "dose_vbm                   40 MG, UNK\n",
            "cum_dose_chr                      NaN\n",
            "cum_dose_unit                     NaN\n",
            "dechal                              D\n",
            "rechal                            NaN\n",
            "lot_num                           NaN\n",
            "exp_dt                            NaT\n",
            "nda_num                         20702\n",
            "dose_amt                           40\n",
            "dose_unit                          MG\n",
            "dose_form          FILM-COATED TABLET\n",
            "dose_freq                         NaN\n",
            "Name: 0, dtype: object\n"
          ],
          "name": "stdout"
        }
      ]
    },
    {
      "cell_type": "markdown",
      "metadata": {
        "id": "XPHNaoJ1s2mJ",
        "colab_type": "text"
      },
      "source": [
        "In theory we can use the above procedure to load every quarter data, but older data seems to be in different format so the code may not work. For some quarters data may have characters unreadable by read_csv. We had to edit the file to remove the character.\n",
        "\n",
        "We also load a file where we pull data from the PDF description of the field to computer-readable format. We do some sanity checks here and notice some small issues with data - to be discuss later.\n"
      ]
    },
    {
      "cell_type": "code",
      "metadata": {
        "id": "lfT1SpbykIeF",
        "colab_type": "code",
        "colab": {
          "base_uri": "https://localhost:8080/",
          "height": 54
        },
        "outputId": "ffa8b154-e6fc-4c08-cead-4d5666684bcb"
      },
      "source": [
        " # this file explain the abbreviations from the fields.\n",
        "import json\n",
        "with open(\"./FAERS/cfg/extra.json\") as jf:\n",
        "    extra_dict = json.load(jf)\n",
        "print(extra_dict)\n"
      ],
      "execution_count": 30,
      "outputs": [
        {
          "output_type": "stream",
          "text": [
            "{'OUTCOME.OUTC_COD': {'DE': 'Death', 'LT': 'Life-Threatening', 'HO': 'Hospitalization - Initial or Prolonged', 'DS': 'Disability', 'CA': 'Congenital Anomaly', 'RI': 'Required Intervention to Prevent Permanent        Impairment/Damage', 'OT': 'Other Serious (Important Medical Event)'}, 'THERAPY.DUR_COD': {'YR': 'Years', 'MON': 'Months', 'WK': 'Weeks', 'DAY': 'Days', 'HR': 'Hours', 'MIN': 'Minutes', 'SEC': 'Seconds'}, 'REPORT_SOURCES.CODE': {'FGN': 'Foreign', 'SDY': 'Study', 'LIT': 'Literature', 'CSM': 'Consumer', 'HP': 'Health Professional', 'UF': 'User Facility', 'CR': 'Company Representative', 'DT': 'Distributor', 'OTH': 'Other'}, 'DEMOGRAPHIC.WT_COD': {'KG': 'Kilograms', 'LBS': 'Pounds', 'GMS': 'Grams'}, 'DEMOGRAPHIC.AGE_GRP': {'N': 'Neonate', 'I': 'Infant', 'C': 'Child', 'T': 'Adolescent', 'A': 'Adult', 'E': 'Elderly'}, 'DEMOGRAPHIC.AGE_COD': {'DEC': 'DECADE', 'YR': 'YEAR', 'MON': 'MONTH', 'WK': 'WEEK', 'DY': 'DAY', 'HR': 'HOUR'}, 'DRUG.DOSE_FREQ': {'1X': 'Once or one time', 'BID': 'Twice a day', 'BIW': 'Twice a week', 'HS': 'At bedtime', 'PRN': 'As needed', 'Q12H': 'Every 12 hours', 'Q2H': 'Every 2 hours', 'Q3H': 'Every 3 hours', 'Q3W': 'Every 3 weeks', 'Q4H': 'Every 4 hours', 'Q5H': 'Every 5 hours', 'Q6H': 'Every 6 hours', 'Q8H': 'Every 8 hours', 'QD': 'Daily', 'QH': 'Every hour', 'QID': '4 times a day', 'QM': 'Monthly', 'QOD': 'Every other day', 'QOW': 'Every other week', 'QW': 'Every week', 'TID': '3 times a day', 'TIW': '3 times a week', 'UNK': 'Unknown'}, 'DRUG.RECHAL': {'Y': 'Positive rechallenge', 'N': 'Negative rechallenge', 'U': 'Unknown', 'D': 'Does not apply'}, 'DRUG.DECHAL': {'Y': 'Positive dechallenge', 'N': 'Negative dechallenge', 'U': 'Unknown', 'D': 'Does not apply'}, 'DRUG.CUM_DOSE_UNIT': {'KG': 'Kilogram(s)', 'GM': 'Gram(s)', 'MG': 'Milligram(s)', 'UG': 'Microgram(s) (μg)', 'NG': 'Nanogram(s)', 'PG': 'Picogram(s)', 'MG/KG': 'Milligram(s)/Kilogram', 'UG/KG': 'Microgram(s)/Kilogram (μG/KG)', 'MG/M**2': 'Milligram(s)/Sq. Meter', 'UG/M**2': 'Microgram(s)/Sq. Meter (μG/M**2)', 'L': 'Litre(s)', 'ML': 'Millilitre(s)', 'UL': 'Microlitre(s) (μL)', 'BQ': 'Becquerel(s)', 'GBQ': 'Gigabecquerel(s)', 'MBQ': 'Megabecquerel(s)', 'KBQ': 'Kilobecquerel(s)', 'CI': 'Curie(s)', 'MCI': 'Millicurie(s)', 'UCI': 'Microcurie(s) (μCI)', 'NCI': 'Nanocurie(s)', 'MOL': 'Mole(s)', 'MMOL': 'Millimole(s)', 'UMOL': 'Micromole(s)', 'IU': 'International Unit(s)', 'KIU': 'International Unit*(1000s)', 'MIU': 'International Unit*(1,000,000s)', 'IU/KG': 'IU/Kilogram', 'MEQ': 'Milliequivalent(s)', 'PCT': 'Percent (%)', 'GTT': 'Drop(s)', 'DF': 'Dosage Form'}, 'DRUG.VAL_VBM': {'1': 'Validated trade name used', '2': 'Verbatim name used'}, 'DRUG.ROLE_COD': {'PS': 'Primary Suspect Drug', 'SS': 'Secondary Suspect Drug', 'C': 'Concomitant', 'I': 'Interacting'}, 'DEMOGRAPHIC.OCCP_COD': {'MD': 'Physician', 'PH': 'Pharmacist', 'OT': 'Other health-professional', 'LW': 'Lawyer', 'CN': 'Consumer'}}\n"
          ],
          "name": "stdout"
        }
      ]
    },
    {
      "cell_type": "markdown",
      "metadata": {
        "id": "1EGTCKy4kIeJ",
        "colab_type": "text"
      },
      "source": [
        "Checking severity level of outcoume, balance of sex in incidents:"
      ]
    },
    {
      "cell_type": "code",
      "metadata": {
        "id": "NQhzEgdlkIeK",
        "colab_type": "code",
        "colab": {
          "base_uri": "https://localhost:8080/",
          "height": 794
        },
        "outputId": "5be32a9c-06e9-4415-966d-0cd87e2d1aa8"
      },
      "source": [
        "ocnt = all_frames['outcome'][['outc_cod', 'primaryid']].groupby('outc_cod').count()\n",
        "bdisplay(\"DISTRIBUTION OF OUTCOME\")\n",
        "display_frame(ocnt.sort_values(by='primaryid', ascending=False))\n",
        "ocnt.plot.pie(y='primaryid')\n",
        "ocnt = None\n",
        "display_frame(pd.DataFrame(np.array([(a, extra_dict['OUTCOME.OUTC_COD'][a]) for a in extra_dict['OUTCOME.OUTC_COD']])))"
      ],
      "execution_count": 57,
      "outputs": [
        {
          "output_type": "display_data",
          "data": {
            "text/html": [
              "<b>DISTRIBUTION OF OUTCOME</b>"
            ],
            "text/plain": [
              "<IPython.core.display.HTML object>"
            ]
          },
          "metadata": {
            "tags": []
          }
        },
        {
          "output_type": "display_data",
          "data": {
            "text/html": [
              "<table border=\"1\" class=\"dataframe\">\n",
              "  <thead>\n",
              "    <tr style=\"text-align: right;\">\n",
              "      <th></th>\n",
              "      <th>primaryid</th>\n",
              "    </tr>\n",
              "    <tr>\n",
              "      <th>outc_cod</th>\n",
              "      <th></th>\n",
              "    </tr>\n",
              "  </thead>\n",
              "  <tbody>\n",
              "    <tr>\n",
              "      <th>OT</th>\n",
              "      <td>118413</td>\n",
              "    </tr>\n",
              "    <tr>\n",
              "      <th>HO</th>\n",
              "      <td>75673</td>\n",
              "    </tr>\n",
              "    <tr>\n",
              "      <th>DE</th>\n",
              "      <td>33778</td>\n",
              "    </tr>\n",
              "    <tr>\n",
              "      <th>LT</th>\n",
              "      <td>7792</td>\n",
              "    </tr>\n",
              "    <tr>\n",
              "      <th>DS</th>\n",
              "      <td>5139</td>\n",
              "    </tr>\n",
              "    <tr>\n",
              "      <th>CA</th>\n",
              "      <td>998</td>\n",
              "    </tr>\n",
              "    <tr>\n",
              "      <th>RI</th>\n",
              "      <td>481</td>\n",
              "    </tr>\n",
              "  </tbody>\n",
              "</table>"
            ],
            "text/plain": [
              "<IPython.core.display.HTML object>"
            ]
          },
          "metadata": {
            "tags": []
          }
        },
        {
          "output_type": "display_data",
          "data": {
            "text/html": [
              "<table border=\"1\" class=\"dataframe\">\n",
              "  <thead>\n",
              "    <tr style=\"text-align: right;\">\n",
              "      <th></th>\n",
              "      <th>0</th>\n",
              "      <th>1</th>\n",
              "    </tr>\n",
              "  </thead>\n",
              "  <tbody>\n",
              "    <tr>\n",
              "      <th>0</th>\n",
              "      <td>DE</td>\n",
              "      <td>Death</td>\n",
              "    </tr>\n",
              "    <tr>\n",
              "      <th>1</th>\n",
              "      <td>LT</td>\n",
              "      <td>Life-Threatening</td>\n",
              "    </tr>\n",
              "    <tr>\n",
              "      <th>2</th>\n",
              "      <td>HO</td>\n",
              "      <td>Hospitalization - Initial or Prolonged</td>\n",
              "    </tr>\n",
              "    <tr>\n",
              "      <th>3</th>\n",
              "      <td>DS</td>\n",
              "      <td>Disability</td>\n",
              "    </tr>\n",
              "    <tr>\n",
              "      <th>4</th>\n",
              "      <td>CA</td>\n",
              "      <td>Congenital Anomaly</td>\n",
              "    </tr>\n",
              "    <tr>\n",
              "      <th>5</th>\n",
              "      <td>RI</td>\n",
              "      <td>Required Intervention to Prevent Permanent        Impairment/Damage</td>\n",
              "    </tr>\n",
              "    <tr>\n",
              "      <th>6</th>\n",
              "      <td>OT</td>\n",
              "      <td>Other Serious (Important Medical Event)</td>\n",
              "    </tr>\n",
              "  </tbody>\n",
              "</table>"
            ],
            "text/plain": [
              "<IPython.core.display.HTML object>"
            ]
          },
          "metadata": {
            "tags": []
          }
        },
        {
          "output_type": "display_data",
          "data": {
            "image/png": "[encoded data removed]",
            "text/plain": [
              "<Figure size 432x288 with 1 Axes>"
            ]
          },
          "metadata": {
            "tags": []
          }
        }
      ]
    },
    {
      "cell_type": "code",
      "metadata": {
        "id": "8Kvtju5okIeQ",
        "colab_type": "code",
        "colab": {
          "base_uri": "https://localhost:8080/",
          "height": 421
        },
        "outputId": "2116c3d4-1b13-4d27-ba27-82f8b129c9f0"
      },
      "source": [
        "bdisplay(\"REPORTING EVENTS BY SEX\")\n",
        "sxcnt = all_frames['demographic'][['sex', 'primaryid']].groupby('sex').count()\n",
        "display_frame(sxcnt.sort_values(by='primaryid', ascending=False))\n",
        "sxcnt.plot.pie(y='primaryid')\n",
        "sxcnt = None"
      ],
      "execution_count": 56,
      "outputs": [
        {
          "output_type": "display_data",
          "data": {
            "text/html": [
              "<b>REPORTING EVENTS BY SEX</b>"
            ],
            "text/plain": [
              "<IPython.core.display.HTML object>"
            ]
          },
          "metadata": {
            "tags": []
          }
        },
        {
          "output_type": "display_data",
          "data": {
            "text/html": [
              "<table border=\"1\" class=\"dataframe\">\n",
              "  <thead>\n",
              "    <tr style=\"text-align: right;\">\n",
              "      <th></th>\n",
              "      <th>primaryid</th>\n",
              "    </tr>\n",
              "    <tr>\n",
              "      <th>sex</th>\n",
              "      <th></th>\n",
              "    </tr>\n",
              "  </thead>\n",
              "  <tbody>\n",
              "    <tr>\n",
              "      <th>F</th>\n",
              "      <td>187994</td>\n",
              "    </tr>\n",
              "    <tr>\n",
              "      <th>M</th>\n",
              "      <td>121604</td>\n",
              "    </tr>\n",
              "    <tr>\n",
              "      <th>UNK</th>\n",
              "      <td>92</td>\n",
              "    </tr>\n",
              "  </tbody>\n",
              "</table>"
            ],
            "text/plain": [
              "<IPython.core.display.HTML object>"
            ]
          },
          "metadata": {
            "tags": []
          }
        },
        {
          "output_type": "display_data",
          "data": {
            "image/png": "[encoded data removed]",
            "text/plain": [
              "<Figure size 432x288 with 1 Axes>"
            ]
          },
          "metadata": {
            "tags": []
          }
        }
      ]
    },
    {
      "cell_type": "code",
      "metadata": {
        "id": "oRwI3aq884Yi",
        "colab_type": "code",
        "colab": {
          "base_uri": "https://localhost:8080/",
          "height": 221
        },
        "outputId": "126b3983-d649-4894-9d66-1e417e75a708"
      },
      "source": [
        "# We found an issue with data: some therapy start_dt is later than end_dt\n",
        "therapy = all_frames['therapy']\n",
        "bdisplay(\"There are %d instances where therapy start date is after end date\" % therapy.loc[therapy.start_dt > therapy.end_dt].shape[0])\n",
        "therapy.loc[therapy.start_dt > therapy.end_dt].head()"
      ],
      "execution_count": 60,
      "outputs": [
        {
          "output_type": "display_data",
          "data": {
            "text/html": [
              "<b>There are 1266 instances where therapy start date is after end date</b>"
            ],
            "text/plain": [
              "<IPython.core.display.HTML object>"
            ]
          },
          "metadata": {
            "tags": []
          }
        },
        {
          "output_type": "execute_result",
          "data": {
            "text/html": [
              "<div>\n",
              "<style scoped>\n",
              "    .dataframe tbody tr th:only-of-type {\n",
              "        vertical-align: middle;\n",
              "    }\n",
              "\n",
              "    .dataframe tbody tr th {\n",
              "        vertical-align: top;\n",
              "    }\n",
              "\n",
              "    .dataframe thead th {\n",
              "        text-align: right;\n",
              "    }\n",
              "</style>\n",
              "<table border=\"1\" class=\"dataframe\">\n",
              "  <thead>\n",
              "    <tr style=\"text-align: right;\">\n",
              "      <th></th>\n",
              "      <th>primaryid</th>\n",
              "      <th>caseid</th>\n",
              "      <th>dsg_drug_seq</th>\n",
              "      <th>start_dt</th>\n",
              "      <th>end_dt</th>\n",
              "      <th>dur</th>\n",
              "      <th>dur_cod</th>\n",
              "    </tr>\n",
              "  </thead>\n",
              "  <tbody>\n",
              "    <tr>\n",
              "      <th>535</th>\n",
              "      <td>100717436</td>\n",
              "      <td>10071743</td>\n",
              "      <td>12</td>\n",
              "      <td>2013-12-03</td>\n",
              "      <td>2013-01-02</td>\n",
              "      <td>NaN</td>\n",
              "      <td>NaN</td>\n",
              "    </tr>\n",
              "    <tr>\n",
              "      <th>536</th>\n",
              "      <td>100717436</td>\n",
              "      <td>10071743</td>\n",
              "      <td>13</td>\n",
              "      <td>2013-12-03</td>\n",
              "      <td>2013-01-02</td>\n",
              "      <td>NaN</td>\n",
              "      <td>NaN</td>\n",
              "    </tr>\n",
              "    <tr>\n",
              "      <th>1080</th>\n",
              "      <td>101596593</td>\n",
              "      <td>10159659</td>\n",
              "      <td>1</td>\n",
              "      <td>2011-07-26</td>\n",
              "      <td>2011-01-01</td>\n",
              "      <td>NaN</td>\n",
              "      <td>NaN</td>\n",
              "    </tr>\n",
              "    <tr>\n",
              "      <th>3244</th>\n",
              "      <td>104144313</td>\n",
              "      <td>10414431</td>\n",
              "      <td>1</td>\n",
              "      <td>2013-02-07</td>\n",
              "      <td>2013-01-02</td>\n",
              "      <td>NaN</td>\n",
              "      <td>NaN</td>\n",
              "    </tr>\n",
              "    <tr>\n",
              "      <th>3245</th>\n",
              "      <td>104144313</td>\n",
              "      <td>10414431</td>\n",
              "      <td>2</td>\n",
              "      <td>2013-02-07</td>\n",
              "      <td>2013-01-02</td>\n",
              "      <td>NaN</td>\n",
              "      <td>NaN</td>\n",
              "    </tr>\n",
              "  </tbody>\n",
              "</table>\n",
              "</div>"
            ],
            "text/plain": [
              "      primaryid    caseid  dsg_drug_seq   start_dt     end_dt  dur dur_cod\n",
              "535   100717436  10071743            12 2013-12-03 2013-01-02  NaN     NaN\n",
              "536   100717436  10071743            13 2013-12-03 2013-01-02  NaN     NaN\n",
              "1080  101596593  10159659             1 2011-07-26 2011-01-01  NaN     NaN\n",
              "3244  104144313  10414431             1 2013-02-07 2013-01-02  NaN     NaN\n",
              "3245  104144313  10414431             2 2013-02-07 2013-01-02  NaN     NaN"
            ]
          },
          "metadata": {
            "tags": []
          },
          "execution_count": 60
        }
      ]
    },
    {
      "cell_type": "markdown",
      "metadata": {
        "id": "YOYipIZukIeV",
        "colab_type": "text"
      },
      "source": [
        "### Analyzing reaction by country.\n",
        "To analyze reaction by country, we need to join the data frames <b>reaction</b> and <b>demographic</b>. In practice, it is probably also important to view reaction <b>for one drug </b>accross different countries. But first, we show top reactions per country accross all reporting events. The following show number of reporting per country for the top 4 countries"
      ]
    },
    {
      "cell_type": "code",
      "metadata": {
        "id": "rDXgdKskkIeW",
        "colab_type": "code",
        "colab": {
          "base_uri": "https://localhost:8080/",
          "height": 252
        },
        "outputId": "f2691cc0-b02c-433e-b30d-639d458149d6"
      },
      "source": [
        "demo = all_frames['demographic']\n",
        "reaction = all_frames['reaction'][['primaryid', 'pt']]\n",
        "rcnt = pd.merge(demo, reaction, on='primaryid')[['primaryid', 'occr_country', 'pt']].groupby(['occr_country', 'pt']).count()\n",
        "cntr_cnt = rcnt.reset_index().groupby(by='occr_country').sum()\n",
        "bdisplay('Tot number of countries is %d. These are the top countries' % cntr_cnt.shape[0])\n",
        "display_frame(cntr_cnt.sort_values(by='primaryid', ascending=False).head())\n",
        "rcnt = None\n",
        "cntr_cnt = None"
      ],
      "execution_count": 61,
      "outputs": [
        {
          "output_type": "display_data",
          "data": {
            "text/html": [
              "<b>Tot number of countries is 158. These are the top countries</b>"
            ],
            "text/plain": [
              "<IPython.core.display.HTML object>"
            ]
          },
          "metadata": {
            "tags": []
          }
        },
        {
          "output_type": "display_data",
          "data": {
            "text/html": [
              "<table border=\"1\" class=\"dataframe\">\n",
              "  <thead>\n",
              "    <tr style=\"text-align: right;\">\n",
              "      <th></th>\n",
              "      <th>primaryid</th>\n",
              "    </tr>\n",
              "    <tr>\n",
              "      <th>occr_country</th>\n",
              "      <th></th>\n",
              "    </tr>\n",
              "  </thead>\n",
              "  <tbody>\n",
              "    <tr>\n",
              "      <th>US</th>\n",
              "      <td>714408</td>\n",
              "    </tr>\n",
              "    <tr>\n",
              "      <th>CA</th>\n",
              "      <td>72211</td>\n",
              "    </tr>\n",
              "    <tr>\n",
              "      <th>GB</th>\n",
              "      <td>36065</td>\n",
              "    </tr>\n",
              "    <tr>\n",
              "      <th>JP</th>\n",
              "      <td>33313</td>\n",
              "    </tr>\n",
              "    <tr>\n",
              "      <th>FR</th>\n",
              "      <td>26259</td>\n",
              "    </tr>\n",
              "  </tbody>\n",
              "</table>"
            ],
            "text/plain": [
              "<IPython.core.display.HTML object>"
            ]
          },
          "metadata": {
            "tags": []
          }
        }
      ]
    },
    {
      "cell_type": "markdown",
      "metadata": {
        "id": "PXMrTtz0kIea",
        "colab_type": "text"
      },
      "source": [
        "### Analyzing by drug and country\n",
        "In the first step we get the list of drugs with a lot of events reported. The numbers of reported events per drug differ.\n",
        "Some drugs has many reported events, while some has just a few. We will sort drug by number of reported events, then provide a GUI to select a drug and view its event per distribution. The dataframe <b>esort</b> sort drugs by reported events.\n",
        "We note the drugs with top number of events has 19k of events,\n",
        "while the 50%tile only has small number of events. The 500th drug in the list (sorted in descending order) has around 600 events.\n"
      ]
    },
    {
      "cell_type": "code",
      "metadata": {
        "id": "34P5wKhskIec",
        "colab_type": "code",
        "colab": {
          "base_uri": "https://localhost:8080/",
          "height": 1000
        },
        "outputId": "89cbe71e-00db-4706-9dc3-dd30cd4e1af0"
      },
      "source": [
        "%matplotlib inline\n",
        "dr = all_frames['drug']\n",
        "# Adverse events by drug\n",
        "e_by_drug = dr[['drugname', 'primaryid']].groupby(\n",
        "    'drugname').count()\n",
        "e_by_drug.rename(columns={'primaryid': 'event_cnt'}, inplace=True)\n",
        "display_frame(e_by_drug.describe())\n",
        "esort = e_by_drug.sort_values(by='event_cnt', ascending=False)\n",
        "display(HTML(\"<b>DRUG WITH TOP NUMBER OF EVENTS</b>\"))\n",
        "display_frame(esort.head(10))\n",
        "esort.plot(title=\"Adverse events per drug\")\n",
        "drug_idx = 500\n",
        "# try a middle of the pack\n",
        "\n",
        "esort[:drug_idx].plot(title=\"Adverse events per drug, top %d names\" % drug_idx)\n",
        "display_frame(esort.iloc[drug_idx:drug_idx+10])"
      ],
      "execution_count": 62,
      "outputs": [
        {
          "output_type": "display_data",
          "data": {
            "text/html": [
              "<table border=\"1\" class=\"dataframe\">\n",
              "  <thead>\n",
              "    <tr style=\"text-align: right;\">\n",
              "      <th></th>\n",
              "      <th>event_cnt</th>\n",
              "    </tr>\n",
              "  </thead>\n",
              "  <tbody>\n",
              "    <tr>\n",
              "      <th>count</th>\n",
              "      <td>49604.000000</td>\n",
              "    </tr>\n",
              "    <tr>\n",
              "      <th>mean</th>\n",
              "      <td>24.884949</td>\n",
              "    </tr>\n",
              "    <tr>\n",
              "      <th>std</th>\n",
              "      <td>263.338061</td>\n",
              "    </tr>\n",
              "    <tr>\n",
              "      <th>min</th>\n",
              "      <td>1.000000</td>\n",
              "    </tr>\n",
              "    <tr>\n",
              "      <th>25%</th>\n",
              "      <td>1.000000</td>\n",
              "    </tr>\n",
              "    <tr>\n",
              "      <th>50%</th>\n",
              "      <td>1.000000</td>\n",
              "    </tr>\n",
              "    <tr>\n",
              "      <th>75%</th>\n",
              "      <td>3.000000</td>\n",
              "    </tr>\n",
              "    <tr>\n",
              "      <th>max</th>\n",
              "      <td>17837.000000</td>\n",
              "    </tr>\n",
              "  </tbody>\n",
              "</table>"
            ],
            "text/plain": [
              "<IPython.core.display.HTML object>"
            ]
          },
          "metadata": {
            "tags": []
          }
        },
        {
          "output_type": "display_data",
          "data": {
            "text/html": [
              "<b>DRUG WITH TOP NUMBER OF EVENTS</b>"
            ],
            "text/plain": [
              "<IPython.core.display.HTML object>"
            ]
          },
          "metadata": {
            "tags": []
          }
        },
        {
          "output_type": "display_data",
          "data": {
            "text/html": [
              "<table border=\"1\" class=\"dataframe\">\n",
              "  <thead>\n",
              "    <tr style=\"text-align: right;\">\n",
              "      <th></th>\n",
              "      <th>event_cnt</th>\n",
              "    </tr>\n",
              "    <tr>\n",
              "      <th>drugname</th>\n",
              "      <th></th>\n",
              "    </tr>\n",
              "  </thead>\n",
              "  <tbody>\n",
              "    <tr>\n",
              "      <th>ENBREL</th>\n",
              "      <td>17837</td>\n",
              "    </tr>\n",
              "    <tr>\n",
              "      <th>REVLIMID</th>\n",
              "      <td>17207</td>\n",
              "    </tr>\n",
              "    <tr>\n",
              "      <th>HUMIRA</th>\n",
              "      <td>16989</td>\n",
              "    </tr>\n",
              "    <tr>\n",
              "      <th>XARELTO</th>\n",
              "      <td>14520</td>\n",
              "    </tr>\n",
              "    <tr>\n",
              "      <th>XOLAIR</th>\n",
              "      <td>12053</td>\n",
              "    </tr>\n",
              "    <tr>\n",
              "      <th>AMPYRA</th>\n",
              "      <td>10887</td>\n",
              "    </tr>\n",
              "    <tr>\n",
              "      <th>SENSIPAR</th>\n",
              "      <td>10181</td>\n",
              "    </tr>\n",
              "    <tr>\n",
              "      <th>PREDNISONE.</th>\n",
              "      <td>9262</td>\n",
              "    </tr>\n",
              "    <tr>\n",
              "      <th>ASPIRIN.</th>\n",
              "      <td>8427</td>\n",
              "    </tr>\n",
              "    <tr>\n",
              "      <th>CYMBALTA</th>\n",
              "      <td>8047</td>\n",
              "    </tr>\n",
              "  </tbody>\n",
              "</table>"
            ],
            "text/plain": [
              "<IPython.core.display.HTML object>"
            ]
          },
          "metadata": {
            "tags": []
          }
        },
        {
          "output_type": "display_data",
          "data": {
            "text/html": [
              "<table border=\"1\" class=\"dataframe\">\n",
              "  <thead>\n",
              "    <tr style=\"text-align: right;\">\n",
              "      <th></th>\n",
              "      <th>event_cnt</th>\n",
              "    </tr>\n",
              "    <tr>\n",
              "      <th>drugname</th>\n",
              "      <th></th>\n",
              "    </tr>\n",
              "  </thead>\n",
              "  <tbody>\n",
              "    <tr>\n",
              "      <th>QVAR</th>\n",
              "      <td>451</td>\n",
              "    </tr>\n",
              "    <tr>\n",
              "      <th>BUDESONIDE.</th>\n",
              "      <td>449</td>\n",
              "    </tr>\n",
              "    <tr>\n",
              "      <th>YERVOY</th>\n",
              "      <td>448</td>\n",
              "    </tr>\n",
              "    <tr>\n",
              "      <th>CORTISONE</th>\n",
              "      <td>447</td>\n",
              "    </tr>\n",
              "    <tr>\n",
              "      <th>SOVALDI</th>\n",
              "      <td>446</td>\n",
              "    </tr>\n",
              "    <tr>\n",
              "      <th>LATANOPROST.</th>\n",
              "      <td>446</td>\n",
              "    </tr>\n",
              "    <tr>\n",
              "      <th>NASONEX</th>\n",
              "      <td>446</td>\n",
              "    </tr>\n",
              "    <tr>\n",
              "      <th>SERETIDE</th>\n",
              "      <td>445</td>\n",
              "    </tr>\n",
              "    <tr>\n",
              "      <th>VIEKIRAX</th>\n",
              "      <td>444</td>\n",
              "    </tr>\n",
              "    <tr>\n",
              "      <th>SENNA</th>\n",
              "      <td>444</td>\n",
              "    </tr>\n",
              "  </tbody>\n",
              "</table>"
            ],
            "text/plain": [
              "<IPython.core.display.HTML object>"
            ]
          },
          "metadata": {
            "tags": []
          }
        },
        {
          "output_type": "display_data",
          "data": {
            "image/png": "[encoded data removed]",
            "text/plain": [
              "<Figure size 432x288 with 1 Axes>"
            ]
          },
          "metadata": {
            "tags": []
          }
        },
        {
          "output_type": "display_data",
          "data": {
            "image/png": "[encoded data removed]",
            "text/plain": [
              "<Figure size 432x288 with 1 Axes>"
            ]
          },
          "metadata": {
            "tags": []
          }
        }
      ]
    },
    {
      "cell_type": "markdown",
      "metadata": {
        "id": "-O_zliaakIeh",
        "colab_type": "text"
      },
      "source": [
        "The following code shows a GUI to select a drug with many events (top of <b>esort</b>). It then show breakdown of reporting events by country and reported type. Note that since we have several reactions per report, the report count here is different from above\n"
      ]
    },
    {
      "cell_type": "code",
      "metadata": {
        "id": "Qu1D5KIakIei",
        "colab_type": "code",
        "colab": {
          "base_uri": "https://localhost:8080/",
          "height": 1000,
          "referenced_widgets": [
            "85d4d72185664c688bdf904059f0b3e9",
            "ed24f1a9ac434c3981f12b04f70529ba",
            "0aae03178a3e45ada8391c4aee93ff74",
            "657014b222c44ef08cd1be6fc9ff3604",
            "bbae3f2136a74481b22386ac15d5a87d",
            "ae91edbee28f43a79865d878f5fdee92"
          ]
        },
        "outputId": "2fa07ca1-8bf3-4994-ea2a-42cc1154e365"
      },
      "source": [
        "from ipywidgets import interact\n",
        "import numpy as np\n",
        "import pandas as pd\n",
        "\n",
        "show_top = 50\n",
        "cntr_cutoff = 6\n",
        "cntry_field = 'occr_country'\n",
        "# cntry_field = 'reporter_country'\n",
        "ddr_agg = faers_lib.analyze.gen_drug_demo_react_agg(all_frames)\n",
        "bdisplay(\"CHANGE THE DROP DOWN BOX TO SELECT A DIFFERENT DRUG\")\n",
        "def analyze_one_drug_by_country(\n",
        "        ddr_agg, one_drug, cntry_field='occr_country',\n",
        "        show_top=10):\n",
        "    \"\"\"Summarizing AE data on one drug by country.\n",
        "    We can choose eiither occr_country or reporter_country\n",
        "    \"\"\"\n",
        "    display(HTML('<b>Reporting on %s for %s by country and reaction</b>' % (\n",
        "        cntry_field, one_drug)))\n",
        "    data = ddr_agg.loc[\n",
        "        ddr_agg.drugname == one_drug]\n",
        "\n",
        "    by_cntry_tbl = data[['primaryid', cntry_field]].groupby(\n",
        "        by=[cntry_field]).count().sort_values(\n",
        "            by='primaryid', ascending=False)\n",
        "    by_cntry_tbl.rename(columns={'primaryid': 'cnt'}, inplace=True)\n",
        "    display_frame(by_cntry_tbl.head(show_top))\n",
        "    display(HTML(\"TOP EVENTS BY COUNTRY:\"))\n",
        "    for c in by_cntry_tbl.index[:5]:\n",
        "        react_by_cntry = data.loc[data[cntry_field] == c][\n",
        "            [cntry_field, 'pt', 'primaryid']].groupby(\n",
        "                [cntry_field, 'pt']).count().sort_values(\n",
        "                    by=['primaryid'], ascending=False)\n",
        "        react_by_cntry.rename(columns={'primaryid': 'cnt'}, inplace=True)\n",
        "        display_frame(react_by_cntry.head(show_top))\n",
        "\n",
        "def update_country(drugname):\n",
        "    ddr2 = ddr_agg.loc[ddr_agg.drugname == drugname]\n",
        "    ctry_dist = ddr2[['primaryid', cntry_field]].groupby(\n",
        "        by=cntry_field).count().sort_values(by=\"primaryid\", ascending=False)\n",
        "    ctry_dist.rename(columns={'primaryid': 'cnt'}, inplace=True)\n",
        "    ctry_dist.reset_index(inplace=True)\n",
        "    display(HTML(\"TOTAL REPORTS PER DRUG - DISTRIBUTION/TOP COUNTRIES\"))\n",
        "    display_frame(ctry_dist.describe().loc[['count', 'mean', '25%', '50%', '75%', 'max']].T)    \n",
        "    display_frame(ctry_dist.head())\n",
        "\n",
        "    if ctry_dist.shape[0] > cntr_cutoff:\n",
        "        ctry_dist.iloc[6:, 0] = 'OTHER'\n",
        "    \n",
        "    analyze_one_drug_by_country(\n",
        "        ddr_agg, drugname, cntry_field=cntry_field, show_top=cntr_cutoff)\n",
        "    nsp_idx = np.where(ctry_dist[cntry_field] == 'COUNTRY NOT SPECIFIED')[0]\n",
        "    if nsp_idx.shape[0] > 0:\n",
        "        ctry_dist.iloc[nsp_idx, 0] = 'OTHER'\n",
        "    ctry_dist.groupby(by=cntry_field).sum().plot.pie(y=\"cnt\")\n",
        "interact(update_country, drugname=esort.index[:show_top])"
      ],
      "execution_count": 40,
      "outputs": [
        {
          "output_type": "display_data",
          "data": {
            "text/html": [
              "<b>CHANGE THE DROP DOWN BOX TO SELECT A DIFFERENT DRUG</b>"
            ],
            "text/plain": [
              "<IPython.core.display.HTML object>"
            ]
          },
          "metadata": {
            "tags": []
          }
        },
        {
          "output_type": "display_data",
          "data": {
            "application/vnd.jupyter.widget-view+json": {
              "model_id": "85d4d72185664c688bdf904059f0b3e9",
              "version_minor": 0,
              "version_major": 2
            },
            "text/plain": [
              "interactive(children=(Dropdown(description='drugname', options=('REVLIMID', 'PREDNISONE.', 'HUMIRA', 'CIMZIA',…"
            ]
          },
          "metadata": {
            "tags": []
          }
        },
        {
          "output_type": "execute_result",
          "data": {
            "text/plain": [
              "<function __main__.update_country>"
            ]
          },
          "metadata": {
            "tags": []
          },
          "execution_count": 40
        }
      ]
    },
    {
      "cell_type": "markdown",
      "metadata": {
        "id": "cazZ3d4CkIel",
        "colab_type": "text"
      },
      "source": [
        "# ANALYZING BY DISEASE\n",
        "Similarly we can analyze by disease area by drug. First we find a list of drugs that is used to treat several diseases, then show a GUI where we pick a drug, show the diseases and the reaction. There are <b>TWO</b> dropdown box where we can choose <b>DRUG</b> and <b>indication</b>, and view distribution of reactions."
      ]
    },
    {
      "cell_type": "code",
      "metadata": {
        "id": "0dug53VAkIen",
        "colab_type": "code",
        "colab": {
          "base_uri": "https://localhost:8080/",
          "height": 630
        },
        "outputId": "ebc1678c-66f0-464f-adc8-83aa1478894a"
      },
      "source": [
        "# look for some drug use for treatment of several diseases:\n",
        "indication = all_frames['indication']\n",
        "dr = all_frames['drug']\n",
        "dr_de_indication_fr = pd.merge(\n",
        "    ddr_agg, indication,\n",
        "    how='inner', left_on=('primaryid', 'drug_seq'),\n",
        "    right_on=('primaryid', 'indi_drug_seq'))\n",
        "i_drug_name = pd.merge(\n",
        "    dr[['primaryid', 'drug_seq', 'drugname']],\n",
        "    indication[['primaryid', 'indi_drug_seq', 'indi_pt']],\n",
        "    how='inner', left_on=['primaryid', 'drug_seq'],\n",
        "    right_on=['primaryid', 'indi_drug_seq'])\n",
        "disct_drug_name = i_drug_name[['drugname', 'indi_pt']].groupby(\n",
        "    by=['drugname', 'indi_pt']).count().reset_index()\n",
        "\n",
        "drug_disease = disct_drug_name.groupby(\n",
        "    by=['drugname']).count().sort_values(\n",
        "        by='indi_pt', ascending=False)\n",
        "drug_disease.rename(columns={'primaryid': 'cnt'}, inplace=True)\n",
        "display(HTML(\"<b>TOP DRUGS WITH MANY INDICATION POINTS </b>\"))\n",
        "display_frame(drug_disease.head())\n",
        "display(HTML(\"<b>DISTRIBUTION OF INDICATION POINTS BY DRUG </b>\"))\n",
        "display_frame(drug_disease.describe().T)\n",
        "drug_disease.hist()\n",
        "# display_frame(drug_disease.iloc[drug_disease.shape[0] // 10:1+drug_disease.shape[0] // 10])"
      ],
      "execution_count": 41,
      "outputs": [
        {
          "output_type": "display_data",
          "data": {
            "text/html": [
              "<b>TOP DRUGS WITH MANY INDICATION POINTS </b>"
            ],
            "text/plain": [
              "<IPython.core.display.HTML object>"
            ]
          },
          "metadata": {
            "tags": []
          }
        },
        {
          "output_type": "display_data",
          "data": {
            "text/html": [
              "<table border=\"1\" class=\"dataframe\">\n",
              "  <thead>\n",
              "    <tr style=\"text-align: right;\">\n",
              "      <th></th>\n",
              "      <th>indi_pt</th>\n",
              "    </tr>\n",
              "    <tr>\n",
              "      <th>drugname</th>\n",
              "      <th></th>\n",
              "    </tr>\n",
              "  </thead>\n",
              "  <tbody>\n",
              "    <tr>\n",
              "      <th>PREDNISONE.</th>\n",
              "      <td>596</td>\n",
              "    </tr>\n",
              "    <tr>\n",
              "      <th>LYRICA</th>\n",
              "      <td>497</td>\n",
              "    </tr>\n",
              "    <tr>\n",
              "      <th>PREDNISOLONE.</th>\n",
              "      <td>417</td>\n",
              "    </tr>\n",
              "    <tr>\n",
              "      <th>DEXAMETHASONE.</th>\n",
              "      <td>362</td>\n",
              "    </tr>\n",
              "    <tr>\n",
              "      <th>METHYLPREDNISOLONE.</th>\n",
              "      <td>317</td>\n",
              "    </tr>\n",
              "  </tbody>\n",
              "</table>"
            ],
            "text/plain": [
              "<IPython.core.display.HTML object>"
            ]
          },
          "metadata": {
            "tags": []
          }
        },
        {
          "output_type": "display_data",
          "data": {
            "text/html": [
              "<b>DISTRIBUTION OF INDICATION POINTS BY DRUG </b>"
            ],
            "text/plain": [
              "<IPython.core.display.HTML object>"
            ]
          },
          "metadata": {
            "tags": []
          }
        },
        {
          "output_type": "display_data",
          "data": {
            "text/html": [
              "<table border=\"1\" class=\"dataframe\">\n",
              "  <thead>\n",
              "    <tr style=\"text-align: right;\">\n",
              "      <th></th>\n",
              "      <th>count</th>\n",
              "      <th>mean</th>\n",
              "      <th>std</th>\n",
              "      <th>min</th>\n",
              "      <th>25%</th>\n",
              "      <th>50%</th>\n",
              "      <th>75%</th>\n",
              "      <th>max</th>\n",
              "    </tr>\n",
              "  </thead>\n",
              "  <tbody>\n",
              "    <tr>\n",
              "      <th>indi_pt</th>\n",
              "      <td>47894.0</td>\n",
              "      <td>3.059966</td>\n",
              "      <td>9.796288</td>\n",
              "      <td>1.0</td>\n",
              "      <td>1.0</td>\n",
              "      <td>1.0</td>\n",
              "      <td>2.0</td>\n",
              "      <td>596.0</td>\n",
              "    </tr>\n",
              "  </tbody>\n",
              "</table>"
            ],
            "text/plain": [
              "<IPython.core.display.HTML object>"
            ]
          },
          "metadata": {
            "tags": []
          }
        },
        {
          "output_type": "execute_result",
          "data": {
            "text/plain": [
              "array([[<matplotlib.axes._subplots.AxesSubplot object at 0x7fbc0cdc26d8>]],\n",
              "      dtype=object)"
            ]
          },
          "metadata": {
            "tags": []
          },
          "execution_count": 41
        },
        {
          "output_type": "display_data",
          "data": {
            "image/png": "[encoded data removed]",
            "text/plain": [
              "<Figure size 432x288 with 1 Axes>"
            ]
          },
          "metadata": {
            "tags": []
          }
        }
      ]
    },
    {
      "cell_type": "code",
      "metadata": {
        "id": "dC5j_VD6kIev",
        "colab_type": "code",
        "colab": {
          "base_uri": "https://localhost:8080/",
          "height": 1000,
          "referenced_widgets": [
            "08ae59c8614c41eabd188a22ee51b56f",
            "7d869daed82141a597a2a8ad8e8d20d4",
            "521bb350a1674543ab0440cda7b4250c",
            "fd90fbff23fa449c90f669207cd0e16c",
            "a8bef23e9c054e7c992d57cbac722c2b",
            "a3eab579f7604d39835c2b4029916ca4",
            "4889425fd62748679724d3a6ae8233eb",
            "7ea9648ec7c64b308e3efc73043ca195",
            "e1635c84c5fb49db8882624ddf1eb649",
            "cdbf4fc384aa44e1b9090c09d00920de",
            "f7162d5c59e04bffa808e9d0852bb78b",
            "da3b4341d761449ab837d1e5f8bf2bef"
          ]
        },
        "outputId": "9abf1446-f250-4b6c-fdf1-c78c4b4c1d98"
      },
      "source": [
        "show_top = 10\n",
        "bdisplay(\"CHANGE THE FIRST DROPDOWN BOX TO SELECT A DIFFERENT DRUG. CHANGE THE SECOND TO SELECT A DIFFERENT INDICATION\")\n",
        "def update_disease_by_drug(drugname):\n",
        "    data_by_drug = dr_de_indication_fr.loc[\n",
        "        dr_de_indication_fr.drugname == drugname]\n",
        "    by_disease = data_by_drug[['indi_pt', 'primaryid']].groupby(\n",
        "        by=['indi_pt']).count().sort_values(by=['primaryid'], ascending=False)\n",
        "    display_frame(by_disease.head())    \n",
        "    display(HTML(\"<b>TOP EVENTS BY INDICATION:</b>\"))\n",
        "    \n",
        "    def update_AE_by_drug_and_disease(ipt):        \n",
        "        data = data_by_drug.loc[data_by_drug.indi_pt == ipt]\n",
        "        ipt_report = data[['indi_pt', 'primaryid', 'drugname', 'pt']].groupby(\n",
        "            by=['indi_pt', 'drugname', 'pt']).count().sort_values(\n",
        "                by='primaryid', ascending=False)\n",
        "        ipt_report.rename(columns={'primaryid': 'cnt'}, inplace=True)\n",
        "        display_frame(ipt_report.head(show_top))\n",
        "        display_frame(ipt_report.describe().T)\n",
        "        ipt_report = ipt_report.reset_index()[['pt', 'cnt']]\n",
        "        ipt_report.reset_index()[['pt', 'cnt']].groupby(by=\"pt\").sum().plot()\n",
        "        if ipt_report.shape[0] > 20:\n",
        "            ipt_report.iloc[20:, 0] = 'OTHER'\n",
        "        ipt_report.reset_index()[['pt', 'cnt']].groupby(by=\"pt\").sum().plot.pie(y=\"cnt\")\n",
        "        \n",
        "    interact(update_AE_by_drug_and_disease, ipt=by_disease.index[:show_top].values)        \n",
        "interact(update_disease_by_drug, drugname=drug_disease.index[:show_top])"
      ],
      "execution_count": 42,
      "outputs": [
        {
          "output_type": "display_data",
          "data": {
            "text/html": [
              "<b>CHANGE THE FIRST DROPDOWN BOX TO SELECT A DIFFERENT DRUG. CHANGE THE SECOND TO SELECT A DIFFERENT INDICATION</b>"
            ],
            "text/plain": [
              "<IPython.core.display.HTML object>"
            ]
          },
          "metadata": {
            "tags": []
          }
        },
        {
          "output_type": "display_data",
          "data": {
            "application/vnd.jupyter.widget-view+json": {
              "model_id": "08ae59c8614c41eabd188a22ee51b56f",
              "version_minor": 0,
              "version_major": 2
            },
            "text/plain": [
              "interactive(children=(Dropdown(description='drugname', options=('PREDNISONE.', 'LYRICA', 'PREDNISOLONE.', 'DEX…"
            ]
          },
          "metadata": {
            "tags": []
          }
        },
        {
          "output_type": "execute_result",
          "data": {
            "text/plain": [
              "<function __main__.update_disease_by_drug>"
            ]
          },
          "metadata": {
            "tags": []
          },
          "execution_count": 42
        }
      ]
    },
    {
      "cell_type": "markdown",
      "metadata": {
        "id": "dnn0Jk0fkIey",
        "colab_type": "text"
      },
      "source": [
        "In the following we show drug pairs with the largest number of occurence in the databases. The next screen shows a GUI that we can pick a drug, then show drugs that has largest number of usage together with the given drug. We restrict to top names only as there are too many to show."
      ]
    },
    {
      "cell_type": "code",
      "metadata": {
        "id": "Uf6IqDTnkIez",
        "colab_type": "code",
        "colab": {
          "base_uri": "https://localhost:8080/",
          "height": 359
        },
        "outputId": "8611f757-af58-4b6b-c9b4-67df353113a4"
      },
      "source": [
        "from faers_lib.analyze import drug_used_together\n",
        "pairs = drug_used_together(all_frames)\n",
        "# pairs.set_index(['drugname_x', 'drugname_y'], inplace=True)\n",
        "display_frame(pairs.head(10))"
      ],
      "execution_count": 44,
      "outputs": [
        {
          "output_type": "display_data",
          "data": {
            "text/html": [
              "<table border=\"1\" class=\"dataframe\">\n",
              "  <thead>\n",
              "    <tr style=\"text-align: right;\">\n",
              "      <th></th>\n",
              "      <th>drugname_x</th>\n",
              "      <th>drugname_y</th>\n",
              "      <th>cnt</th>\n",
              "    </tr>\n",
              "  </thead>\n",
              "  <tbody>\n",
              "    <tr>\n",
              "      <th>2431184</th>\n",
              "      <td>METHOTREXATE.</td>\n",
              "      <td>HUMIRA</td>\n",
              "      <td>3267</td>\n",
              "    </tr>\n",
              "    <tr>\n",
              "      <th>2430492</th>\n",
              "      <td>METHOTREXATE.</td>\n",
              "      <td>ENBREL</td>\n",
              "      <td>3248</td>\n",
              "    </tr>\n",
              "    <tr>\n",
              "      <th>1783010</th>\n",
              "      <td>HUMIRA</td>\n",
              "      <td>ENBREL</td>\n",
              "      <td>2791</td>\n",
              "    </tr>\n",
              "    <tr>\n",
              "      <th>3139069</th>\n",
              "      <td>PREDNISONE.</td>\n",
              "      <td>METHOTREXATE.</td>\n",
              "      <td>2775</td>\n",
              "    </tr>\n",
              "    <tr>\n",
              "      <th>2430857</th>\n",
              "      <td>METHOTREXATE.</td>\n",
              "      <td>FOLIC ACID.</td>\n",
              "      <td>2344</td>\n",
              "    </tr>\n",
              "    <tr>\n",
              "      <th>2871299</th>\n",
              "      <td>ORENCIA</td>\n",
              "      <td>METHOTREXATE.</td>\n",
              "      <td>2124</td>\n",
              "    </tr>\n",
              "    <tr>\n",
              "      <th>2870849</th>\n",
              "      <td>ORENCIA</td>\n",
              "      <td>ENBREL</td>\n",
              "      <td>2078</td>\n",
              "    </tr>\n",
              "    <tr>\n",
              "      <th>2428353</th>\n",
              "      <td>METHOTREXATE.</td>\n",
              "      <td>ACTEMRA</td>\n",
              "      <td>2066</td>\n",
              "    </tr>\n",
              "    <tr>\n",
              "      <th>3170514</th>\n",
              "      <td>PRILOSEC</td>\n",
              "      <td>NEXIUM</td>\n",
              "      <td>2014</td>\n",
              "    </tr>\n",
              "    <tr>\n",
              "      <th>3369657</th>\n",
              "      <td>REVLIMID</td>\n",
              "      <td>DEXAMETHASONE.</td>\n",
              "      <td>1936</td>\n",
              "    </tr>\n",
              "  </tbody>\n",
              "</table>"
            ],
            "text/plain": [
              "<IPython.core.display.HTML object>"
            ]
          },
          "metadata": {
            "tags": []
          }
        }
      ]
    },
    {
      "cell_type": "code",
      "metadata": {
        "id": "rrzGnjPskIe2",
        "colab_type": "code",
        "colab": {
          "base_uri": "https://localhost:8080/",
          "height": 456,
          "referenced_widgets": [
            "9d509176103744888b206afcf2254a50",
            "bc9f1874c9944d1b9a2992f1adde3e2f",
            "b9c98e3f2cf443568072bc140339dacf",
            "1f1f2fc402634cf08c74218bf16a4597",
            "318a2b250d0f4421bb523185a0fb557e",
            "b54a9cb19ce94694a349df5e00d1163b"
          ]
        },
        "outputId": "f5f27782-86ed-4865-8224-655dae29ecba"
      },
      "source": [
        "from faers_lib.analyze import companion_drug\n",
        "import numpy as np\n",
        "show_top = 10\n",
        "\n",
        "def update_companion(drugname):\n",
        "    bdisplay(\"Top Companion drug for %s\" % drugname)\n",
        "    display_frame(companion_drug(all_frames, drugname).head(show_top))    \n",
        "interact(update_companion, drugname=np.unique(pairs.iloc[:20, :2].values.reshape(-1)))"
      ],
      "execution_count": 45,
      "outputs": [
        {
          "output_type": "display_data",
          "data": {
            "application/vnd.jupyter.widget-view+json": {
              "model_id": "9d509176103744888b206afcf2254a50",
              "version_minor": 0,
              "version_major": 2
            },
            "text/plain": [
              "interactive(children=(Dropdown(description='drugname', options=('ACTEMRA', 'CIMZIA', 'DEXAMETHASONE.', 'ENBREL…"
            ]
          },
          "metadata": {
            "tags": []
          }
        },
        {
          "output_type": "execute_result",
          "data": {
            "text/plain": [
              "<function __main__.update_companion>"
            ]
          },
          "metadata": {
            "tags": []
          },
          "execution_count": 45
        }
      ]
    },
    {
      "cell_type": "markdown",
      "metadata": {
        "id": "03w6UbHwkIe5",
        "colab_type": "text"
      },
      "source": [
        "### Uniformizing data units and a Logistic Regression\n",
        "In this last part we attempt to uniformize a number of quantitative fields, currently show in different units, then run a logistic regression to understand how the factors impact severity of outcome.\n",
        "\n",
        "Age, dosage, weight are given in different units (hour - to decades for age, mg or g in different frequencies for dosage, and KG or LB for weight). We build a conversion table for units, where each unit has a base unit where we will convert to to be able to compare apple to apple.\n",
        "\n",
        "We pick drugs used to treat cholesterol, then link drug, indication and outcome to build a large table, populate it with uniformized data then run the regression."
      ]
    },
    {
      "cell_type": "code",
      "metadata": {
        "id": "0tce9y9HkIe5",
        "colab_type": "code",
        "colab": {
          "base_uri": "https://localhost:8080/",
          "height": 252
        },
        "outputId": "d3292477-f5e1-4058-c837-8ed8d8b0e326"
      },
      "source": [
        "# Location of the conversion file - in the FAERS directory\n",
        "convert_fname = 'FAERS/cfg/convert.txt'\n",
        "cvt_fr = pd.read_csv(convert_fname, sep='|')\n",
        "print(cvt_fr.keys())\n",
        "display_frame(cvt_fr.loc[cvt_fr.FIELD == 'DEMOGRAPHIC.AGE_COD'])"
      ],
      "execution_count": 47,
      "outputs": [
        {
          "output_type": "stream",
          "text": [
            "Index(['FIELD', 'UNIT', 'MISC', 'BASE', 'FACTOR'], dtype='object')\n"
          ],
          "name": "stdout"
        },
        {
          "output_type": "display_data",
          "data": {
            "text/html": [
              "<table border=\"1\" class=\"dataframe\">\n",
              "  <thead>\n",
              "    <tr style=\"text-align: right;\">\n",
              "      <th></th>\n",
              "      <th>FIELD</th>\n",
              "      <th>UNIT</th>\n",
              "      <th>MISC</th>\n",
              "      <th>BASE</th>\n",
              "      <th>FACTOR</th>\n",
              "    </tr>\n",
              "  </thead>\n",
              "  <tbody>\n",
              "    <tr>\n",
              "      <th>0</th>\n",
              "      <td>DEMOGRAPHIC.AGE_COD</td>\n",
              "      <td>DEC</td>\n",
              "      <td>DECADE</td>\n",
              "      <td>YR</td>\n",
              "      <td>10.000000</td>\n",
              "    </tr>\n",
              "    <tr>\n",
              "      <th>1</th>\n",
              "      <td>DEMOGRAPHIC.AGE_COD</td>\n",
              "      <td>YR</td>\n",
              "      <td>YEAR</td>\n",
              "      <td>YR</td>\n",
              "      <td>1.000000</td>\n",
              "    </tr>\n",
              "    <tr>\n",
              "      <th>2</th>\n",
              "      <td>DEMOGRAPHIC.AGE_COD</td>\n",
              "      <td>MON</td>\n",
              "      <td>MONTH</td>\n",
              "      <td>YR</td>\n",
              "      <td>0.083333</td>\n",
              "    </tr>\n",
              "    <tr>\n",
              "      <th>3</th>\n",
              "      <td>DEMOGRAPHIC.AGE_COD</td>\n",
              "      <td>WK</td>\n",
              "      <td>WEEK</td>\n",
              "      <td>YR</td>\n",
              "      <td>0.015054</td>\n",
              "    </tr>\n",
              "    <tr>\n",
              "      <th>4</th>\n",
              "      <td>DEMOGRAPHIC.AGE_COD</td>\n",
              "      <td>DY</td>\n",
              "      <td>DAY</td>\n",
              "      <td>YR</td>\n",
              "      <td>0.002740</td>\n",
              "    </tr>\n",
              "    <tr>\n",
              "      <th>5</th>\n",
              "      <td>DEMOGRAPHIC.AGE_COD</td>\n",
              "      <td>HR</td>\n",
              "      <td>HOUR</td>\n",
              "      <td>YR</td>\n",
              "      <td>0.000114</td>\n",
              "    </tr>\n",
              "  </tbody>\n",
              "</table>"
            ],
            "text/plain": [
              "<IPython.core.display.HTML object>"
            ]
          },
          "metadata": {
            "tags": []
          }
        }
      ]
    },
    {
      "cell_type": "markdown",
      "metadata": {
        "id": "SwCjq7dd-2sk",
        "colab_type": "text"
      },
      "source": [
        "# A function to get drugs related to cholesterol"
      ]
    },
    {
      "cell_type": "code",
      "metadata": {
        "id": "Fr7l1p6nkIe8",
        "colab_type": "code",
        "colab": {}
      },
      "source": [
        "def get_chol_data_frame(all_frames):\n",
        "    \"\"\"First identify the drugs used in cholesterol treatment\n",
        "    Then link with drug, indication and outcome\n",
        "    \"\"\"\n",
        "\n",
        "    idpts = all_frames['indication'].indi_pt.unique()\n",
        "    choles_indi = np.array(\n",
        "        [a for a in idpts\n",
        "         if ('choles' in a.lower() and 'cholestasis' not in a.lower())])\n",
        "    choles_indi = pd.DataFrame({\"indi_pt\": choles_indi})\n",
        "    choles_indi_all = pd.merge(\n",
        "        all_frames['indication'], choles_indi, how='inner', on='indi_pt')\n",
        "    drug_indi = pd.merge(\n",
        "        choles_indi_all, all_frames['drug'],\n",
        "        how='inner', left_on=['primaryid', 'indi_drug_seq'],\n",
        "        right_on=['primaryid', 'drug_seq'], suffixes=('', '_y'))\n",
        "    drug_indi.drop(columns=['caseid_y'], inplace=True)\n",
        "\n",
        "    demo_drug_indi = pd.merge(\n",
        "        drug_indi, all_frames['demographic'],\n",
        "        how='inner', on='primaryid', suffixes=('', '_y'))\n",
        "\n",
        "    demo_drug_indi.drop(columns=['caseid_y'], inplace=True)\n",
        "    outcome_demo_drug_indi = pd.merge(\n",
        "        demo_drug_indi, all_frames['outcome'],\n",
        "        how='inner', on='primaryid', suffixes=('', '_y'))\n",
        "    outcome_demo_drug_indi.drop(columns=['caseid_y'], inplace=True)\n",
        "    \"\"\"\n",
        "    react_outcome_demo_drug_indi = pd.merge(\n",
        "       outcome_demo_drug_indi, all_frames['reaction'],\n",
        "       how='inner', on='primaryid', suffixes=('', '_y'))\n",
        "    react_outcome_demo_drug_indi.drop(columns=['caseid_y'], inplace=True)\n",
        "    \"\"\"\n",
        "    return outcome_demo_drug_indi, demo_drug_indi"
      ],
      "execution_count": 0,
      "outputs": []
    },
    {
      "cell_type": "markdown",
      "metadata": {
        "id": "2iAJqT0y-9xs",
        "colab_type": "text"
      },
      "source": [
        "# A function to uniformize units for age, dose, weight:"
      ]
    },
    {
      "cell_type": "code",
      "metadata": {
        "id": "jiCzl16wkIfE",
        "colab_type": "code",
        "colab": {}
      },
      "source": [
        "def uniformizing_age_dose_weight(mf, cvt_fr):\n",
        "    \"\"\"Uniformizng data to make sure weight, freq, dose in one unit\n",
        "    \"\"\"\n",
        "    def check_bad_code(col, field):\n",
        "        ucode = mf[col].unique()\n",
        "        ucode = ucode[~pd.isnull(ucode)]\n",
        "        map_frame = cvt_fr.loc[cvt_fr.FIELD == field]\n",
        "        diff = np.setdiff1d(ucode, map_frame.UNIT)\n",
        "        if diff.shape[0] > 0:\n",
        "            print('bad code %s %s %s' % (col, field, str(diff)))\n",
        "\n",
        "    col = 'wt_cod'\n",
        "    field = 'DEMOGRAPHIC.WT_COD'\n",
        "    check_bad_code(col, field)\n",
        "    # convert weight to kg\n",
        "    mf['wt_in_kg'] = np.full((mf.shape[0]), np.nan)\n",
        "\n",
        "    for idx in cvt_fr.loc[cvt_fr.FIELD == field].index:\n",
        "        unt = cvt_fr.loc[idx, 'UNIT']\n",
        "        ft = cvt_fr.loc[idx, 'FACTOR']\n",
        "\n",
        "        mf.loc[mf[col] == unt, 'wt_in_kg'] = mf.loc[mf[col] == unt, 'wt'] * ft\n",
        "\n",
        "    col = 'age_cod'\n",
        "    field = 'DEMOGRAPHIC.AGE_COD'\n",
        "    check_bad_code(col, field)\n",
        "    # convert weight to kg\n",
        "    mf['age_in_yr'] = np.full((mf.shape[0]), np.nan)\n",
        "\n",
        "    for idx in cvt_fr.loc[cvt_fr.FIELD == field].index:\n",
        "        unt = cvt_fr.loc[idx, 'UNIT']\n",
        "        ft = cvt_fr.loc[idx, 'FACTOR']\n",
        "\n",
        "        mf.loc[mf[col] == unt, 'age_in_yr'] = mf.loc[mf[col] == unt, 'age'] * ft        \n",
        "\n",
        "    col = 'dose_unit'\n",
        "    field = 'DRUG.DOSE_UNIT'\n",
        "    check_bad_code(col, field)\n",
        "\n",
        "    mf['dose_in_mg'] = np.full((mf.shape[0]), np.nan)\n",
        "\n",
        "    for idx in cvt_fr.loc[cvt_fr.FIELD == field].index:\n",
        "        unt = cvt_fr.loc[idx, 'UNIT']\n",
        "        base = cvt_fr.loc[idx, 'BASE']\n",
        "        ft = cvt_fr.loc[idx, 'FACTOR']\n",
        "        if base == 'MG':\n",
        "            mf.loc[mf[col] == unt, 'dose_in_mg'] =\\\n",
        "                mf.loc[mf[col] == unt, 'dose_amt'] * ft\n",
        "\n",
        "    col = 'dose_freq'\n",
        "    field = 'DRUG.DOSE_FREQ'\n",
        "    check_bad_code(col, field)\n",
        "    mf['freq_in_day'] = np.full((mf.shape[0]), np.nan)\n",
        "    for idx in cvt_fr.loc[cvt_fr.FIELD == field].index:\n",
        "        unt = cvt_fr.loc[idx, 'UNIT']\n",
        "        ft = cvt_fr.loc[idx, 'FACTOR']\n",
        "\n",
        "        mf.loc[mf[col] == unt, 'freq_in_day'] = ft\n",
        "\n",
        "    mf['dose_per_day'] = mf['freq_in_day'] * mf['dose_in_mg']\n",
        "    to_fill = pd.isnull(mf.dose_per_day) & ~pd.isnull(mf.dose_in_mg)\n",
        "    mf.loc[to_fill, 'dose_per_day'] = mf.loc[to_fill, 'dose_in_mg'].values\n",
        "    return mf\n",
        "\n"
      ],
      "execution_count": 0,
      "outputs": []
    },
    {
      "cell_type": "markdown",
      "metadata": {
        "id": "gfb7bSQBkIfH",
        "colab_type": "text"
      },
      "source": [
        "Create a Data Frame aggregating demographic and outcome data related to cholesterol drugs"
      ]
    },
    {
      "cell_type": "code",
      "metadata": {
        "id": "4N-knr-RkIfI",
        "colab_type": "code",
        "colab": {
          "base_uri": "https://localhost:8080/",
          "height": 34
        },
        "outputId": "9a337db2-3730-4b19-da9a-392e434c4058"
      },
      "source": [
        "from sklearn.linear_model import LogisticRegression\n",
        "# main data frame\n",
        "out_dr_de_indi, dr_de_indi = get_chol_data_frame(all_frames)\n",
        "dr_de_indi = uniformizing_age_dose_weight(dr_de_indi, cvt_fr)\n",
        "# rs = outcome_demo_drug_indi\n",
        "tmp_fr = pd.crosstab(\n",
        "    index=[out_dr_de_indi.primaryid,\n",
        "           out_dr_de_indi.drug_seq],\n",
        "    columns=out_dr_de_indi.outc_cod)\n",
        "summ_fr = pd.merge(\n",
        "    dr_de_indi.reset_index(), tmp_fr,\n",
        "    how='inner', on=['primaryid', 'drug_seq'])\n",
        "\"\"\"\n",
        "summ_fr['severe'] = ((summ_fr.DE == 1) | (summ_fr.DS == 1) |\n",
        "                     (summ_fr.LT == 1)).astype(int)\n",
        "\"\"\"\n",
        "summ_fr['severe'] = ((summ_fr.DE == 1)).astype(int)\n",
        "\n",
        "summ_fr['dose_norm'] = summ_fr.dose_per_day / summ_fr.dose_per_day.std()\n",
        "summ_fr['wt_norm'] = summ_fr.wt_in_kg / summ_fr.wt_in_kg.std()"
      ],
      "execution_count": 51,
      "outputs": [
        {
          "output_type": "stream",
          "text": [
            "bad code dose_freq DRUG.DOSE_FREQ ['/month' '/wk' 'QAM']\n"
          ],
          "name": "stdout"
        }
      ]
    },
    {
      "cell_type": "markdown",
      "metadata": {
        "id": "nG3-Y5MVkIfL",
        "colab_type": "text"
      },
      "source": [
        "In the below, we see our enhancement of data does fix the max age (32084), adjust for the dose amounts (some are taking 5G). For an older patient, a reaction is more likely to result in death than a younger person, while dose and weight does not seem to matter much. This will also be confirmed in the logistic regression.\n"
      ]
    },
    {
      "cell_type": "code",
      "metadata": {
        "id": "nPKYiM58kIfM",
        "colab_type": "code",
        "colab": {
          "base_uri": "https://localhost:8080/",
          "height": 891
        },
        "outputId": "50cc369a-85d6-4560-c542-d2d1dfd52196"
      },
      "source": [
        "display_frame(summ_fr[['age', 'age_in_yr', 'wt', 'wt_in_kg', 'dose_amt', 'dose_in_mg', 'dose_per_day']].describe())\n",
        "bdisplay(\"SUMMARY for SEVERITY == 1\")\n",
        "display_frame(summ_fr.loc[summ_fr.severe==1, ['age', 'age_in_yr', 'wt', 'wt_in_kg', 'dose_amt', 'dose_in_mg', 'dose_per_day']].describe())\n",
        "bdisplay(\"SUMMARY for SEVERITY == 0\")\n",
        "display_frame(summ_fr.loc[summ_fr.severe==0, ['age', 'age_in_yr', 'wt', 'wt_in_kg', 'dose_amt', 'dose_in_mg', 'dose_per_day']].describe())"
      ],
      "execution_count": 52,
      "outputs": [
        {
          "output_type": "display_data",
          "data": {
            "text/html": [
              "<table border=\"1\" class=\"dataframe\">\n",
              "  <thead>\n",
              "    <tr style=\"text-align: right;\">\n",
              "      <th></th>\n",
              "      <th>age</th>\n",
              "      <th>age_in_yr</th>\n",
              "      <th>wt</th>\n",
              "      <th>wt_in_kg</th>\n",
              "      <th>dose_amt</th>\n",
              "      <th>dose_in_mg</th>\n",
              "      <th>dose_per_day</th>\n",
              "    </tr>\n",
              "  </thead>\n",
              "  <tbody>\n",
              "    <tr>\n",
              "      <th>count</th>\n",
              "      <td>4662.000000</td>\n",
              "      <td>4662.000000</td>\n",
              "      <td>3006.000000</td>\n",
              "      <td>3006.000000</td>\n",
              "      <td>2642.000000</td>\n",
              "      <td>2428.000000</td>\n",
              "      <td>2428.000000</td>\n",
              "    </tr>\n",
              "    <tr>\n",
              "      <th>mean</th>\n",
              "      <td>1255.421707</td>\n",
              "      <td>62.288201</td>\n",
              "      <td>82.611084</td>\n",
              "      <td>82.513436</td>\n",
              "      <td>46.542960</td>\n",
              "      <td>61.468781</td>\n",
              "      <td>62.818432</td>\n",
              "    </tr>\n",
              "    <tr>\n",
              "      <th>std</th>\n",
              "      <td>5041.910872</td>\n",
              "      <td>11.748169</td>\n",
              "      <td>21.157765</td>\n",
              "      <td>20.936762</td>\n",
              "      <td>132.596813</td>\n",
              "      <td>222.270175</td>\n",
              "      <td>280.386389</td>\n",
              "    </tr>\n",
              "    <tr>\n",
              "      <th>min</th>\n",
              "      <td>1.000000</td>\n",
              "      <td>0.002740</td>\n",
              "      <td>0.110000</td>\n",
              "      <td>0.110000</td>\n",
              "      <td>0.500000</td>\n",
              "      <td>0.200000</td>\n",
              "      <td>0.200000</td>\n",
              "    </tr>\n",
              "    <tr>\n",
              "      <th>25%</th>\n",
              "      <td>55.000000</td>\n",
              "      <td>55.000000</td>\n",
              "      <td>69.000000</td>\n",
              "      <td>69.000000</td>\n",
              "      <td>10.000000</td>\n",
              "      <td>10.000000</td>\n",
              "      <td>10.000000</td>\n",
              "    </tr>\n",
              "    <tr>\n",
              "      <th>50%</th>\n",
              "      <td>64.000000</td>\n",
              "      <td>63.000000</td>\n",
              "      <td>80.270000</td>\n",
              "      <td>80.210000</td>\n",
              "      <td>20.000000</td>\n",
              "      <td>20.000000</td>\n",
              "      <td>20.000000</td>\n",
              "    </tr>\n",
              "    <tr>\n",
              "      <th>75%</th>\n",
              "      <td>73.000000</td>\n",
              "      <td>71.000000</td>\n",
              "      <td>92.145000</td>\n",
              "      <td>92.100000</td>\n",
              "      <td>40.000000</td>\n",
              "      <td>40.000000</td>\n",
              "      <td>40.000000</td>\n",
              "    </tr>\n",
              "    <tr>\n",
              "      <th>max</th>\n",
              "      <td>32084.000000</td>\n",
              "      <td>93.000000</td>\n",
              "      <td>267.000000</td>\n",
              "      <td>267.000000</td>\n",
              "      <td>5000.000000</td>\n",
              "      <td>5000.000000</td>\n",
              "      <td>5000.000000</td>\n",
              "    </tr>\n",
              "  </tbody>\n",
              "</table>"
            ],
            "text/plain": [
              "<IPython.core.display.HTML object>"
            ]
          },
          "metadata": {
            "tags": []
          }
        },
        {
          "output_type": "display_data",
          "data": {
            "text/html": [
              "<b>SUMMARY for SEVERITY == 1</b>"
            ],
            "text/plain": [
              "<IPython.core.display.HTML object>"
            ]
          },
          "metadata": {
            "tags": []
          }
        },
        {
          "output_type": "display_data",
          "data": {
            "text/html": [
              "<table border=\"1\" class=\"dataframe\">\n",
              "  <thead>\n",
              "    <tr style=\"text-align: right;\">\n",
              "      <th></th>\n",
              "      <th>age</th>\n",
              "      <th>age_in_yr</th>\n",
              "      <th>wt</th>\n",
              "      <th>wt_in_kg</th>\n",
              "      <th>dose_amt</th>\n",
              "      <th>dose_in_mg</th>\n",
              "      <th>dose_per_day</th>\n",
              "    </tr>\n",
              "  </thead>\n",
              "  <tbody>\n",
              "    <tr>\n",
              "      <th>count</th>\n",
              "      <td>305.000000</td>\n",
              "      <td>305.000000</td>\n",
              "      <td>153.000000</td>\n",
              "      <td>153.000000</td>\n",
              "      <td>151.000000</td>\n",
              "      <td>134.000000</td>\n",
              "      <td>134.000000</td>\n",
              "    </tr>\n",
              "    <tr>\n",
              "      <th>mean</th>\n",
              "      <td>3426.763934</td>\n",
              "      <td>66.970901</td>\n",
              "      <td>82.086732</td>\n",
              "      <td>81.436042</td>\n",
              "      <td>46.798013</td>\n",
              "      <td>52.611940</td>\n",
              "      <td>54.517768</td>\n",
              "    </tr>\n",
              "    <tr>\n",
              "      <th>std</th>\n",
              "      <td>8306.387503</td>\n",
              "      <td>11.238313</td>\n",
              "      <td>24.621353</td>\n",
              "      <td>23.234636</td>\n",
              "      <td>88.626467</td>\n",
              "      <td>92.499353</td>\n",
              "      <td>133.561273</td>\n",
              "    </tr>\n",
              "    <tr>\n",
              "      <th>min</th>\n",
              "      <td>21.000000</td>\n",
              "      <td>21.000000</td>\n",
              "      <td>2.320000</td>\n",
              "      <td>2.320000</td>\n",
              "      <td>0.500000</td>\n",
              "      <td>1.000000</td>\n",
              "      <td>1.000000</td>\n",
              "    </tr>\n",
              "    <tr>\n",
              "      <th>25%</th>\n",
              "      <td>63.000000</td>\n",
              "      <td>59.983562</td>\n",
              "      <td>66.000000</td>\n",
              "      <td>66.000000</td>\n",
              "      <td>10.000000</td>\n",
              "      <td>20.000000</td>\n",
              "      <td>20.000000</td>\n",
              "    </tr>\n",
              "    <tr>\n",
              "      <th>50%</th>\n",
              "      <td>71.000000</td>\n",
              "      <td>67.000000</td>\n",
              "      <td>80.000000</td>\n",
              "      <td>80.000000</td>\n",
              "      <td>20.000000</td>\n",
              "      <td>20.000000</td>\n",
              "      <td>20.000000</td>\n",
              "    </tr>\n",
              "    <tr>\n",
              "      <th>75%</th>\n",
              "      <td>84.000000</td>\n",
              "      <td>74.000000</td>\n",
              "      <td>96.200000</td>\n",
              "      <td>96.000000</td>\n",
              "      <td>40.000000</td>\n",
              "      <td>40.000000</td>\n",
              "      <td>40.000000</td>\n",
              "    </tr>\n",
              "    <tr>\n",
              "      <th>max</th>\n",
              "      <td>31846.000000</td>\n",
              "      <td>91.000000</td>\n",
              "      <td>182.200000</td>\n",
              "      <td>179.600000</td>\n",
              "      <td>600.000000</td>\n",
              "      <td>600.000000</td>\n",
              "      <td>1200.000000</td>\n",
              "    </tr>\n",
              "  </tbody>\n",
              "</table>"
            ],
            "text/plain": [
              "<IPython.core.display.HTML object>"
            ]
          },
          "metadata": {
            "tags": []
          }
        },
        {
          "output_type": "display_data",
          "data": {
            "text/html": [
              "<b>SUMMARY for SEVERITY == 0</b>"
            ],
            "text/plain": [
              "<IPython.core.display.HTML object>"
            ]
          },
          "metadata": {
            "tags": []
          }
        },
        {
          "output_type": "display_data",
          "data": {
            "text/html": [
              "<table border=\"1\" class=\"dataframe\">\n",
              "  <thead>\n",
              "    <tr style=\"text-align: right;\">\n",
              "      <th></th>\n",
              "      <th>age</th>\n",
              "      <th>age_in_yr</th>\n",
              "      <th>wt</th>\n",
              "      <th>wt_in_kg</th>\n",
              "      <th>dose_amt</th>\n",
              "      <th>dose_in_mg</th>\n",
              "      <th>dose_per_day</th>\n",
              "    </tr>\n",
              "  </thead>\n",
              "  <tbody>\n",
              "    <tr>\n",
              "      <th>count</th>\n",
              "      <td>4357.000000</td>\n",
              "      <td>4357.000000</td>\n",
              "      <td>2853.000000</td>\n",
              "      <td>2853.000000</td>\n",
              "      <td>2491.000000</td>\n",
              "      <td>2294.000000</td>\n",
              "      <td>2294.000000</td>\n",
              "    </tr>\n",
              "    <tr>\n",
              "      <th>mean</th>\n",
              "      <td>1103.422768</td>\n",
              "      <td>61.960402</td>\n",
              "      <td>82.639204</td>\n",
              "      <td>82.571215</td>\n",
              "      <td>46.527499</td>\n",
              "      <td>61.986138</td>\n",
              "      <td>63.303301</td>\n",
              "    </tr>\n",
              "    <tr>\n",
              "      <th>std</th>\n",
              "      <td>4693.869752</td>\n",
              "      <td>11.714361</td>\n",
              "      <td>20.960483</td>\n",
              "      <td>20.809290</td>\n",
              "      <td>134.814507</td>\n",
              "      <td>227.574185</td>\n",
              "      <td>286.656291</td>\n",
              "    </tr>\n",
              "    <tr>\n",
              "      <th>min</th>\n",
              "      <td>1.000000</td>\n",
              "      <td>0.002740</td>\n",
              "      <td>0.110000</td>\n",
              "      <td>0.110000</td>\n",
              "      <td>0.500000</td>\n",
              "      <td>0.200000</td>\n",
              "      <td>0.200000</td>\n",
              "    </tr>\n",
              "    <tr>\n",
              "      <th>25%</th>\n",
              "      <td>55.000000</td>\n",
              "      <td>54.000000</td>\n",
              "      <td>69.010000</td>\n",
              "      <td>69.010000</td>\n",
              "      <td>10.000000</td>\n",
              "      <td>10.000000</td>\n",
              "      <td>10.000000</td>\n",
              "    </tr>\n",
              "    <tr>\n",
              "      <th>50%</th>\n",
              "      <td>63.000000</td>\n",
              "      <td>62.000000</td>\n",
              "      <td>80.280000</td>\n",
              "      <td>80.270000</td>\n",
              "      <td>20.000000</td>\n",
              "      <td>20.000000</td>\n",
              "      <td>20.000000</td>\n",
              "    </tr>\n",
              "    <tr>\n",
              "      <th>75%</th>\n",
              "      <td>72.000000</td>\n",
              "      <td>70.000000</td>\n",
              "      <td>92.100000</td>\n",
              "      <td>92.000000</td>\n",
              "      <td>40.000000</td>\n",
              "      <td>40.000000</td>\n",
              "      <td>40.000000</td>\n",
              "    </tr>\n",
              "    <tr>\n",
              "      <th>max</th>\n",
              "      <td>32084.000000</td>\n",
              "      <td>93.000000</td>\n",
              "      <td>267.000000</td>\n",
              "      <td>267.000000</td>\n",
              "      <td>5000.000000</td>\n",
              "      <td>5000.000000</td>\n",
              "      <td>5000.000000</td>\n",
              "    </tr>\n",
              "  </tbody>\n",
              "</table>"
            ],
            "text/plain": [
              "<IPython.core.display.HTML object>"
            ]
          },
          "metadata": {
            "tags": []
          }
        }
      ]
    },
    {
      "cell_type": "code",
      "metadata": {
        "id": "WXq3m1I5kIfQ",
        "colab_type": "code",
        "colab": {
          "base_uri": "https://localhost:8080/",
          "height": 561
        },
        "outputId": "1cb1edca-4547-45a0-ce90-04522195955c"
      },
      "source": [
        "def run_regression(summ_fr):\n",
        "    for f_icpt in [True, False]:\n",
        "        bdisplay(\"Doing intercept=%s\" % str(f_icpt))\n",
        "        logistic = LogisticRegression(\n",
        "            penalty='l1',\n",
        "            max_iter=1000, fit_intercept=True, solver='liblinear')\n",
        "\n",
        "        bdisplay(\"Regress by Age, dose, wt\")\n",
        "        Big = summ_fr[['age_in_yr', 'dose_per_day', 'wt_in_kg', 'severe']].loc[\n",
        "            ~pd.isnull(summ_fr.age_in_yr) & ~pd.isnull(summ_fr.dose_in_mg) &\n",
        "            ~pd.isnull(summ_fr.wt_in_kg) & ~pd.isnull(summ_fr.severe)]\n",
        "        logistic.fit(Big.iloc[:, :-1], Big.iloc[:, -1])\n",
        "        print('coeffs %s' % str(logistic.coef_))\n",
        "        print('Good sample size %d' % Big.describe().iloc[0, 0])\n",
        "\n",
        "        bdisplay(\"Regress Dose, wt\")\n",
        "        Big = summ_fr[['dose_per_day', 'wt_in_kg', 'severe']].loc[\n",
        "            ~pd.isnull(summ_fr.dose_in_mg) &\n",
        "            ~pd.isnull(summ_fr.wt_in_kg)]\n",
        "        logistic.fit(Big.iloc[:, :-1], Big.iloc[:, -1])\n",
        "        print('coeffs %s' % str(logistic.coef_))\n",
        "        print('Good sample size %d' % Big.describe().iloc[0, 0])\n",
        "\n",
        "        bdisplay(\"Regress Age\")\n",
        "        Big = summ_fr[['age_in_yr', 'severe']].loc[\n",
        "            ~pd.isnull(summ_fr.age_in_yr)]\n",
        "        logistic.fit(Big.iloc[:, :-1], Big.iloc[:, -1])\n",
        "        print('coeffs %s' % str(logistic.coef_))\n",
        "        print('Good sample size %d' % Big.describe().iloc[0, 0])\n",
        "\n",
        "        bdisplay(\"Regress Dose\")\n",
        "        Big = summ_fr[['dose_per_day', 'severe']].loc[\n",
        "            ~pd.isnull(summ_fr.dose_per_day)]\n",
        "        logistic.fit(Big.iloc[:, :-1], Big.iloc[:, -1])\n",
        "        print('coeffs %s' % str(logistic.coef_))\n",
        "        print('Good sample size %d' % Big.describe().iloc[0, 0])\n",
        "\n",
        "        bdisplay(\"Regress wt\")\n",
        "        Big = summ_fr[['wt_in_kg', 'severe']].loc[\n",
        "            ~pd.isnull(summ_fr.wt_in_kg)]\n",
        "        logistic.fit(Big.iloc[:, :-1], Big.iloc[:, -1])\n",
        "        print('coeffs %s' % str(logistic.coef_))\n",
        "        print('Good sample size %d' % Big.describe().iloc[0, 0])\n",
        "run_regression(summ_fr)        "
      ],
      "execution_count": 53,
      "outputs": [
        {
          "output_type": "display_data",
          "data": {
            "text/html": [
              "<b>Doing intercept=True</b>"
            ],
            "text/plain": [
              "<IPython.core.display.HTML object>"
            ]
          },
          "metadata": {
            "tags": []
          }
        },
        {
          "output_type": "display_data",
          "data": {
            "text/html": [
              "<b>Regress by Age, dose, wt</b>"
            ],
            "text/plain": [
              "<IPython.core.display.HTML object>"
            ]
          },
          "metadata": {
            "tags": []
          }
        },
        {
          "output_type": "stream",
          "text": [
            "coeffs [[ 0.03127674 -0.00048838 -0.00343425]]\n",
            "Good sample size 1433\n"
          ],
          "name": "stdout"
        },
        {
          "output_type": "display_data",
          "data": {
            "text/html": [
              "<b>Regress Dose, wt</b>"
            ],
            "text/plain": [
              "<IPython.core.display.HTML object>"
            ]
          },
          "metadata": {
            "tags": []
          }
        },
        {
          "output_type": "stream",
          "text": [
            "coeffs [[-0.00032542 -0.00802739]]\n",
            "Good sample size 1528\n"
          ],
          "name": "stdout"
        },
        {
          "output_type": "display_data",
          "data": {
            "text/html": [
              "<b>Regress Age</b>"
            ],
            "text/plain": [
              "<IPython.core.display.HTML object>"
            ]
          },
          "metadata": {
            "tags": []
          }
        },
        {
          "output_type": "stream",
          "text": [
            "coeffs [[0.03579199]]\n",
            "Good sample size 4662\n"
          ],
          "name": "stdout"
        },
        {
          "output_type": "display_data",
          "data": {
            "text/html": [
              "<b>Regress Dose</b>"
            ],
            "text/plain": [
              "<IPython.core.display.HTML object>"
            ]
          },
          "metadata": {
            "tags": []
          }
        },
        {
          "output_type": "stream",
          "text": [
            "coeffs [[-0.00014346]]\n",
            "Good sample size 2428\n"
          ],
          "name": "stdout"
        },
        {
          "output_type": "display_data",
          "data": {
            "text/html": [
              "<b>Regress wt</b>"
            ],
            "text/plain": [
              "<IPython.core.display.HTML object>"
            ]
          },
          "metadata": {
            "tags": []
          }
        },
        {
          "output_type": "stream",
          "text": [
            "coeffs [[-0.00359851]]\n",
            "Good sample size 3006\n"
          ],
          "name": "stdout"
        },
        {
          "output_type": "display_data",
          "data": {
            "text/html": [
              "<b>Doing intercept=False</b>"
            ],
            "text/plain": [
              "<IPython.core.display.HTML object>"
            ]
          },
          "metadata": {
            "tags": []
          }
        },
        {
          "output_type": "display_data",
          "data": {
            "text/html": [
              "<b>Regress by Age, dose, wt</b>"
            ],
            "text/plain": [
              "<IPython.core.display.HTML object>"
            ]
          },
          "metadata": {
            "tags": []
          }
        },
        {
          "output_type": "stream",
          "text": [
            "coeffs [[ 0.03235635 -0.00048525 -0.00292716]]\n",
            "Good sample size 1433\n"
          ],
          "name": "stdout"
        },
        {
          "output_type": "display_data",
          "data": {
            "text/html": [
              "<b>Regress Dose, wt</b>"
            ],
            "text/plain": [
              "<IPython.core.display.HTML object>"
            ]
          },
          "metadata": {
            "tags": []
          }
        },
        {
          "output_type": "stream",
          "text": [
            "coeffs [[-0.00032559 -0.00809255]]\n",
            "Good sample size 1528\n"
          ],
          "name": "stdout"
        },
        {
          "output_type": "display_data",
          "data": {
            "text/html": [
              "<b>Regress Age</b>"
            ],
            "text/plain": [
              "<IPython.core.display.HTML object>"
            ]
          },
          "metadata": {
            "tags": []
          }
        },
        {
          "output_type": "stream",
          "text": [
            "coeffs [[0.03643376]]\n",
            "Good sample size 4662\n"
          ],
          "name": "stdout"
        },
        {
          "output_type": "display_data",
          "data": {
            "text/html": [
              "<b>Regress Dose</b>"
            ],
            "text/plain": [
              "<IPython.core.display.HTML object>"
            ]
          },
          "metadata": {
            "tags": []
          }
        },
        {
          "output_type": "stream",
          "text": [
            "coeffs [[-0.00014344]]\n",
            "Good sample size 2428\n"
          ],
          "name": "stdout"
        },
        {
          "output_type": "display_data",
          "data": {
            "text/html": [
              "<b>Regress wt</b>"
            ],
            "text/plain": [
              "<IPython.core.display.HTML object>"
            ]
          },
          "metadata": {
            "tags": []
          }
        },
        {
          "output_type": "stream",
          "text": [
            "coeffs [[-0.00409351]]\n",
            "Good sample size 3006\n"
          ],
          "name": "stdout"
        }
      ]
    },
    {
      "cell_type": "code",
      "metadata": {
        "id": "-oMoJ7r8kIfU",
        "colab_type": "code",
        "colab": {
          "base_uri": "https://localhost:8080/",
          "height": 629
        },
        "outputId": "934570f5-faeb-43d1-b23a-fcb44890aa97"
      },
      "source": [
        "# we now change period to see if it has an effect:\n",
        "download_one(2017, 1)\n",
        "extract_all_files()\n",
        "all_frames = load_one_quarter(2017, 1)\n",
        "\n",
        "out_dr_de_indi, dr_de_indi = get_chol_data_frame(all_frames)\n",
        "dr_de_indi = uniformizing_age_dose_weight(dr_de_indi, cvt_fr)\n",
        "# rs = outcome_demo_drug_indi\n",
        "tmp_fr = pd.crosstab(\n",
        "    index=[out_dr_de_indi.primaryid,\n",
        "           out_dr_de_indi.drug_seq],\n",
        "    columns=out_dr_de_indi.outc_cod)\n",
        "summ_fr = pd.merge(\n",
        "    dr_de_indi.reset_index(), tmp_fr,\n",
        "    how='inner', on=['primaryid', 'drug_seq'])\n",
        "\"\"\"\n",
        "summ_fr['severe'] = ((summ_fr.DE == 1) | (summ_fr.DS == 1) |\n",
        "                     (summ_fr.LT == 1)).astype(int)\n",
        "\"\"\"\n",
        "summ_fr['severe'] = ((summ_fr.DE == 1)).astype(int)\n",
        "\n",
        "summ_fr['dose_norm'] = summ_fr.dose_per_day / summ_fr.dose_per_day.std()\n",
        "summ_fr['wt_norm'] = summ_fr.wt_in_kg / summ_fr.wt_in_kg.std()\n",
        "run_regression(summ_fr)"
      ],
      "execution_count": 55,
      "outputs": [
        {
          "output_type": "stream",
          "text": [
            "Doing ./data/faers_ascii_2017Q1.zip\n",
            "Extracting ./data/faers_ascii_2017Q1.\n",
            "Already exists ./data/faers_ascii_2019Q4. Skip\n",
            "bad code dose_freq DRUG.DOSE_FREQ ['/hr' '/month' '/wk']\n"
          ],
          "name": "stdout"
        },
        {
          "output_type": "display_data",
          "data": {
            "text/html": [
              "<b>Doing intercept=True</b>"
            ],
            "text/plain": [
              "<IPython.core.display.HTML object>"
            ]
          },
          "metadata": {
            "tags": []
          }
        },
        {
          "output_type": "display_data",
          "data": {
            "text/html": [
              "<b>Regress by Age, dose, wt</b>"
            ],
            "text/plain": [
              "<IPython.core.display.HTML object>"
            ]
          },
          "metadata": {
            "tags": []
          }
        },
        {
          "output_type": "stream",
          "text": [
            "coeffs [[ 3.82743021e-02 -2.13677552e-05  3.46627383e-03]]\n",
            "Good sample size 880\n"
          ],
          "name": "stdout"
        },
        {
          "output_type": "display_data",
          "data": {
            "text/html": [
              "<b>Regress Dose, wt</b>"
            ],
            "text/plain": [
              "<IPython.core.display.HTML object>"
            ]
          },
          "metadata": {
            "tags": []
          }
        },
        {
          "output_type": "stream",
          "text": [
            "coeffs [[-1.75500107e-05 -1.58822243e-03]]\n",
            "Good sample size 941\n"
          ],
          "name": "stdout"
        },
        {
          "output_type": "display_data",
          "data": {
            "text/html": [
              "<b>Regress Age</b>"
            ],
            "text/plain": [
              "<IPython.core.display.HTML object>"
            ]
          },
          "metadata": {
            "tags": []
          }
        },
        {
          "output_type": "stream",
          "text": [
            "coeffs [[0.03311973]]\n",
            "Good sample size 2440\n"
          ],
          "name": "stdout"
        },
        {
          "output_type": "display_data",
          "data": {
            "text/html": [
              "<b>Regress Dose</b>"
            ],
            "text/plain": [
              "<IPython.core.display.HTML object>"
            ]
          },
          "metadata": {
            "tags": []
          }
        },
        {
          "output_type": "stream",
          "text": [
            "coeffs [[-2.65790422e-05]]\n",
            "Good sample size 1697\n"
          ],
          "name": "stdout"
        },
        {
          "output_type": "display_data",
          "data": {
            "text/html": [
              "<b>Regress wt</b>"
            ],
            "text/plain": [
              "<IPython.core.display.HTML object>"
            ]
          },
          "metadata": {
            "tags": []
          }
        },
        {
          "output_type": "stream",
          "text": [
            "coeffs [[0.00042867]]\n",
            "Good sample size 1670\n"
          ],
          "name": "stdout"
        },
        {
          "output_type": "display_data",
          "data": {
            "text/html": [
              "<b>Doing intercept=False</b>"
            ],
            "text/plain": [
              "<IPython.core.display.HTML object>"
            ]
          },
          "metadata": {
            "tags": []
          }
        },
        {
          "output_type": "display_data",
          "data": {
            "text/html": [
              "<b>Regress by Age, dose, wt</b>"
            ],
            "text/plain": [
              "<IPython.core.display.HTML object>"
            ]
          },
          "metadata": {
            "tags": []
          }
        },
        {
          "output_type": "stream",
          "text": [
            "coeffs [[ 3.44752813e-02 -2.12580263e-05  2.18147249e-03]]\n",
            "Good sample size 880\n"
          ],
          "name": "stdout"
        },
        {
          "output_type": "display_data",
          "data": {
            "text/html": [
              "<b>Regress Dose, wt</b>"
            ],
            "text/plain": [
              "<IPython.core.display.HTML object>"
            ]
          },
          "metadata": {
            "tags": []
          }
        },
        {
          "output_type": "stream",
          "text": [
            "coeffs [[-1.74658463e-05 -1.12739096e-03]]\n",
            "Good sample size 941\n"
          ],
          "name": "stdout"
        },
        {
          "output_type": "display_data",
          "data": {
            "text/html": [
              "<b>Regress Age</b>"
            ],
            "text/plain": [
              "<IPython.core.display.HTML object>"
            ]
          },
          "metadata": {
            "tags": []
          }
        },
        {
          "output_type": "stream",
          "text": [
            "coeffs [[0.03311681]]\n",
            "Good sample size 2440\n"
          ],
          "name": "stdout"
        },
        {
          "output_type": "display_data",
          "data": {
            "text/html": [
              "<b>Regress Dose</b>"
            ],
            "text/plain": [
              "<IPython.core.display.HTML object>"
            ]
          },
          "metadata": {
            "tags": []
          }
        },
        {
          "output_type": "stream",
          "text": [
            "coeffs [[-2.65798661e-05]]\n",
            "Good sample size 1697\n"
          ],
          "name": "stdout"
        },
        {
          "output_type": "display_data",
          "data": {
            "text/html": [
              "<b>Regress wt</b>"
            ],
            "text/plain": [
              "<IPython.core.display.HTML object>"
            ]
          },
          "metadata": {
            "tags": []
          }
        },
        {
          "output_type": "stream",
          "text": [
            "coeffs [[0.00069272]]\n",
            "Good sample size 1670\n"
          ],
          "name": "stdout"
        }
      ]
    },
    {
      "cell_type": "markdown",
      "metadata": {
        "id": "TopqFkdDkIfX",
        "colab_type": "text"
      },
      "source": [
        "### OBSERVATIONS\n",
        "The the positive coefficient to age seems persistent, even as we test for a few more period. Coefficients to age and dose seems persistently small.\n",
        "### ISSUES WITH DATA\n",
        "* We observe start date is sometime higher than end date for therapy period.\n",
        "* We show the need to uniformize data to apply statistical methods.\n",
        "* We observe some data fields may contain unreadable characters.\n",
        "* GOOD TO HAVE: table to provide grouping of indications to major disease groups.\n",
        "* GOOD TO HAVE: popularity of drugs to put a background to the number of AEs.\n",
        "\n",
        "### FUTURE DIRECTION\n",
        "* Create database tables to put the flat files in - easier to join - and to work accross quarters\n",
        "* Better config files for main package.\n",
        "* Depending on daily requirements will add more functionality to the package."
      ]
    }
  ]
}